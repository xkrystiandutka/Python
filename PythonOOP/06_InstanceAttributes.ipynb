{
 "cells": [
  {
   "cell_type": "markdown",
   "id": "16707650-f9cc-487b-8fe8-41ca977dc547",
   "metadata": {},
   "source": [
    "# Instance attributes"
   ]
  },
  {
   "cell_type": "markdown",
   "id": "f252b419-1f84-4182-8c25-aa022fac2d41",
   "metadata": {},
   "source": [
    "### Create an instance of the class"
   ]
  },
  {
   "cell_type": "code",
   "execution_count": 1,
   "id": "d68c2b45-c72a-4983-9810-c6cdbebbaf53",
   "metadata": {},
   "outputs": [
    {
     "data": {
      "text/plain": [
       "mappingproxy({'__module__': '__main__',\n",
       "              'language': 'ENG',\n",
       "              'show': <function __main__.Book.show()>,\n",
       "              '__dict__': <attribute '__dict__' of 'Book' objects>,\n",
       "              '__weakref__': <attribute '__weakref__' of 'Book' objects>,\n",
       "              '__doc__': None})"
      ]
     },
     "execution_count": 1,
     "metadata": {},
     "output_type": "execute_result"
    }
   ],
   "source": [
    "class Book:\n",
    "\n",
    "    language = 'ENG'\n",
    "\n",
    "    def show():\n",
    "        print(Book.language)\n",
    "\n",
    "Book.__dict__"
   ]
  },
  {
   "cell_type": "code",
   "execution_count": 2,
   "id": "e840d353-b2af-4570-a56a-524adc44a12d",
   "metadata": {},
   "outputs": [
    {
     "data": {
      "text/plain": [
       "<__main__.Book at 0x1690c8fca30>"
      ]
     },
     "execution_count": 2,
     "metadata": {},
     "output_type": "execute_result"
    }
   ],
   "source": [
    "Book()"
   ]
  },
  {
   "cell_type": "code",
   "execution_count": 3,
   "id": "6eb0aa13-32a6-42f3-bfd6-58bc9dca34de",
   "metadata": {},
   "outputs": [
    {
     "data": {
      "text/plain": [
       "<__main__.Book at 0x1690c8d8880>"
      ]
     },
     "execution_count": 3,
     "metadata": {},
     "output_type": "execute_result"
    }
   ],
   "source": [
    "book1 = Book()\n",
    "book1"
   ]
  },
  {
   "cell_type": "code",
   "execution_count": 4,
   "id": "f37d6cfa-46ea-4916-a519-9bcc0ba59540",
   "metadata": {},
   "outputs": [
    {
     "data": {
      "text/plain": [
       "(__main__.Book, type)"
      ]
     },
     "execution_count": 4,
     "metadata": {},
     "output_type": "execute_result"
    }
   ],
   "source": [
    "type(book1), type(Book)"
   ]
  },
  {
   "cell_type": "code",
   "execution_count": 6,
   "id": "e9cde1b6-d301-40f4-81e3-c78f88b9f8be",
   "metadata": {},
   "outputs": [
    {
     "data": {
      "text/plain": [
       "True"
      ]
     },
     "execution_count": 6,
     "metadata": {},
     "output_type": "execute_result"
    }
   ],
   "source": [
    "isinstance(book1, Book)"
   ]
  },
  {
   "cell_type": "code",
   "execution_count": null,
   "id": "0f7e776b-d0c9-4b2d-ac72-03d1e7dc5524",
   "metadata": {},
   "outputs": [],
   "source": []
  }
 ],
 "metadata": {
  "kernelspec": {
   "display_name": "Python 3 (ipykernel)",
   "language": "python",
   "name": "python3"
  },
  "language_info": {
   "codemirror_mode": {
    "name": "ipython",
    "version": 3
   },
   "file_extension": ".py",
   "mimetype": "text/x-python",
   "name": "python",
   "nbconvert_exporter": "python",
   "pygments_lexer": "ipython3",
   "version": "3.9.7"
  }
 },
 "nbformat": 4,
 "nbformat_minor": 5
}
