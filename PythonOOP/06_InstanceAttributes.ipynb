{
 "cells": [
  {
   "cell_type": "markdown",
   "id": "16707650-f9cc-487b-8fe8-41ca977dc547",
   "metadata": {},
   "source": [
    "# Instance attributes"
   ]
  },
  {
   "cell_type": "markdown",
   "id": "f252b419-1f84-4182-8c25-aa022fac2d41",
   "metadata": {},
   "source": [
    "### Create an instance of the class"
   ]
  },
  {
   "cell_type": "code",
   "execution_count": 1,
   "id": "d68c2b45-c72a-4983-9810-c6cdbebbaf53",
   "metadata": {},
   "outputs": [
    {
     "data": {
      "text/plain": [
       "mappingproxy({'__module__': '__main__',\n",
       "              'language': 'ENG',\n",
       "              'show': <function __main__.Book.show()>,\n",
       "              '__dict__': <attribute '__dict__' of 'Book' objects>,\n",
       "              '__weakref__': <attribute '__weakref__' of 'Book' objects>,\n",
       "              '__doc__': None})"
      ]
     },
     "execution_count": 1,
     "metadata": {},
     "output_type": "execute_result"
    }
   ],
   "source": [
    "class Book:\n",
    "\n",
    "    language = 'ENG'\n",
    "\n",
    "    def show():\n",
    "        print(Book.language)\n",
    "\n",
    "Book.__dict__"
   ]
  },
  {
   "cell_type": "code",
   "execution_count": 2,
   "id": "e840d353-b2af-4570-a56a-524adc44a12d",
   "metadata": {},
   "outputs": [
    {
     "data": {
      "text/plain": [
       "<__main__.Book at 0x2069cc4d370>"
      ]
     },
     "execution_count": 2,
     "metadata": {},
     "output_type": "execute_result"
    }
   ],
   "source": [
    "Book()"
   ]
  },
  {
   "cell_type": "code",
   "execution_count": 3,
   "id": "6eb0aa13-32a6-42f3-bfd6-58bc9dca34de",
   "metadata": {},
   "outputs": [
    {
     "data": {
      "text/plain": [
       "<__main__.Book at 0x2069cc4d4c0>"
      ]
     },
     "execution_count": 3,
     "metadata": {},
     "output_type": "execute_result"
    }
   ],
   "source": [
    "book1 = Book()\n",
    "book1"
   ]
  },
  {
   "cell_type": "code",
   "execution_count": 4,
   "id": "f37d6cfa-46ea-4916-a519-9bcc0ba59540",
   "metadata": {},
   "outputs": [
    {
     "data": {
      "text/plain": [
       "(__main__.Book, type)"
      ]
     },
     "execution_count": 4,
     "metadata": {},
     "output_type": "execute_result"
    }
   ],
   "source": [
    "type(book1), type(Book)"
   ]
  },
  {
   "cell_type": "code",
   "execution_count": 5,
   "id": "e9cde1b6-d301-40f4-81e3-c78f88b9f8be",
   "metadata": {},
   "outputs": [
    {
     "data": {
      "text/plain": [
       "True"
      ]
     },
     "execution_count": 5,
     "metadata": {},
     "output_type": "execute_result"
    }
   ],
   "source": [
    "isinstance(book1, Book)"
   ]
  },
  {
   "cell_type": "markdown",
   "id": "cff3b1e4-18e5-443c-9b05-eab8a2aa5816",
   "metadata": {},
   "source": [
    "## Built-in class attributes vs. instance attributes"
   ]
  },
  {
   "cell_type": "code",
   "execution_count": 6,
   "id": "6766e365-d647-4428-81ae-1dfddf0dcf5d",
   "metadata": {},
   "outputs": [
    {
     "data": {
      "text/plain": [
       "mappingproxy({'__module__': '__main__',\n",
       "              'language': 'ENG',\n",
       "              'show': <function __main__.Book.show()>,\n",
       "              '__dict__': <attribute '__dict__' of 'Book' objects>,\n",
       "              '__weakref__': <attribute '__weakref__' of 'Book' objects>,\n",
       "              '__doc__': None})"
      ]
     },
     "execution_count": 6,
     "metadata": {},
     "output_type": "execute_result"
    }
   ],
   "source": [
    "class Book:\n",
    "\n",
    "    language = 'ENG'\n",
    "\n",
    "    def show():\n",
    "        print(Book.language)\n",
    "\n",
    "Book.__dict__"
   ]
  },
  {
   "cell_type": "code",
   "execution_count": 7,
   "id": "098125e2-486d-4bbe-9b8d-438d93e7b3aa",
   "metadata": {},
   "outputs": [
    {
     "data": {
      "text/plain": [
       "<__main__.Book at 0x2069cc6b4f0>"
      ]
     },
     "execution_count": 7,
     "metadata": {},
     "output_type": "execute_result"
    }
   ],
   "source": [
    "book1 = Book()\n",
    "book1"
   ]
  },
  {
   "cell_type": "code",
   "execution_count": 8,
   "id": "51c2034f-6541-4277-86a9-3577c4fdd653",
   "metadata": {},
   "outputs": [
    {
     "data": {
      "text/plain": [
       "{}"
      ]
     },
     "execution_count": 8,
     "metadata": {},
     "output_type": "execute_result"
    }
   ],
   "source": [
    "book1.__dict__"
   ]
  },
  {
   "cell_type": "code",
   "execution_count": 9,
   "id": "533e10b3-7b3e-4956-b223-ee2cdab5df55",
   "metadata": {},
   "outputs": [
    {
     "data": {
      "text/plain": [
       "dict"
      ]
     },
     "execution_count": 9,
     "metadata": {},
     "output_type": "execute_result"
    }
   ],
   "source": [
    "type(book1.__dict__)"
   ]
  },
  {
   "cell_type": "code",
   "execution_count": 10,
   "id": "b237bc53-ef4a-45ec-b3f9-fcadd11ebf9a",
   "metadata": {},
   "outputs": [
    {
     "data": {
      "text/plain": [
       "type"
      ]
     },
     "execution_count": 10,
     "metadata": {},
     "output_type": "execute_result"
    }
   ],
   "source": [
    "Book.__class__"
   ]
  },
  {
   "cell_type": "markdown",
   "id": "7c62821e-7dc5-40bb-98b0-4dd91a073d55",
   "metadata": {},
   "source": [
    "## Class attributes & instance attributes"
   ]
  },
  {
   "cell_type": "code",
   "execution_count": 11,
   "id": "d8d138e3-256e-43aa-954c-093c0022d2cc",
   "metadata": {},
   "outputs": [
    {
     "data": {
      "text/plain": [
       "mappingproxy({'__module__': '__main__',\n",
       "              'language': 'PL',\n",
       "              '__dict__': <attribute '__dict__' of 'Book' objects>,\n",
       "              '__weakref__': <attribute '__weakref__' of 'Book' objects>,\n",
       "              '__doc__': None})"
      ]
     },
     "execution_count": 11,
     "metadata": {},
     "output_type": "execute_result"
    }
   ],
   "source": [
    "class Book:\n",
    "\n",
    "    language = 'PL'\n",
    "\n",
    "Book.__dict__"
   ]
  },
  {
   "cell_type": "code",
   "execution_count": 12,
   "id": "3b89ba13-3469-4a88-8531-2a87b027f130",
   "metadata": {},
   "outputs": [
    {
     "data": {
      "text/plain": [
       "(<__main__.Book at 0x2069cc1cbb0>, <__main__.Book at 0x2069cc1c7c0>)"
      ]
     },
     "execution_count": 12,
     "metadata": {},
     "output_type": "execute_result"
    }
   ],
   "source": [
    "book1 = Book()\n",
    "book2 = Book()\n",
    "book1, book2"
   ]
  },
  {
   "cell_type": "code",
   "execution_count": 13,
   "id": "0862c0f3-4ea1-4e93-be0c-5bfd54e24c27",
   "metadata": {},
   "outputs": [
    {
     "data": {
      "text/plain": [
       "False"
      ]
     },
     "execution_count": 13,
     "metadata": {},
     "output_type": "execute_result"
    }
   ],
   "source": [
    "book1 is book2"
   ]
  },
  {
   "cell_type": "code",
   "execution_count": 14,
   "id": "5bd18546-bb87-48a6-ba9d-405e12d0548f",
   "metadata": {},
   "outputs": [
    {
     "data": {
      "text/plain": [
       "({}, {})"
      ]
     },
     "execution_count": 14,
     "metadata": {},
     "output_type": "execute_result"
    }
   ],
   "source": [
    "book1.__dict__, book2.__dict__"
   ]
  },
  {
   "cell_type": "code",
   "execution_count": 15,
   "id": "e984c7c5-8193-4dbe-87b3-b58b0bf7d240",
   "metadata": {},
   "outputs": [
    {
     "data": {
      "text/plain": [
       "('PL', 'PL')"
      ]
     },
     "execution_count": 15,
     "metadata": {},
     "output_type": "execute_result"
    }
   ],
   "source": [
    "book1.language, book2.language"
   ]
  },
  {
   "cell_type": "code",
   "execution_count": 16,
   "id": "393de297-36c4-4d27-a549-2789d696b997",
   "metadata": {},
   "outputs": [
    {
     "data": {
      "text/plain": [
       "mappingproxy({'__module__': '__main__',\n",
       "              'language': 'PL',\n",
       "              '__dict__': <attribute '__dict__' of 'Book' objects>,\n",
       "              '__weakref__': <attribute '__weakref__' of 'Book' objects>,\n",
       "              '__doc__': None,\n",
       "              'author': 'Adam Mickiewicz'})"
      ]
     },
     "execution_count": 16,
     "metadata": {},
     "output_type": "execute_result"
    }
   ],
   "source": [
    "Book.author = 'Adam Mickiewicz'\n",
    "Book.__dict__"
   ]
  },
  {
   "cell_type": "code",
   "execution_count": 17,
   "id": "0080466c-8f2c-4d92-b087-c3e04c5b5e6b",
   "metadata": {},
   "outputs": [
    {
     "data": {
      "text/plain": [
       "'Adam Mickiewicz'"
      ]
     },
     "execution_count": 17,
     "metadata": {},
     "output_type": "execute_result"
    }
   ],
   "source": [
    "Book.author"
   ]
  },
  {
   "cell_type": "code",
   "execution_count": 18,
   "id": "25b9c22e-8b23-4662-b4cf-c076d1505249",
   "metadata": {},
   "outputs": [
    {
     "data": {
      "text/plain": [
       "('Adam Mickiewicz', 'Adam Mickiewicz')"
      ]
     },
     "execution_count": 18,
     "metadata": {},
     "output_type": "execute_result"
    }
   ],
   "source": [
    "book1.author, book2.author"
   ]
  },
  {
   "cell_type": "code",
   "execution_count": 19,
   "id": "78e32643-5f53-425a-b2db-e4fc8a13d484",
   "metadata": {},
   "outputs": [
    {
     "data": {
      "text/plain": [
       "({}, {})"
      ]
     },
     "execution_count": 19,
     "metadata": {},
     "output_type": "execute_result"
    }
   ],
   "source": [
    "book1.__dict__, book2.__dict__"
   ]
  },
  {
   "cell_type": "code",
   "execution_count": 20,
   "id": "6008dc38-d28a-45a2-bdf2-bcfa7afe739c",
   "metadata": {},
   "outputs": [
    {
     "data": {
      "text/plain": [
       "'Adam Mickiewicz'"
      ]
     },
     "execution_count": 20,
     "metadata": {},
     "output_type": "execute_result"
    }
   ],
   "source": [
    "book1.author"
   ]
  },
  {
   "cell_type": "code",
   "execution_count": 21,
   "id": "c44de7c9-db6f-4dad-9050-b63bb42715bf",
   "metadata": {},
   "outputs": [],
   "source": [
    "book1.author = 'Stanisław Lem'"
   ]
  },
  {
   "cell_type": "code",
   "execution_count": 22,
   "id": "c4152f31-a482-4517-90c6-35fb52baec4c",
   "metadata": {},
   "outputs": [
    {
     "data": {
      "text/plain": [
       "('Stanisław Lem', 'Adam Mickiewicz')"
      ]
     },
     "execution_count": 22,
     "metadata": {},
     "output_type": "execute_result"
    }
   ],
   "source": [
    "book1.author, book2.author"
   ]
  },
  {
   "cell_type": "code",
   "execution_count": 23,
   "id": "3f4ea0f3-c23d-40c1-9e4e-2adea81dab17",
   "metadata": {},
   "outputs": [],
   "source": [
    "del book1.author"
   ]
  },
  {
   "cell_type": "code",
   "execution_count": 24,
   "id": "a56af4d6-349b-4d04-86bc-4473f766bd85",
   "metadata": {},
   "outputs": [
    {
     "data": {
      "text/plain": [
       "({}, {})"
      ]
     },
     "execution_count": 24,
     "metadata": {},
     "output_type": "execute_result"
    }
   ],
   "source": [
    "book1.__dict__, book2.__dict__"
   ]
  },
  {
   "cell_type": "code",
   "execution_count": 25,
   "id": "08cc716d-d3b3-46d3-a20d-fe0fec755c44",
   "metadata": {},
   "outputs": [
    {
     "data": {
      "text/plain": [
       "('Adam Mickiewicz', 'Adam Mickiewicz')"
      ]
     },
     "execution_count": 25,
     "metadata": {},
     "output_type": "execute_result"
    }
   ],
   "source": [
    "book1.author, book2.author"
   ]
  },
  {
   "cell_type": "code",
   "execution_count": 26,
   "id": "8b9e5c91-fbe5-4693-9f4a-73d0c836f408",
   "metadata": {},
   "outputs": [
    {
     "data": {
      "text/plain": [
       "mappingproxy({'__module__': '__main__',\n",
       "              'language': 'PL',\n",
       "              '__dict__': <attribute '__dict__' of 'Book' objects>,\n",
       "              '__weakref__': <attribute '__weakref__' of 'Book' objects>,\n",
       "              '__doc__': None})"
      ]
     },
     "execution_count": 26,
     "metadata": {},
     "output_type": "execute_result"
    }
   ],
   "source": [
    "class Book:\n",
    "\n",
    "    language = 'PL'\n",
    "\n",
    "Book.__dict__"
   ]
  },
  {
   "cell_type": "code",
   "execution_count": 27,
   "id": "b5501fcd-42a1-44b1-ba97-08ecb18ff071",
   "metadata": {},
   "outputs": [
    {
     "data": {
      "text/plain": [
       "(<__main__.Book at 0x2069cc6bfa0>, <__main__.Book at 0x2069cc6b400>)"
      ]
     },
     "execution_count": 27,
     "metadata": {},
     "output_type": "execute_result"
    }
   ],
   "source": [
    "book1 = Book()\n",
    "book2 = Book()\n",
    "book1, book2"
   ]
  },
  {
   "cell_type": "code",
   "execution_count": 28,
   "id": "b14ea02f-9fe7-435f-bbad-d48bb66bd5d2",
   "metadata": {},
   "outputs": [
    {
     "data": {
      "text/plain": [
       "({}, {})"
      ]
     },
     "execution_count": 28,
     "metadata": {},
     "output_type": "execute_result"
    }
   ],
   "source": [
    "book1.__dict__, book2.__dict__"
   ]
  },
  {
   "cell_type": "code",
   "execution_count": 29,
   "id": "d0c6650a-a74c-40be-9c7b-8c20e7bbf4aa",
   "metadata": {},
   "outputs": [],
   "source": [
    "book1.title = 'Pan Tadeusz'\n",
    "book2.year = 1995"
   ]
  },
  {
   "cell_type": "code",
   "execution_count": 30,
   "id": "273b2135-2b8d-4c73-870e-fab5e3c89db4",
   "metadata": {},
   "outputs": [
    {
     "data": {
      "text/plain": [
       "({'title': 'Pan Tadeusz'}, {'year': 1995})"
      ]
     },
     "execution_count": 30,
     "metadata": {},
     "output_type": "execute_result"
    }
   ],
   "source": [
    "book1.__dict__, book2.__dict__"
   ]
  },
  {
   "cell_type": "code",
   "execution_count": 31,
   "id": "4987d8bb-c7ef-47cf-b946-9e6daa366d80",
   "metadata": {},
   "outputs": [
    {
     "data": {
      "text/plain": [
       "'Pan Tadeusz'"
      ]
     },
     "execution_count": 31,
     "metadata": {},
     "output_type": "execute_result"
    }
   ],
   "source": [
    "book1.title"
   ]
  },
  {
   "cell_type": "code",
   "execution_count": 32,
   "id": "51f24e6d-5fa9-451b-b0c1-4c411ac53fef",
   "metadata": {},
   "outputs": [
    {
     "data": {
      "text/plain": [
       "1995"
      ]
     },
     "execution_count": 32,
     "metadata": {},
     "output_type": "execute_result"
    }
   ],
   "source": [
    "book2.year"
   ]
  },
  {
   "cell_type": "code",
   "execution_count": 33,
   "id": "f551b4b1-c426-4325-b09a-6065b33764b1",
   "metadata": {},
   "outputs": [
    {
     "data": {
      "text/plain": [
       "mappingproxy({'__module__': '__main__',\n",
       "              'language': 'PL',\n",
       "              '__dict__': <attribute '__dict__' of 'Book' objects>,\n",
       "              '__weakref__': <attribute '__weakref__' of 'Book' objects>,\n",
       "              '__doc__': None})"
      ]
     },
     "execution_count": 33,
     "metadata": {},
     "output_type": "execute_result"
    }
   ],
   "source": [
    "Book.__dict__"
   ]
  },
  {
   "cell_type": "markdown",
   "id": "c631bb9d-855c-4c45-8550-0d940c2727c4",
   "metadata": {},
   "source": [
    "## Example"
   ]
  },
  {
   "cell_type": "code",
   "execution_count": 34,
   "id": "42053c1f-6f83-43de-864d-9b05723b393f",
   "metadata": {},
   "outputs": [
    {
     "data": {
      "text/plain": [
       "mappingproxy({'__module__': '__main__',\n",
       "              'language': 'PL',\n",
       "              'author': 'Mickiewicz',\n",
       "              '__dict__': <attribute '__dict__' of 'Book' objects>,\n",
       "              '__weakref__': <attribute '__weakref__' of 'Book' objects>,\n",
       "              '__doc__': None})"
      ]
     },
     "execution_count": 34,
     "metadata": {},
     "output_type": "execute_result"
    }
   ],
   "source": [
    "class Book:\n",
    "\n",
    "    language = 'PL'\n",
    "    author = 'Mickiewicz'\n",
    "\n",
    "Book.__dict__"
   ]
  },
  {
   "cell_type": "code",
   "execution_count": 35,
   "id": "ed9667ef-1c4f-402d-9e0a-6ae5df63d69c",
   "metadata": {},
   "outputs": [
    {
     "data": {
      "text/plain": [
       "[<__main__.Book at 0x2069cc6be50>,\n",
       " <__main__.Book at 0x2069cc6b310>,\n",
       " <__main__.Book at 0x2069cc6b610>]"
      ]
     },
     "execution_count": 35,
     "metadata": {},
     "output_type": "execute_result"
    }
   ],
   "source": [
    "books = [Book(), Book(), Book()]\n",
    "books"
   ]
  },
  {
   "cell_type": "code",
   "execution_count": 36,
   "id": "9fbf47bf-4b0e-40d0-9d14-ca3b595f7f7f",
   "metadata": {},
   "outputs": [
    {
     "name": "stdout",
     "output_type": "stream",
     "text": [
      "język: PL, autor: Mickiewicz\n",
      "język: PL, autor: Mickiewicz\n",
      "język: PL, autor: Mickiewicz\n"
     ]
    }
   ],
   "source": [
    "for book in books:\n",
    "    print(f'język: {book.language}, autor: {book.author}')"
   ]
  },
  {
   "cell_type": "code",
   "execution_count": 37,
   "id": "5d4c5b0c-7f37-4165-9cb9-744df56fe41f",
   "metadata": {},
   "outputs": [],
   "source": [
    "titles = ['Sonety krymskie', 'Pan Tadeusz', 'Konrad Wallenrod']\n",
    "\n",
    "for book, value in zip(books, titles):\n",
    "    book.title = value"
   ]
  },
  {
   "cell_type": "code",
   "execution_count": 38,
   "id": "d00d2112-753d-475f-bad8-7f8869156d33",
   "metadata": {},
   "outputs": [
    {
     "name": "stdout",
     "output_type": "stream",
     "text": [
      "język: PL, autor: Mickiewicz, tytuł: Sonety krymskie\n",
      "język: PL, autor: Mickiewicz, tytuł: Pan Tadeusz\n",
      "język: PL, autor: Mickiewicz, tytuł: Konrad Wallenrod\n"
     ]
    }
   ],
   "source": [
    "for book in books:\n",
    "    print(f'język: {book.language}, autor: {book.author}, tytuł: {book.title}')"
   ]
  },
  {
   "cell_type": "code",
   "execution_count": 39,
   "id": "313dce06-e335-42b0-8610-4e8485527547",
   "metadata": {},
   "outputs": [],
   "source": [
    "titles = ['Sonety krymskie', 'Pan Tadeusz', 'Konrad Wallenrod']\n",
    "\n",
    "for book, value in zip(books, titles):\n",
    "    # book.title = value\n",
    "    setattr(book, 'title', value)"
   ]
  },
  {
   "cell_type": "code",
   "execution_count": 40,
   "id": "08986a2b-a994-4a3a-b42d-d85dc395663e",
   "metadata": {},
   "outputs": [
    {
     "name": "stdout",
     "output_type": "stream",
     "text": [
      "{'title': 'Sonety krymskie'}\n",
      "{'title': 'Pan Tadeusz'}\n",
      "{'title': 'Konrad Wallenrod'}\n"
     ]
    }
   ],
   "source": [
    "for book in books:\n",
    "    print(book.__dict__)"
   ]
  },
  {
   "cell_type": "markdown",
   "id": "7783352c-b3d8-4f2a-a2f0-81b175ec0a99",
   "metadata": {},
   "source": [
    "## Callable class attributes (functions) and callable instance attributes (methods)"
   ]
  },
  {
   "cell_type": "code",
   "execution_count": 41,
   "id": "2562268a-42ce-4952-b75f-ba651f4c87c0",
   "metadata": {},
   "outputs": [
    {
     "data": {
      "text/plain": [
       "mappingproxy({'__module__': '__main__',\n",
       "              'language': 'PL',\n",
       "              'author': 'Adam Mickiewicz',\n",
       "              'show_details': <function __main__.Book.show_details()>,\n",
       "              '__dict__': <attribute '__dict__' of 'Book' objects>,\n",
       "              '__weakref__': <attribute '__weakref__' of 'Book' objects>,\n",
       "              '__doc__': None})"
      ]
     },
     "execution_count": 41,
     "metadata": {},
     "output_type": "execute_result"
    }
   ],
   "source": [
    "class Book:\n",
    "\n",
    "    language = 'PL'\n",
    "    author = 'Adam Mickiewicz'\n",
    "\n",
    "    def show_details():\n",
    "        print(f'Autor: {Book.author}\\nJęzyk: {Book.language}')\n",
    "\n",
    "Book.__dict__"
   ]
  },
  {
   "cell_type": "code",
   "execution_count": 42,
   "id": "4e1019f6-7a1b-4c12-b851-8fd0c9b195c1",
   "metadata": {},
   "outputs": [
    {
     "data": {
      "text/plain": [
       "<function __main__.Book.show_details()>"
      ]
     },
     "execution_count": 42,
     "metadata": {},
     "output_type": "execute_result"
    }
   ],
   "source": [
    "Book.show_details"
   ]
  },
  {
   "cell_type": "code",
   "execution_count": 43,
   "id": "951eb753-a659-465c-8e8e-327053d1ecd6",
   "metadata": {},
   "outputs": [
    {
     "name": "stdout",
     "output_type": "stream",
     "text": [
      "Autor: Adam Mickiewicz\n",
      "Język: PL\n"
     ]
    }
   ],
   "source": [
    "Book.show_details()"
   ]
  },
  {
   "cell_type": "code",
   "execution_count": 44,
   "id": "a25d3d6f-93c1-452c-b18d-819f26728f7d",
   "metadata": {},
   "outputs": [],
   "source": [
    "Book.show_language = lambda: print(f'Język: {Book.language}')"
   ]
  },
  {
   "cell_type": "code",
   "execution_count": 45,
   "id": "54b51f8c-c3dc-4aff-bf5d-11b228a5c942",
   "metadata": {},
   "outputs": [
    {
     "data": {
      "text/plain": [
       "mappingproxy({'__module__': '__main__',\n",
       "              'language': 'PL',\n",
       "              'author': 'Adam Mickiewicz',\n",
       "              'show_details': <function __main__.Book.show_details()>,\n",
       "              '__dict__': <attribute '__dict__' of 'Book' objects>,\n",
       "              '__weakref__': <attribute '__weakref__' of 'Book' objects>,\n",
       "              '__doc__': None,\n",
       "              'show_language': <function __main__.<lambda>()>})"
      ]
     },
     "execution_count": 45,
     "metadata": {},
     "output_type": "execute_result"
    }
   ],
   "source": [
    "Book.__dict__"
   ]
  },
  {
   "cell_type": "code",
   "execution_count": 46,
   "id": "2ac548b6-e37e-4a72-bb1e-a2469def7310",
   "metadata": {},
   "outputs": [
    {
     "name": "stdout",
     "output_type": "stream",
     "text": [
      "Język: PL\n"
     ]
    }
   ],
   "source": [
    "Book.show_language()"
   ]
  },
  {
   "cell_type": "code",
   "execution_count": 47,
   "id": "17e0de4f-30fe-4243-a578-6159060cb9cf",
   "metadata": {},
   "outputs": [
    {
     "data": {
      "text/plain": [
       "{}"
      ]
     },
     "execution_count": 47,
     "metadata": {},
     "output_type": "execute_result"
    }
   ],
   "source": [
    "book1 = Book()\n",
    "book1.__dict__"
   ]
  },
  {
   "cell_type": "code",
   "execution_count": 48,
   "id": "1b58be80-a605-47d4-b4c4-eab5232dc8e5",
   "metadata": {},
   "outputs": [
    {
     "data": {
      "text/plain": [
       "<bound method Book.show_details of <__main__.Book object at 0x000002069CC4DA30>>"
      ]
     },
     "execution_count": 48,
     "metadata": {},
     "output_type": "execute_result"
    }
   ],
   "source": [
    "book1.show_details"
   ]
  },
  {
   "cell_type": "code",
   "execution_count": 49,
   "id": "cce348f0-1f74-425b-874a-d536b35047e0",
   "metadata": {},
   "outputs": [],
   "source": [
    "#book1.show_details()"
   ]
  },
  {
   "cell_type": "code",
   "execution_count": 50,
   "id": "2528ae1c-2319-44ea-a2be-dbcc6c59700b",
   "metadata": {},
   "outputs": [
    {
     "data": {
      "text/plain": [
       "(function, method)"
      ]
     },
     "execution_count": 50,
     "metadata": {},
     "output_type": "execute_result"
    }
   ],
   "source": [
    "type(Book.show_details), type(book1.show_details)"
   ]
  },
  {
   "cell_type": "markdown",
   "id": "a4714cec-8546-4d20-afe7-da6cd3b86e12",
   "metadata": {},
   "source": [
    "## Example2"
   ]
  },
  {
   "cell_type": "code",
   "execution_count": 51,
   "id": "a39a9895-debb-43c8-94eb-21add0960e29",
   "metadata": {},
   "outputs": [
    {
     "data": {
      "text/plain": [
       "mappingproxy({'__module__': '__main__',\n",
       "              'language': 'PL',\n",
       "              'author': 'Adam Mickiewicz',\n",
       "              'show_details': <function __main__.Book.show_details(*args)>,\n",
       "              '__dict__': <attribute '__dict__' of 'Book' objects>,\n",
       "              '__weakref__': <attribute '__weakref__' of 'Book' objects>,\n",
       "              '__doc__': None})"
      ]
     },
     "execution_count": 51,
     "metadata": {},
     "output_type": "execute_result"
    }
   ],
   "source": [
    "class Book:\n",
    "\n",
    "    language = 'PL'\n",
    "    author = 'Adam Mickiewicz'\n",
    "\n",
    "    def show_details(*args):\n",
    "        print(args)\n",
    "        for arg in args:\n",
    "            print(f'{arg} -> {type(arg)}')\n",
    "\n",
    "Book.__dict__"
   ]
  },
  {
   "cell_type": "code",
   "execution_count": 52,
   "id": "55cf4279-ba00-47a4-b3ce-1dc61ae56a35",
   "metadata": {},
   "outputs": [
    {
     "name": "stdout",
     "output_type": "stream",
     "text": [
      "()\n"
     ]
    }
   ],
   "source": [
    "Book.show_details()"
   ]
  },
  {
   "cell_type": "code",
   "execution_count": 53,
   "id": "36d633d6-47f7-4700-8191-0a7cf9213096",
   "metadata": {},
   "outputs": [
    {
     "name": "stdout",
     "output_type": "stream",
     "text": [
      "(<__main__.Book object at 0x000002069CC6BB80>,)\n",
      "<__main__.Book object at 0x000002069CC6BB80> -> <class '__main__.Book'>\n"
     ]
    }
   ],
   "source": [
    "book1 = Book()\n",
    "book1.show_details()"
   ]
  },
  {
   "cell_type": "code",
   "execution_count": 54,
   "id": "ef8a598f-ca22-4752-9eda-db5104467a51",
   "metadata": {},
   "outputs": [
    {
     "data": {
      "text/plain": [
       "<__main__.Book at 0x2069cc6bb80>"
      ]
     },
     "execution_count": 54,
     "metadata": {},
     "output_type": "execute_result"
    }
   ],
   "source": [
    "book1"
   ]
  },
  {
   "cell_type": "code",
   "execution_count": 55,
   "id": "8f545ef3-af75-4419-a313-18957f86b8ab",
   "metadata": {},
   "outputs": [
    {
     "name": "stdout",
     "output_type": "stream",
     "text": [
      "(<__main__.Book object at 0x000002069CC6BB80>, 'Tom II')\n",
      "<__main__.Book object at 0x000002069CC6BB80> -> <class '__main__.Book'>\n",
      "Tom II -> <class 'str'>\n"
     ]
    }
   ],
   "source": [
    "book1.show_details('Tom II')"
   ]
  },
  {
   "cell_type": "code",
   "execution_count": 56,
   "id": "4af9f2b3-d166-4c4d-9d65-34195b72d0cc",
   "metadata": {},
   "outputs": [
    {
     "name": "stdout",
     "output_type": "stream",
     "text": [
      "(<__main__.Book object at 0x000002069CC6BB80>, 'Tom II', 190.0)\n",
      "<__main__.Book object at 0x000002069CC6BB80> -> <class '__main__.Book'>\n",
      "Tom II -> <class 'str'>\n",
      "190.0 -> <class 'float'>\n"
     ]
    }
   ],
   "source": [
    "book1.show_details('Tom II', 190.0)"
   ]
  },
  {
   "cell_type": "markdown",
   "id": "9130447c-73d9-43f0-a7f9-cc021f4bf525",
   "metadata": {},
   "source": [
    "## Example3"
   ]
  },
  {
   "cell_type": "code",
   "execution_count": 58,
   "id": "76b9f85a-3802-417c-bd57-dcf8fa065b08",
   "metadata": {},
   "outputs": [
    {
     "data": {
      "text/plain": [
       "mappingproxy({'__module__': '__main__',\n",
       "              'language': 'PL',\n",
       "              'author': 'Adam Mickiewicz',\n",
       "              'set_title': <function __main__.Book.set_title(instance, value)>,\n",
       "              '__dict__': <attribute '__dict__' of 'Book' objects>,\n",
       "              '__weakref__': <attribute '__weakref__' of 'Book' objects>,\n",
       "              '__doc__': None})"
      ]
     },
     "execution_count": 58,
     "metadata": {},
     "output_type": "execute_result"
    }
   ],
   "source": [
    "class Book:\n",
    "\n",
    "    language = 'PL'\n",
    "    author = 'Adam Mickiewicz'\n",
    "\n",
    "    def set_title(instance, value):\n",
    "        instance.title = value\n",
    "\n",
    "Book.__dict__"
   ]
  },
  {
   "cell_type": "code",
   "execution_count": 59,
   "id": "c3333de3-04ac-47eb-80f1-3b518df4a22c",
   "metadata": {},
   "outputs": [
    {
     "data": {
      "text/plain": [
       "<__main__.Book at 0x2069cc4d760>"
      ]
     },
     "execution_count": 59,
     "metadata": {},
     "output_type": "execute_result"
    }
   ],
   "source": [
    "book1 = Book()\n",
    "book1"
   ]
  },
  {
   "cell_type": "code",
   "execution_count": 60,
   "id": "2abe954d-22bc-42c7-a698-0c4a17b736e8",
   "metadata": {},
   "outputs": [
    {
     "data": {
      "text/plain": [
       "{}"
      ]
     },
     "execution_count": 60,
     "metadata": {},
     "output_type": "execute_result"
    }
   ],
   "source": [
    "book1.__dict__"
   ]
  },
  {
   "cell_type": "code",
   "execution_count": 61,
   "id": "1acce79e-327d-47c2-9e5b-fff36d66e233",
   "metadata": {},
   "outputs": [
    {
     "data": {
      "text/plain": [
       "<bound method Book.set_title of <__main__.Book object at 0x000002069CC4D760>>"
      ]
     },
     "execution_count": 61,
     "metadata": {},
     "output_type": "execute_result"
    }
   ],
   "source": [
    "book1.set_title"
   ]
  },
  {
   "cell_type": "code",
   "execution_count": 62,
   "id": "506ae383-df62-4207-962c-010b30883fe9",
   "metadata": {},
   "outputs": [],
   "source": [
    "book1.set_title('Pan Tadeusz')"
   ]
  },
  {
   "cell_type": "code",
   "execution_count": 63,
   "id": "e12afb8b-b9ec-46e8-99f6-782fbfcd2ce0",
   "metadata": {},
   "outputs": [
    {
     "data": {
      "text/plain": [
       "{'title': 'Pan Tadeusz'}"
      ]
     },
     "execution_count": 63,
     "metadata": {},
     "output_type": "execute_result"
    }
   ],
   "source": [
    "book1.__dict__"
   ]
  },
  {
   "cell_type": "code",
   "execution_count": 64,
   "id": "6e005717-1e2e-4cc8-a89d-f60b708b48c5",
   "metadata": {},
   "outputs": [
    {
     "data": {
      "text/plain": [
       "'Pan Tadeusz'"
      ]
     },
     "execution_count": 64,
     "metadata": {},
     "output_type": "execute_result"
    }
   ],
   "source": [
    "book1.title"
   ]
  },
  {
   "cell_type": "code",
   "execution_count": 66,
   "id": "082cfb2e-0f29-4ddc-9196-73697a6b5b2e",
   "metadata": {},
   "outputs": [],
   "source": [
    "#Book.title\n",
    "#AttributeError: type object 'Book' has no attribute 'title'"
   ]
  },
  {
   "cell_type": "code",
   "execution_count": 67,
   "id": "82deb16c-2199-46cb-87b6-57733d3ba1e5",
   "metadata": {},
   "outputs": [],
   "source": [
    "Book.set_title(book1, 'Konrad Wallenrod')"
   ]
  },
  {
   "cell_type": "code",
   "execution_count": 68,
   "id": "496402fc-a3a2-424e-a028-786078e43cdc",
   "metadata": {},
   "outputs": [
    {
     "data": {
      "text/plain": [
       "{'title': 'Konrad Wallenrod'}"
      ]
     },
     "execution_count": 68,
     "metadata": {},
     "output_type": "execute_result"
    }
   ],
   "source": [
    "book1.__dict__"
   ]
  },
  {
   "cell_type": "code",
   "execution_count": 69,
   "id": "7669e935-f17a-4cee-84c2-e52cdd519804",
   "metadata": {},
   "outputs": [
    {
     "data": {
      "text/plain": [
       "'Konrad Wallenrod'"
      ]
     },
     "execution_count": 69,
     "metadata": {},
     "output_type": "execute_result"
    }
   ],
   "source": [
    "book1.title"
   ]
  },
  {
   "cell_type": "code",
   "execution_count": 70,
   "id": "40e600ae-0772-432e-92c1-be05fa33aa40",
   "metadata": {},
   "outputs": [
    {
     "data": {
      "text/plain": [
       "mappingproxy({'__module__': '__main__',\n",
       "              'language': 'PL',\n",
       "              'author': 'Adam Mickiewicz',\n",
       "              'set_title': <function __main__.Book.set_title(instance, value)>,\n",
       "              '__dict__': <attribute '__dict__' of 'Book' objects>,\n",
       "              '__weakref__': <attribute '__weakref__' of 'Book' objects>,\n",
       "              '__doc__': None})"
      ]
     },
     "execution_count": 70,
     "metadata": {},
     "output_type": "execute_result"
    }
   ],
   "source": [
    "class Book:\n",
    "\n",
    "    language = 'PL'\n",
    "    author = 'Adam Mickiewicz'\n",
    "\n",
    "    def set_title(instance, value):\n",
    "        instance.title = value\n",
    "\n",
    "Book.__dict__"
   ]
  },
  {
   "cell_type": "code",
   "execution_count": 71,
   "id": "be6a911b-eedd-4203-afa0-cd25bbf7fe0b",
   "metadata": {},
   "outputs": [],
   "source": [
    "Book.get_title = lambda self: self.title"
   ]
  },
  {
   "cell_type": "code",
   "execution_count": 72,
   "id": "39998bdd-4249-48db-ac8b-1c7f3b0599ec",
   "metadata": {},
   "outputs": [],
   "source": [
    "book1 = Book()"
   ]
  },
  {
   "cell_type": "code",
   "execution_count": 73,
   "id": "b61012b5-4ca1-4ec6-981c-7b34e7670cee",
   "metadata": {},
   "outputs": [],
   "source": [
    "book1.set_title('Pan Tadeusz')"
   ]
  },
  {
   "cell_type": "code",
   "execution_count": 74,
   "id": "b618264d-12cb-4daa-9d62-89bb87e19d06",
   "metadata": {},
   "outputs": [
    {
     "data": {
      "text/plain": [
       "'Pan Tadeusz'"
      ]
     },
     "execution_count": 74,
     "metadata": {},
     "output_type": "execute_result"
    }
   ],
   "source": [
    "book1.get_title()"
   ]
  }
 ],
 "metadata": {
  "kernelspec": {
   "display_name": "Python 3 (ipykernel)",
   "language": "python",
   "name": "python3"
  },
  "language_info": {
   "codemirror_mode": {
    "name": "ipython",
    "version": 3
   },
   "file_extension": ".py",
   "mimetype": "text/x-python",
   "name": "python",
   "nbconvert_exporter": "python",
   "pygments_lexer": "ipython3",
   "version": "3.9.7"
  }
 },
 "nbformat": 4,
 "nbformat_minor": 5
}
