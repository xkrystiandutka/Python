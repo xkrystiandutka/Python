{
 "cells": [
  {
   "cell_type": "markdown",
   "id": "16707650-f9cc-487b-8fe8-41ca977dc547",
   "metadata": {},
   "source": [
    "# Instance attributes"
   ]
  },
  {
   "cell_type": "markdown",
   "id": "f252b419-1f84-4182-8c25-aa022fac2d41",
   "metadata": {},
   "source": [
    "### Create an instance of the class"
   ]
  },
  {
   "cell_type": "code",
   "execution_count": 1,
   "id": "d68c2b45-c72a-4983-9810-c6cdbebbaf53",
   "metadata": {},
   "outputs": [
    {
     "data": {
      "text/plain": [
       "mappingproxy({'__module__': '__main__',\n",
       "              'language': 'ENG',\n",
       "              'show': <function __main__.Book.show()>,\n",
       "              '__dict__': <attribute '__dict__' of 'Book' objects>,\n",
       "              '__weakref__': <attribute '__weakref__' of 'Book' objects>,\n",
       "              '__doc__': None})"
      ]
     },
     "execution_count": 1,
     "metadata": {},
     "output_type": "execute_result"
    }
   ],
   "source": [
    "class Book:\n",
    "\n",
    "    language = 'ENG'\n",
    "\n",
    "    def show():\n",
    "        print(Book.language)\n",
    "\n",
    "Book.__dict__"
   ]
  },
  {
   "cell_type": "code",
   "execution_count": 2,
   "id": "e840d353-b2af-4570-a56a-524adc44a12d",
   "metadata": {},
   "outputs": [
    {
     "data": {
      "text/plain": [
       "<__main__.Book at 0x1690c8fca30>"
      ]
     },
     "execution_count": 2,
     "metadata": {},
     "output_type": "execute_result"
    }
   ],
   "source": [
    "Book()"
   ]
  },
  {
   "cell_type": "code",
   "execution_count": 3,
   "id": "6eb0aa13-32a6-42f3-bfd6-58bc9dca34de",
   "metadata": {},
   "outputs": [
    {
     "data": {
      "text/plain": [
       "<__main__.Book at 0x1690c8d8880>"
      ]
     },
     "execution_count": 3,
     "metadata": {},
     "output_type": "execute_result"
    }
   ],
   "source": [
    "book1 = Book()\n",
    "book1"
   ]
  },
  {
   "cell_type": "code",
   "execution_count": 4,
   "id": "f37d6cfa-46ea-4916-a519-9bcc0ba59540",
   "metadata": {},
   "outputs": [
    {
     "data": {
      "text/plain": [
       "(__main__.Book, type)"
      ]
     },
     "execution_count": 4,
     "metadata": {},
     "output_type": "execute_result"
    }
   ],
   "source": [
    "type(book1), type(Book)"
   ]
  },
  {
   "cell_type": "code",
   "execution_count": 6,
   "id": "e9cde1b6-d301-40f4-81e3-c78f88b9f8be",
   "metadata": {},
   "outputs": [
    {
     "data": {
      "text/plain": [
       "True"
      ]
     },
     "execution_count": 6,
     "metadata": {},
     "output_type": "execute_result"
    }
   ],
   "source": [
    "isinstance(book1, Book)"
   ]
  },
  {
   "cell_type": "markdown",
   "id": "cff3b1e4-18e5-443c-9b05-eab8a2aa5816",
   "metadata": {},
   "source": [
    "## Built-in class attributes vs. instance attributes"
   ]
  },
  {
   "cell_type": "code",
   "execution_count": 7,
   "id": "6766e365-d647-4428-81ae-1dfddf0dcf5d",
   "metadata": {},
   "outputs": [
    {
     "data": {
      "text/plain": [
       "mappingproxy({'__module__': '__main__',\n",
       "              'language': 'ENG',\n",
       "              'show': <function __main__.Book.show()>,\n",
       "              '__dict__': <attribute '__dict__' of 'Book' objects>,\n",
       "              '__weakref__': <attribute '__weakref__' of 'Book' objects>,\n",
       "              '__doc__': None})"
      ]
     },
     "execution_count": 7,
     "metadata": {},
     "output_type": "execute_result"
    }
   ],
   "source": [
    "class Book:\n",
    "\n",
    "    language = 'ENG'\n",
    "\n",
    "    def show():\n",
    "        print(Book.language)\n",
    "\n",
    "Book.__dict__"
   ]
  },
  {
   "cell_type": "code",
   "execution_count": 8,
   "id": "098125e2-486d-4bbe-9b8d-438d93e7b3aa",
   "metadata": {},
   "outputs": [
    {
     "data": {
      "text/plain": [
       "<__main__.Book at 0x1690c8fcac0>"
      ]
     },
     "execution_count": 8,
     "metadata": {},
     "output_type": "execute_result"
    }
   ],
   "source": [
    "book1 = Book()\n",
    "book1"
   ]
  },
  {
   "cell_type": "code",
   "execution_count": 9,
   "id": "51c2034f-6541-4277-86a9-3577c4fdd653",
   "metadata": {},
   "outputs": [
    {
     "data": {
      "text/plain": [
       "{}"
      ]
     },
     "execution_count": 9,
     "metadata": {},
     "output_type": "execute_result"
    }
   ],
   "source": [
    "book1.__dict__"
   ]
  },
  {
   "cell_type": "code",
   "execution_count": 10,
   "id": "533e10b3-7b3e-4956-b223-ee2cdab5df55",
   "metadata": {},
   "outputs": [
    {
     "data": {
      "text/plain": [
       "dict"
      ]
     },
     "execution_count": 10,
     "metadata": {},
     "output_type": "execute_result"
    }
   ],
   "source": [
    "type(book1.__dict__)"
   ]
  },
  {
   "cell_type": "code",
   "execution_count": 11,
   "id": "b237bc53-ef4a-45ec-b3f9-fcadd11ebf9a",
   "metadata": {},
   "outputs": [
    {
     "data": {
      "text/plain": [
       "type"
      ]
     },
     "execution_count": 11,
     "metadata": {},
     "output_type": "execute_result"
    }
   ],
   "source": [
    "Book.__class__"
   ]
  },
  {
   "cell_type": "code",
   "execution_count": null,
   "id": "fbca05a1-e3c9-4c93-8732-9b515b669c50",
   "metadata": {},
   "outputs": [],
   "source": []
  }
 ],
 "metadata": {
  "kernelspec": {
   "display_name": "Python 3 (ipykernel)",
   "language": "python",
   "name": "python3"
  },
  "language_info": {
   "codemirror_mode": {
    "name": "ipython",
    "version": 3
   },
   "file_extension": ".py",
   "mimetype": "text/x-python",
   "name": "python",
   "nbconvert_exporter": "python",
   "pygments_lexer": "ipython3",
   "version": "3.9.7"
  }
 },
 "nbformat": 4,
 "nbformat_minor": 5
}
