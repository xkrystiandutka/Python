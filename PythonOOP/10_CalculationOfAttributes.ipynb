{
 "cells": [
  {
   "cell_type": "markdown",
   "id": "cb3a4d73-ee1b-4357-adbf-c774bcce01f2",
   "metadata": {},
   "source": [
    "# Calculation of attributes"
   ]
  },
  {
   "cell_type": "code",
   "execution_count": 1,
   "id": "b7e152f4-5616-4b9a-add3-9673eeb93398",
   "metadata": {},
   "outputs": [],
   "source": [
    "class Model:\n",
    "\n",
    "    def __init__(self, y_true, y_pred):\n",
    "        self.y_true = y_true\n",
    "        self.y_pred = y_pred\n",
    "\n",
    "    def accuracy_score(self):\n",
    "        print('Calculating...')\n",
    "        self.accuracy = sum([i == j\n",
    "            for i, j in zip(self.y_true, self.y_pred)]) / len(self.y_true)\n",
    "        print(f'Model accuracy: {self.accuracy:.4f}')\n",
    "\n",
    "model = Model([0, 0, 1, 0, 0, 1, 0], [0, 0, 1, 0, 0, 0, 0])"
   ]
  },
  {
   "cell_type": "code",
   "execution_count": 2,
   "id": "b4be2852-cd67-4d07-afda-972343b9049c",
   "metadata": {},
   "outputs": [
    {
     "data": {
      "text/plain": [
       "{'y_true': [0, 0, 1, 0, 0, 1, 0], 'y_pred': [0, 0, 1, 0, 0, 0, 0]}"
      ]
     },
     "execution_count": 2,
     "metadata": {},
     "output_type": "execute_result"
    }
   ],
   "source": [
    "model.__dict__"
   ]
  },
  {
   "cell_type": "code",
   "execution_count": 3,
   "id": "e2f0b09f-f5e2-4346-b39f-5289c911a589",
   "metadata": {},
   "outputs": [
    {
     "name": "stdout",
     "output_type": "stream",
     "text": [
      "Calculating...\n",
      "Model accuracy: 0.8571\n"
     ]
    }
   ],
   "source": [
    "model.accuracy_score()"
   ]
  },
  {
   "cell_type": "code",
   "execution_count": 5,
   "id": "05faf237-acd1-4992-8a17-1ccf4ceba715",
   "metadata": {},
   "outputs": [
    {
     "data": {
      "text/plain": [
       "{'y_true': [0, 0, 1, 0, 0, 1, 0],\n",
       " 'y_pred': [0, 0, 1, 0, 0, 0, 0],\n",
       " 'accuracy': 0.8571428571428571}"
      ]
     },
     "execution_count": 5,
     "metadata": {},
     "output_type": "execute_result"
    }
   ],
   "source": [
    "model.__dict__"
   ]
  },
  {
   "cell_type": "code",
   "execution_count": 6,
   "id": "f8907ff8-7e9e-4395-8b1b-9dd72689ccd5",
   "metadata": {},
   "outputs": [
    {
     "name": "stdout",
     "output_type": "stream",
     "text": [
      "Calculating...\n",
      "Model accuracy: 0.8571\n"
     ]
    }
   ],
   "source": [
    "model.accuracy_score()"
   ]
  },
  {
   "cell_type": "code",
   "execution_count": 7,
   "id": "e87762c0-aa79-4edd-9ec2-e65594510f9f",
   "metadata": {},
   "outputs": [
    {
     "data": {
      "text/plain": [
       "0.8571428571428571"
      ]
     },
     "execution_count": 7,
     "metadata": {},
     "output_type": "execute_result"
    }
   ],
   "source": [
    "model.accuracy"
   ]
  },
  {
   "cell_type": "code",
   "execution_count": 8,
   "id": "a1b1ed3b-def7-4799-8e47-fa4883a3fe12",
   "metadata": {},
   "outputs": [],
   "source": [
    "model.accuracy = 0.1"
   ]
  },
  {
   "cell_type": "code",
   "execution_count": 9,
   "id": "f1aaeb60-aa4b-44b3-8b73-0b7cd6f9d95d",
   "metadata": {},
   "outputs": [
    {
     "data": {
      "text/plain": [
       "0.1"
      ]
     },
     "execution_count": 9,
     "metadata": {},
     "output_type": "execute_result"
    }
   ],
   "source": [
    "model.accuracy"
   ]
  },
  {
   "cell_type": "code",
   "execution_count": 10,
   "id": "b382ebaa-fb5d-46bb-a211-f3444e8e3d30",
   "metadata": {},
   "outputs": [],
   "source": [
    "model.accuracy = 'java'"
   ]
  },
  {
   "cell_type": "code",
   "execution_count": 11,
   "id": "40e517d9-594a-44fb-b1a5-f26ee4206239",
   "metadata": {},
   "outputs": [
    {
     "data": {
      "text/plain": [
       "'java'"
      ]
     },
     "execution_count": 11,
     "metadata": {},
     "output_type": "execute_result"
    }
   ],
   "source": [
    "model.accuracy"
   ]
  },
  {
   "cell_type": "code",
   "execution_count": 14,
   "id": "5379d60a-146b-4d8e-bc7e-74cfbd5e77b3",
   "metadata": {},
   "outputs": [],
   "source": [
    "class Model:\n",
    "\n",
    "    def __init__(self, y_true, y_pred):\n",
    "        self.y_true = y_true\n",
    "        self.y_pred = y_pred\n",
    "\n",
    "    @property\n",
    "    def accuracy(self):\n",
    "        print('Calculating...')\n",
    "        self._accuracy = sum([i == j\n",
    "            for i, j in zip(self.y_true, self.y_pred)]) / len(self.y_true)\n",
    "        print(f'Model accuracy: {self._accuracy:.4f}')\n",
    "\n",
    "model = Model([0, 0, 1, 0, 0, 1, 0], [0, 0, 1, 0, 0, 0, 0])"
   ]
  },
  {
   "cell_type": "code",
   "execution_count": 16,
   "id": "8b7f2482-f322-436b-a3ae-7ad00e4919bc",
   "metadata": {},
   "outputs": [
    {
     "name": "stdout",
     "output_type": "stream",
     "text": [
      "Calculating...\n",
      "Model accuracy: 0.8571\n"
     ]
    }
   ],
   "source": [
    "model.accuracy"
   ]
  },
  {
   "cell_type": "code",
   "execution_count": 17,
   "id": "15c7fa67-bded-4601-8093-00602a4b068d",
   "metadata": {},
   "outputs": [
    {
     "data": {
      "text/plain": [
       "{'y_true': [0, 0, 1, 0, 0, 1, 0],\n",
       " 'y_pred': [0, 0, 1, 0, 0, 0, 0],\n",
       " '_accuracy': 0.8571428571428571}"
      ]
     },
     "execution_count": 17,
     "metadata": {},
     "output_type": "execute_result"
    }
   ],
   "source": [
    "model.__dict__"
   ]
  },
  {
   "cell_type": "code",
   "execution_count": 18,
   "id": "57b32e25-a4b5-437c-81f0-1d07cbbe6fe0",
   "metadata": {},
   "outputs": [
    {
     "name": "stdout",
     "output_type": "stream",
     "text": [
      "Calculating...\n",
      "Model accuracy: 0.8571\n"
     ]
    }
   ],
   "source": [
    "model.accuracy"
   ]
  },
  {
   "cell_type": "code",
   "execution_count": 20,
   "id": "1d75aa48-619f-4d7d-9dd1-485abee05a74",
   "metadata": {},
   "outputs": [],
   "source": [
    "#model.accuracy = 0.5\n",
    "#AttributeError: can't set attribute"
   ]
  },
  {
   "cell_type": "code",
   "execution_count": 23,
   "id": "95e2ad79-fb11-4d78-81e7-452e4c12e8e0",
   "metadata": {},
   "outputs": [],
   "source": [
    "#del model.accuracy\n",
    "#AttributeError: can't delete attribute"
   ]
  },
  {
   "cell_type": "code",
   "execution_count": null,
   "id": "4e57b784-76d1-4d92-9f9d-b5b0b7a294bb",
   "metadata": {},
   "outputs": [],
   "source": []
  }
 ],
 "metadata": {
  "kernelspec": {
   "display_name": "Python 3 (ipykernel)",
   "language": "python",
   "name": "python3"
  },
  "language_info": {
   "codemirror_mode": {
    "name": "ipython",
    "version": 3
   },
   "file_extension": ".py",
   "mimetype": "text/x-python",
   "name": "python",
   "nbconvert_exporter": "python",
   "pygments_lexer": "ipython3",
   "version": "3.9.7"
  }
 },
 "nbformat": 4,
 "nbformat_minor": 5
}
