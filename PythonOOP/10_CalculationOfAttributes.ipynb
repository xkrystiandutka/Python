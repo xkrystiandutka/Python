{
 "cells": [
  {
   "cell_type": "markdown",
   "id": "cb3a4d73-ee1b-4357-adbf-c774bcce01f2",
   "metadata": {},
   "source": [
    "# Calculation of attributes"
   ]
  },
  {
   "cell_type": "code",
   "execution_count": 1,
   "id": "b7e152f4-5616-4b9a-add3-9673eeb93398",
   "metadata": {},
   "outputs": [],
   "source": [
    "class Model:\n",
    "\n",
    "    def __init__(self, y_true, y_pred):\n",
    "        self.y_true = y_true\n",
    "        self.y_pred = y_pred\n",
    "\n",
    "    def accuracy_score(self):\n",
    "        print('Calculating...')\n",
    "        self.accuracy = sum([i == j\n",
    "            for i, j in zip(self.y_true, self.y_pred)]) / len(self.y_true)\n",
    "        print(f'Model accuracy: {self.accuracy:.4f}')\n",
    "\n",
    "model = Model([0, 0, 1, 0, 0, 1, 0], [0, 0, 1, 0, 0, 0, 0])"
   ]
  },
  {
   "cell_type": "code",
   "execution_count": 2,
   "id": "b4be2852-cd67-4d07-afda-972343b9049c",
   "metadata": {},
   "outputs": [
    {
     "data": {
      "text/plain": [
       "{'y_true': [0, 0, 1, 0, 0, 1, 0], 'y_pred': [0, 0, 1, 0, 0, 0, 0]}"
      ]
     },
     "execution_count": 2,
     "metadata": {},
     "output_type": "execute_result"
    }
   ],
   "source": [
    "model.__dict__"
   ]
  },
  {
   "cell_type": "code",
   "execution_count": 3,
   "id": "e2f0b09f-f5e2-4346-b39f-5289c911a589",
   "metadata": {},
   "outputs": [
    {
     "name": "stdout",
     "output_type": "stream",
     "text": [
      "Calculating...\n",
      "Model accuracy: 0.8571\n"
     ]
    }
   ],
   "source": [
    "model.accuracy_score()"
   ]
  },
  {
   "cell_type": "code",
   "execution_count": 4,
   "id": "05faf237-acd1-4992-8a17-1ccf4ceba715",
   "metadata": {},
   "outputs": [
    {
     "data": {
      "text/plain": [
       "{'y_true': [0, 0, 1, 0, 0, 1, 0],\n",
       " 'y_pred': [0, 0, 1, 0, 0, 0, 0],\n",
       " 'accuracy': 0.8571428571428571}"
      ]
     },
     "execution_count": 4,
     "metadata": {},
     "output_type": "execute_result"
    }
   ],
   "source": [
    "model.__dict__"
   ]
  },
  {
   "cell_type": "code",
   "execution_count": 5,
   "id": "f8907ff8-7e9e-4395-8b1b-9dd72689ccd5",
   "metadata": {},
   "outputs": [
    {
     "name": "stdout",
     "output_type": "stream",
     "text": [
      "Calculating...\n",
      "Model accuracy: 0.8571\n"
     ]
    }
   ],
   "source": [
    "model.accuracy_score()"
   ]
  },
  {
   "cell_type": "code",
   "execution_count": 6,
   "id": "e87762c0-aa79-4edd-9ec2-e65594510f9f",
   "metadata": {},
   "outputs": [
    {
     "data": {
      "text/plain": [
       "0.8571428571428571"
      ]
     },
     "execution_count": 6,
     "metadata": {},
     "output_type": "execute_result"
    }
   ],
   "source": [
    "model.accuracy"
   ]
  },
  {
   "cell_type": "code",
   "execution_count": 7,
   "id": "a1b1ed3b-def7-4799-8e47-fa4883a3fe12",
   "metadata": {},
   "outputs": [],
   "source": [
    "model.accuracy = 0.1"
   ]
  },
  {
   "cell_type": "code",
   "execution_count": 8,
   "id": "f1aaeb60-aa4b-44b3-8b73-0b7cd6f9d95d",
   "metadata": {},
   "outputs": [
    {
     "data": {
      "text/plain": [
       "0.1"
      ]
     },
     "execution_count": 8,
     "metadata": {},
     "output_type": "execute_result"
    }
   ],
   "source": [
    "model.accuracy"
   ]
  },
  {
   "cell_type": "code",
   "execution_count": 9,
   "id": "b382ebaa-fb5d-46bb-a211-f3444e8e3d30",
   "metadata": {},
   "outputs": [],
   "source": [
    "model.accuracy = 'java'"
   ]
  },
  {
   "cell_type": "code",
   "execution_count": 10,
   "id": "40e517d9-594a-44fb-b1a5-f26ee4206239",
   "metadata": {},
   "outputs": [
    {
     "data": {
      "text/plain": [
       "'java'"
      ]
     },
     "execution_count": 10,
     "metadata": {},
     "output_type": "execute_result"
    }
   ],
   "source": [
    "model.accuracy"
   ]
  },
  {
   "cell_type": "code",
   "execution_count": 11,
   "id": "5379d60a-146b-4d8e-bc7e-74cfbd5e77b3",
   "metadata": {},
   "outputs": [],
   "source": [
    "class Model:\n",
    "\n",
    "    def __init__(self, y_true, y_pred):\n",
    "        self.y_true = y_true\n",
    "        self.y_pred = y_pred\n",
    "\n",
    "    @property\n",
    "    def accuracy(self):\n",
    "        print('Calculating...')\n",
    "        self._accuracy = sum([i == j\n",
    "            for i, j in zip(self.y_true, self.y_pred)]) / len(self.y_true)\n",
    "        print(f'Model accuracy: {self._accuracy:.4f}')\n",
    "\n",
    "model = Model([0, 0, 1, 0, 0, 1, 0], [0, 0, 1, 0, 0, 0, 0])"
   ]
  },
  {
   "cell_type": "code",
   "execution_count": 12,
   "id": "8b7f2482-f322-436b-a3ae-7ad00e4919bc",
   "metadata": {},
   "outputs": [
    {
     "name": "stdout",
     "output_type": "stream",
     "text": [
      "Calculating...\n",
      "Model accuracy: 0.8571\n"
     ]
    }
   ],
   "source": [
    "model.accuracy"
   ]
  },
  {
   "cell_type": "code",
   "execution_count": 13,
   "id": "15c7fa67-bded-4601-8093-00602a4b068d",
   "metadata": {},
   "outputs": [
    {
     "data": {
      "text/plain": [
       "{'y_true': [0, 0, 1, 0, 0, 1, 0],\n",
       " 'y_pred': [0, 0, 1, 0, 0, 0, 0],\n",
       " '_accuracy': 0.8571428571428571}"
      ]
     },
     "execution_count": 13,
     "metadata": {},
     "output_type": "execute_result"
    }
   ],
   "source": [
    "model.__dict__"
   ]
  },
  {
   "cell_type": "code",
   "execution_count": 14,
   "id": "57b32e25-a4b5-437c-81f0-1d07cbbe6fe0",
   "metadata": {},
   "outputs": [
    {
     "name": "stdout",
     "output_type": "stream",
     "text": [
      "Calculating...\n",
      "Model accuracy: 0.8571\n"
     ]
    }
   ],
   "source": [
    "model.accuracy"
   ]
  },
  {
   "cell_type": "code",
   "execution_count": 15,
   "id": "1d75aa48-619f-4d7d-9dd1-485abee05a74",
   "metadata": {},
   "outputs": [],
   "source": [
    "#model.accuracy = 0.5\n",
    "#AttributeError: can't set attribute"
   ]
  },
  {
   "cell_type": "code",
   "execution_count": 16,
   "id": "95e2ad79-fb11-4d78-81e7-452e4c12e8e0",
   "metadata": {},
   "outputs": [],
   "source": [
    "#del model.accuracy\n",
    "#AttributeError: can't delete attribute"
   ]
  },
  {
   "cell_type": "code",
   "execution_count": 17,
   "id": "4e57b784-76d1-4d92-9f9d-b5b0b7a294bb",
   "metadata": {},
   "outputs": [],
   "source": [
    "class Model:\n",
    "\n",
    "    def __init__(self, y_true, y_pred):\n",
    "        self.y_true = y_true\n",
    "        self.y_pred = y_pred\n",
    "        self._accuracy = None\n",
    "\n",
    "    @property\n",
    "    def accuracy(self):\n",
    "        if not self._accuracy:\n",
    "            print('Calculating...')\n",
    "            self._accuracy = sum([i == j\n",
    "                for i, j in zip(self.y_true, self.y_pred)]) / len(self.y_true)\n",
    "        print(f'Model accuracy: {self._accuracy:.4f}')\n",
    "\n",
    "model = Model([0, 0, 1, 0, 0, 1, 0], [0, 0, 1, 0, 0, 0, 0])"
   ]
  },
  {
   "cell_type": "code",
   "execution_count": 18,
   "id": "76ba4501-bc0f-435b-b250-7ee72bf3e111",
   "metadata": {},
   "outputs": [
    {
     "data": {
      "text/plain": [
       "{'y_true': [0, 0, 1, 0, 0, 1, 0],\n",
       " 'y_pred': [0, 0, 1, 0, 0, 0, 0],\n",
       " '_accuracy': None}"
      ]
     },
     "execution_count": 18,
     "metadata": {},
     "output_type": "execute_result"
    }
   ],
   "source": [
    "model.__dict__"
   ]
  },
  {
   "cell_type": "code",
   "execution_count": 19,
   "id": "ada2efa1-a0ed-4ee8-9e2d-79d5394cbffa",
   "metadata": {},
   "outputs": [
    {
     "name": "stdout",
     "output_type": "stream",
     "text": [
      "Calculating...\n",
      "Model accuracy: 0.8571\n"
     ]
    }
   ],
   "source": [
    "model.accuracy"
   ]
  },
  {
   "cell_type": "code",
   "execution_count": 20,
   "id": "8b3f7cc0-ce4e-49c8-9784-386204e2dfd5",
   "metadata": {},
   "outputs": [
    {
     "data": {
      "text/plain": [
       "{'y_true': [0, 0, 1, 0, 0, 1, 0],\n",
       " 'y_pred': [0, 0, 1, 0, 0, 0, 0],\n",
       " '_accuracy': 0.8571428571428571}"
      ]
     },
     "execution_count": 20,
     "metadata": {},
     "output_type": "execute_result"
    }
   ],
   "source": [
    "model.__dict__"
   ]
  },
  {
   "cell_type": "code",
   "execution_count": 21,
   "id": "08879434-8389-4b2d-9d94-7939675b2386",
   "metadata": {},
   "outputs": [
    {
     "name": "stdout",
     "output_type": "stream",
     "text": [
      "Model accuracy: 0.8571\n"
     ]
    }
   ],
   "source": [
    "model.accuracy"
   ]
  },
  {
   "cell_type": "code",
   "execution_count": 22,
   "id": "a71e7d38-c594-4317-8c70-9f8c213b026d",
   "metadata": {},
   "outputs": [],
   "source": [
    "#model.accuracy = 0.6\n",
    "#AttributeError: can't set attribute"
   ]
  },
  {
   "cell_type": "code",
   "execution_count": 23,
   "id": "80eda1bd-d6e2-4b10-9b76-75ac21810ec7",
   "metadata": {},
   "outputs": [],
   "source": [
    "#del model.accuracy\n",
    "#AttributeError: can't delete attribute"
   ]
  },
  {
   "cell_type": "code",
   "execution_count": 24,
   "id": "51166cfe-0acc-4bd2-9f48-61a891497ddf",
   "metadata": {},
   "outputs": [
    {
     "data": {
      "text/plain": [
       "[0, 0, 1, 0, 0, 1, 0]"
      ]
     },
     "execution_count": 24,
     "metadata": {},
     "output_type": "execute_result"
    }
   ],
   "source": [
    "model.y_true"
   ]
  },
  {
   "cell_type": "code",
   "execution_count": 25,
   "id": "c95b0271-3564-4f1f-8ebc-2a84f30a87c3",
   "metadata": {},
   "outputs": [],
   "source": [
    "model.y_true = [0, 0, 1, 0, 0, 1, 1]"
   ]
  },
  {
   "cell_type": "code",
   "execution_count": 26,
   "id": "965cc07b-e44a-4faa-adc9-6e5f6ed957a5",
   "metadata": {},
   "outputs": [
    {
     "name": "stdout",
     "output_type": "stream",
     "text": [
      "Model accuracy: 0.8571\n"
     ]
    }
   ],
   "source": [
    "model.accuracy"
   ]
  },
  {
   "cell_type": "code",
   "execution_count": 27,
   "id": "837c2025-81fb-436d-8fe1-498a0c7607cb",
   "metadata": {},
   "outputs": [],
   "source": [
    "class Model:\n",
    "\n",
    "    def __init__(self, y_true, y_pred):\n",
    "        self._y_true = y_true\n",
    "        self._y_pred = y_pred\n",
    "        self._accuracy = None\n",
    "\n",
    "    @property\n",
    "    def y_true(self):\n",
    "        return self._y_true\n",
    "\n",
    "    @y_true.setter\n",
    "    def y_true(self, value):\n",
    "        self._y_true = value\n",
    "        self._accuracy = None\n",
    "\n",
    "    @property\n",
    "    def y_pred(self):\n",
    "        return self._y_pred\n",
    "\n",
    "    @y_pred.setter\n",
    "    def y_pred(self, value):\n",
    "        self._y_pred = value\n",
    "        self._accuracy = None        \n",
    "\n",
    "    @property\n",
    "    def accuracy(self):\n",
    "        if not self._accuracy:\n",
    "            print('Calculating...')\n",
    "            self._accuracy = sum([i == j\n",
    "                for i, j in zip(self.y_true, self.y_pred)]) / len(self.y_true)\n",
    "        print(f'Model accuracy: {self._accuracy:.4f}')\n",
    "\n",
    "model = Model([0, 0, 1, 0, 0, 1, 0], [0, 0, 1, 0, 0, 0, 0])"
   ]
  },
  {
   "cell_type": "code",
   "execution_count": 28,
   "id": "d753bf44-ea40-406d-ab14-628ba121cb9e",
   "metadata": {},
   "outputs": [
    {
     "name": "stdout",
     "output_type": "stream",
     "text": [
      "Calculating...\n",
      "Model accuracy: 0.8571\n"
     ]
    }
   ],
   "source": [
    "model.accuracy"
   ]
  },
  {
   "cell_type": "code",
   "execution_count": 29,
   "id": "385a9900-8336-4d3e-abde-30af2960886e",
   "metadata": {},
   "outputs": [
    {
     "name": "stdout",
     "output_type": "stream",
     "text": [
      "Model accuracy: 0.8571\n"
     ]
    }
   ],
   "source": [
    "model.accuracy"
   ]
  },
  {
   "cell_type": "code",
   "execution_count": 30,
   "id": "d14161bc-bf3e-4684-8a12-55afbd3568db",
   "metadata": {},
   "outputs": [
    {
     "data": {
      "text/plain": [
       "[0, 0, 1, 0, 0, 1, 0]"
      ]
     },
     "execution_count": 30,
     "metadata": {},
     "output_type": "execute_result"
    }
   ],
   "source": [
    "model.y_true"
   ]
  },
  {
   "cell_type": "code",
   "execution_count": 31,
   "id": "8147f11d-883a-45f9-98a4-487f32f9f42f",
   "metadata": {},
   "outputs": [],
   "source": [
    "model.y_true = [0, 0, 1, 0, 0, 1, 1]"
   ]
  },
  {
   "cell_type": "code",
   "execution_count": 32,
   "id": "13e09c1b-d699-48ce-b773-10c26b75ac38",
   "metadata": {},
   "outputs": [
    {
     "data": {
      "text/plain": [
       "{'_y_true': [0, 0, 1, 0, 0, 1, 1],\n",
       " '_y_pred': [0, 0, 1, 0, 0, 0, 0],\n",
       " '_accuracy': None}"
      ]
     },
     "execution_count": 32,
     "metadata": {},
     "output_type": "execute_result"
    }
   ],
   "source": [
    "model.__dict__"
   ]
  },
  {
   "cell_type": "code",
   "execution_count": 33,
   "id": "10f5158e-18bc-479d-91a3-cce6093c0164",
   "metadata": {},
   "outputs": [
    {
     "name": "stdout",
     "output_type": "stream",
     "text": [
      "Calculating...\n",
      "Model accuracy: 0.7143\n"
     ]
    }
   ],
   "source": [
    "model.accuracy"
   ]
  },
  {
   "cell_type": "code",
   "execution_count": 34,
   "id": "744efaa2-7fe5-46f5-8428-a6a5847cf55d",
   "metadata": {},
   "outputs": [
    {
     "data": {
      "text/plain": [
       "[0, 0, 1, 0, 0, 0, 0]"
      ]
     },
     "execution_count": 34,
     "metadata": {},
     "output_type": "execute_result"
    }
   ],
   "source": [
    "model.y_pred "
   ]
  },
  {
   "cell_type": "code",
   "execution_count": 35,
   "id": "0a8cbb12-e53b-4316-adee-8bbf3788199b",
   "metadata": {},
   "outputs": [],
   "source": [
    "model.y_pred = [0, 0, 1, 0, 0, 0, 1]"
   ]
  },
  {
   "cell_type": "code",
   "execution_count": 36,
   "id": "c5444881-532e-46e4-a954-7ef6c435070a",
   "metadata": {},
   "outputs": [
    {
     "data": {
      "text/plain": [
       "{'_y_true': [0, 0, 1, 0, 0, 1, 1],\n",
       " '_y_pred': [0, 0, 1, 0, 0, 0, 1],\n",
       " '_accuracy': None}"
      ]
     },
     "execution_count": 36,
     "metadata": {},
     "output_type": "execute_result"
    }
   ],
   "source": [
    "model.__dict__"
   ]
  },
  {
   "cell_type": "code",
   "execution_count": 37,
   "id": "2d56cfc6-cfe8-4309-b19b-4ba3c0a33520",
   "metadata": {},
   "outputs": [
    {
     "name": "stdout",
     "output_type": "stream",
     "text": [
      "Calculating...\n",
      "Model accuracy: 0.8571\n"
     ]
    }
   ],
   "source": [
    "model.accuracy"
   ]
  },
  {
   "cell_type": "code",
   "execution_count": 38,
   "id": "8469656e-e8e4-426b-b835-2234b952f61b",
   "metadata": {},
   "outputs": [
    {
     "name": "stdout",
     "output_type": "stream",
     "text": [
      "Model accuracy: 0.8571\n"
     ]
    }
   ],
   "source": [
    "model.accuracy"
   ]
  },
  {
   "cell_type": "code",
   "execution_count": 39,
   "id": "3a27a53e-6f78-4478-908f-c7908535d7f3",
   "metadata": {},
   "outputs": [],
   "source": [
    "model.y_true = 'undefined'"
   ]
  },
  {
   "cell_type": "code",
   "execution_count": 40,
   "id": "a66beb84-79be-4580-b2f1-279f656d3982",
   "metadata": {},
   "outputs": [
    {
     "name": "stdout",
     "output_type": "stream",
     "text": [
      "Calculating...\n",
      "Model accuracy: 0.0000\n"
     ]
    }
   ],
   "source": [
    "model.accuracy"
   ]
  },
  {
   "cell_type": "code",
   "execution_count": 41,
   "id": "f7ab5c33-b759-46fc-8af8-0cd4aa935723",
   "metadata": {},
   "outputs": [],
   "source": [
    "model.y_true = False"
   ]
  },
  {
   "cell_type": "code",
   "execution_count": 42,
   "id": "571fd9a5-7d70-460e-82a0-4063c10e3f4e",
   "metadata": {},
   "outputs": [],
   "source": [
    "#model.accuracy\n",
    "#TypeError: 'bool' object is not iterable"
   ]
  },
  {
   "cell_type": "code",
   "execution_count": 43,
   "id": "3ce48677-7211-4325-9ada-b9a6916fbb25",
   "metadata": {},
   "outputs": [],
   "source": [
    "class Model:\n",
    "\n",
    "    def __init__(self, y_true, y_pred):\n",
    "\n",
    "        if not isinstance(y_true, (list, tuple)):\n",
    "            raise TypeError(f'The y_true object must be of type list or tuple. '\n",
    "                f'Not {type(y_true).__name__}.')\n",
    "            \n",
    "        if not isinstance(y_pred, (list, tuple)):\n",
    "            raise TypeError(f'The y_pred object must be of type list or tuple. '\n",
    "                f'Not {type(y_pred).__name__}.')   \n",
    "\n",
    "        if not len(y_true) == len(y_pred):\n",
    "            raise ValueError('The y_true and y_pred objects must be of same '\n",
    "                'length.')         \n",
    "\n",
    "        self._y_true = y_true\n",
    "        self._y_pred = y_pred\n",
    "        self._accuracy = None\n",
    "\n",
    "    @property\n",
    "    def y_true(self):\n",
    "        return self._y_true\n",
    "\n",
    "    @y_true.setter\n",
    "    def y_true(self, value):\n",
    "        self._y_true = value\n",
    "        self._accuracy = None\n",
    "\n",
    "    @property\n",
    "    def y_pred(self):\n",
    "        return self._y_pred\n",
    "\n",
    "    @y_pred.setter\n",
    "    def y_pred(self, value):\n",
    "        self._y_pred = value\n",
    "        self._accuracy = None        \n",
    "\n",
    "    @property\n",
    "    def accuracy(self):\n",
    "        if not self._accuracy:\n",
    "            print('Calculating...')\n",
    "            self._accuracy = sum([i == j\n",
    "                for i, j in zip(self.y_true, self.y_pred)]) / len(self.y_true)\n",
    "        print(f'Model accuracy: {self._accuracy:.4f}')\n",
    "\n",
    "model = Model([0, 0, 1, 0, 0, 1, 0], [0, 0, 1, 0, 0, 0, 0])"
   ]
  },
  {
   "cell_type": "code",
   "execution_count": 44,
   "id": "648adcc8-1582-45e5-a1b3-725858ccc1de",
   "metadata": {},
   "outputs": [],
   "source": [
    "#model = Model([0, 1], 'var2')\n",
    "#TypeError: The y_true object must be of type list or tuple. Not str.\n",
    "#model = Model([0, 1], False)\n",
    "#TypeError: The y_pred object must be of type list or tuple. Not bool.\n",
    "#model = Model([0, 1], [0, 1, 1])\n",
    "#ValueError: The y_true and y_pred objects must be of same length."
   ]
  },
  {
   "cell_type": "code",
   "execution_count": 45,
   "id": "e99630fa-68c1-4fde-be26-3ea21f5a4b46",
   "metadata": {},
   "outputs": [],
   "source": [
    "model = Model([0, 1], [0, 1])"
   ]
  },
  {
   "cell_type": "code",
   "execution_count": 46,
   "id": "7885497d-b924-4b78-9573-de76b503d3a4",
   "metadata": {},
   "outputs": [],
   "source": [
    "class Model:\n",
    "\n",
    "    def __init__(self, y_true, y_pred):\n",
    "\n",
    "        if not isinstance(y_true, (list, tuple)):\n",
    "            raise TypeError(f'The y_true object must be of type list or tuple. '\n",
    "                f'Not {type(y_true).__name__}.')\n",
    "            \n",
    "        if not isinstance(y_pred, (list, tuple)):\n",
    "            raise TypeError(f'The y_pred object must be of type list or tuple. '\n",
    "                f'Not {type(y_pred).__name__}.')   \n",
    "\n",
    "        if not len(y_true) == len(y_pred):\n",
    "            raise ValueError('The y_true and y_pred objects must be of same '\n",
    "                'length.')         \n",
    "\n",
    "        self._y_true = y_true\n",
    "        self._y_pred = y_pred\n",
    "        self._accuracy = None\n",
    "\n",
    "    @property\n",
    "    def y_true(self):\n",
    "        return self._y_true\n",
    "\n",
    "    @y_true.setter\n",
    "    def y_true(self, value):\n",
    "        if isinstance(value, (list, tuple)):\n",
    "            if len(value) == len(self._y_pred):\n",
    "                self._y_true = value\n",
    "            else:\n",
    "                raise ValueError(f'The y_true object must be of length '\n",
    "                    f'{len(self._y_pred)}.')\n",
    "        else:\n",
    "            raise TypeError(f'The value must be a list or tuple object. '\n",
    "                f'Not {type(value).__name__}.')\n",
    "        self._accuracy = None\n",
    "\n",
    "    @property\n",
    "    def y_pred(self):\n",
    "        return self._y_pred\n",
    "\n",
    "    @y_pred.setter\n",
    "    def y_pred(self, value):\n",
    "        if isinstance(value, (list, tuple)):\n",
    "            if len(value) == len(self._y_pred):\n",
    "                self._y_pred = value\n",
    "            else:\n",
    "                raise ValueError(f'The y_pred object must be of length '\n",
    "                    f'{len(self._y_pred)}.')\n",
    "        else:\n",
    "            raise TypeError(f'The value must be a list or tuple object. '\n",
    "                f'Not {type(value).__name__}.')\n",
    "        self._accuracy = None       \n",
    "\n",
    "    @property\n",
    "    def accuracy(self):\n",
    "        if not self._accuracy:\n",
    "            print('Calculating...')\n",
    "            self._accuracy = sum([i == j\n",
    "                for i, j in zip(self.y_true, self.y_pred)]) / len(self.y_true)\n",
    "        print(f'Model accuracy: {self._accuracy:.4f}')\n",
    "\n",
    "model = Model([0, 0, 1, 0, 0, 1, 0], [0, 0, 1, 0, 0, 0, 0])"
   ]
  },
  {
   "cell_type": "code",
   "execution_count": 47,
   "id": "1be3da28-46ec-441e-9332-31276f724111",
   "metadata": {},
   "outputs": [
    {
     "data": {
      "text/plain": [
       "{'_y_true': [0, 0, 1, 0, 0, 1, 0],\n",
       " '_y_pred': [0, 0, 1, 0, 0, 0, 0],\n",
       " '_accuracy': None}"
      ]
     },
     "execution_count": 47,
     "metadata": {},
     "output_type": "execute_result"
    }
   ],
   "source": [
    "model.__dict__"
   ]
  },
  {
   "cell_type": "code",
   "execution_count": 48,
   "id": "7d578379-848d-4990-8e9e-ab3131b99758",
   "metadata": {},
   "outputs": [
    {
     "name": "stdout",
     "output_type": "stream",
     "text": [
      "Calculating...\n",
      "Model accuracy: 0.8571\n"
     ]
    }
   ],
   "source": [
    "model.accuracy"
   ]
  },
  {
   "cell_type": "code",
   "execution_count": 49,
   "id": "001d2902-bcb7-4fc4-a3ef-5b594528927a",
   "metadata": {},
   "outputs": [
    {
     "data": {
      "text/plain": [
       "{'_y_true': [0, 0, 1, 0, 0, 1, 0],\n",
       " '_y_pred': [0, 0, 1, 0, 0, 0, 0],\n",
       " '_accuracy': 0.8571428571428571}"
      ]
     },
     "execution_count": 49,
     "metadata": {},
     "output_type": "execute_result"
    }
   ],
   "source": [
    "model.__dict__"
   ]
  },
  {
   "cell_type": "code",
   "execution_count": 50,
   "id": "c0394c7a-0218-43d9-aa76-b622fbc2b044",
   "metadata": {},
   "outputs": [
    {
     "data": {
      "text/plain": [
       "[0, 0, 1, 0, 0, 1, 0]"
      ]
     },
     "execution_count": 50,
     "metadata": {},
     "output_type": "execute_result"
    }
   ],
   "source": [
    "model.y_true"
   ]
  },
  {
   "cell_type": "code",
   "execution_count": 51,
   "id": "997492f6-ae0c-4cc6-9329-7fc05b5cf84a",
   "metadata": {},
   "outputs": [],
   "source": [
    "model.y_true = [0, 0, 1, 0, 0, 1, 1]"
   ]
  },
  {
   "cell_type": "code",
   "execution_count": 52,
   "id": "64c2bd5f-2067-420b-b793-acfe383293d0",
   "metadata": {},
   "outputs": [
    {
     "name": "stdout",
     "output_type": "stream",
     "text": [
      "Calculating...\n",
      "Model accuracy: 0.7143\n"
     ]
    }
   ],
   "source": [
    "model.accuracy"
   ]
  },
  {
   "cell_type": "code",
   "execution_count": 53,
   "id": "914942a2-b212-4d57-896c-6ba6626a2f61",
   "metadata": {},
   "outputs": [],
   "source": [
    "#model.y_true = 'var1'\n",
    "#TypeError: The value must be a list or tuple object. Not str."
   ]
  },
  {
   "cell_type": "code",
   "execution_count": 54,
   "id": "58e2da11-82a4-4725-9830-22bfd45a4321",
   "metadata": {},
   "outputs": [],
   "source": [
    "#model.y_true = None\n",
    "#TypeError: The value must be a list or tuple object. Not NoneType."
   ]
  },
  {
   "cell_type": "code",
   "execution_count": 55,
   "id": "5e8a02fa-f217-4e9c-a65a-f3a26dbc762a",
   "metadata": {},
   "outputs": [],
   "source": [
    "#model.y_true = [0, 0, 1]\n",
    "#ValueError: The y_true object must be of length 7.\n",
    "#model.y_pred = [0, 0, 1]\n",
    "#ValueError: The y_pred object must be of length 7."
   ]
  },
  {
   "cell_type": "code",
   "execution_count": 56,
   "id": "036fd1ed-6362-44d6-bf7f-2f6f308068f7",
   "metadata": {},
   "outputs": [
    {
     "data": {
      "text/plain": [
       "[0, 0, 1, 0, 0, 0, 0]"
      ]
     },
     "execution_count": 56,
     "metadata": {},
     "output_type": "execute_result"
    }
   ],
   "source": [
    "model.y_pred"
   ]
  },
  {
   "cell_type": "code",
   "execution_count": 57,
   "id": "0bbcb854-2f66-4bd6-bf27-21db838135e8",
   "metadata": {},
   "outputs": [],
   "source": [
    "model.y_pred = (0, 0, 1, 0, 0, 0, 1)"
   ]
  },
  {
   "cell_type": "code",
   "execution_count": 58,
   "id": "0dc520fd-0314-487b-9e32-13bc50b430dc",
   "metadata": {},
   "outputs": [
    {
     "name": "stdout",
     "output_type": "stream",
     "text": [
      "Calculating...\n",
      "Model accuracy: 0.8571\n"
     ]
    }
   ],
   "source": [
    "model.accuracy"
   ]
  },
  {
   "cell_type": "code",
   "execution_count": 59,
   "id": "b3a17db8-cdac-4cc0-94ce-55f40cf15af6",
   "metadata": {},
   "outputs": [],
   "source": [
    "#del model.y_true\n",
    "#AttributeError: can't delete attribute"
   ]
  },
  {
   "cell_type": "code",
   "execution_count": 60,
   "id": "8a3b9110-0915-496f-8610-d0107f15c213",
   "metadata": {},
   "outputs": [],
   "source": [
    "class Model:\n",
    "\n",
    "    def __init__(self, y_true, y_pred):\n",
    "\n",
    "        if not isinstance(y_true, (list, tuple)):\n",
    "            raise TypeError(f'The y_true object must be of type list or tuple. '\n",
    "                f'Not {type(y_true).__name__}.')\n",
    "            \n",
    "        if not isinstance(y_pred, (list, tuple)):\n",
    "            raise TypeError(f'The y_pred object must be of type list or tuple. '\n",
    "                f'Not {type(y_pred).__name__}.')   \n",
    "\n",
    "        if not len(y_true) == len(y_pred):\n",
    "            raise ValueError('The y_true and y_pred objects must be of same '\n",
    "                'length.')         \n",
    "\n",
    "        self._y_true = y_true\n",
    "        self._y_pred = y_pred\n",
    "        self._accuracy = None\n",
    "\n",
    "    @property\n",
    "    def y_true(self):\n",
    "        return self._y_true\n",
    "\n",
    "    @y_true.setter\n",
    "    def y_true(self, value):\n",
    "        if isinstance(value, (list, tuple)):\n",
    "            if len(value) == len(self._y_pred):\n",
    "                self._y_true = value\n",
    "            else:\n",
    "                raise ValueError(f'The y_true object must be of length '\n",
    "                    f'{len(self._y_pred)}.')\n",
    "        else:\n",
    "            raise TypeError(f'The value must be a list or tuple object. '\n",
    "                f'Not {type(value).__name__}.')\n",
    "        self._accuracy = None \n",
    "\n",
    "    @y_true.deleter\n",
    "    def y_true(self):\n",
    "        print('deleting...')\n",
    "        del self._y_true\n",
    "        \n",
    "    @property\n",
    "    def y_pred(self):\n",
    "        return self._y_pred\n",
    "\n",
    "    @y_pred.setter\n",
    "    def y_pred(self, value):\n",
    "        if isinstance(value, (list, tuple)):\n",
    "            if len(value) == len(self._y_pred):\n",
    "                self._y_pred = value\n",
    "            else:\n",
    "                raise ValueError(f'The y_pred object must be of length '\n",
    "                    f'{len(self._y_pred)}.')\n",
    "        else:\n",
    "            raise TypeError(f'The value must be a list or tuple object. '\n",
    "                f'Not {type(value).__name__}.')\n",
    "        self._accuracy = None  \n",
    "\n",
    "    @y_pred.deleter\n",
    "    def y_pred(self):\n",
    "        print('deleting...')\n",
    "        del self._y_pred     \n",
    "\n",
    "    @property\n",
    "    def accuracy(self):\n",
    "        if not self._accuracy:\n",
    "            print('Calculating...')\n",
    "            self._accuracy = sum([i == j\n",
    "                for i, j in zip(self.y_true, self.y_pred)]) / len(self.y_true)\n",
    "        print(f'Model accuracy: {self._accuracy:.4f}')\n",
    "\n",
    "model = Model([0, 0, 1, 0, 0, 1, 0], [0, 0, 1, 0, 0, 0, 0])"
   ]
  },
  {
   "cell_type": "code",
   "execution_count": 61,
   "id": "878fc3a7-994a-4ce6-8d0a-c2a42515bf30",
   "metadata": {},
   "outputs": [
    {
     "data": {
      "text/plain": [
       "[0, 0, 1, 0, 0, 1, 0]"
      ]
     },
     "execution_count": 61,
     "metadata": {},
     "output_type": "execute_result"
    }
   ],
   "source": [
    "model.y_true"
   ]
  },
  {
   "cell_type": "code",
   "execution_count": 62,
   "id": "249dd05d-be19-416d-b3c9-297e9b10145b",
   "metadata": {},
   "outputs": [
    {
     "name": "stdout",
     "output_type": "stream",
     "text": [
      "deleting...\n"
     ]
    }
   ],
   "source": [
    "del model.y_true"
   ]
  },
  {
   "cell_type": "code",
   "execution_count": 63,
   "id": "1eaedff8-51fd-4d55-a9ea-140b19abf86e",
   "metadata": {},
   "outputs": [
    {
     "data": {
      "text/plain": [
       "{'_y_pred': [0, 0, 1, 0, 0, 0, 0], '_accuracy': None}"
      ]
     },
     "execution_count": 63,
     "metadata": {},
     "output_type": "execute_result"
    }
   ],
   "source": [
    "model.__dict__"
   ]
  },
  {
   "cell_type": "code",
   "execution_count": 64,
   "id": "58aca511-454a-4ad4-9203-5eebdde393a6",
   "metadata": {},
   "outputs": [],
   "source": [
    "#model.y_true = 'var1'\n",
    "#TypeError: The value must be a list or tuple object. Not str."
   ]
  },
  {
   "cell_type": "code",
   "execution_count": 65,
   "id": "ec93f85d-aeb3-45fc-b330-a6af3a5a8521",
   "metadata": {},
   "outputs": [],
   "source": [
    "model.y_true = [0, 0, 1, 0, 0, 1, 0]"
   ]
  },
  {
   "cell_type": "code",
   "execution_count": 66,
   "id": "d5ae974d-b21f-46f9-9c81-defef529ed68",
   "metadata": {},
   "outputs": [
    {
     "data": {
      "text/plain": [
       "{'_y_pred': [0, 0, 1, 0, 0, 0, 0],\n",
       " '_accuracy': None,\n",
       " '_y_true': [0, 0, 1, 0, 0, 1, 0]}"
      ]
     },
     "execution_count": 66,
     "metadata": {},
     "output_type": "execute_result"
    }
   ],
   "source": [
    "model.__dict__"
   ]
  },
  {
   "cell_type": "code",
   "execution_count": 67,
   "id": "6452895b-ef83-4852-9acb-c8a808366ae1",
   "metadata": {},
   "outputs": [
    {
     "name": "stdout",
     "output_type": "stream",
     "text": [
      "Calculating...\n",
      "Model accuracy: 0.8571\n"
     ]
    }
   ],
   "source": [
    "model.accuracy"
   ]
  },
  {
   "cell_type": "code",
   "execution_count": 68,
   "id": "dc4d3e7a-5234-4ec8-82d2-de421bbf6095",
   "metadata": {
    "tags": []
   },
   "outputs": [],
   "source": [
    "class Model:\n",
    "\n",
    "    def __init__(self, y_true, y_pred): \n",
    "\n",
    "        Model._validate_input(y_true, 'y_true')\n",
    "        Model._validate_input(y_pred, 'y_pred')\n",
    "\n",
    "        if not len(y_true) == len(y_pred):\n",
    "            raise ValueError('The y_true and y_pred objects must be of same '\n",
    "                'length.')         \n",
    "\n",
    "        self._y_true = y_true\n",
    "        self._y_pred = y_pred\n",
    "        self._accuracy = None\n",
    "\n",
    "    def _validate_input(iters, var_name):\n",
    "        if not isinstance(iters, (list, tuple)):\n",
    "            raise TypeError(f'The {var_name} object must be of type list or '\n",
    "                f'tuple. Not {type(iters).__name__}.')   \n",
    "\n",
    "    def _validate_value(self, value, var_name):\n",
    "        if not isinstance(value, (list, tuple)):\n",
    "            raise TypeError(f'The value must be a list or tuple object. '\n",
    "                f'Not {type(value).__name__}.')\n",
    "        \n",
    "        mapping = {'y_true': '_y_pred', 'y_pred': '_y_true'}\n",
    "\n",
    "        if not len(value) == len(getattr(self, mapping[var_name])):\n",
    "            raise ValueError(f'The {var_name} object must be of length '\n",
    "                f'{len(getattr(self, mapping[var_name]))}.')               \n",
    "\n",
    "    @property\n",
    "    def y_true(self):\n",
    "        return self._y_true\n",
    "\n",
    "    @y_true.setter\n",
    "    def y_true(self, value):\n",
    "\n",
    "        Model._validate_value(self, value, 'y_true')                                  \n",
    "        \n",
    "        self._y_pred = value\n",
    "        self._accuracy = None \n",
    "\n",
    "    @y_true.deleter\n",
    "    def y_true(self):\n",
    "        print('deleting...')\n",
    "        del self._y_true\n",
    "        \n",
    "    @property\n",
    "    def y_pred(self):\n",
    "        return self._y_pred\n",
    "\n",
    "    @y_pred.setter\n",
    "    def y_pred(self, value):\n",
    "        \n",
    "        Model._validate_value(self, value, 'y_pred')                                                        \n",
    "        \n",
    "        self._y_pred = value\n",
    "        self._accuracy = None \n",
    "\n",
    "    @y_pred.deleter\n",
    "    def y_pred(self):\n",
    "        print('deleting...')\n",
    "        del self._y_pred     \n",
    "\n",
    "    @property\n",
    "    def accuracy(self):\n",
    "        if not self._accuracy:\n",
    "            print('Calculating...')\n",
    "            self._accuracy = sum([i == j\n",
    "                for i, j in zip(self.y_true, self.y_pred)]) / len(self.y_true)\n",
    "        print(f'Model accuracy: {self._accuracy:.4f}')\n",
    "\n",
    "model = Model([0, 0, 1, 0, 0, 1, 0], [0, 0, 1, 0, 0, 0, 0])"
   ]
  },
  {
   "cell_type": "code",
   "execution_count": 69,
   "id": "5f970f67-27dd-4999-b8d6-a84a58676631",
   "metadata": {},
   "outputs": [
    {
     "name": "stdout",
     "output_type": "stream",
     "text": [
      "Calculating...\n",
      "Model accuracy: 0.8571\n"
     ]
    }
   ],
   "source": [
    "model.accuracy"
   ]
  },
  {
   "cell_type": "code",
   "execution_count": 70,
   "id": "a9d0233d-3b62-4ca8-b94e-8958b58b175e",
   "metadata": {},
   "outputs": [],
   "source": [
    "#model = Model('var1', [0, 0, 1, 0, 0, 0, 0])\n",
    "#TypeError: The y_true object must be of type list or tuple. Not str.\n",
    "#model = Model([0, 0, 1, 0, 0, 1, 0], 'var1')\n",
    "#TypeError: The y_pred object must be of type list or tuple. Not str.\n",
    "#model = Model([0, 0, 1, 0, 0, 1, 0], [0, 0, 1, 0, 0, 0, 0, 1])\n",
    "#ValueError: The y_true and y_pred objects must be of same length."
   ]
  },
  {
   "cell_type": "code",
   "execution_count": 71,
   "id": "0bffb8bc-c2ed-4010-94bf-ea5093e64194",
   "metadata": {},
   "outputs": [
    {
     "data": {
      "text/plain": [
       "[0, 0, 1, 0, 0, 1, 0]"
      ]
     },
     "execution_count": 71,
     "metadata": {},
     "output_type": "execute_result"
    }
   ],
   "source": [
    "model.y_true"
   ]
  },
  {
   "cell_type": "code",
   "execution_count": 72,
   "id": "2af04b2e-9ec9-47bd-bc63-6234c635cc09",
   "metadata": {},
   "outputs": [],
   "source": [
    "model.y_true = [0, 0, 1, 0, 0, 1, 1]"
   ]
  },
  {
   "cell_type": "code",
   "execution_count": 73,
   "id": "b7e6ea0a-cc65-42b4-826f-868a66f6fb2b",
   "metadata": {},
   "outputs": [
    {
     "name": "stdout",
     "output_type": "stream",
     "text": [
      "Calculating...\n",
      "Model accuracy: 0.8571\n"
     ]
    }
   ],
   "source": [
    "model.accuracy"
   ]
  },
  {
   "cell_type": "code",
   "execution_count": 74,
   "id": "1a501884-ff56-450a-b6ca-29741351dc2a",
   "metadata": {},
   "outputs": [],
   "source": [
    "#model.y_true = False\n",
    "#TypeError: The value must be a list or tuple object. Not bool.\n",
    "#model.y_pred = False\n",
    "#TypeError: The value must be a list or tuple object. Not bool."
   ]
  },
  {
   "cell_type": "code",
   "execution_count": 75,
   "id": "9c71427f-23fa-4a1e-bb3b-1376105ca312",
   "metadata": {},
   "outputs": [
    {
     "data": {
      "text/plain": [
       "[0, 0, 1, 0, 0, 1, 1]"
      ]
     },
     "execution_count": 75,
     "metadata": {},
     "output_type": "execute_result"
    }
   ],
   "source": [
    "model.y_pred"
   ]
  },
  {
   "cell_type": "code",
   "execution_count": 76,
   "id": "fd9f9991-04e7-4fe3-a31f-96e23514c21d",
   "metadata": {},
   "outputs": [],
   "source": [
    "model.y_pred = [0, 0, 1, 0, 0, 0, 0]"
   ]
  },
  {
   "cell_type": "code",
   "execution_count": 77,
   "id": "82e3fbda-0f41-48d1-a1dc-22b07945568b",
   "metadata": {},
   "outputs": [
    {
     "name": "stdout",
     "output_type": "stream",
     "text": [
      "Calculating...\n",
      "Model accuracy: 0.8571\n"
     ]
    }
   ],
   "source": [
    "model.accuracy"
   ]
  },
  {
   "cell_type": "markdown",
   "id": "d7f32f8f-747c-4be0-9cde-7197786c705a",
   "metadata": {},
   "source": [
    "# task1\n",
    "## Implement a class named Circle. Add a property named area (read-only) to the class, which will calculate the area of a circle with a given radius radius. The area property is to be calculated only on the first read or after modifying the radius attribute. For this purpose, you should also modify the way the radius attribute value is set in the __init__() method. Make sure that after modifying the radius attribute, the value of the area attribute is recalculated.\n",
    "\n",
    "- Then create an instance of the class named circle and radius 3. In the response, display the value of the area attribute to approximately four decimal places.\n",
    "\n",
    " - The expected result:\n",
    "\n",
    "- 28.2743"
   ]
  },
  {
   "cell_type": "code",
   "execution_count": 78,
   "id": "e40e567d-8566-483f-b59a-072fd196b277",
   "metadata": {},
   "outputs": [
    {
     "name": "stdout",
     "output_type": "stream",
     "text": [
      "28.2743\n"
     ]
    }
   ],
   "source": [
    "import math\n",
    "\n",
    "class Circle:\n",
    "\n",
    "    def __init__(self, radius):\n",
    "        self.radius = radius\n",
    "        self._area = None\n",
    "\n",
    "    @property\n",
    "    def radius(self):\n",
    "        return self._radius\n",
    "\n",
    "    @radius.setter\n",
    "    def radius(self, value):\n",
    "        self._radius = value\n",
    "        self._area = None\n",
    "        \n",
    "    @property      \n",
    "    def area(self):\n",
    "        if self._area is None:\n",
    "            self._area = math.pi * self._radius **2\n",
    "        return self._area\n",
    "    \n",
    "    \n",
    "circle = Circle(3)\n",
    "print(f'{circle.area:.4f}')"
   ]
  }
 ],
 "metadata": {
  "kernelspec": {
   "display_name": "Python 3 (ipykernel)",
   "language": "python",
   "name": "python3"
  },
  "language_info": {
   "codemirror_mode": {
    "name": "ipython",
    "version": 3
   },
   "file_extension": ".py",
   "mimetype": "text/x-python",
   "name": "python",
   "nbconvert_exporter": "python",
   "pygments_lexer": "ipython3",
   "version": "3.9.7"
  }
 },
 "nbformat": 4,
 "nbformat_minor": 5
}
