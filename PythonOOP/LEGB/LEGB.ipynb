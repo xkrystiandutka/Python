{
 "cells": [
  {
   "cell_type": "markdown",
   "id": "3562f01b-411f-4af9-95f8-fe9609ce89b3",
   "metadata": {},
   "source": [
    "## LEGB rule"
   ]
  },
  {
   "cell_type": "code",
   "execution_count": 2,
   "id": "0cbc29af-df7f-475d-bdd2-2779fc69bd85",
   "metadata": {},
   "outputs": [],
   "source": [
    "def sampleFunction():\n",
    "    var1 = 'Python'\n",
    "    print(f'Zmienna var1: {var1}')"
   ]
  },
  {
   "cell_type": "code",
   "execution_count": 4,
   "id": "0ffb8a2e-3e84-46c0-8248-57f257ee6cf8",
   "metadata": {},
   "outputs": [
    {
     "name": "stdout",
     "output_type": "stream",
     "text": [
      "Zmienna var1: Python\n"
     ]
    }
   ],
   "source": [
    "sampleFunction()"
   ]
  },
  {
   "cell_type": "code",
   "execution_count": 23,
   "id": "6f202795-9806-482d-bbaa-d406d73c69e3",
   "metadata": {},
   "outputs": [],
   "source": [
    "#var1"
   ]
  },
  {
   "cell_type": "code",
   "execution_count": 8,
   "id": "077d0d19-a93d-42f9-97db-dc4539132e0c",
   "metadata": {},
   "outputs": [],
   "source": [
    "def sampleFunction2(var1):\n",
    "    var2 = var1 + ' 3.9'\n",
    "    print(f'Zmienna var1: {var1}')\n",
    "    print(f'Zmienna var2: {var2}')"
   ]
  },
  {
   "cell_type": "code",
   "execution_count": 9,
   "id": "305f87b9-be93-4c74-9019-0b6f971c2fe0",
   "metadata": {},
   "outputs": [
    {
     "name": "stdout",
     "output_type": "stream",
     "text": [
      "Zmienna var1: Python\n",
      "Zmienna var2: Python 3.9\n"
     ]
    }
   ],
   "source": [
    "sampleFunction2('Python')"
   ]
  },
  {
   "cell_type": "code",
   "execution_count": 10,
   "id": "1ff62901-fcc8-46a8-b17b-b2ed65d4523e",
   "metadata": {},
   "outputs": [
    {
     "name": "stdout",
     "output_type": "stream",
     "text": [
      "Zmienna var1: Version\n",
      "Zmienna var2: Version 3.9\n"
     ]
    }
   ],
   "source": [
    "sampleFunction2('Version')"
   ]
  },
  {
   "cell_type": "code",
   "execution_count": 24,
   "id": "b68cc383-a16f-45ed-84ee-05c9beeeea6d",
   "metadata": {},
   "outputs": [],
   "source": [
    "#var1"
   ]
  },
  {
   "cell_type": "code",
   "execution_count": 25,
   "id": "b0e16e34-a63e-46b8-8b2a-1bb7bbdb5cb4",
   "metadata": {},
   "outputs": [],
   "source": [
    "#var2"
   ]
  },
  {
   "cell_type": "code",
   "execution_count": 15,
   "id": "b45f5411-26c7-433a-a22b-133e423cf7d2",
   "metadata": {},
   "outputs": [],
   "source": [
    "sampleFunction = lambda word: len(word.replace(' ', ''))"
   ]
  },
  {
   "cell_type": "code",
   "execution_count": 16,
   "id": "fa30bc38-0241-4685-b6bd-fa7772795a53",
   "metadata": {},
   "outputs": [
    {
     "data": {
      "text/plain": [
       "<function __main__.<lambda>(word)>"
      ]
     },
     "execution_count": 16,
     "metadata": {},
     "output_type": "execute_result"
    }
   ],
   "source": [
    "sampleFunction"
   ]
  },
  {
   "cell_type": "code",
   "execution_count": 18,
   "id": "1a467124-8258-4703-a9d3-4e89bb4a113b",
   "metadata": {},
   "outputs": [
    {
     "data": {
      "text/plain": [
       "9"
      ]
     },
     "execution_count": 18,
     "metadata": {},
     "output_type": "execute_result"
    }
   ],
   "source": [
    "sampleFunction('Python 3.9')"
   ]
  },
  {
   "cell_type": "code",
   "execution_count": 26,
   "id": "11b34d88-7b9b-4147-8a07-ee1beec074a9",
   "metadata": {},
   "outputs": [],
   "source": [
    "#word"
   ]
  },
  {
   "cell_type": "code",
   "execution_count": 20,
   "id": "c9fbd68c-752b-4b5e-b3c4-5cc84b7af022",
   "metadata": {},
   "outputs": [
    {
     "data": {
      "text/plain": [
       "<code object <lambda> at 0x000002DBEF7DD920, file \"C:\\Users\\GrfId\\AppData\\Local\\Temp/ipykernel_10628/1210452902.py\", line 1>"
      ]
     },
     "execution_count": 20,
     "metadata": {},
     "output_type": "execute_result"
    }
   ],
   "source": [
    "sampleFunction.__code__"
   ]
  },
  {
   "cell_type": "code",
   "execution_count": 21,
   "id": "e2da4018-484d-4bbe-876c-e76e43fde5f3",
   "metadata": {},
   "outputs": [
    {
     "data": {
      "text/plain": [
       "('word',)"
      ]
     },
     "execution_count": 21,
     "metadata": {},
     "output_type": "execute_result"
    }
   ],
   "source": [
    "sampleFunction.__code__.co_varnames"
   ]
  },
  {
   "cell_type": "code",
   "execution_count": 22,
   "id": "f84e96db-6807-47aa-a00d-9b4ee3c3291e",
   "metadata": {},
   "outputs": [
    {
     "data": {
      "text/plain": [
       "1"
      ]
     },
     "execution_count": 22,
     "metadata": {},
     "output_type": "execute_result"
    }
   ],
   "source": [
    "sampleFunction.__code__.co_argcount"
   ]
  },
  {
   "cell_type": "markdown",
   "id": "5a2eceae-27d9-4e91-9571-cac744bd1b06",
   "metadata": {},
   "source": [
    "## LEGB rule - scope covering"
   ]
  },
  {
   "cell_type": "code",
   "execution_count": 37,
   "id": "9c11313a-c4ac-4a22-9a87-204e4c2c0e14",
   "metadata": {},
   "outputs": [],
   "source": [
    "def sampleFunction3():\n",
    "\n",
    "    var1 = 'Python'\n",
    "\n",
    "    def innerFunction():\n",
    "        print(f'Zmienna var1: {var1}')\n",
    "\n",
    "    innerFunction()"
   ]
  },
  {
   "cell_type": "code",
   "execution_count": 38,
   "id": "d7634cea-ecd3-4689-84a7-d0c7d49d9a61",
   "metadata": {},
   "outputs": [
    {
     "name": "stdout",
     "output_type": "stream",
     "text": [
      "Zmienna var1: Python\n"
     ]
    }
   ],
   "source": [
    "sampleFunction3()"
   ]
  },
  {
   "cell_type": "code",
   "execution_count": 46,
   "id": "f44bcfc8-adcd-4c97-92df-c76efa5ee700",
   "metadata": {},
   "outputs": [],
   "source": [
    "#innerFunction()\n",
    "#NameError: name 'innerFunction' is not defined"
   ]
  },
  {
   "cell_type": "code",
   "execution_count": 44,
   "id": "7921d41a-96a6-42bf-9d6c-e39c4034a535",
   "metadata": {},
   "outputs": [],
   "source": [
    "def sampleFunction4():\n",
    "\n",
    "    var1 = 'Python'\n",
    "\n",
    "    def innerFunction():\n",
    "        print(f'Zmienna var1: {var1}')\n",
    "        print(f'Zmienna var2: {var2}')\n",
    "\n",
    "    var2 = '3.9'\n",
    "\n",
    "    innerFunction()"
   ]
  },
  {
   "cell_type": "code",
   "execution_count": 45,
   "id": "0476b1bc-c1b5-4d20-85df-03c34c3267ed",
   "metadata": {},
   "outputs": [
    {
     "name": "stdout",
     "output_type": "stream",
     "text": [
      "Zmienna var1: Python\n",
      "Zmienna var2: 3.9\n"
     ]
    }
   ],
   "source": [
    "sampleFunction4()"
   ]
  },
  {
   "cell_type": "code",
   "execution_count": 48,
   "id": "ec54b43c-07b6-4924-84ad-a21fc5f095a9",
   "metadata": {},
   "outputs": [
    {
     "name": "stdout",
     "output_type": "stream",
     "text": [
      "Zmienna var1: Python\n",
      "Zmienna var1: Java\n",
      "Zmienna var1: Python\n"
     ]
    }
   ],
   "source": [
    "def sampleFunction5():\n",
    "\n",
    "    var1 = 'Python'\n",
    "\n",
    "    def innerFunction():\n",
    "        var1 = 'Java'\n",
    "        print(f'Zmienna var1: {var1}')\n",
    "\n",
    "    print(f'Zmienna var1: {var1}')    \n",
    "\n",
    "    innerFunction()   \n",
    "\n",
    "    print(f'Zmienna var1: {var1}')\n",
    "\n",
    "sampleFunction5()"
   ]
  },
  {
   "cell_type": "code",
   "execution_count": 49,
   "id": "8cd1164a-d38e-4e22-94bb-046601345628",
   "metadata": {},
   "outputs": [
    {
     "name": "stdout",
     "output_type": "stream",
     "text": [
      "Zmienna var1: Python\n",
      "Zmienna var1: Python 3.9\n",
      "Zmienna var1: Python\n"
     ]
    }
   ],
   "source": [
    "def sampleFunction6():\n",
    "\n",
    "    var1 = 'Python'\n",
    "\n",
    "    def innerFunction():\n",
    "        var2 = var1 + ' 3.9'\n",
    "        print(f'Zmienna var1: {var2}')\n",
    "\n",
    "    print(f'Zmienna var1: {var1}')    \n",
    "\n",
    "    innerFunction()   \n",
    "\n",
    "    print(f'Zmienna var1: {var1}')\n",
    "\n",
    "sampleFunction6()"
   ]
  },
  {
   "cell_type": "markdown",
   "id": "8549be8a-17e0-4b5d-a63e-e5c7cabe7143",
   "metadata": {},
   "source": [
    "## LEGB rule - global scope"
   ]
  },
  {
   "cell_type": "code",
   "execution_count": 50,
   "id": "7f7eaa58-9878-40dc-bd77-8d1583dda6d9",
   "metadata": {},
   "outputs": [
    {
     "data": {
      "text/plain": [
       "'__main__'"
      ]
     },
     "execution_count": 50,
     "metadata": {},
     "output_type": "execute_result"
    }
   ],
   "source": [
    "__name__"
   ]
  },
  {
   "cell_type": "code",
   "execution_count": 51,
   "id": "f423f3cf-1209-4b5b-98e6-bfd743f50b2c",
   "metadata": {},
   "outputs": [
    {
     "name": "stdout",
     "output_type": "stream",
     "text": [
      "START\n"
     ]
    }
   ],
   "source": [
    "if __name__ == '__main__':\n",
    "    print('START')"
   ]
  },
  {
   "cell_type": "code",
   "execution_count": 52,
   "id": "cdd3826c-c37b-452a-a521-18c84f9a69af",
   "metadata": {},
   "outputs": [
    {
     "name": "stdout",
     "output_type": "stream",
     "text": [
      "Help on built-in function globals in module builtins:\n",
      "\n",
      "globals()\n",
      "    Return the dictionary containing the current scope's global variables.\n",
      "    \n",
      "    NOTE: Updates to this dictionary *will* affect name lookups in the current\n",
      "    global scope and vice-versa.\n",
      "\n"
     ]
    }
   ],
   "source": [
    "help(globals)"
   ]
  },
  {
   "cell_type": "code",
   "execution_count": 54,
   "id": "757915e6-9353-45cc-88a9-1b14f28a919f",
   "metadata": {},
   "outputs": [],
   "source": [
    "#globals()"
   ]
  },
  {
   "cell_type": "code",
   "execution_count": 55,
   "id": "01860cb2-55d1-48f7-a4db-9e0ebfbe532c",
   "metadata": {},
   "outputs": [
    {
     "data": {
      "text/plain": [
       "'Automatically created module for IPython interactive environment'"
      ]
     },
     "execution_count": 55,
     "metadata": {},
     "output_type": "execute_result"
    }
   ],
   "source": [
    "__doc__"
   ]
  },
  {
   "cell_type": "code",
   "execution_count": 57,
   "id": "94318f8d-1b02-4697-ba11-86cdd33a138d",
   "metadata": {},
   "outputs": [],
   "source": [
    "var1 = 'Python'\n",
    "var2 = '3.9'\n",
    "var3 = var1 + ' ' + var2"
   ]
  },
  {
   "cell_type": "code",
   "execution_count": 64,
   "id": "6c44b8ae-8d9b-4034-9cab-18802e51c017",
   "metadata": {},
   "outputs": [],
   "source": [
    "#globals()"
   ]
  },
  {
   "cell_type": "code",
   "execution_count": 65,
   "id": "255432a5-6282-4305-b71d-aef7428af333",
   "metadata": {},
   "outputs": [
    {
     "name": "stdout",
     "output_type": "stream",
     "text": [
      "10\n"
     ]
    }
   ],
   "source": [
    "var1 = 10\n",
    "print(var1)"
   ]
  },
  {
   "cell_type": "code",
   "execution_count": 74,
   "id": "b183cf81-3a68-41c8-82d1-cd812bb39108",
   "metadata": {},
   "outputs": [
    {
     "name": "stdout",
     "output_type": "stream",
     "text": [
      "10\n"
     ]
    }
   ],
   "source": [
    "def sampleFunction7():\n",
    "    print(var1)\n",
    "\n",
    "sampleFunction7()"
   ]
  },
  {
   "cell_type": "code",
   "execution_count": 75,
   "id": "11f936b8-1d38-404c-a55c-c6e82babdd8d",
   "metadata": {},
   "outputs": [
    {
     "name": "stdout",
     "output_type": "stream",
     "text": [
      "3.9\n"
     ]
    }
   ],
   "source": [
    "def sampleFunction8():\n",
    "    var1 = '3.9'\n",
    "    print(var1)\n",
    "\n",
    "sampleFunction8()"
   ]
  },
  {
   "cell_type": "code",
   "execution_count": 77,
   "id": "e220525b-7bd2-464e-a13c-4100c74897b3",
   "metadata": {},
   "outputs": [
    {
     "name": "stdout",
     "output_type": "stream",
     "text": [
      "10\n",
      "3.9\n",
      "10\n"
     ]
    }
   ],
   "source": [
    "var1 = 10\n",
    "\n",
    "def sampleFunction9():\n",
    "    var1 = '3.9'\n",
    "    print(var1)\n",
    "\n",
    "print(var1)\n",
    "sampleFunction9()\n",
    "print(var1)"
   ]
  },
  {
   "cell_type": "code",
   "execution_count": 96,
   "id": "cef2b409-dc10-4ca3-9e6f-3732d598da69",
   "metadata": {},
   "outputs": [],
   "source": [
    "var1 = 0\n",
    "\n",
    "#def update():\n",
    "    #var1 = var1 + 1\n",
    "    #UnboundLocalError: local variable 'var1' referenced before assignment\n",
    "#update()"
   ]
  },
  {
   "cell_type": "code",
   "execution_count": 86,
   "id": "c5a2f673-6873-4892-8f8e-b776dd4f331c",
   "metadata": {},
   "outputs": [
    {
     "name": "stdout",
     "output_type": "stream",
     "text": [
      "0\n"
     ]
    }
   ],
   "source": [
    "var1 = 0\n",
    "\n",
    "def update():\n",
    "    # var1 = var1 + 1\n",
    "    print(var1)\n",
    "\n",
    "update()"
   ]
  },
  {
   "cell_type": "code",
   "execution_count": 87,
   "id": "591d6f83-9ded-4792-91a0-8892e5d64be7",
   "metadata": {},
   "outputs": [
    {
     "name": "stdout",
     "output_type": "stream",
     "text": [
      "0\n"
     ]
    }
   ],
   "source": [
    "var1 = 0\n",
    "\n",
    "def update():\n",
    "    print(var1)\n",
    "    #var1 = var1 + 1\n",
    "\n",
    "update()"
   ]
  }
 ],
 "metadata": {
  "kernelspec": {
   "display_name": "Python 3 (ipykernel)",
   "language": "python",
   "name": "python3"
  },
  "language_info": {
   "codemirror_mode": {
    "name": "ipython",
    "version": 3
   },
   "file_extension": ".py",
   "mimetype": "text/x-python",
   "name": "python",
   "nbconvert_exporter": "python",
   "pygments_lexer": "ipython3",
   "version": "3.9.7"
  }
 },
 "nbformat": 4,
 "nbformat_minor": 5
}
