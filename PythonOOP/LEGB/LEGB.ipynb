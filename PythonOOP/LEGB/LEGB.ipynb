{
 "cells": [
  {
   "cell_type": "markdown",
   "id": "3562f01b-411f-4af9-95f8-fe9609ce89b3",
   "metadata": {},
   "source": [
    "## LEGB rule"
   ]
  },
  {
   "cell_type": "code",
   "execution_count": 2,
   "id": "0cbc29af-df7f-475d-bdd2-2779fc69bd85",
   "metadata": {},
   "outputs": [],
   "source": [
    "def sampleFunction():\n",
    "    var1 = 'Python'\n",
    "    print(f'Zmienna var1: {var1}')"
   ]
  },
  {
   "cell_type": "code",
   "execution_count": 4,
   "id": "0ffb8a2e-3e84-46c0-8248-57f257ee6cf8",
   "metadata": {},
   "outputs": [
    {
     "name": "stdout",
     "output_type": "stream",
     "text": [
      "Zmienna var1: Python\n"
     ]
    }
   ],
   "source": [
    "sampleFunction()"
   ]
  },
  {
   "cell_type": "code",
   "execution_count": 5,
   "id": "6f202795-9806-482d-bbaa-d406d73c69e3",
   "metadata": {},
   "outputs": [
    {
     "ename": "NameError",
     "evalue": "name 'var1' is not defined",
     "output_type": "error",
     "traceback": [
      "\u001b[1;31m---------------------------------------------------------------------------\u001b[0m",
      "\u001b[1;31mNameError\u001b[0m                                 Traceback (most recent call last)",
      "\u001b[1;32m~\\AppData\\Local\\Temp/ipykernel_10628/2376987541.py\u001b[0m in \u001b[0;36m<module>\u001b[1;34m\u001b[0m\n\u001b[1;32m----> 1\u001b[1;33m \u001b[0mvar1\u001b[0m\u001b[1;33m\u001b[0m\u001b[1;33m\u001b[0m\u001b[0m\n\u001b[0m",
      "\u001b[1;31mNameError\u001b[0m: name 'var1' is not defined"
     ]
    }
   ],
   "source": [
    "var1"
   ]
  },
  {
   "cell_type": "code",
   "execution_count": 8,
   "id": "077d0d19-a93d-42f9-97db-dc4539132e0c",
   "metadata": {},
   "outputs": [],
   "source": [
    "def sampleFunction2(var1):\n",
    "    var2 = var1 + ' 3.9'\n",
    "    print(f'Zmienna var1: {var1}')\n",
    "    print(f'Zmienna var2: {var2}')"
   ]
  },
  {
   "cell_type": "code",
   "execution_count": 9,
   "id": "305f87b9-be93-4c74-9019-0b6f971c2fe0",
   "metadata": {},
   "outputs": [
    {
     "name": "stdout",
     "output_type": "stream",
     "text": [
      "Zmienna var1: Python\n",
      "Zmienna var2: Python 3.9\n"
     ]
    }
   ],
   "source": [
    "sampleFunction2('Python')"
   ]
  },
  {
   "cell_type": "code",
   "execution_count": 10,
   "id": "1ff62901-fcc8-46a8-b17b-b2ed65d4523e",
   "metadata": {},
   "outputs": [
    {
     "name": "stdout",
     "output_type": "stream",
     "text": [
      "Zmienna var1: Version\n",
      "Zmienna var2: Version 3.9\n"
     ]
    }
   ],
   "source": [
    "sampleFunction2('Version')"
   ]
  },
  {
   "cell_type": "code",
   "execution_count": 11,
   "id": "b68cc383-a16f-45ed-84ee-05c9beeeea6d",
   "metadata": {},
   "outputs": [
    {
     "ename": "NameError",
     "evalue": "name 'var1' is not defined",
     "output_type": "error",
     "traceback": [
      "\u001b[1;31m---------------------------------------------------------------------------\u001b[0m",
      "\u001b[1;31mNameError\u001b[0m                                 Traceback (most recent call last)",
      "\u001b[1;32m~\\AppData\\Local\\Temp/ipykernel_10628/2376987541.py\u001b[0m in \u001b[0;36m<module>\u001b[1;34m\u001b[0m\n\u001b[1;32m----> 1\u001b[1;33m \u001b[0mvar1\u001b[0m\u001b[1;33m\u001b[0m\u001b[1;33m\u001b[0m\u001b[0m\n\u001b[0m",
      "\u001b[1;31mNameError\u001b[0m: name 'var1' is not defined"
     ]
    }
   ],
   "source": [
    "var1"
   ]
  },
  {
   "cell_type": "code",
   "execution_count": 13,
   "id": "b0e16e34-a63e-46b8-8b2a-1bb7bbdb5cb4",
   "metadata": {},
   "outputs": [
    {
     "ename": "NameError",
     "evalue": "name 'var2' is not defined",
     "output_type": "error",
     "traceback": [
      "\u001b[1;31m---------------------------------------------------------------------------\u001b[0m",
      "\u001b[1;31mNameError\u001b[0m                                 Traceback (most recent call last)",
      "\u001b[1;32m~\\AppData\\Local\\Temp/ipykernel_10628/822739788.py\u001b[0m in \u001b[0;36m<module>\u001b[1;34m\u001b[0m\n\u001b[1;32m----> 1\u001b[1;33m \u001b[0mvar2\u001b[0m\u001b[1;33m\u001b[0m\u001b[1;33m\u001b[0m\u001b[0m\n\u001b[0m",
      "\u001b[1;31mNameError\u001b[0m: name 'var2' is not defined"
     ]
    }
   ],
   "source": [
    "var2"
   ]
  },
  {
   "cell_type": "code",
   "execution_count": 15,
   "id": "b45f5411-26c7-433a-a22b-133e423cf7d2",
   "metadata": {},
   "outputs": [],
   "source": [
    "sampleFunction = lambda word: len(word.replace(' ', ''))"
   ]
  },
  {
   "cell_type": "code",
   "execution_count": 16,
   "id": "fa30bc38-0241-4685-b6bd-fa7772795a53",
   "metadata": {},
   "outputs": [
    {
     "data": {
      "text/plain": [
       "<function __main__.<lambda>(word)>"
      ]
     },
     "execution_count": 16,
     "metadata": {},
     "output_type": "execute_result"
    }
   ],
   "source": [
    "sampleFunction"
   ]
  },
  {
   "cell_type": "code",
   "execution_count": 18,
   "id": "1a467124-8258-4703-a9d3-4e89bb4a113b",
   "metadata": {},
   "outputs": [
    {
     "data": {
      "text/plain": [
       "9"
      ]
     },
     "execution_count": 18,
     "metadata": {},
     "output_type": "execute_result"
    }
   ],
   "source": [
    "sampleFunction('Python 3.9')"
   ]
  },
  {
   "cell_type": "code",
   "execution_count": 19,
   "id": "11b34d88-7b9b-4147-8a07-ee1beec074a9",
   "metadata": {},
   "outputs": [
    {
     "ename": "NameError",
     "evalue": "name 'word' is not defined",
     "output_type": "error",
     "traceback": [
      "\u001b[1;31m---------------------------------------------------------------------------\u001b[0m",
      "\u001b[1;31mNameError\u001b[0m                                 Traceback (most recent call last)",
      "\u001b[1;32m~\\AppData\\Local\\Temp/ipykernel_10628/535205113.py\u001b[0m in \u001b[0;36m<module>\u001b[1;34m\u001b[0m\n\u001b[1;32m----> 1\u001b[1;33m \u001b[0mword\u001b[0m\u001b[1;33m\u001b[0m\u001b[1;33m\u001b[0m\u001b[0m\n\u001b[0m",
      "\u001b[1;31mNameError\u001b[0m: name 'word' is not defined"
     ]
    }
   ],
   "source": [
    "word"
   ]
  },
  {
   "cell_type": "code",
   "execution_count": 20,
   "id": "c9fbd68c-752b-4b5e-b3c4-5cc84b7af022",
   "metadata": {},
   "outputs": [
    {
     "data": {
      "text/plain": [
       "<code object <lambda> at 0x000002DBEF7DD920, file \"C:\\Users\\GrfId\\AppData\\Local\\Temp/ipykernel_10628/1210452902.py\", line 1>"
      ]
     },
     "execution_count": 20,
     "metadata": {},
     "output_type": "execute_result"
    }
   ],
   "source": [
    "sampleFunction.__code__"
   ]
  },
  {
   "cell_type": "code",
   "execution_count": 21,
   "id": "e2da4018-484d-4bbe-876c-e76e43fde5f3",
   "metadata": {},
   "outputs": [
    {
     "data": {
      "text/plain": [
       "('word',)"
      ]
     },
     "execution_count": 21,
     "metadata": {},
     "output_type": "execute_result"
    }
   ],
   "source": [
    "sampleFunction.__code__.co_varnames"
   ]
  },
  {
   "cell_type": "code",
   "execution_count": 22,
   "id": "f84e96db-6807-47aa-a00d-9b4ee3c3291e",
   "metadata": {},
   "outputs": [
    {
     "data": {
      "text/plain": [
       "1"
      ]
     },
     "execution_count": 22,
     "metadata": {},
     "output_type": "execute_result"
    }
   ],
   "source": [
    "sampleFunction.__code__.co_argcount"
   ]
  },
  {
   "cell_type": "code",
   "execution_count": null,
   "id": "3fa976d1-9da8-4425-bc76-852b5f45870f",
   "metadata": {},
   "outputs": [],
   "source": []
  }
 ],
 "metadata": {
  "kernelspec": {
   "display_name": "Python 3 (ipykernel)",
   "language": "python",
   "name": "python3"
  },
  "language_info": {
   "codemirror_mode": {
    "name": "ipython",
    "version": 3
   },
   "file_extension": ".py",
   "mimetype": "text/x-python",
   "name": "python",
   "nbconvert_exporter": "python",
   "pygments_lexer": "ipython3",
   "version": "3.9.7"
  }
 },
 "nbformat": 4,
 "nbformat_minor": 5
}
