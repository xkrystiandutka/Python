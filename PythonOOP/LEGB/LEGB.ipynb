{
 "cells": [
  {
   "cell_type": "markdown",
   "id": "3562f01b-411f-4af9-95f8-fe9609ce89b3",
   "metadata": {},
   "source": [
    "## LEGB rule\n",
    "### The Python scope concept follows the LEGB (Local, Enclosing, Global and built-in) rule. \n"
   ]
  },
  {
   "cell_type": "code",
   "execution_count": 2,
   "id": "0cbc29af-df7f-475d-bdd2-2779fc69bd85",
   "metadata": {},
   "outputs": [],
   "source": [
    "def sampleFunction():\n",
    "    var1 = 'Python'\n",
    "    print(f'Zmienna var1: {var1}')"
   ]
  },
  {
   "cell_type": "code",
   "execution_count": 4,
   "id": "0ffb8a2e-3e84-46c0-8248-57f257ee6cf8",
   "metadata": {},
   "outputs": [
    {
     "name": "stdout",
     "output_type": "stream",
     "text": [
      "Zmienna var1: Python\n"
     ]
    }
   ],
   "source": [
    "sampleFunction()"
   ]
  },
  {
   "cell_type": "code",
   "execution_count": 23,
   "id": "6f202795-9806-482d-bbaa-d406d73c69e3",
   "metadata": {},
   "outputs": [],
   "source": [
    "#var1"
   ]
  },
  {
   "cell_type": "code",
   "execution_count": 8,
   "id": "077d0d19-a93d-42f9-97db-dc4539132e0c",
   "metadata": {},
   "outputs": [],
   "source": [
    "def sampleFunction2(var1):\n",
    "    var2 = var1 + ' 3.9'\n",
    "    print(f'Zmienna var1: {var1}')\n",
    "    print(f'Zmienna var2: {var2}')"
   ]
  },
  {
   "cell_type": "code",
   "execution_count": 9,
   "id": "305f87b9-be93-4c74-9019-0b6f971c2fe0",
   "metadata": {},
   "outputs": [
    {
     "name": "stdout",
     "output_type": "stream",
     "text": [
      "Zmienna var1: Python\n",
      "Zmienna var2: Python 3.9\n"
     ]
    }
   ],
   "source": [
    "sampleFunction2('Python')"
   ]
  },
  {
   "cell_type": "code",
   "execution_count": 10,
   "id": "1ff62901-fcc8-46a8-b17b-b2ed65d4523e",
   "metadata": {},
   "outputs": [
    {
     "name": "stdout",
     "output_type": "stream",
     "text": [
      "Zmienna var1: Version\n",
      "Zmienna var2: Version 3.9\n"
     ]
    }
   ],
   "source": [
    "sampleFunction2('Version')"
   ]
  },
  {
   "cell_type": "code",
   "execution_count": 24,
   "id": "b68cc383-a16f-45ed-84ee-05c9beeeea6d",
   "metadata": {},
   "outputs": [],
   "source": [
    "#var1"
   ]
  },
  {
   "cell_type": "code",
   "execution_count": 25,
   "id": "b0e16e34-a63e-46b8-8b2a-1bb7bbdb5cb4",
   "metadata": {},
   "outputs": [],
   "source": [
    "#var2"
   ]
  },
  {
   "cell_type": "code",
   "execution_count": 15,
   "id": "b45f5411-26c7-433a-a22b-133e423cf7d2",
   "metadata": {},
   "outputs": [],
   "source": [
    "sampleFunction = lambda word: len(word.replace(' ', ''))"
   ]
  },
  {
   "cell_type": "code",
   "execution_count": 16,
   "id": "fa30bc38-0241-4685-b6bd-fa7772795a53",
   "metadata": {},
   "outputs": [
    {
     "data": {
      "text/plain": [
       "<function __main__.<lambda>(word)>"
      ]
     },
     "execution_count": 16,
     "metadata": {},
     "output_type": "execute_result"
    }
   ],
   "source": [
    "sampleFunction"
   ]
  },
  {
   "cell_type": "code",
   "execution_count": 18,
   "id": "1a467124-8258-4703-a9d3-4e89bb4a113b",
   "metadata": {},
   "outputs": [
    {
     "data": {
      "text/plain": [
       "9"
      ]
     },
     "execution_count": 18,
     "metadata": {},
     "output_type": "execute_result"
    }
   ],
   "source": [
    "sampleFunction('Python 3.9')"
   ]
  },
  {
   "cell_type": "code",
   "execution_count": 26,
   "id": "11b34d88-7b9b-4147-8a07-ee1beec074a9",
   "metadata": {},
   "outputs": [],
   "source": [
    "#word"
   ]
  },
  {
   "cell_type": "code",
   "execution_count": 20,
   "id": "c9fbd68c-752b-4b5e-b3c4-5cc84b7af022",
   "metadata": {},
   "outputs": [
    {
     "data": {
      "text/plain": [
       "<code object <lambda> at 0x000002DBEF7DD920, file \"C:\\Users\\GrfId\\AppData\\Local\\Temp/ipykernel_10628/1210452902.py\", line 1>"
      ]
     },
     "execution_count": 20,
     "metadata": {},
     "output_type": "execute_result"
    }
   ],
   "source": [
    "sampleFunction.__code__"
   ]
  },
  {
   "cell_type": "code",
   "execution_count": 21,
   "id": "e2da4018-484d-4bbe-876c-e76e43fde5f3",
   "metadata": {},
   "outputs": [
    {
     "data": {
      "text/plain": [
       "('word',)"
      ]
     },
     "execution_count": 21,
     "metadata": {},
     "output_type": "execute_result"
    }
   ],
   "source": [
    "sampleFunction.__code__.co_varnames"
   ]
  },
  {
   "cell_type": "code",
   "execution_count": 22,
   "id": "f84e96db-6807-47aa-a00d-9b4ee3c3291e",
   "metadata": {},
   "outputs": [
    {
     "data": {
      "text/plain": [
       "1"
      ]
     },
     "execution_count": 22,
     "metadata": {},
     "output_type": "execute_result"
    }
   ],
   "source": [
    "sampleFunction.__code__.co_argcount"
   ]
  },
  {
   "cell_type": "markdown",
   "id": "5a2eceae-27d9-4e91-9571-cac744bd1b06",
   "metadata": {},
   "source": [
    "## LEGB rule - scope enclosing"
   ]
  },
  {
   "cell_type": "code",
   "execution_count": 37,
   "id": "9c11313a-c4ac-4a22-9a87-204e4c2c0e14",
   "metadata": {},
   "outputs": [],
   "source": [
    "def sampleFunction3():\n",
    "\n",
    "    var1 = 'Python'\n",
    "\n",
    "    def innerFunction():\n",
    "        print(f'Zmienna var1: {var1}')\n",
    "\n",
    "    innerFunction()"
   ]
  },
  {
   "cell_type": "code",
   "execution_count": 38,
   "id": "d7634cea-ecd3-4689-84a7-d0c7d49d9a61",
   "metadata": {},
   "outputs": [
    {
     "name": "stdout",
     "output_type": "stream",
     "text": [
      "Zmienna var1: Python\n"
     ]
    }
   ],
   "source": [
    "sampleFunction3()"
   ]
  },
  {
   "cell_type": "code",
   "execution_count": 46,
   "id": "f44bcfc8-adcd-4c97-92df-c76efa5ee700",
   "metadata": {},
   "outputs": [],
   "source": [
    "#innerFunction()\n",
    "#NameError: name 'innerFunction' is not defined"
   ]
  },
  {
   "cell_type": "code",
   "execution_count": 44,
   "id": "7921d41a-96a6-42bf-9d6c-e39c4034a535",
   "metadata": {},
   "outputs": [],
   "source": [
    "def sampleFunction4():\n",
    "\n",
    "    var1 = 'Python'\n",
    "\n",
    "    def innerFunction():\n",
    "        print(f'Zmienna var1: {var1}')\n",
    "        print(f'Zmienna var2: {var2}')\n",
    "\n",
    "    var2 = '3.9'\n",
    "\n",
    "    innerFunction()"
   ]
  },
  {
   "cell_type": "code",
   "execution_count": 45,
   "id": "0476b1bc-c1b5-4d20-85df-03c34c3267ed",
   "metadata": {},
   "outputs": [
    {
     "name": "stdout",
     "output_type": "stream",
     "text": [
      "Zmienna var1: Python\n",
      "Zmienna var2: 3.9\n"
     ]
    }
   ],
   "source": [
    "sampleFunction4()"
   ]
  },
  {
   "cell_type": "code",
   "execution_count": 48,
   "id": "ec54b43c-07b6-4924-84ad-a21fc5f095a9",
   "metadata": {},
   "outputs": [
    {
     "name": "stdout",
     "output_type": "stream",
     "text": [
      "Zmienna var1: Python\n",
      "Zmienna var1: Java\n",
      "Zmienna var1: Python\n"
     ]
    }
   ],
   "source": [
    "def sampleFunction5():\n",
    "\n",
    "    var1 = 'Python'\n",
    "\n",
    "    def innerFunction():\n",
    "        var1 = 'Java'\n",
    "        print(f'Zmienna var1: {var1}')\n",
    "\n",
    "    print(f'Zmienna var1: {var1}')    \n",
    "\n",
    "    innerFunction()   \n",
    "\n",
    "    print(f'Zmienna var1: {var1}')\n",
    "\n",
    "sampleFunction5()"
   ]
  },
  {
   "cell_type": "code",
   "execution_count": 49,
   "id": "8cd1164a-d38e-4e22-94bb-046601345628",
   "metadata": {},
   "outputs": [
    {
     "name": "stdout",
     "output_type": "stream",
     "text": [
      "Zmienna var1: Python\n",
      "Zmienna var1: Python 3.9\n",
      "Zmienna var1: Python\n"
     ]
    }
   ],
   "source": [
    "def sampleFunction6():\n",
    "\n",
    "    var1 = 'Python'\n",
    "\n",
    "    def innerFunction():\n",
    "        var2 = var1 + ' 3.9'\n",
    "        print(f'Zmienna var1: {var2}')\n",
    "\n",
    "    print(f'Zmienna var1: {var1}')    \n",
    "\n",
    "    innerFunction()   \n",
    "\n",
    "    print(f'Zmienna var1: {var1}')\n",
    "\n",
    "sampleFunction6()"
   ]
  },
  {
   "cell_type": "markdown",
   "id": "8549be8a-17e0-4b5d-a63e-e5c7cabe7143",
   "metadata": {},
   "source": [
    "## LEGB rule - global scope"
   ]
  },
  {
   "cell_type": "code",
   "execution_count": 50,
   "id": "7f7eaa58-9878-40dc-bd77-8d1583dda6d9",
   "metadata": {},
   "outputs": [
    {
     "data": {
      "text/plain": [
       "'__main__'"
      ]
     },
     "execution_count": 50,
     "metadata": {},
     "output_type": "execute_result"
    }
   ],
   "source": [
    "__name__"
   ]
  },
  {
   "cell_type": "code",
   "execution_count": 51,
   "id": "f423f3cf-1209-4b5b-98e6-bfd743f50b2c",
   "metadata": {},
   "outputs": [
    {
     "name": "stdout",
     "output_type": "stream",
     "text": [
      "START\n"
     ]
    }
   ],
   "source": [
    "if __name__ == '__main__':\n",
    "    print('START')"
   ]
  },
  {
   "cell_type": "code",
   "execution_count": 52,
   "id": "cdd3826c-c37b-452a-a521-18c84f9a69af",
   "metadata": {},
   "outputs": [
    {
     "name": "stdout",
     "output_type": "stream",
     "text": [
      "Help on built-in function globals in module builtins:\n",
      "\n",
      "globals()\n",
      "    Return the dictionary containing the current scope's global variables.\n",
      "    \n",
      "    NOTE: Updates to this dictionary *will* affect name lookups in the current\n",
      "    global scope and vice-versa.\n",
      "\n"
     ]
    }
   ],
   "source": [
    "help(globals)"
   ]
  },
  {
   "cell_type": "code",
   "execution_count": 54,
   "id": "757915e6-9353-45cc-88a9-1b14f28a919f",
   "metadata": {},
   "outputs": [],
   "source": [
    "#globals()"
   ]
  },
  {
   "cell_type": "code",
   "execution_count": 55,
   "id": "01860cb2-55d1-48f7-a4db-9e0ebfbe532c",
   "metadata": {},
   "outputs": [
    {
     "data": {
      "text/plain": [
       "'Automatically created module for IPython interactive environment'"
      ]
     },
     "execution_count": 55,
     "metadata": {},
     "output_type": "execute_result"
    }
   ],
   "source": [
    "__doc__"
   ]
  },
  {
   "cell_type": "code",
   "execution_count": 57,
   "id": "94318f8d-1b02-4697-ba11-86cdd33a138d",
   "metadata": {},
   "outputs": [],
   "source": [
    "var1 = 'Python'\n",
    "var2 = '3.9'\n",
    "var3 = var1 + ' ' + var2"
   ]
  },
  {
   "cell_type": "code",
   "execution_count": 64,
   "id": "6c44b8ae-8d9b-4034-9cab-18802e51c017",
   "metadata": {},
   "outputs": [],
   "source": [
    "#globals()"
   ]
  },
  {
   "cell_type": "code",
   "execution_count": 65,
   "id": "255432a5-6282-4305-b71d-aef7428af333",
   "metadata": {},
   "outputs": [
    {
     "name": "stdout",
     "output_type": "stream",
     "text": [
      "10\n"
     ]
    }
   ],
   "source": [
    "var1 = 10\n",
    "print(var1)"
   ]
  },
  {
   "cell_type": "code",
   "execution_count": 74,
   "id": "b183cf81-3a68-41c8-82d1-cd812bb39108",
   "metadata": {},
   "outputs": [
    {
     "name": "stdout",
     "output_type": "stream",
     "text": [
      "10\n"
     ]
    }
   ],
   "source": [
    "def sampleFunction7():\n",
    "    print(var1)\n",
    "\n",
    "sampleFunction7()"
   ]
  },
  {
   "cell_type": "code",
   "execution_count": 75,
   "id": "11f936b8-1d38-404c-a55c-c6e82babdd8d",
   "metadata": {},
   "outputs": [
    {
     "name": "stdout",
     "output_type": "stream",
     "text": [
      "3.9\n"
     ]
    }
   ],
   "source": [
    "def sampleFunction8():\n",
    "    var1 = '3.9'\n",
    "    print(var1)\n",
    "\n",
    "sampleFunction8()"
   ]
  },
  {
   "cell_type": "code",
   "execution_count": 77,
   "id": "e220525b-7bd2-464e-a13c-4100c74897b3",
   "metadata": {},
   "outputs": [
    {
     "name": "stdout",
     "output_type": "stream",
     "text": [
      "10\n",
      "3.9\n",
      "10\n"
     ]
    }
   ],
   "source": [
    "var1 = 10\n",
    "\n",
    "def sampleFunction9():\n",
    "    var1 = '3.9'\n",
    "    print(var1)\n",
    "\n",
    "print(var1)\n",
    "sampleFunction9()\n",
    "print(var1)"
   ]
  },
  {
   "cell_type": "code",
   "execution_count": 96,
   "id": "cef2b409-dc10-4ca3-9e6f-3732d598da69",
   "metadata": {},
   "outputs": [],
   "source": [
    "var1 = 0\n",
    "\n",
    "#def update():\n",
    "    #var1 = var1 + 1\n",
    "    #UnboundLocalError: local variable 'var1' referenced before assignment\n",
    "#update()"
   ]
  },
  {
   "cell_type": "code",
   "execution_count": 86,
   "id": "c5a2f673-6873-4892-8f8e-b776dd4f331c",
   "metadata": {},
   "outputs": [
    {
     "name": "stdout",
     "output_type": "stream",
     "text": [
      "0\n"
     ]
    }
   ],
   "source": [
    "var1 = 0\n",
    "\n",
    "def update():\n",
    "    # var1 = var1 + 1\n",
    "    print(var1)\n",
    "\n",
    "update()"
   ]
  },
  {
   "cell_type": "code",
   "execution_count": 87,
   "id": "591d6f83-9ded-4792-91a0-8892e5d64be7",
   "metadata": {},
   "outputs": [
    {
     "name": "stdout",
     "output_type": "stream",
     "text": [
      "0\n"
     ]
    }
   ],
   "source": [
    "var1 = 0\n",
    "\n",
    "def update():\n",
    "    print(var1)\n",
    "    #var1 = var1 + 1\n",
    "\n",
    "update()"
   ]
  },
  {
   "cell_type": "markdown",
   "id": "fcd86b94-d27c-4b94-8237-3fb2b0fb6ae0",
   "metadata": {},
   "source": [
    "## LEGB rule - local scope vs. including vs. global"
   ]
  },
  {
   "cell_type": "code",
   "execution_count": 97,
   "id": "321ac687-8ab4-4dcf-a999-72ce11093d70",
   "metadata": {},
   "outputs": [
    {
     "name": "stdout",
     "output_type": "stream",
     "text": [
      "globalny\n",
      "lokalny funkcji sampleFunction10/obejmujący\n",
      "lokalny funkcji innerFunction\n",
      "lokalny funkcji sampleFunction10/obejmujący\n",
      "globalny\n"
     ]
    }
   ],
   "source": [
    "var1 = 'globalny'\n",
    "\n",
    "def sampleFunction10():\n",
    "\n",
    "    var1 = 'lokalny funkcji sampleFunction10/obejmujący'\n",
    "    print(var1)\n",
    "\n",
    "    def innerFunction():\n",
    "\n",
    "        var1 = 'lokalny funkcji innerFunction'\n",
    "        print(var1)\n",
    "\n",
    "    innerFunction()\n",
    "\n",
    "    print(var1)\n",
    "\n",
    "print(var1)\n",
    "sampleFunction10()\n",
    "print(var1)"
   ]
  },
  {
   "cell_type": "code",
   "execution_count": 98,
   "id": "39941635-7b9f-45e4-bc9b-810feb823e25",
   "metadata": {},
   "outputs": [
    {
     "name": "stdout",
     "output_type": "stream",
     "text": [
      "globalny\n",
      "globalny\n",
      "globalny\n",
      "globalny\n",
      "globalny\n"
     ]
    }
   ],
   "source": [
    "var1 = 'globalny'\n",
    "\n",
    "def sampleFunction11():\n",
    "\n",
    "    print(var1)\n",
    "\n",
    "    def innerFunction():\n",
    "\n",
    "        print(var1)\n",
    "\n",
    "    innerFunction()\n",
    "\n",
    "    print(var1)\n",
    "\n",
    "print(var1)\n",
    "sampleFunction11()\n",
    "print(var1)"
   ]
  },
  {
   "cell_type": "code",
   "execution_count": 99,
   "id": "a64ad4e1-1197-468c-80b6-c0b8d0c6d5c3",
   "metadata": {},
   "outputs": [
    {
     "name": "stdout",
     "output_type": "stream",
     "text": [
      "globalny\n",
      "lokalny funkcji sampleFunction12/obejmujący\n",
      "lokalny funkcji sampleFunction12/obejmujący\n",
      "lokalny funkcji sampleFunction12/obejmujący\n",
      "globalny\n"
     ]
    }
   ],
   "source": [
    "var1 = 'globalny'\n",
    "\n",
    "def sampleFunction12():\n",
    "\n",
    "    var1 = 'lokalny funkcji sampleFunction12/obejmujący'\n",
    "    print(var1)\n",
    "\n",
    "    def innerFunction():\n",
    "\n",
    "        print(var1)\n",
    "\n",
    "    innerFunction()\n",
    "\n",
    "    print(var1)\n",
    "\n",
    "print(var1)\n",
    "sampleFunction12()\n",
    "print(var1)"
   ]
  },
  {
   "cell_type": "markdown",
   "id": "f29e7a52-be97-45db-bc03-87fcf5805d70",
   "metadata": {},
   "source": [
    "## LEGB rule - built-in scope"
   ]
  },
  {
   "cell_type": "code",
   "execution_count": 100,
   "id": "65cd66b0-d111-4966-9e2e-662083a15c70",
   "metadata": {},
   "outputs": [
    {
     "data": {
      "text/plain": [
       "<module 'builtins' (built-in)>"
      ]
     },
     "execution_count": 100,
     "metadata": {},
     "output_type": "execute_result"
    }
   ],
   "source": [
    "__builtins__"
   ]
  },
  {
   "cell_type": "code",
   "execution_count": 102,
   "id": "07ea613f-7bb7-492f-b750-cdad1b938d32",
   "metadata": {},
   "outputs": [],
   "source": [
    "#dir(__builtins__)"
   ]
  },
  {
   "cell_type": "code",
   "execution_count": 103,
   "id": "9d288cee-bc87-4e15-902a-4df15afccff0",
   "metadata": {},
   "outputs": [
    {
     "data": {
      "text/plain": [
       "156"
      ]
     },
     "execution_count": 103,
     "metadata": {},
     "output_type": "execute_result"
    }
   ],
   "source": [
    "len(dir(__builtins__))"
   ]
  },
  {
   "cell_type": "code",
   "execution_count": 105,
   "id": "af3ae117-4854-4143-aab2-ccd49f370773",
   "metadata": {},
   "outputs": [],
   "source": [
    "import builtins\n",
    "\n",
    "\n",
    "#help(builtins)"
   ]
  },
  {
   "cell_type": "code",
   "execution_count": 106,
   "id": "ce2d96db-c271-4f95-92a4-7fa3c8e03586",
   "metadata": {},
   "outputs": [
    {
     "name": "stdout",
     "output_type": "stream",
     "text": [
      "Help on built-in function max in module builtins:\n",
      "\n",
      "max(...)\n",
      "    max(iterable, *[, default=obj, key=func]) -> value\n",
      "    max(arg1, arg2, *args, *[, key=func]) -> value\n",
      "    \n",
      "    With a single iterable argument, return its biggest item. The\n",
      "    default keyword-only argument specifies an object to return if\n",
      "    the provided iterable is empty.\n",
      "    With two or more arguments, return the largest argument.\n",
      "\n"
     ]
    }
   ],
   "source": [
    "help(builtins.max)"
   ]
  },
  {
   "cell_type": "code",
   "execution_count": 107,
   "id": "43f8e6b8-4230-4104-ba7f-e6ae473ac456",
   "metadata": {},
   "outputs": [
    {
     "data": {
      "text/plain": [
       "5"
      ]
     },
     "execution_count": 107,
     "metadata": {},
     "output_type": "execute_result"
    }
   ],
   "source": [
    "builtins.max([5, 3, -3])"
   ]
  },
  {
   "cell_type": "code",
   "execution_count": 108,
   "id": "efff20bb-aa5b-44cf-b7df-783ab0c2f89b",
   "metadata": {},
   "outputs": [
    {
     "data": {
      "text/plain": [
       "5"
      ]
     },
     "execution_count": 108,
     "metadata": {},
     "output_type": "execute_result"
    }
   ],
   "source": [
    "max([5, 4, 2])"
   ]
  },
  {
   "cell_type": "code",
   "execution_count": 109,
   "id": "1fdc3e1a-10b8-403f-be97-e043a45c0af3",
   "metadata": {},
   "outputs": [
    {
     "data": {
      "text/plain": [
       "<enumerate at 0x2dbeeb9cb00>"
      ]
     },
     "execution_count": 109,
     "metadata": {},
     "output_type": "execute_result"
    }
   ],
   "source": [
    "builtins.enumerate('Python')"
   ]
  },
  {
   "cell_type": "code",
   "execution_count": 110,
   "id": "c54219b3-8ed7-4f03-98f6-65abb80a54f6",
   "metadata": {},
   "outputs": [
    {
     "data": {
      "text/plain": [
       "[(0, 'P'), (1, 'y'), (2, 't'), (3, 'h'), (4, 'o'), (5, 'n')]"
      ]
     },
     "execution_count": 110,
     "metadata": {},
     "output_type": "execute_result"
    }
   ],
   "source": [
    "builtins.list(builtins.enumerate('Python'))"
   ]
  },
  {
   "cell_type": "code",
   "execution_count": 111,
   "id": "de9fd571-577d-4eb0-9d27-2faff5f46367",
   "metadata": {},
   "outputs": [
    {
     "data": {
      "text/plain": [
       "[(0, 'P'), (1, 'y'), (2, 't'), (3, 'h'), (4, 'o'), (5, 'n')]"
      ]
     },
     "execution_count": 111,
     "metadata": {},
     "output_type": "execute_result"
    }
   ],
   "source": [
    "list(enumerate('Python'))"
   ]
  },
  {
   "cell_type": "code",
   "execution_count": 112,
   "id": "0b000226-d2a1-476e-a0a4-46575cf4d1fb",
   "metadata": {},
   "outputs": [
    {
     "data": {
      "text/plain": [
       "<function max>"
      ]
     },
     "execution_count": 112,
     "metadata": {},
     "output_type": "execute_result"
    }
   ],
   "source": [
    "max"
   ]
  },
  {
   "cell_type": "code",
   "execution_count": 113,
   "id": "4577fcd4-6538-4330-8bb9-53c591d595d4",
   "metadata": {},
   "outputs": [
    {
     "data": {
      "text/plain": [
       "<function __main__.<lambda>(x)>"
      ]
     },
     "execution_count": 113,
     "metadata": {},
     "output_type": "execute_result"
    }
   ],
   "source": [
    "max = lambda x: min(x)\n",
    "max"
   ]
  },
  {
   "cell_type": "code",
   "execution_count": 114,
   "id": "f2ce25f1-d4cf-4e60-a9c7-4c49db1b382b",
   "metadata": {},
   "outputs": [
    {
     "data": {
      "text/plain": [
       "-3"
      ]
     },
     "execution_count": 114,
     "metadata": {},
     "output_type": "execute_result"
    }
   ],
   "source": [
    "max([4, -3])"
   ]
  },
  {
   "cell_type": "code",
   "execution_count": 115,
   "id": "4bbcc588-f0d7-48b6-8161-ac577c0c7591",
   "metadata": {},
   "outputs": [],
   "source": [
    "del max"
   ]
  },
  {
   "cell_type": "code",
   "execution_count": 116,
   "id": "8a79d382-e5fd-4714-8859-e9c3498be20d",
   "metadata": {},
   "outputs": [
    {
     "data": {
      "text/plain": [
       "<function max>"
      ]
     },
     "execution_count": 116,
     "metadata": {},
     "output_type": "execute_result"
    }
   ],
   "source": [
    "max"
   ]
  },
  {
   "cell_type": "code",
   "execution_count": 118,
   "id": "6445e121-bb7a-4590-90af-2584628fe378",
   "metadata": {},
   "outputs": [
    {
     "data": {
      "text/plain": [
       "4"
      ]
     },
     "execution_count": 118,
     "metadata": {},
     "output_type": "execute_result"
    }
   ],
   "source": [
    "max([4, -3])"
   ]
  },
  {
   "cell_type": "code",
   "execution_count": 119,
   "id": "895eae38-3ea0-4107-9761-775f885fd884",
   "metadata": {},
   "outputs": [
    {
     "data": {
      "text/plain": [
       "'y'"
      ]
     },
     "execution_count": 119,
     "metadata": {},
     "output_type": "execute_result"
    }
   ],
   "source": [
    "max('Python')"
   ]
  },
  {
   "cell_type": "code",
   "execution_count": 120,
   "id": "2bbd56bc-b74d-4830-8319-7393e2f4c191",
   "metadata": {},
   "outputs": [
    {
     "data": {
      "text/plain": [
       "'python'"
      ]
     },
     "execution_count": 120,
     "metadata": {},
     "output_type": "execute_result"
    }
   ],
   "source": [
    "max(['python', 'java'])"
   ]
  },
  {
   "cell_type": "code",
   "execution_count": 121,
   "id": "5d5d521e-13ea-4276-809a-d42e553f4e92",
   "metadata": {},
   "outputs": [
    {
     "data": {
      "text/plain": [
       "9"
      ]
     },
     "execution_count": 121,
     "metadata": {},
     "output_type": "execute_result"
    }
   ],
   "source": [
    "def calc(x, y):\n",
    "    return max(x, y)\n",
    "\n",
    "calc(4, 9)"
   ]
  },
  {
   "cell_type": "code",
   "execution_count": 122,
   "id": "f9609594-f818-4c14-8eb1-1a9fc1b8d4d5",
   "metadata": {},
   "outputs": [
    {
     "name": "stdout",
     "output_type": "stream",
     "text": [
      "Wywołanie...\n"
     ]
    },
    {
     "data": {
      "text/plain": [
       "9"
      ]
     },
     "execution_count": 122,
     "metadata": {},
     "output_type": "execute_result"
    }
   ],
   "source": [
    "def calc(x, y):\n",
    "\n",
    "    def max(x, y):\n",
    "        print('Wywołanie...')\n",
    "        if x >= y:\n",
    "            return x\n",
    "        else:\n",
    "            return y\n",
    "            \n",
    "    return max(x, y)\n",
    "\n",
    "calc(4, 9)"
   ]
  },
  {
   "cell_type": "code",
   "execution_count": 123,
   "id": "eb3a7fc1-42fd-4120-a83c-0cb897096683",
   "metadata": {},
   "outputs": [
    {
     "data": {
      "text/plain": [
       "5"
      ]
     },
     "execution_count": 123,
     "metadata": {},
     "output_type": "execute_result"
    }
   ],
   "source": [
    "max([5, 3])"
   ]
  },
  {
   "cell_type": "code",
   "execution_count": 124,
   "id": "cc5b0f11-b9b9-4ea0-81c2-3bfb1cd9bc20",
   "metadata": {},
   "outputs": [
    {
     "name": "stdout",
     "output_type": "stream",
     "text": [
      "Wywołanie...\n"
     ]
    },
    {
     "data": {
      "text/plain": [
       "9"
      ]
     },
     "execution_count": 124,
     "metadata": {},
     "output_type": "execute_result"
    }
   ],
   "source": [
    "def calc(x, y):\n",
    "\n",
    "    def max(x, y):\n",
    "        print('Wywołanie...')\n",
    "        return x if x >= y else y\n",
    "            \n",
    "    return max(x, y)\n",
    "\n",
    "calc(4, 9)"
   ]
  },
  {
   "cell_type": "code",
   "execution_count": 129,
   "id": "b84c821c-9cc6-40cd-82a8-0f80d716442e",
   "metadata": {},
   "outputs": [
    {
     "name": "stdout",
     "output_type": "stream",
     "text": [
      "Wywołanie...\n"
     ]
    },
    {
     "data": {
      "text/plain": [
       "9"
      ]
     },
     "execution_count": 129,
     "metadata": {},
     "output_type": "execute_result"
    }
   ],
   "source": [
    "def calc(x, y):\n",
    "\n",
    "    def max(x, y):\n",
    "        print('Wywołanie...')\n",
    "        return x if x >= y else y\n",
    "\n",
    "    result = max(x, y)\n",
    "            \n",
    "    return result\n",
    "\n",
    "calc(4, 9)"
   ]
  },
  {
   "cell_type": "markdown",
   "id": "649de4e1-63cc-40ed-8be0-61afa288e6f5",
   "metadata": {},
   "source": [
    "## Instruction global"
   ]
  },
  {
   "cell_type": "code",
   "execution_count": 131,
   "id": "4dc937d7-0ab6-4a3c-9fd8-1f73f23c8c7d",
   "metadata": {},
   "outputs": [
    {
     "name": "stdout",
     "output_type": "stream",
     "text": [
      "10\n"
     ]
    }
   ],
   "source": [
    "def sample1():\n",
    "    var1 = 10\n",
    "    print(var1)\n",
    "\n",
    "sample1()"
   ]
  },
  {
   "cell_type": "code",
   "execution_count": 134,
   "id": "a31a5383-1c5a-46a2-94a1-be76a236d183",
   "metadata": {},
   "outputs": [],
   "source": [
    "#print(var1)"
   ]
  },
  {
   "cell_type": "code",
   "execution_count": 136,
   "id": "29371527-5048-440f-87a3-d60943959ab3",
   "metadata": {},
   "outputs": [
    {
     "name": "stdout",
     "output_type": "stream",
     "text": [
      "10\n"
     ]
    }
   ],
   "source": [
    "def sample2():\n",
    "    global var1 \n",
    "    var1 = 10\n",
    "    print(var1)\n",
    "\n",
    "sample2()"
   ]
  },
  {
   "cell_type": "code",
   "execution_count": 137,
   "id": "be28c2e1-1299-4fa3-a8c1-e28b9656e3db",
   "metadata": {},
   "outputs": [
    {
     "name": "stdout",
     "output_type": "stream",
     "text": [
      "10\n"
     ]
    }
   ],
   "source": [
    "print(var1)"
   ]
  },
  {
   "cell_type": "code",
   "execution_count": 139,
   "id": "fae3b339-21d4-42bb-b8a4-e6580508c373",
   "metadata": {},
   "outputs": [
    {
     "name": "stdout",
     "output_type": "stream",
     "text": [
      "20\n"
     ]
    }
   ],
   "source": [
    "var1 = 20\n",
    "\n",
    "def sample3():\n",
    "    print(var1)\n",
    "\n",
    "sample3()"
   ]
  },
  {
   "cell_type": "code",
   "execution_count": 140,
   "id": "5285ab39-9668-45d6-9a02-c09051cd0ed4",
   "metadata": {},
   "outputs": [
    {
     "data": {
      "text/plain": [
       "20"
      ]
     },
     "execution_count": 140,
     "metadata": {},
     "output_type": "execute_result"
    }
   ],
   "source": [
    "var1"
   ]
  },
  {
   "cell_type": "code",
   "execution_count": 141,
   "id": "40a6912e-555b-4977-9e9c-d5aa3ebc7102",
   "metadata": {},
   "outputs": [
    {
     "name": "stdout",
     "output_type": "stream",
     "text": [
      "40\n"
     ]
    }
   ],
   "source": [
    "var1 = 20\n",
    "\n",
    "def sample4():\n",
    "    global var1\n",
    "    var1 = 40\n",
    "    print(var1)\n",
    "\n",
    "sample4()"
   ]
  },
  {
   "cell_type": "code",
   "execution_count": 142,
   "id": "9a377397-b259-4ee6-a8bd-93fdb3b29a63",
   "metadata": {},
   "outputs": [
    {
     "data": {
      "text/plain": [
       "40"
      ]
     },
     "execution_count": 142,
     "metadata": {},
     "output_type": "execute_result"
    }
   ],
   "source": [
    "var1"
   ]
  },
  {
   "cell_type": "code",
   "execution_count": 144,
   "id": "27e73aff-22b0-46f2-a742-6f889cb96436",
   "metadata": {},
   "outputs": [],
   "source": [
    "#var1 = 20\n",
    "\n",
    "#def sample5():\n",
    "#   var1 += 40\n",
    "#   print(var1)\n",
    "\n",
    "#sample5()\n",
    "#UnboundLocalError: local variable 'var1' referenced before assignment"
   ]
  },
  {
   "cell_type": "code",
   "execution_count": 145,
   "id": "5a97a149-c2df-4372-b9af-3a589e278c24",
   "metadata": {},
   "outputs": [
    {
     "name": "stdout",
     "output_type": "stream",
     "text": [
      "60\n"
     ]
    }
   ],
   "source": [
    "var1 = 20\n",
    "\n",
    "def sample6():\n",
    "    global var1\n",
    "    var1 += 40\n",
    "    print(var1)\n",
    "\n",
    "sample6()"
   ]
  },
  {
   "cell_type": "code",
   "execution_count": 146,
   "id": "e47fe363-1721-4231-85d7-71da2b62ce05",
   "metadata": {},
   "outputs": [],
   "source": [
    "def sample7():\n",
    "    global num1, num2 \n",
    "    num1, num2 = 4, 2\n",
    "\n",
    "sample7()"
   ]
  },
  {
   "cell_type": "code",
   "execution_count": 147,
   "id": "09e88fbc-d346-4a4c-9a0c-e8395220b54a",
   "metadata": {},
   "outputs": [
    {
     "data": {
      "text/plain": [
       "4"
      ]
     },
     "execution_count": 147,
     "metadata": {},
     "output_type": "execute_result"
    }
   ],
   "source": [
    "num1"
   ]
  },
  {
   "cell_type": "code",
   "execution_count": 148,
   "id": "9d8779f4-316d-4a9c-bdd5-91b8477154cf",
   "metadata": {},
   "outputs": [
    {
     "data": {
      "text/plain": [
       "2"
      ]
     },
     "execution_count": 148,
     "metadata": {},
     "output_type": "execute_result"
    }
   ],
   "source": [
    "num2"
   ]
  },
  {
   "cell_type": "markdown",
   "id": "1680ea07-e97a-4c04-adf0-f310981bd6c3",
   "metadata": {},
   "source": [
    "## Instruction nonlocal"
   ]
  },
  {
   "cell_type": "code",
   "execution_count": 152,
   "id": "319cbb2a-6dcf-4e36-bf30-deb7eb4b3cf6",
   "metadata": {},
   "outputs": [
    {
     "name": "stdout",
     "output_type": "stream",
     "text": [
      "10\n"
     ]
    }
   ],
   "source": [
    "def sample():\n",
    "    \n",
    "    num1 = 10\n",
    "        \n",
    "    def inner():\n",
    "         print(num1)\n",
    "\n",
    "    inner()\n",
    "\n",
    "sample()"
   ]
  },
  {
   "cell_type": "code",
   "execution_count": 153,
   "id": "ea6f4556-1920-49e5-b690-7b725fcf613a",
   "metadata": {},
   "outputs": [
    {
     "name": "stdout",
     "output_type": "stream",
     "text": [
      "10\n",
      "20\n",
      "10\n"
     ]
    }
   ],
   "source": [
    "def sample():\n",
    "\n",
    "    num1 = 10\n",
    "\n",
    "    def inner():\n",
    "        num1 = 20\n",
    "        print(num1)\n",
    "\n",
    "    print(num1)\n",
    "    inner()\n",
    "    print(num1)\n",
    "\n",
    "sample()"
   ]
  },
  {
   "cell_type": "code",
   "execution_count": 154,
   "id": "45d0d75a-880b-4600-a9d6-ece2a1ae3b02",
   "metadata": {},
   "outputs": [
    {
     "name": "stdout",
     "output_type": "stream",
     "text": [
      "10\n",
      "20\n",
      "20\n"
     ]
    }
   ],
   "source": [
    "def sample():\n",
    "\n",
    "    num1 = 10\n",
    "\n",
    "    def inner():\n",
    "        nonlocal num1\n",
    "        num1 = 20\n",
    "        print(num1)\n",
    "\n",
    "    print(num1)\n",
    "    inner()\n",
    "    print(num1)\n",
    "\n",
    "sample()"
   ]
  },
  {
   "cell_type": "code",
   "execution_count": 166,
   "id": "6e35abd5-afeb-46c2-9a82-25133dc4c979",
   "metadata": {},
   "outputs": [],
   "source": [
    "def sample():\n",
    "\n",
    "    num1 = 10\n",
    "\n",
    "    def inner():\n",
    "        num1 += 20\n",
    "        print(num1)\n",
    "\n",
    "    print(num1)\n",
    "    inner()\n",
    "    print(num1)\n",
    "\n",
    "#sample()\n",
    "#UnboundLocalError: local variable 'num1' referenced before assignment"
   ]
  },
  {
   "cell_type": "code",
   "execution_count": 157,
   "id": "f4ca0466-28ab-4cbe-9297-1c8814fe5b9d",
   "metadata": {},
   "outputs": [
    {
     "name": "stdout",
     "output_type": "stream",
     "text": [
      "10\n",
      "30\n",
      "30\n"
     ]
    }
   ],
   "source": [
    "def sample():\n",
    "\n",
    "    num1 = 10\n",
    "\n",
    "    def inner():\n",
    "        nonlocal num1\n",
    "        num1 += 20\n",
    "        print(num1)\n",
    "\n",
    "    print(num1)\n",
    "    inner()\n",
    "    print(num1)\n",
    "\n",
    "sample()"
   ]
  },
  {
   "cell_type": "code",
   "execution_count": 159,
   "id": "36d848cd-6ce3-49ee-82cd-27e34a7c939c",
   "metadata": {},
   "outputs": [],
   "source": [
    "def sample():\n",
    "    #nonlocal num1\n",
    "    num1 = 10\n",
    "\n",
    "sample()\n",
    "#SyntaxError: no binding for nonlocal 'num1' found"
   ]
  },
  {
   "cell_type": "code",
   "execution_count": 162,
   "id": "31015eea-73b6-400b-9eb1-035e706e3478",
   "metadata": {},
   "outputs": [],
   "source": [
    "def sample():\n",
    "\n",
    "    def inner():\n",
    "        #nonlocal num1\n",
    "        num1 += 20\n",
    "        print(num1)\n",
    "\n",
    "    print(num1)\n",
    "    inner()\n",
    "    print(num1)\n",
    "\n",
    "#sample()\n",
    "#SyntaxError: no binding for nonlocal 'num1' found"
   ]
  },
  {
   "cell_type": "code",
   "execution_count": 163,
   "id": "43e0e291-6428-48ba-89b4-685551b53ddc",
   "metadata": {},
   "outputs": [
    {
     "name": "stdout",
     "output_type": "stream",
     "text": [
      "100\n",
      "120\n",
      "120\n"
     ]
    }
   ],
   "source": [
    "def sample():\n",
    "\n",
    "    def inner():\n",
    "        nonlocal num1\n",
    "        num1 += 20\n",
    "        print(num1)\n",
    "\n",
    "    num1 = 100\n",
    "\n",
    "    print(num1)\n",
    "    inner()\n",
    "    print(num1)\n",
    "\n",
    "sample()"
   ]
  },
  {
   "cell_type": "code",
   "execution_count": 165,
   "id": "8bcad0b9-07dd-453d-99a4-b8ea3c74f413",
   "metadata": {},
   "outputs": [],
   "source": [
    "def sample():\n",
    "\n",
    "    def inner():\n",
    "        nonlocal num1\n",
    "        num1 += 20\n",
    "        print(num1)\n",
    "\n",
    "    print(num1)\n",
    "    inner()\n",
    "    num1 = 100\n",
    "    print(num1)\n",
    "\n",
    "#sample()\n",
    "#UnboundLocalError: local variable 'num1' referenced before assignment"
   ]
  },
  {
   "cell_type": "markdown",
   "id": "db4c3df4-b3fe-464c-a586-4b18d2baf927",
   "metadata": {},
   "source": [
    "## list/dict/set comprehension"
   ]
  },
  {
   "cell_type": "code",
   "execution_count": 167,
   "id": "b873e82f-2fd0-45c2-85bb-95d4c3983596",
   "metadata": {},
   "outputs": [
    {
     "name": "stdout",
     "output_type": "stream",
     "text": [
      "0\n",
      "1\n",
      "2\n",
      "3\n",
      "4\n",
      "5\n",
      "6\n",
      "7\n",
      "8\n",
      "9\n"
     ]
    }
   ],
   "source": [
    "for num in range(10):\n",
    "    print(num)"
   ]
  },
  {
   "cell_type": "code",
   "execution_count": 168,
   "id": "df7ceb2d-4052-4942-9c05-de26bf3cd6d7",
   "metadata": {},
   "outputs": [
    {
     "data": {
      "text/plain": [
       "9"
      ]
     },
     "execution_count": 168,
     "metadata": {},
     "output_type": "execute_result"
    }
   ],
   "source": [
    "num"
   ]
  },
  {
   "cell_type": "code",
   "execution_count": 169,
   "id": "83d6b2be-774e-429d-a120-e35847de6945",
   "metadata": {},
   "outputs": [
    {
     "data": {
      "text/plain": [
       "[0, 1, 2, 3, 4, 5, 6, 7, 8, 9]"
      ]
     },
     "execution_count": 169,
     "metadata": {},
     "output_type": "execute_result"
    }
   ],
   "source": [
    "[var for var in range(10)]"
   ]
  },
  {
   "cell_type": "code",
   "execution_count": 171,
   "id": "7168ce0c-ef4a-4ada-8037-8e1c0dc6972d",
   "metadata": {},
   "outputs": [],
   "source": [
    "#var"
   ]
  },
  {
   "cell_type": "markdown",
   "id": "1ba9148e-e779-4845-8601-5635aa7511f2",
   "metadata": {},
   "source": [
    "## Handling exceptions"
   ]
  },
  {
   "cell_type": "code",
   "execution_count": 175,
   "id": "e07349aa-0f91-4c08-bcac-7ca8683c913a",
   "metadata": {},
   "outputs": [],
   "source": [
    "string = 'py'\n",
    "#string[2]\n",
    "#IndexError: string index out of range"
   ]
  },
  {
   "cell_type": "code",
   "execution_count": 173,
   "id": "d08a98b3-d21b-473f-b29d-1857b857ffca",
   "metadata": {},
   "outputs": [
    {
     "name": "stdout",
     "output_type": "stream",
     "text": [
      "string index out of range\n"
     ]
    }
   ],
   "source": [
    "string = 'py'\n",
    "\n",
    "try:\n",
    "    string[2]\n",
    "except IndexError as error:\n",
    "    print(error)"
   ]
  },
  {
   "cell_type": "code",
   "execution_count": 178,
   "id": "a104ffc9-54a9-4244-bb4c-f20ec45eb251",
   "metadata": {},
   "outputs": [],
   "source": [
    "#error\n",
    "#NameError: name 'error' is not defined"
   ]
  },
  {
   "cell_type": "markdown",
   "id": "62e1028e-3005-4ce6-8fb5-f06d22ca29c6",
   "metadata": {},
   "source": [
    "## Auxiliary built-in functions"
   ]
  },
  {
   "cell_type": "code",
   "execution_count": 179,
   "id": "264ee167-7955-462b-b227-bff5777c21d8",
   "metadata": {},
   "outputs": [
    {
     "name": "stdout",
     "output_type": "stream",
     "text": [
      "Help on built-in function globals in module builtins:\n",
      "\n",
      "globals()\n",
      "    Return the dictionary containing the current scope's global variables.\n",
      "    \n",
      "    NOTE: Updates to this dictionary *will* affect name lookups in the current\n",
      "    global scope and vice-versa.\n",
      "\n"
     ]
    }
   ],
   "source": [
    "help(globals)"
   ]
  },
  {
   "cell_type": "code",
   "execution_count": 181,
   "id": "619d3f7a-a199-4548-b01c-e67403363404",
   "metadata": {},
   "outputs": [],
   "source": [
    "#globals()"
   ]
  },
  {
   "cell_type": "code",
   "execution_count": 183,
   "id": "5581c8f2-44fb-4d92-bb5b-d9e79c6fc4a1",
   "metadata": {},
   "outputs": [],
   "source": [
    "name = 'John'\n",
    "#globals()"
   ]
  },
  {
   "cell_type": "code",
   "execution_count": 184,
   "id": "7602321e-60f2-4be8-882b-b1eb1bb285a9",
   "metadata": {},
   "outputs": [
    {
     "data": {
      "text/plain": [
       "['In',\n",
       " 'Out',\n",
       " 'get_ipython',\n",
       " 'exit',\n",
       " 'quit',\n",
       " 'sampleFunction',\n",
       " 'sampleFunction2',\n",
       " 'sampleFunction3',\n",
       " 'sampleFunction4',\n",
       " 'sampleFunction5',\n",
       " 'sampleFunction6',\n",
       " 'var1',\n",
       " 'var2',\n",
       " 'var3',\n",
       " 'sampleFunction7',\n",
       " 'sampleFunction8',\n",
       " 'sample_function',\n",
       " 'update',\n",
       " 'sampleFunction9',\n",
       " 'sampleFunction10',\n",
       " 'sampleFunction11',\n",
       " 'sampleFunction12',\n",
       " 'builtins',\n",
       " 'calc',\n",
       " 'sample1',\n",
       " 'sample',\n",
       " 'sample2',\n",
       " 'sample3',\n",
       " 'sample4',\n",
       " 'sample6',\n",
       " 'sample7',\n",
       " 'num1',\n",
       " 'num2',\n",
       " 'num',\n",
       " 'string',\n",
       " 'name']"
      ]
     },
     "execution_count": 184,
     "metadata": {},
     "output_type": "execute_result"
    }
   ],
   "source": [
    "[name for name in globals() if not name.startswith('_')]"
   ]
  },
  {
   "cell_type": "code",
   "execution_count": 185,
   "id": "023c0e66-137e-477d-8911-7dfba7323839",
   "metadata": {},
   "outputs": [
    {
     "name": "stdout",
     "output_type": "stream",
     "text": [
      "{'var1': 1, 'var2': 2}\n"
     ]
    }
   ],
   "source": [
    "def test_locals():\n",
    "    var1 = 1\n",
    "    var2 = 2\n",
    "    print(locals())\n",
    "    var3 = 3\n",
    "\n",
    "test_locals()"
   ]
  },
  {
   "cell_type": "code",
   "execution_count": 186,
   "id": "faae6def-299c-4a38-86fb-7e0e315e132c",
   "metadata": {},
   "outputs": [
    {
     "name": "stdout",
     "output_type": "stream",
     "text": [
      "{'var1': 1, 'var2': 2, 'var3': 3}\n"
     ]
    }
   ],
   "source": [
    "def test_locals():\n",
    "    var1 = 1\n",
    "    var2 = 2\n",
    "    var3 = 3\n",
    "    print(locals())\n",
    "\n",
    "test_locals()"
   ]
  },
  {
   "cell_type": "code",
   "execution_count": 187,
   "id": "e1416a3e-0ccc-4720-b150-2d0882fcda81",
   "metadata": {},
   "outputs": [
    {
     "name": "stdout",
     "output_type": "stream",
     "text": [
      "Help on built-in function vars in module builtins:\n",
      "\n",
      "vars(...)\n",
      "    vars([object]) -> dictionary\n",
      "    \n",
      "    Without arguments, equivalent to locals().\n",
      "    With an argument, equivalent to object.__dict__.\n",
      "\n"
     ]
    }
   ],
   "source": [
    "help(vars)"
   ]
  },
  {
   "cell_type": "code",
   "execution_count": 189,
   "id": "9fdf95ed-5610-4edb-82b0-cfa8ce57819b",
   "metadata": {},
   "outputs": [],
   "source": [
    "#vars()"
   ]
  },
  {
   "cell_type": "code",
   "execution_count": 190,
   "id": "00f1b26e-ee91-4414-961b-0e7662cf0219",
   "metadata": {},
   "outputs": [
    {
     "data": {
      "text/plain": [
       "{'__name__': 'math',\n",
       " '__doc__': 'This module provides access to the mathematical functions\\ndefined by the C standard.',\n",
       " '__package__': '',\n",
       " '__loader__': _frozen_importlib.BuiltinImporter,\n",
       " '__spec__': ModuleSpec(name='math', loader=<class '_frozen_importlib.BuiltinImporter'>, origin='built-in'),\n",
       " 'acos': <function math.acos(x, /)>,\n",
       " 'acosh': <function math.acosh(x, /)>,\n",
       " 'asin': <function math.asin(x, /)>,\n",
       " 'asinh': <function math.asinh(x, /)>,\n",
       " 'atan': <function math.atan(x, /)>,\n",
       " 'atan2': <function math.atan2(y, x, /)>,\n",
       " 'atanh': <function math.atanh(x, /)>,\n",
       " 'ceil': <function math.ceil(x, /)>,\n",
       " 'copysign': <function math.copysign(x, y, /)>,\n",
       " 'cos': <function math.cos(x, /)>,\n",
       " 'cosh': <function math.cosh(x, /)>,\n",
       " 'degrees': <function math.degrees(x, /)>,\n",
       " 'dist': <function math.dist(p, q, /)>,\n",
       " 'erf': <function math.erf(x, /)>,\n",
       " 'erfc': <function math.erfc(x, /)>,\n",
       " 'exp': <function math.exp(x, /)>,\n",
       " 'expm1': <function math.expm1(x, /)>,\n",
       " 'fabs': <function math.fabs(x, /)>,\n",
       " 'factorial': <function math.factorial(x, /)>,\n",
       " 'floor': <function math.floor(x, /)>,\n",
       " 'fmod': <function math.fmod(x, y, /)>,\n",
       " 'frexp': <function math.frexp(x, /)>,\n",
       " 'fsum': <function math.fsum(seq, /)>,\n",
       " 'gamma': <function math.gamma(x, /)>,\n",
       " 'gcd': <function math.gcd(*integers)>,\n",
       " 'hypot': <function math.hypot>,\n",
       " 'isclose': <function math.isclose(a, b, *, rel_tol=1e-09, abs_tol=0.0)>,\n",
       " 'isfinite': <function math.isfinite(x, /)>,\n",
       " 'isinf': <function math.isinf(x, /)>,\n",
       " 'isnan': <function math.isnan(x, /)>,\n",
       " 'isqrt': <function math.isqrt(n, /)>,\n",
       " 'lcm': <function math.lcm(*integers)>,\n",
       " 'ldexp': <function math.ldexp(x, i, /)>,\n",
       " 'lgamma': <function math.lgamma(x, /)>,\n",
       " 'log': <function math.log>,\n",
       " 'log1p': <function math.log1p(x, /)>,\n",
       " 'log10': <function math.log10(x, /)>,\n",
       " 'log2': <function math.log2(x, /)>,\n",
       " 'modf': <function math.modf(x, /)>,\n",
       " 'pow': <function math.pow(x, y, /)>,\n",
       " 'radians': <function math.radians(x, /)>,\n",
       " 'remainder': <function math.remainder(x, y, /)>,\n",
       " 'sin': <function math.sin(x, /)>,\n",
       " 'sinh': <function math.sinh(x, /)>,\n",
       " 'sqrt': <function math.sqrt(x, /)>,\n",
       " 'tan': <function math.tan(x, /)>,\n",
       " 'tanh': <function math.tanh(x, /)>,\n",
       " 'trunc': <function math.trunc(x, /)>,\n",
       " 'prod': <function math.prod(iterable, /, *, start=1)>,\n",
       " 'perm': <function math.perm(n, k=None, /)>,\n",
       " 'comb': <function math.comb(n, k, /)>,\n",
       " 'nextafter': <function math.nextafter(x, y, /)>,\n",
       " 'ulp': <function math.ulp(x, /)>,\n",
       " 'pi': 3.141592653589793,\n",
       " 'e': 2.718281828459045,\n",
       " 'tau': 6.283185307179586,\n",
       " 'inf': inf,\n",
       " 'nan': nan}"
      ]
     },
     "execution_count": 190,
     "metadata": {},
     "output_type": "execute_result"
    }
   ],
   "source": [
    "import math\n",
    "vars(math)"
   ]
  },
  {
   "cell_type": "code",
   "execution_count": 191,
   "id": "b9139d01-6c88-4f4b-8a76-9ac2a44fbe98",
   "metadata": {},
   "outputs": [
    {
     "data": {
      "text/plain": [
       "{'__name__': 'math',\n",
       " '__doc__': 'This module provides access to the mathematical functions\\ndefined by the C standard.',\n",
       " '__package__': '',\n",
       " '__loader__': _frozen_importlib.BuiltinImporter,\n",
       " '__spec__': ModuleSpec(name='math', loader=<class '_frozen_importlib.BuiltinImporter'>, origin='built-in'),\n",
       " 'acos': <function math.acos(x, /)>,\n",
       " 'acosh': <function math.acosh(x, /)>,\n",
       " 'asin': <function math.asin(x, /)>,\n",
       " 'asinh': <function math.asinh(x, /)>,\n",
       " 'atan': <function math.atan(x, /)>,\n",
       " 'atan2': <function math.atan2(y, x, /)>,\n",
       " 'atanh': <function math.atanh(x, /)>,\n",
       " 'ceil': <function math.ceil(x, /)>,\n",
       " 'copysign': <function math.copysign(x, y, /)>,\n",
       " 'cos': <function math.cos(x, /)>,\n",
       " 'cosh': <function math.cosh(x, /)>,\n",
       " 'degrees': <function math.degrees(x, /)>,\n",
       " 'dist': <function math.dist(p, q, /)>,\n",
       " 'erf': <function math.erf(x, /)>,\n",
       " 'erfc': <function math.erfc(x, /)>,\n",
       " 'exp': <function math.exp(x, /)>,\n",
       " 'expm1': <function math.expm1(x, /)>,\n",
       " 'fabs': <function math.fabs(x, /)>,\n",
       " 'factorial': <function math.factorial(x, /)>,\n",
       " 'floor': <function math.floor(x, /)>,\n",
       " 'fmod': <function math.fmod(x, y, /)>,\n",
       " 'frexp': <function math.frexp(x, /)>,\n",
       " 'fsum': <function math.fsum(seq, /)>,\n",
       " 'gamma': <function math.gamma(x, /)>,\n",
       " 'gcd': <function math.gcd(*integers)>,\n",
       " 'hypot': <function math.hypot>,\n",
       " 'isclose': <function math.isclose(a, b, *, rel_tol=1e-09, abs_tol=0.0)>,\n",
       " 'isfinite': <function math.isfinite(x, /)>,\n",
       " 'isinf': <function math.isinf(x, /)>,\n",
       " 'isnan': <function math.isnan(x, /)>,\n",
       " 'isqrt': <function math.isqrt(n, /)>,\n",
       " 'lcm': <function math.lcm(*integers)>,\n",
       " 'ldexp': <function math.ldexp(x, i, /)>,\n",
       " 'lgamma': <function math.lgamma(x, /)>,\n",
       " 'log': <function math.log>,\n",
       " 'log1p': <function math.log1p(x, /)>,\n",
       " 'log10': <function math.log10(x, /)>,\n",
       " 'log2': <function math.log2(x, /)>,\n",
       " 'modf': <function math.modf(x, /)>,\n",
       " 'pow': <function math.pow(x, y, /)>,\n",
       " 'radians': <function math.radians(x, /)>,\n",
       " 'remainder': <function math.remainder(x, y, /)>,\n",
       " 'sin': <function math.sin(x, /)>,\n",
       " 'sinh': <function math.sinh(x, /)>,\n",
       " 'sqrt': <function math.sqrt(x, /)>,\n",
       " 'tan': <function math.tan(x, /)>,\n",
       " 'tanh': <function math.tanh(x, /)>,\n",
       " 'trunc': <function math.trunc(x, /)>,\n",
       " 'prod': <function math.prod(iterable, /, *, start=1)>,\n",
       " 'perm': <function math.perm(n, k=None, /)>,\n",
       " 'comb': <function math.comb(n, k, /)>,\n",
       " 'nextafter': <function math.nextafter(x, y, /)>,\n",
       " 'ulp': <function math.ulp(x, /)>,\n",
       " 'pi': 3.141592653589793,\n",
       " 'e': 2.718281828459045,\n",
       " 'tau': 6.283185307179586,\n",
       " 'inf': inf,\n",
       " 'nan': nan}"
      ]
     },
     "execution_count": 191,
     "metadata": {},
     "output_type": "execute_result"
    }
   ],
   "source": [
    "math.__dict__"
   ]
  },
  {
   "cell_type": "code",
   "execution_count": 192,
   "id": "c97bfd79-af88-45ed-a493-717b8a9db5d4",
   "metadata": {},
   "outputs": [
    {
     "data": {
      "text/plain": [
       "mappingproxy({'__module__': '__main__',\n",
       "              '__dict__': <attribute '__dict__' of 'Phone' objects>,\n",
       "              '__weakref__': <attribute '__weakref__' of 'Phone' objects>,\n",
       "              '__doc__': None})"
      ]
     },
     "execution_count": 192,
     "metadata": {},
     "output_type": "execute_result"
    }
   ],
   "source": [
    "class Phone:\n",
    "    pass\n",
    "\n",
    "\n",
    "Phone.__dict__"
   ]
  },
  {
   "cell_type": "code",
   "execution_count": 193,
   "id": "3dc42bb8-f975-4f8e-8b27-1fc37f77e2f3",
   "metadata": {},
   "outputs": [
    {
     "data": {
      "text/plain": [
       "mappingproxy({'__module__': '__main__',\n",
       "              'brand': 'Apple',\n",
       "              '__dict__': <attribute '__dict__' of 'Phone' objects>,\n",
       "              '__weakref__': <attribute '__weakref__' of 'Phone' objects>,\n",
       "              '__doc__': None})"
      ]
     },
     "execution_count": 193,
     "metadata": {},
     "output_type": "execute_result"
    }
   ],
   "source": [
    "class Phone:\n",
    "    \n",
    "    brand = 'Apple'\n",
    "\n",
    "\n",
    "Phone.__dict__"
   ]
  },
  {
   "cell_type": "code",
   "execution_count": 194,
   "id": "5c53ef9d-a582-4dc9-9faa-427bcda9dfff",
   "metadata": {},
   "outputs": [
    {
     "data": {
      "text/plain": [
       "{}"
      ]
     },
     "execution_count": 194,
     "metadata": {},
     "output_type": "execute_result"
    }
   ],
   "source": [
    "class Phone:\n",
    "    \n",
    "    brand = 'Apple'\n",
    "\n",
    "\n",
    "phone = Phone()\n",
    "phone.__dict__"
   ]
  },
  {
   "cell_type": "code",
   "execution_count": 195,
   "id": "81645e6a-1f6c-4a77-9699-375c3c3b3f9d",
   "metadata": {},
   "outputs": [
    {
     "data": {
      "text/plain": [
       "mappingproxy({'__module__': '__main__',\n",
       "              'brand': 'Apple',\n",
       "              '__init__': <function __main__.Phone.__init__(self, price)>,\n",
       "              '__dict__': <attribute '__dict__' of 'Phone' objects>,\n",
       "              '__weakref__': <attribute '__weakref__' of 'Phone' objects>,\n",
       "              '__doc__': None})"
      ]
     },
     "execution_count": 195,
     "metadata": {},
     "output_type": "execute_result"
    }
   ],
   "source": [
    "class Phone:\n",
    "    \n",
    "    brand = 'Apple'\n",
    "\n",
    "    def __init__(self, price):\n",
    "        self.price = price\n",
    "\n",
    "\n",
    "Phone.__dict__"
   ]
  },
  {
   "cell_type": "code",
   "execution_count": 196,
   "id": "db577d47-aea6-4a2f-be37-00ed820b97ba",
   "metadata": {},
   "outputs": [
    {
     "data": {
      "text/plain": [
       "{'price': 1000}"
      ]
     },
     "execution_count": 196,
     "metadata": {},
     "output_type": "execute_result"
    }
   ],
   "source": [
    "phone = Phone(1000)\n",
    "phone.__dict__"
   ]
  },
  {
   "cell_type": "code",
   "execution_count": 197,
   "id": "39da8878-146b-46d3-b107-6d5b9f8d44bf",
   "metadata": {},
   "outputs": [
    {
     "data": {
      "text/plain": [
       "mappingproxy({'__module__': '__main__',\n",
       "              'brand': 'Apple',\n",
       "              '__init__': <function __main__.Phone.__init__(self, price)>,\n",
       "              '__dict__': <attribute '__dict__' of 'Phone' objects>,\n",
       "              '__weakref__': <attribute '__weakref__' of 'Phone' objects>,\n",
       "              '__doc__': None})"
      ]
     },
     "execution_count": 197,
     "metadata": {},
     "output_type": "execute_result"
    }
   ],
   "source": [
    "vars(Phone)"
   ]
  },
  {
   "cell_type": "code",
   "execution_count": 198,
   "id": "b504165d-b979-4372-b7df-e8bb22a10e0f",
   "metadata": {},
   "outputs": [
    {
     "data": {
      "text/plain": [
       "{'price': 1000}"
      ]
     },
     "execution_count": 198,
     "metadata": {},
     "output_type": "execute_result"
    }
   ],
   "source": [
    "vars(phone)"
   ]
  },
  {
   "cell_type": "code",
   "execution_count": 199,
   "id": "308ac457-9dae-4606-85b7-22c44c667824",
   "metadata": {},
   "outputs": [
    {
     "name": "stdout",
     "output_type": "stream",
     "text": [
      "Help on built-in function dir in module builtins:\n",
      "\n",
      "dir(...)\n",
      "    dir([object]) -> list of strings\n",
      "    \n",
      "    If called without an argument, return the names in the current scope.\n",
      "    Else, return an alphabetized list of names comprising (some of) the attributes\n",
      "    of the given object, and of attributes reachable from it.\n",
      "    If the object supplies a method named __dir__, it will be used; otherwise\n",
      "    the default dir() logic is used and returns:\n",
      "      for a module object: the module's attributes.\n",
      "      for a class object:  its attributes, and recursively the attributes\n",
      "        of its bases.\n",
      "      for any other object: its attributes, its class's attributes, and\n",
      "        recursively the attributes of its class's base classes.\n",
      "\n"
     ]
    }
   ],
   "source": [
    "help(dir)"
   ]
  },
  {
   "cell_type": "code",
   "execution_count": 200,
   "id": "e310d780-d12f-43d5-a17d-8154cfa0f49f",
   "metadata": {},
   "outputs": [
    {
     "data": {
      "text/plain": [
       "['In',\n",
       " 'Out',\n",
       " 'Phone',\n",
       " '_',\n",
       " '_100',\n",
       " '_101',\n",
       " '_103',\n",
       " '_107',\n",
       " '_108',\n",
       " '_109',\n",
       " '_110',\n",
       " '_111',\n",
       " '_112',\n",
       " '_113',\n",
       " '_114',\n",
       " '_116',\n",
       " '_118',\n",
       " '_119',\n",
       " '_120',\n",
       " '_121',\n",
       " '_122',\n",
       " '_123',\n",
       " '_124',\n",
       " '_129',\n",
       " '_14',\n",
       " '_140',\n",
       " '_142',\n",
       " '_147',\n",
       " '_148',\n",
       " '_16',\n",
       " '_168',\n",
       " '_169',\n",
       " '_18',\n",
       " '_180',\n",
       " '_182',\n",
       " '_184',\n",
       " '_188',\n",
       " '_190',\n",
       " '_191',\n",
       " '_192',\n",
       " '_193',\n",
       " '_194',\n",
       " '_195',\n",
       " '_196',\n",
       " '_197',\n",
       " '_198',\n",
       " '_20',\n",
       " '_21',\n",
       " '_22',\n",
       " '_30',\n",
       " '_50',\n",
       " '_53',\n",
       " '_55',\n",
       " '_58',\n",
       " '_63',\n",
       " '__',\n",
       " '___',\n",
       " '__builtin__',\n",
       " '__builtins__',\n",
       " '__doc__',\n",
       " '__loader__',\n",
       " '__name__',\n",
       " '__package__',\n",
       " '__spec__',\n",
       " '_dh',\n",
       " '_i',\n",
       " '_i1',\n",
       " '_i10',\n",
       " '_i100',\n",
       " '_i101',\n",
       " '_i102',\n",
       " '_i103',\n",
       " '_i104',\n",
       " '_i105',\n",
       " '_i106',\n",
       " '_i107',\n",
       " '_i108',\n",
       " '_i109',\n",
       " '_i11',\n",
       " '_i110',\n",
       " '_i111',\n",
       " '_i112',\n",
       " '_i113',\n",
       " '_i114',\n",
       " '_i115',\n",
       " '_i116',\n",
       " '_i117',\n",
       " '_i118',\n",
       " '_i119',\n",
       " '_i12',\n",
       " '_i120',\n",
       " '_i121',\n",
       " '_i122',\n",
       " '_i123',\n",
       " '_i124',\n",
       " '_i125',\n",
       " '_i126',\n",
       " '_i127',\n",
       " '_i128',\n",
       " '_i129',\n",
       " '_i13',\n",
       " '_i130',\n",
       " '_i131',\n",
       " '_i132',\n",
       " '_i133',\n",
       " '_i134',\n",
       " '_i135',\n",
       " '_i136',\n",
       " '_i137',\n",
       " '_i138',\n",
       " '_i139',\n",
       " '_i14',\n",
       " '_i140',\n",
       " '_i141',\n",
       " '_i142',\n",
       " '_i143',\n",
       " '_i144',\n",
       " '_i145',\n",
       " '_i146',\n",
       " '_i147',\n",
       " '_i148',\n",
       " '_i149',\n",
       " '_i15',\n",
       " '_i150',\n",
       " '_i151',\n",
       " '_i152',\n",
       " '_i153',\n",
       " '_i154',\n",
       " '_i155',\n",
       " '_i156',\n",
       " '_i157',\n",
       " '_i158',\n",
       " '_i159',\n",
       " '_i16',\n",
       " '_i160',\n",
       " '_i161',\n",
       " '_i162',\n",
       " '_i163',\n",
       " '_i164',\n",
       " '_i165',\n",
       " '_i166',\n",
       " '_i167',\n",
       " '_i168',\n",
       " '_i169',\n",
       " '_i17',\n",
       " '_i170',\n",
       " '_i171',\n",
       " '_i172',\n",
       " '_i173',\n",
       " '_i174',\n",
       " '_i175',\n",
       " '_i176',\n",
       " '_i177',\n",
       " '_i178',\n",
       " '_i179',\n",
       " '_i18',\n",
       " '_i180',\n",
       " '_i181',\n",
       " '_i182',\n",
       " '_i183',\n",
       " '_i184',\n",
       " '_i185',\n",
       " '_i186',\n",
       " '_i187',\n",
       " '_i188',\n",
       " '_i189',\n",
       " '_i19',\n",
       " '_i190',\n",
       " '_i191',\n",
       " '_i192',\n",
       " '_i193',\n",
       " '_i194',\n",
       " '_i195',\n",
       " '_i196',\n",
       " '_i197',\n",
       " '_i198',\n",
       " '_i199',\n",
       " '_i2',\n",
       " '_i20',\n",
       " '_i200',\n",
       " '_i21',\n",
       " '_i22',\n",
       " '_i23',\n",
       " '_i24',\n",
       " '_i25',\n",
       " '_i26',\n",
       " '_i27',\n",
       " '_i28',\n",
       " '_i29',\n",
       " '_i3',\n",
       " '_i30',\n",
       " '_i31',\n",
       " '_i32',\n",
       " '_i33',\n",
       " '_i34',\n",
       " '_i35',\n",
       " '_i36',\n",
       " '_i37',\n",
       " '_i38',\n",
       " '_i39',\n",
       " '_i4',\n",
       " '_i40',\n",
       " '_i41',\n",
       " '_i42',\n",
       " '_i43',\n",
       " '_i44',\n",
       " '_i45',\n",
       " '_i46',\n",
       " '_i47',\n",
       " '_i48',\n",
       " '_i49',\n",
       " '_i5',\n",
       " '_i50',\n",
       " '_i51',\n",
       " '_i52',\n",
       " '_i53',\n",
       " '_i54',\n",
       " '_i55',\n",
       " '_i56',\n",
       " '_i57',\n",
       " '_i58',\n",
       " '_i59',\n",
       " '_i6',\n",
       " '_i60',\n",
       " '_i61',\n",
       " '_i62',\n",
       " '_i63',\n",
       " '_i64',\n",
       " '_i65',\n",
       " '_i66',\n",
       " '_i67',\n",
       " '_i68',\n",
       " '_i69',\n",
       " '_i7',\n",
       " '_i70',\n",
       " '_i71',\n",
       " '_i72',\n",
       " '_i73',\n",
       " '_i74',\n",
       " '_i75',\n",
       " '_i76',\n",
       " '_i77',\n",
       " '_i78',\n",
       " '_i79',\n",
       " '_i8',\n",
       " '_i80',\n",
       " '_i81',\n",
       " '_i82',\n",
       " '_i83',\n",
       " '_i84',\n",
       " '_i85',\n",
       " '_i86',\n",
       " '_i87',\n",
       " '_i88',\n",
       " '_i89',\n",
       " '_i9',\n",
       " '_i90',\n",
       " '_i91',\n",
       " '_i92',\n",
       " '_i93',\n",
       " '_i94',\n",
       " '_i95',\n",
       " '_i96',\n",
       " '_i97',\n",
       " '_i98',\n",
       " '_i99',\n",
       " '_ih',\n",
       " '_ii',\n",
       " '_iii',\n",
       " '_oh',\n",
       " 'builtins',\n",
       " 'calc',\n",
       " 'exit',\n",
       " 'get_ipython',\n",
       " 'math',\n",
       " 'name',\n",
       " 'num',\n",
       " 'num1',\n",
       " 'num2',\n",
       " 'phone',\n",
       " 'quit',\n",
       " 'sample',\n",
       " 'sample1',\n",
       " 'sample2',\n",
       " 'sample3',\n",
       " 'sample4',\n",
       " 'sample6',\n",
       " 'sample7',\n",
       " 'sampleFunction',\n",
       " 'sampleFunction10',\n",
       " 'sampleFunction11',\n",
       " 'sampleFunction12',\n",
       " 'sampleFunction2',\n",
       " 'sampleFunction3',\n",
       " 'sampleFunction4',\n",
       " 'sampleFunction5',\n",
       " 'sampleFunction6',\n",
       " 'sampleFunction7',\n",
       " 'sampleFunction8',\n",
       " 'sampleFunction9',\n",
       " 'sample_function',\n",
       " 'string',\n",
       " 'test_locals',\n",
       " 'update',\n",
       " 'var1',\n",
       " 'var2',\n",
       " 'var3']"
      ]
     },
     "execution_count": 200,
     "metadata": {},
     "output_type": "execute_result"
    }
   ],
   "source": [
    "dir()"
   ]
  },
  {
   "cell_type": "code",
   "execution_count": 201,
   "id": "39d32beb-8206-483f-8464-42bc076ad85e",
   "metadata": {},
   "outputs": [
    {
     "data": {
      "text/plain": [
       "['EBADF',\n",
       " 'EINVAL',\n",
       " 'ELOOP',\n",
       " 'ENOENT',\n",
       " 'ENOTDIR',\n",
       " 'Path',\n",
       " 'PosixPath',\n",
       " 'PurePath',\n",
       " 'PurePosixPath',\n",
       " 'PureWindowsPath',\n",
       " 'S_ISBLK',\n",
       " 'S_ISCHR',\n",
       " 'S_ISDIR',\n",
       " 'S_ISFIFO',\n",
       " 'S_ISLNK',\n",
       " 'S_ISREG',\n",
       " 'S_ISSOCK',\n",
       " 'Sequence',\n",
       " 'WindowsPath',\n",
       " '_Accessor',\n",
       " '_Flavour',\n",
       " '_IGNORED_ERROS',\n",
       " '_IGNORED_WINERRORS',\n",
       " '_NormalAccessor',\n",
       " '_PathParents',\n",
       " '_PosixFlavour',\n",
       " '_PreciseSelector',\n",
       " '_RecursiveWildcardSelector',\n",
       " '_Selector',\n",
       " '_TerminatingSelector',\n",
       " '_WildcardSelector',\n",
       " '_WindowsFlavour',\n",
       " '__all__',\n",
       " '__builtins__',\n",
       " '__cached__',\n",
       " '__doc__',\n",
       " '__file__',\n",
       " '__loader__',\n",
       " '__name__',\n",
       " '__package__',\n",
       " '__spec__',\n",
       " '_getfinalpathname',\n",
       " '_ignore_error',\n",
       " '_is_wildcard_pattern',\n",
       " '_make_selector',\n",
       " '_normal_accessor',\n",
       " '_posix_flavour',\n",
       " '_windows_flavour',\n",
       " 'attrgetter',\n",
       " 'fnmatch',\n",
       " 'functools',\n",
       " 'io',\n",
       " 'nt',\n",
       " 'ntpath',\n",
       " 'os',\n",
       " 'posixpath',\n",
       " 're',\n",
       " 'supports_symlinks',\n",
       " 'sys',\n",
       " 'urlquote_from_bytes']"
      ]
     },
     "execution_count": 201,
     "metadata": {},
     "output_type": "execute_result"
    }
   ],
   "source": [
    "import pathlib\n",
    "\n",
    "\n",
    "dir(pathlib)"
   ]
  },
  {
   "cell_type": "markdown",
   "id": "f9e29c42-8f9f-42bc-a1b6-f382a8da2af8",
   "metadata": {},
   "source": [
    "## task 1\n",
    "### A global variable named counter is given and an incorrectly implemented update_counter () function. Correct the implementation of the update_counter () function so that from the level of this function it is possible to modify the value of the counter global variable. Then call the update_counter () function."
   ]
  },
  {
   "cell_type": "code",
   "execution_count": 203,
   "id": "3068dbf7-99b6-45f8-8dde-4c48458f9607",
   "metadata": {},
   "outputs": [],
   "source": [
    "counter = 1\n",
    "\n",
    "def update_counter():\n",
    "    counter += 1\n",
    "    print(counter)"
   ]
  },
  {
   "cell_type": "code",
   "execution_count": 207,
   "id": "a4385496-a291-4bea-a5a3-df7b97d7a804",
   "metadata": {},
   "outputs": [
    {
     "name": "stdout",
     "output_type": "stream",
     "text": [
      "2\n"
     ]
    }
   ],
   "source": [
    "counter = 1\n",
    "\n",
    "def update_counter():\n",
    "    \n",
    "    def inner():\n",
    "        global counter\n",
    "        counter += 1\n",
    "        print(counter)\n",
    "        \n",
    "    inner()\n",
    "    \n",
    "    \n",
    "update_counter()"
   ]
  },
  {
   "cell_type": "markdown",
   "id": "6451fcab-3df1-40d4-980a-1c8ea656ab3c",
   "metadata": {},
   "source": [
    "## task 2\n",
    "### A display_info () function has been specified that has an improperly implemented update_counter () internal function. Correct the implementation of this function so that you can modify non-local variables: counter and dash_counter from the internal function update_counter (). In response, call display_info () with number_of_updates set to 50."
   ]
  },
  {
   "cell_type": "code",
   "execution_count": 209,
   "id": "5fae46a6-1dce-49af-8be5-996a50548464",
   "metadata": {},
   "outputs": [
    {
     "name": "stdout",
     "output_type": "stream",
     "text": [
      "50\n",
      "--------------------------------------------------\n"
     ]
    }
   ],
   "source": [
    "def display_info(number_of_updates=1):\n",
    "    counter = 0\n",
    "    dash_counter = ''\n",
    "\n",
    "    def update_counter():\n",
    "        nonlocal counter\n",
    "        nonlocal dash_counter\n",
    "        counter += 1\n",
    "        dash_counter += '-'\n",
    "    \n",
    "    [update_counter() for _ in range(number_of_updates)]\n",
    "\n",
    "    print(counter)\n",
    "    print(dash_counter)\n",
    "\n",
    "display_info(50)"
   ]
  },
  {
   "cell_type": "code",
   "execution_count": null,
   "id": "8c7425ae-353b-4901-80e0-2c6273c26127",
   "metadata": {},
   "outputs": [],
   "source": []
  }
 ],
 "metadata": {
  "kernelspec": {
   "display_name": "Python 3 (ipykernel)",
   "language": "python",
   "name": "python3"
  },
  "language_info": {
   "codemirror_mode": {
    "name": "ipython",
    "version": 3
   },
   "file_extension": ".py",
   "mimetype": "text/x-python",
   "name": "python",
   "nbconvert_exporter": "python",
   "pygments_lexer": "ipython3",
   "version": "3.9.7"
  }
 },
 "nbformat": 4,
 "nbformat_minor": 5
}
