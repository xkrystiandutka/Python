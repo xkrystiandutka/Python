{
 "cells": [
  {
   "cell_type": "markdown",
   "id": "3562f01b-411f-4af9-95f8-fe9609ce89b3",
   "metadata": {},
   "source": [
    "## LEGB rule\n",
    "### The Python scope concept follows the LEGB (Local, Enclosing, Global and built-in) rule. \n"
   ]
  },
  {
   "cell_type": "code",
   "execution_count": 2,
   "id": "0cbc29af-df7f-475d-bdd2-2779fc69bd85",
   "metadata": {},
   "outputs": [],
   "source": [
    "def sampleFunction():\n",
    "    var1 = 'Python'\n",
    "    print(f'Zmienna var1: {var1}')"
   ]
  },
  {
   "cell_type": "code",
   "execution_count": 4,
   "id": "0ffb8a2e-3e84-46c0-8248-57f257ee6cf8",
   "metadata": {},
   "outputs": [
    {
     "name": "stdout",
     "output_type": "stream",
     "text": [
      "Zmienna var1: Python\n"
     ]
    }
   ],
   "source": [
    "sampleFunction()"
   ]
  },
  {
   "cell_type": "code",
   "execution_count": 23,
   "id": "6f202795-9806-482d-bbaa-d406d73c69e3",
   "metadata": {},
   "outputs": [],
   "source": [
    "#var1"
   ]
  },
  {
   "cell_type": "code",
   "execution_count": 8,
   "id": "077d0d19-a93d-42f9-97db-dc4539132e0c",
   "metadata": {},
   "outputs": [],
   "source": [
    "def sampleFunction2(var1):\n",
    "    var2 = var1 + ' 3.9'\n",
    "    print(f'Zmienna var1: {var1}')\n",
    "    print(f'Zmienna var2: {var2}')"
   ]
  },
  {
   "cell_type": "code",
   "execution_count": 9,
   "id": "305f87b9-be93-4c74-9019-0b6f971c2fe0",
   "metadata": {},
   "outputs": [
    {
     "name": "stdout",
     "output_type": "stream",
     "text": [
      "Zmienna var1: Python\n",
      "Zmienna var2: Python 3.9\n"
     ]
    }
   ],
   "source": [
    "sampleFunction2('Python')"
   ]
  },
  {
   "cell_type": "code",
   "execution_count": 10,
   "id": "1ff62901-fcc8-46a8-b17b-b2ed65d4523e",
   "metadata": {},
   "outputs": [
    {
     "name": "stdout",
     "output_type": "stream",
     "text": [
      "Zmienna var1: Version\n",
      "Zmienna var2: Version 3.9\n"
     ]
    }
   ],
   "source": [
    "sampleFunction2('Version')"
   ]
  },
  {
   "cell_type": "code",
   "execution_count": 24,
   "id": "b68cc383-a16f-45ed-84ee-05c9beeeea6d",
   "metadata": {},
   "outputs": [],
   "source": [
    "#var1"
   ]
  },
  {
   "cell_type": "code",
   "execution_count": 25,
   "id": "b0e16e34-a63e-46b8-8b2a-1bb7bbdb5cb4",
   "metadata": {},
   "outputs": [],
   "source": [
    "#var2"
   ]
  },
  {
   "cell_type": "code",
   "execution_count": 15,
   "id": "b45f5411-26c7-433a-a22b-133e423cf7d2",
   "metadata": {},
   "outputs": [],
   "source": [
    "sampleFunction = lambda word: len(word.replace(' ', ''))"
   ]
  },
  {
   "cell_type": "code",
   "execution_count": 16,
   "id": "fa30bc38-0241-4685-b6bd-fa7772795a53",
   "metadata": {},
   "outputs": [
    {
     "data": {
      "text/plain": [
       "<function __main__.<lambda>(word)>"
      ]
     },
     "execution_count": 16,
     "metadata": {},
     "output_type": "execute_result"
    }
   ],
   "source": [
    "sampleFunction"
   ]
  },
  {
   "cell_type": "code",
   "execution_count": 18,
   "id": "1a467124-8258-4703-a9d3-4e89bb4a113b",
   "metadata": {},
   "outputs": [
    {
     "data": {
      "text/plain": [
       "9"
      ]
     },
     "execution_count": 18,
     "metadata": {},
     "output_type": "execute_result"
    }
   ],
   "source": [
    "sampleFunction('Python 3.9')"
   ]
  },
  {
   "cell_type": "code",
   "execution_count": 26,
   "id": "11b34d88-7b9b-4147-8a07-ee1beec074a9",
   "metadata": {},
   "outputs": [],
   "source": [
    "#word"
   ]
  },
  {
   "cell_type": "code",
   "execution_count": 20,
   "id": "c9fbd68c-752b-4b5e-b3c4-5cc84b7af022",
   "metadata": {},
   "outputs": [
    {
     "data": {
      "text/plain": [
       "<code object <lambda> at 0x000002DBEF7DD920, file \"C:\\Users\\GrfId\\AppData\\Local\\Temp/ipykernel_10628/1210452902.py\", line 1>"
      ]
     },
     "execution_count": 20,
     "metadata": {},
     "output_type": "execute_result"
    }
   ],
   "source": [
    "sampleFunction.__code__"
   ]
  },
  {
   "cell_type": "code",
   "execution_count": 21,
   "id": "e2da4018-484d-4bbe-876c-e76e43fde5f3",
   "metadata": {},
   "outputs": [
    {
     "data": {
      "text/plain": [
       "('word',)"
      ]
     },
     "execution_count": 21,
     "metadata": {},
     "output_type": "execute_result"
    }
   ],
   "source": [
    "sampleFunction.__code__.co_varnames"
   ]
  },
  {
   "cell_type": "code",
   "execution_count": 22,
   "id": "f84e96db-6807-47aa-a00d-9b4ee3c3291e",
   "metadata": {},
   "outputs": [
    {
     "data": {
      "text/plain": [
       "1"
      ]
     },
     "execution_count": 22,
     "metadata": {},
     "output_type": "execute_result"
    }
   ],
   "source": [
    "sampleFunction.__code__.co_argcount"
   ]
  },
  {
   "cell_type": "markdown",
   "id": "5a2eceae-27d9-4e91-9571-cac744bd1b06",
   "metadata": {},
   "source": [
    "## LEGB rule - scope enclosing"
   ]
  },
  {
   "cell_type": "code",
   "execution_count": 37,
   "id": "9c11313a-c4ac-4a22-9a87-204e4c2c0e14",
   "metadata": {},
   "outputs": [],
   "source": [
    "def sampleFunction3():\n",
    "\n",
    "    var1 = 'Python'\n",
    "\n",
    "    def innerFunction():\n",
    "        print(f'Zmienna var1: {var1}')\n",
    "\n",
    "    innerFunction()"
   ]
  },
  {
   "cell_type": "code",
   "execution_count": 38,
   "id": "d7634cea-ecd3-4689-84a7-d0c7d49d9a61",
   "metadata": {},
   "outputs": [
    {
     "name": "stdout",
     "output_type": "stream",
     "text": [
      "Zmienna var1: Python\n"
     ]
    }
   ],
   "source": [
    "sampleFunction3()"
   ]
  },
  {
   "cell_type": "code",
   "execution_count": 46,
   "id": "f44bcfc8-adcd-4c97-92df-c76efa5ee700",
   "metadata": {},
   "outputs": [],
   "source": [
    "#innerFunction()\n",
    "#NameError: name 'innerFunction' is not defined"
   ]
  },
  {
   "cell_type": "code",
   "execution_count": 44,
   "id": "7921d41a-96a6-42bf-9d6c-e39c4034a535",
   "metadata": {},
   "outputs": [],
   "source": [
    "def sampleFunction4():\n",
    "\n",
    "    var1 = 'Python'\n",
    "\n",
    "    def innerFunction():\n",
    "        print(f'Zmienna var1: {var1}')\n",
    "        print(f'Zmienna var2: {var2}')\n",
    "\n",
    "    var2 = '3.9'\n",
    "\n",
    "    innerFunction()"
   ]
  },
  {
   "cell_type": "code",
   "execution_count": 45,
   "id": "0476b1bc-c1b5-4d20-85df-03c34c3267ed",
   "metadata": {},
   "outputs": [
    {
     "name": "stdout",
     "output_type": "stream",
     "text": [
      "Zmienna var1: Python\n",
      "Zmienna var2: 3.9\n"
     ]
    }
   ],
   "source": [
    "sampleFunction4()"
   ]
  },
  {
   "cell_type": "code",
   "execution_count": 48,
   "id": "ec54b43c-07b6-4924-84ad-a21fc5f095a9",
   "metadata": {},
   "outputs": [
    {
     "name": "stdout",
     "output_type": "stream",
     "text": [
      "Zmienna var1: Python\n",
      "Zmienna var1: Java\n",
      "Zmienna var1: Python\n"
     ]
    }
   ],
   "source": [
    "def sampleFunction5():\n",
    "\n",
    "    var1 = 'Python'\n",
    "\n",
    "    def innerFunction():\n",
    "        var1 = 'Java'\n",
    "        print(f'Zmienna var1: {var1}')\n",
    "\n",
    "    print(f'Zmienna var1: {var1}')    \n",
    "\n",
    "    innerFunction()   \n",
    "\n",
    "    print(f'Zmienna var1: {var1}')\n",
    "\n",
    "sampleFunction5()"
   ]
  },
  {
   "cell_type": "code",
   "execution_count": 49,
   "id": "8cd1164a-d38e-4e22-94bb-046601345628",
   "metadata": {},
   "outputs": [
    {
     "name": "stdout",
     "output_type": "stream",
     "text": [
      "Zmienna var1: Python\n",
      "Zmienna var1: Python 3.9\n",
      "Zmienna var1: Python\n"
     ]
    }
   ],
   "source": [
    "def sampleFunction6():\n",
    "\n",
    "    var1 = 'Python'\n",
    "\n",
    "    def innerFunction():\n",
    "        var2 = var1 + ' 3.9'\n",
    "        print(f'Zmienna var1: {var2}')\n",
    "\n",
    "    print(f'Zmienna var1: {var1}')    \n",
    "\n",
    "    innerFunction()   \n",
    "\n",
    "    print(f'Zmienna var1: {var1}')\n",
    "\n",
    "sampleFunction6()"
   ]
  },
  {
   "cell_type": "markdown",
   "id": "8549be8a-17e0-4b5d-a63e-e5c7cabe7143",
   "metadata": {},
   "source": [
    "## LEGB rule - global scope"
   ]
  },
  {
   "cell_type": "code",
   "execution_count": 50,
   "id": "7f7eaa58-9878-40dc-bd77-8d1583dda6d9",
   "metadata": {},
   "outputs": [
    {
     "data": {
      "text/plain": [
       "'__main__'"
      ]
     },
     "execution_count": 50,
     "metadata": {},
     "output_type": "execute_result"
    }
   ],
   "source": [
    "__name__"
   ]
  },
  {
   "cell_type": "code",
   "execution_count": 51,
   "id": "f423f3cf-1209-4b5b-98e6-bfd743f50b2c",
   "metadata": {},
   "outputs": [
    {
     "name": "stdout",
     "output_type": "stream",
     "text": [
      "START\n"
     ]
    }
   ],
   "source": [
    "if __name__ == '__main__':\n",
    "    print('START')"
   ]
  },
  {
   "cell_type": "code",
   "execution_count": 52,
   "id": "cdd3826c-c37b-452a-a521-18c84f9a69af",
   "metadata": {},
   "outputs": [
    {
     "name": "stdout",
     "output_type": "stream",
     "text": [
      "Help on built-in function globals in module builtins:\n",
      "\n",
      "globals()\n",
      "    Return the dictionary containing the current scope's global variables.\n",
      "    \n",
      "    NOTE: Updates to this dictionary *will* affect name lookups in the current\n",
      "    global scope and vice-versa.\n",
      "\n"
     ]
    }
   ],
   "source": [
    "help(globals)"
   ]
  },
  {
   "cell_type": "code",
   "execution_count": 54,
   "id": "757915e6-9353-45cc-88a9-1b14f28a919f",
   "metadata": {},
   "outputs": [],
   "source": [
    "#globals()"
   ]
  },
  {
   "cell_type": "code",
   "execution_count": 55,
   "id": "01860cb2-55d1-48f7-a4db-9e0ebfbe532c",
   "metadata": {},
   "outputs": [
    {
     "data": {
      "text/plain": [
       "'Automatically created module for IPython interactive environment'"
      ]
     },
     "execution_count": 55,
     "metadata": {},
     "output_type": "execute_result"
    }
   ],
   "source": [
    "__doc__"
   ]
  },
  {
   "cell_type": "code",
   "execution_count": 57,
   "id": "94318f8d-1b02-4697-ba11-86cdd33a138d",
   "metadata": {},
   "outputs": [],
   "source": [
    "var1 = 'Python'\n",
    "var2 = '3.9'\n",
    "var3 = var1 + ' ' + var2"
   ]
  },
  {
   "cell_type": "code",
   "execution_count": 64,
   "id": "6c44b8ae-8d9b-4034-9cab-18802e51c017",
   "metadata": {},
   "outputs": [],
   "source": [
    "#globals()"
   ]
  },
  {
   "cell_type": "code",
   "execution_count": 65,
   "id": "255432a5-6282-4305-b71d-aef7428af333",
   "metadata": {},
   "outputs": [
    {
     "name": "stdout",
     "output_type": "stream",
     "text": [
      "10\n"
     ]
    }
   ],
   "source": [
    "var1 = 10\n",
    "print(var1)"
   ]
  },
  {
   "cell_type": "code",
   "execution_count": 74,
   "id": "b183cf81-3a68-41c8-82d1-cd812bb39108",
   "metadata": {},
   "outputs": [
    {
     "name": "stdout",
     "output_type": "stream",
     "text": [
      "10\n"
     ]
    }
   ],
   "source": [
    "def sampleFunction7():\n",
    "    print(var1)\n",
    "\n",
    "sampleFunction7()"
   ]
  },
  {
   "cell_type": "code",
   "execution_count": 75,
   "id": "11f936b8-1d38-404c-a55c-c6e82babdd8d",
   "metadata": {},
   "outputs": [
    {
     "name": "stdout",
     "output_type": "stream",
     "text": [
      "3.9\n"
     ]
    }
   ],
   "source": [
    "def sampleFunction8():\n",
    "    var1 = '3.9'\n",
    "    print(var1)\n",
    "\n",
    "sampleFunction8()"
   ]
  },
  {
   "cell_type": "code",
   "execution_count": 77,
   "id": "e220525b-7bd2-464e-a13c-4100c74897b3",
   "metadata": {},
   "outputs": [
    {
     "name": "stdout",
     "output_type": "stream",
     "text": [
      "10\n",
      "3.9\n",
      "10\n"
     ]
    }
   ],
   "source": [
    "var1 = 10\n",
    "\n",
    "def sampleFunction9():\n",
    "    var1 = '3.9'\n",
    "    print(var1)\n",
    "\n",
    "print(var1)\n",
    "sampleFunction9()\n",
    "print(var1)"
   ]
  },
  {
   "cell_type": "code",
   "execution_count": 96,
   "id": "cef2b409-dc10-4ca3-9e6f-3732d598da69",
   "metadata": {},
   "outputs": [],
   "source": [
    "var1 = 0\n",
    "\n",
    "#def update():\n",
    "    #var1 = var1 + 1\n",
    "    #UnboundLocalError: local variable 'var1' referenced before assignment\n",
    "#update()"
   ]
  },
  {
   "cell_type": "code",
   "execution_count": 86,
   "id": "c5a2f673-6873-4892-8f8e-b776dd4f331c",
   "metadata": {},
   "outputs": [
    {
     "name": "stdout",
     "output_type": "stream",
     "text": [
      "0\n"
     ]
    }
   ],
   "source": [
    "var1 = 0\n",
    "\n",
    "def update():\n",
    "    # var1 = var1 + 1\n",
    "    print(var1)\n",
    "\n",
    "update()"
   ]
  },
  {
   "cell_type": "code",
   "execution_count": 87,
   "id": "591d6f83-9ded-4792-91a0-8892e5d64be7",
   "metadata": {},
   "outputs": [
    {
     "name": "stdout",
     "output_type": "stream",
     "text": [
      "0\n"
     ]
    }
   ],
   "source": [
    "var1 = 0\n",
    "\n",
    "def update():\n",
    "    print(var1)\n",
    "    #var1 = var1 + 1\n",
    "\n",
    "update()"
   ]
  },
  {
   "cell_type": "markdown",
   "id": "fcd86b94-d27c-4b94-8237-3fb2b0fb6ae0",
   "metadata": {},
   "source": [
    "## LEGB rule - local scope vs. including vs. global"
   ]
  },
  {
   "cell_type": "code",
   "execution_count": 97,
   "id": "321ac687-8ab4-4dcf-a999-72ce11093d70",
   "metadata": {},
   "outputs": [
    {
     "name": "stdout",
     "output_type": "stream",
     "text": [
      "globalny\n",
      "lokalny funkcji sampleFunction10/obejmujący\n",
      "lokalny funkcji innerFunction\n",
      "lokalny funkcji sampleFunction10/obejmujący\n",
      "globalny\n"
     ]
    }
   ],
   "source": [
    "var1 = 'globalny'\n",
    "\n",
    "def sampleFunction10():\n",
    "\n",
    "    var1 = 'lokalny funkcji sampleFunction10/obejmujący'\n",
    "    print(var1)\n",
    "\n",
    "    def innerFunction():\n",
    "\n",
    "        var1 = 'lokalny funkcji innerFunction'\n",
    "        print(var1)\n",
    "\n",
    "    innerFunction()\n",
    "\n",
    "    print(var1)\n",
    "\n",
    "print(var1)\n",
    "sampleFunction10()\n",
    "print(var1)"
   ]
  },
  {
   "cell_type": "code",
   "execution_count": 98,
   "id": "39941635-7b9f-45e4-bc9b-810feb823e25",
   "metadata": {},
   "outputs": [
    {
     "name": "stdout",
     "output_type": "stream",
     "text": [
      "globalny\n",
      "globalny\n",
      "globalny\n",
      "globalny\n",
      "globalny\n"
     ]
    }
   ],
   "source": [
    "var1 = 'globalny'\n",
    "\n",
    "def sampleFunction11():\n",
    "\n",
    "    print(var1)\n",
    "\n",
    "    def innerFunction():\n",
    "\n",
    "        print(var1)\n",
    "\n",
    "    innerFunction()\n",
    "\n",
    "    print(var1)\n",
    "\n",
    "print(var1)\n",
    "sampleFunction11()\n",
    "print(var1)"
   ]
  },
  {
   "cell_type": "code",
   "execution_count": 99,
   "id": "a64ad4e1-1197-468c-80b6-c0b8d0c6d5c3",
   "metadata": {},
   "outputs": [
    {
     "name": "stdout",
     "output_type": "stream",
     "text": [
      "globalny\n",
      "lokalny funkcji sampleFunction12/obejmujący\n",
      "lokalny funkcji sampleFunction12/obejmujący\n",
      "lokalny funkcji sampleFunction12/obejmujący\n",
      "globalny\n"
     ]
    }
   ],
   "source": [
    "var1 = 'globalny'\n",
    "\n",
    "def sampleFunction12():\n",
    "\n",
    "    var1 = 'lokalny funkcji sampleFunction12/obejmujący'\n",
    "    print(var1)\n",
    "\n",
    "    def innerFunction():\n",
    "\n",
    "        print(var1)\n",
    "\n",
    "    innerFunction()\n",
    "\n",
    "    print(var1)\n",
    "\n",
    "print(var1)\n",
    "sampleFunction12()\n",
    "print(var1)"
   ]
  },
  {
   "cell_type": "markdown",
   "id": "f29e7a52-be97-45db-bc03-87fcf5805d70",
   "metadata": {},
   "source": [
    "## LEGB rule - built-in scope"
   ]
  },
  {
   "cell_type": "code",
   "execution_count": 100,
   "id": "65cd66b0-d111-4966-9e2e-662083a15c70",
   "metadata": {},
   "outputs": [
    {
     "data": {
      "text/plain": [
       "<module 'builtins' (built-in)>"
      ]
     },
     "execution_count": 100,
     "metadata": {},
     "output_type": "execute_result"
    }
   ],
   "source": [
    "__builtins__"
   ]
  },
  {
   "cell_type": "code",
   "execution_count": 102,
   "id": "07ea613f-7bb7-492f-b750-cdad1b938d32",
   "metadata": {},
   "outputs": [],
   "source": [
    "#dir(__builtins__)"
   ]
  },
  {
   "cell_type": "code",
   "execution_count": 103,
   "id": "9d288cee-bc87-4e15-902a-4df15afccff0",
   "metadata": {},
   "outputs": [
    {
     "data": {
      "text/plain": [
       "156"
      ]
     },
     "execution_count": 103,
     "metadata": {},
     "output_type": "execute_result"
    }
   ],
   "source": [
    "len(dir(__builtins__))"
   ]
  },
  {
   "cell_type": "code",
   "execution_count": 105,
   "id": "af3ae117-4854-4143-aab2-ccd49f370773",
   "metadata": {},
   "outputs": [],
   "source": [
    "import builtins\n",
    "\n",
    "\n",
    "#help(builtins)"
   ]
  },
  {
   "cell_type": "code",
   "execution_count": 106,
   "id": "ce2d96db-c271-4f95-92a4-7fa3c8e03586",
   "metadata": {},
   "outputs": [
    {
     "name": "stdout",
     "output_type": "stream",
     "text": [
      "Help on built-in function max in module builtins:\n",
      "\n",
      "max(...)\n",
      "    max(iterable, *[, default=obj, key=func]) -> value\n",
      "    max(arg1, arg2, *args, *[, key=func]) -> value\n",
      "    \n",
      "    With a single iterable argument, return its biggest item. The\n",
      "    default keyword-only argument specifies an object to return if\n",
      "    the provided iterable is empty.\n",
      "    With two or more arguments, return the largest argument.\n",
      "\n"
     ]
    }
   ],
   "source": [
    "help(builtins.max)"
   ]
  },
  {
   "cell_type": "code",
   "execution_count": 107,
   "id": "43f8e6b8-4230-4104-ba7f-e6ae473ac456",
   "metadata": {},
   "outputs": [
    {
     "data": {
      "text/plain": [
       "5"
      ]
     },
     "execution_count": 107,
     "metadata": {},
     "output_type": "execute_result"
    }
   ],
   "source": [
    "builtins.max([5, 3, -3])"
   ]
  },
  {
   "cell_type": "code",
   "execution_count": 108,
   "id": "efff20bb-aa5b-44cf-b7df-783ab0c2f89b",
   "metadata": {},
   "outputs": [
    {
     "data": {
      "text/plain": [
       "5"
      ]
     },
     "execution_count": 108,
     "metadata": {},
     "output_type": "execute_result"
    }
   ],
   "source": [
    "max([5, 4, 2])"
   ]
  },
  {
   "cell_type": "code",
   "execution_count": 109,
   "id": "1fdc3e1a-10b8-403f-be97-e043a45c0af3",
   "metadata": {},
   "outputs": [
    {
     "data": {
      "text/plain": [
       "<enumerate at 0x2dbeeb9cb00>"
      ]
     },
     "execution_count": 109,
     "metadata": {},
     "output_type": "execute_result"
    }
   ],
   "source": [
    "builtins.enumerate('Python')"
   ]
  },
  {
   "cell_type": "code",
   "execution_count": 110,
   "id": "c54219b3-8ed7-4f03-98f6-65abb80a54f6",
   "metadata": {},
   "outputs": [
    {
     "data": {
      "text/plain": [
       "[(0, 'P'), (1, 'y'), (2, 't'), (3, 'h'), (4, 'o'), (5, 'n')]"
      ]
     },
     "execution_count": 110,
     "metadata": {},
     "output_type": "execute_result"
    }
   ],
   "source": [
    "builtins.list(builtins.enumerate('Python'))"
   ]
  },
  {
   "cell_type": "code",
   "execution_count": 111,
   "id": "de9fd571-577d-4eb0-9d27-2faff5f46367",
   "metadata": {},
   "outputs": [
    {
     "data": {
      "text/plain": [
       "[(0, 'P'), (1, 'y'), (2, 't'), (3, 'h'), (4, 'o'), (5, 'n')]"
      ]
     },
     "execution_count": 111,
     "metadata": {},
     "output_type": "execute_result"
    }
   ],
   "source": [
    "list(enumerate('Python'))"
   ]
  },
  {
   "cell_type": "code",
   "execution_count": 112,
   "id": "0b000226-d2a1-476e-a0a4-46575cf4d1fb",
   "metadata": {},
   "outputs": [
    {
     "data": {
      "text/plain": [
       "<function max>"
      ]
     },
     "execution_count": 112,
     "metadata": {},
     "output_type": "execute_result"
    }
   ],
   "source": [
    "max"
   ]
  },
  {
   "cell_type": "code",
   "execution_count": 113,
   "id": "4577fcd4-6538-4330-8bb9-53c591d595d4",
   "metadata": {},
   "outputs": [
    {
     "data": {
      "text/plain": [
       "<function __main__.<lambda>(x)>"
      ]
     },
     "execution_count": 113,
     "metadata": {},
     "output_type": "execute_result"
    }
   ],
   "source": [
    "max = lambda x: min(x)\n",
    "max"
   ]
  },
  {
   "cell_type": "code",
   "execution_count": 114,
   "id": "f2ce25f1-d4cf-4e60-a9c7-4c49db1b382b",
   "metadata": {},
   "outputs": [
    {
     "data": {
      "text/plain": [
       "-3"
      ]
     },
     "execution_count": 114,
     "metadata": {},
     "output_type": "execute_result"
    }
   ],
   "source": [
    "max([4, -3])"
   ]
  },
  {
   "cell_type": "code",
   "execution_count": 115,
   "id": "4bbcc588-f0d7-48b6-8161-ac577c0c7591",
   "metadata": {},
   "outputs": [],
   "source": [
    "del max"
   ]
  },
  {
   "cell_type": "code",
   "execution_count": 116,
   "id": "8a79d382-e5fd-4714-8859-e9c3498be20d",
   "metadata": {},
   "outputs": [
    {
     "data": {
      "text/plain": [
       "<function max>"
      ]
     },
     "execution_count": 116,
     "metadata": {},
     "output_type": "execute_result"
    }
   ],
   "source": [
    "max"
   ]
  },
  {
   "cell_type": "code",
   "execution_count": 118,
   "id": "6445e121-bb7a-4590-90af-2584628fe378",
   "metadata": {},
   "outputs": [
    {
     "data": {
      "text/plain": [
       "4"
      ]
     },
     "execution_count": 118,
     "metadata": {},
     "output_type": "execute_result"
    }
   ],
   "source": [
    "max([4, -3])"
   ]
  },
  {
   "cell_type": "code",
   "execution_count": 119,
   "id": "895eae38-3ea0-4107-9761-775f885fd884",
   "metadata": {},
   "outputs": [
    {
     "data": {
      "text/plain": [
       "'y'"
      ]
     },
     "execution_count": 119,
     "metadata": {},
     "output_type": "execute_result"
    }
   ],
   "source": [
    "max('Python')"
   ]
  },
  {
   "cell_type": "code",
   "execution_count": 120,
   "id": "2bbd56bc-b74d-4830-8319-7393e2f4c191",
   "metadata": {},
   "outputs": [
    {
     "data": {
      "text/plain": [
       "'python'"
      ]
     },
     "execution_count": 120,
     "metadata": {},
     "output_type": "execute_result"
    }
   ],
   "source": [
    "max(['python', 'java'])"
   ]
  },
  {
   "cell_type": "code",
   "execution_count": 121,
   "id": "5d5d521e-13ea-4276-809a-d42e553f4e92",
   "metadata": {},
   "outputs": [
    {
     "data": {
      "text/plain": [
       "9"
      ]
     },
     "execution_count": 121,
     "metadata": {},
     "output_type": "execute_result"
    }
   ],
   "source": [
    "def calc(x, y):\n",
    "    return max(x, y)\n",
    "\n",
    "calc(4, 9)"
   ]
  },
  {
   "cell_type": "code",
   "execution_count": 122,
   "id": "f9609594-f818-4c14-8eb1-1a9fc1b8d4d5",
   "metadata": {},
   "outputs": [
    {
     "name": "stdout",
     "output_type": "stream",
     "text": [
      "Wywołanie...\n"
     ]
    },
    {
     "data": {
      "text/plain": [
       "9"
      ]
     },
     "execution_count": 122,
     "metadata": {},
     "output_type": "execute_result"
    }
   ],
   "source": [
    "def calc(x, y):\n",
    "\n",
    "    def max(x, y):\n",
    "        print('Wywołanie...')\n",
    "        if x >= y:\n",
    "            return x\n",
    "        else:\n",
    "            return y\n",
    "            \n",
    "    return max(x, y)\n",
    "\n",
    "calc(4, 9)"
   ]
  },
  {
   "cell_type": "code",
   "execution_count": 123,
   "id": "eb3a7fc1-42fd-4120-a83c-0cb897096683",
   "metadata": {},
   "outputs": [
    {
     "data": {
      "text/plain": [
       "5"
      ]
     },
     "execution_count": 123,
     "metadata": {},
     "output_type": "execute_result"
    }
   ],
   "source": [
    "max([5, 3])"
   ]
  },
  {
   "cell_type": "code",
   "execution_count": 124,
   "id": "cc5b0f11-b9b9-4ea0-81c2-3bfb1cd9bc20",
   "metadata": {},
   "outputs": [
    {
     "name": "stdout",
     "output_type": "stream",
     "text": [
      "Wywołanie...\n"
     ]
    },
    {
     "data": {
      "text/plain": [
       "9"
      ]
     },
     "execution_count": 124,
     "metadata": {},
     "output_type": "execute_result"
    }
   ],
   "source": [
    "def calc(x, y):\n",
    "\n",
    "    def max(x, y):\n",
    "        print('Wywołanie...')\n",
    "        return x if x >= y else y\n",
    "            \n",
    "    return max(x, y)\n",
    "\n",
    "calc(4, 9)"
   ]
  },
  {
   "cell_type": "code",
   "execution_count": 129,
   "id": "b84c821c-9cc6-40cd-82a8-0f80d716442e",
   "metadata": {},
   "outputs": [
    {
     "name": "stdout",
     "output_type": "stream",
     "text": [
      "Wywołanie...\n"
     ]
    },
    {
     "data": {
      "text/plain": [
       "9"
      ]
     },
     "execution_count": 129,
     "metadata": {},
     "output_type": "execute_result"
    }
   ],
   "source": [
    "def calc(x, y):\n",
    "\n",
    "    def max(x, y):\n",
    "        print('Wywołanie...')\n",
    "        return x if x >= y else y\n",
    "\n",
    "    result = max(x, y)\n",
    "            \n",
    "    return result\n",
    "\n",
    "calc(4, 9)"
   ]
  },
  {
   "cell_type": "markdown",
   "id": "649de4e1-63cc-40ed-8be0-61afa288e6f5",
   "metadata": {},
   "source": [
    "## Instruction global"
   ]
  },
  {
   "cell_type": "code",
   "execution_count": 131,
   "id": "4dc937d7-0ab6-4a3c-9fd8-1f73f23c8c7d",
   "metadata": {},
   "outputs": [
    {
     "name": "stdout",
     "output_type": "stream",
     "text": [
      "10\n"
     ]
    }
   ],
   "source": [
    "def sample1():\n",
    "    var1 = 10\n",
    "    print(var1)\n",
    "\n",
    "sample1()"
   ]
  },
  {
   "cell_type": "code",
   "execution_count": 134,
   "id": "a31a5383-1c5a-46a2-94a1-be76a236d183",
   "metadata": {},
   "outputs": [],
   "source": [
    "#print(var1)"
   ]
  },
  {
   "cell_type": "code",
   "execution_count": 136,
   "id": "29371527-5048-440f-87a3-d60943959ab3",
   "metadata": {},
   "outputs": [
    {
     "name": "stdout",
     "output_type": "stream",
     "text": [
      "10\n"
     ]
    }
   ],
   "source": [
    "def sample2():\n",
    "    global var1 \n",
    "    var1 = 10\n",
    "    print(var1)\n",
    "\n",
    "sample2()"
   ]
  },
  {
   "cell_type": "code",
   "execution_count": 137,
   "id": "be28c2e1-1299-4fa3-a8c1-e28b9656e3db",
   "metadata": {},
   "outputs": [
    {
     "name": "stdout",
     "output_type": "stream",
     "text": [
      "10\n"
     ]
    }
   ],
   "source": [
    "print(var1)"
   ]
  },
  {
   "cell_type": "code",
   "execution_count": 139,
   "id": "fae3b339-21d4-42bb-b8a4-e6580508c373",
   "metadata": {},
   "outputs": [
    {
     "name": "stdout",
     "output_type": "stream",
     "text": [
      "20\n"
     ]
    }
   ],
   "source": [
    "var1 = 20\n",
    "\n",
    "def sample3():\n",
    "    print(var1)\n",
    "\n",
    "sample3()"
   ]
  },
  {
   "cell_type": "code",
   "execution_count": 140,
   "id": "5285ab39-9668-45d6-9a02-c09051cd0ed4",
   "metadata": {},
   "outputs": [
    {
     "data": {
      "text/plain": [
       "20"
      ]
     },
     "execution_count": 140,
     "metadata": {},
     "output_type": "execute_result"
    }
   ],
   "source": [
    "var1"
   ]
  },
  {
   "cell_type": "code",
   "execution_count": 141,
   "id": "40a6912e-555b-4977-9e9c-d5aa3ebc7102",
   "metadata": {},
   "outputs": [
    {
     "name": "stdout",
     "output_type": "stream",
     "text": [
      "40\n"
     ]
    }
   ],
   "source": [
    "var1 = 20\n",
    "\n",
    "def sample4():\n",
    "    global var1\n",
    "    var1 = 40\n",
    "    print(var1)\n",
    "\n",
    "sample4()"
   ]
  },
  {
   "cell_type": "code",
   "execution_count": 142,
   "id": "9a377397-b259-4ee6-a8bd-93fdb3b29a63",
   "metadata": {},
   "outputs": [
    {
     "data": {
      "text/plain": [
       "40"
      ]
     },
     "execution_count": 142,
     "metadata": {},
     "output_type": "execute_result"
    }
   ],
   "source": [
    "var1"
   ]
  },
  {
   "cell_type": "code",
   "execution_count": 144,
   "id": "27e73aff-22b0-46f2-a742-6f889cb96436",
   "metadata": {},
   "outputs": [],
   "source": [
    "#var1 = 20\n",
    "\n",
    "#def sample5():\n",
    "#   var1 += 40\n",
    "#   print(var1)\n",
    "\n",
    "#sample5()\n",
    "#UnboundLocalError: local variable 'var1' referenced before assignment"
   ]
  },
  {
   "cell_type": "code",
   "execution_count": 145,
   "id": "5a97a149-c2df-4372-b9af-3a589e278c24",
   "metadata": {},
   "outputs": [
    {
     "name": "stdout",
     "output_type": "stream",
     "text": [
      "60\n"
     ]
    }
   ],
   "source": [
    "var1 = 20\n",
    "\n",
    "def sample6():\n",
    "    global var1\n",
    "    var1 += 40\n",
    "    print(var1)\n",
    "\n",
    "sample6()"
   ]
  },
  {
   "cell_type": "code",
   "execution_count": 146,
   "id": "e47fe363-1721-4231-85d7-71da2b62ce05",
   "metadata": {},
   "outputs": [],
   "source": [
    "def sample7():\n",
    "    global num1, num2 \n",
    "    num1, num2 = 4, 2\n",
    "\n",
    "sample7()"
   ]
  },
  {
   "cell_type": "code",
   "execution_count": 147,
   "id": "09e88fbc-d346-4a4c-9a0c-e8395220b54a",
   "metadata": {},
   "outputs": [
    {
     "data": {
      "text/plain": [
       "4"
      ]
     },
     "execution_count": 147,
     "metadata": {},
     "output_type": "execute_result"
    }
   ],
   "source": [
    "num1"
   ]
  },
  {
   "cell_type": "code",
   "execution_count": 148,
   "id": "9d8779f4-316d-4a9c-bdd5-91b8477154cf",
   "metadata": {},
   "outputs": [
    {
     "data": {
      "text/plain": [
       "2"
      ]
     },
     "execution_count": 148,
     "metadata": {},
     "output_type": "execute_result"
    }
   ],
   "source": [
    "num2"
   ]
  },
  {
   "cell_type": "markdown",
   "id": "1680ea07-e97a-4c04-adf0-f310981bd6c3",
   "metadata": {},
   "source": [
    "## Instruction nonlocal"
   ]
  },
  {
   "cell_type": "code",
   "execution_count": 152,
   "id": "319cbb2a-6dcf-4e36-bf30-deb7eb4b3cf6",
   "metadata": {},
   "outputs": [
    {
     "name": "stdout",
     "output_type": "stream",
     "text": [
      "10\n"
     ]
    }
   ],
   "source": [
    "def sample():\n",
    "    \n",
    "    num1 = 10\n",
    "        \n",
    "    def inner():\n",
    "         print(num1)\n",
    "\n",
    "    inner()\n",
    "\n",
    "sample()"
   ]
  },
  {
   "cell_type": "code",
   "execution_count": 153,
   "id": "ea6f4556-1920-49e5-b690-7b725fcf613a",
   "metadata": {},
   "outputs": [
    {
     "name": "stdout",
     "output_type": "stream",
     "text": [
      "10\n",
      "20\n",
      "10\n"
     ]
    }
   ],
   "source": [
    "def sample():\n",
    "\n",
    "    num1 = 10\n",
    "\n",
    "    def inner():\n",
    "        num1 = 20\n",
    "        print(num1)\n",
    "\n",
    "    print(num1)\n",
    "    inner()\n",
    "    print(num1)\n",
    "\n",
    "sample()"
   ]
  },
  {
   "cell_type": "code",
   "execution_count": 154,
   "id": "45d0d75a-880b-4600-a9d6-ece2a1ae3b02",
   "metadata": {},
   "outputs": [
    {
     "name": "stdout",
     "output_type": "stream",
     "text": [
      "10\n",
      "20\n",
      "20\n"
     ]
    }
   ],
   "source": [
    "def sample():\n",
    "\n",
    "    num1 = 10\n",
    "\n",
    "    def inner():\n",
    "        nonlocal num1\n",
    "        num1 = 20\n",
    "        print(num1)\n",
    "\n",
    "    print(num1)\n",
    "    inner()\n",
    "    print(num1)\n",
    "\n",
    "sample()"
   ]
  },
  {
   "cell_type": "code",
   "execution_count": 166,
   "id": "6e35abd5-afeb-46c2-9a82-25133dc4c979",
   "metadata": {},
   "outputs": [],
   "source": [
    "def sample():\n",
    "\n",
    "    num1 = 10\n",
    "\n",
    "    def inner():\n",
    "        num1 += 20\n",
    "        print(num1)\n",
    "\n",
    "    print(num1)\n",
    "    inner()\n",
    "    print(num1)\n",
    "\n",
    "#sample()\n",
    "#UnboundLocalError: local variable 'num1' referenced before assignment"
   ]
  },
  {
   "cell_type": "code",
   "execution_count": 157,
   "id": "f4ca0466-28ab-4cbe-9297-1c8814fe5b9d",
   "metadata": {},
   "outputs": [
    {
     "name": "stdout",
     "output_type": "stream",
     "text": [
      "10\n",
      "30\n",
      "30\n"
     ]
    }
   ],
   "source": [
    "def sample():\n",
    "\n",
    "    num1 = 10\n",
    "\n",
    "    def inner():\n",
    "        nonlocal num1\n",
    "        num1 += 20\n",
    "        print(num1)\n",
    "\n",
    "    print(num1)\n",
    "    inner()\n",
    "    print(num1)\n",
    "\n",
    "sample()"
   ]
  },
  {
   "cell_type": "code",
   "execution_count": 159,
   "id": "36d848cd-6ce3-49ee-82cd-27e34a7c939c",
   "metadata": {},
   "outputs": [],
   "source": [
    "def sample():\n",
    "    #nonlocal num1\n",
    "    num1 = 10\n",
    "\n",
    "sample()\n",
    "#SyntaxError: no binding for nonlocal 'num1' found"
   ]
  },
  {
   "cell_type": "code",
   "execution_count": 162,
   "id": "31015eea-73b6-400b-9eb1-035e706e3478",
   "metadata": {},
   "outputs": [],
   "source": [
    "def sample():\n",
    "\n",
    "    def inner():\n",
    "        #nonlocal num1\n",
    "        num1 += 20\n",
    "        print(num1)\n",
    "\n",
    "    print(num1)\n",
    "    inner()\n",
    "    print(num1)\n",
    "\n",
    "#sample()\n",
    "#SyntaxError: no binding for nonlocal 'num1' found"
   ]
  },
  {
   "cell_type": "code",
   "execution_count": 163,
   "id": "43e0e291-6428-48ba-89b4-685551b53ddc",
   "metadata": {},
   "outputs": [
    {
     "name": "stdout",
     "output_type": "stream",
     "text": [
      "100\n",
      "120\n",
      "120\n"
     ]
    }
   ],
   "source": [
    "def sample():\n",
    "\n",
    "    def inner():\n",
    "        nonlocal num1\n",
    "        num1 += 20\n",
    "        print(num1)\n",
    "\n",
    "    num1 = 100\n",
    "\n",
    "    print(num1)\n",
    "    inner()\n",
    "    print(num1)\n",
    "\n",
    "sample()"
   ]
  },
  {
   "cell_type": "code",
   "execution_count": 165,
   "id": "8bcad0b9-07dd-453d-99a4-b8ea3c74f413",
   "metadata": {},
   "outputs": [],
   "source": [
    "def sample():\n",
    "\n",
    "    def inner():\n",
    "        nonlocal num1\n",
    "        num1 += 20\n",
    "        print(num1)\n",
    "\n",
    "    print(num1)\n",
    "    inner()\n",
    "    num1 = 100\n",
    "    print(num1)\n",
    "\n",
    "#sample()\n",
    "#UnboundLocalError: local variable 'num1' referenced before assignment"
   ]
  },
  {
   "cell_type": "code",
   "execution_count": null,
   "id": "aeef539d-a462-4d26-ad92-8aefd8596af8",
   "metadata": {},
   "outputs": [],
   "source": []
  }
 ],
 "metadata": {
  "kernelspec": {
   "display_name": "Python 3 (ipykernel)",
   "language": "python",
   "name": "python3"
  },
  "language_info": {
   "codemirror_mode": {
    "name": "ipython",
    "version": 3
   },
   "file_extension": ".py",
   "mimetype": "text/x-python",
   "name": "python",
   "nbconvert_exporter": "python",
   "pygments_lexer": "ipython3",
   "version": "3.9.7"
  }
 },
 "nbformat": 4,
 "nbformat_minor": 5
}
