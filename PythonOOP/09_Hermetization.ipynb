{
 "cells": [
  {
   "cell_type": "markdown",
   "id": "76095ba1-d4c9-4b27-9a35-cdcdab529ad7",
   "metadata": {},
   "source": [
    "# Hermetization"
   ]
  },
  {
   "cell_type": "code",
   "execution_count": 1,
   "id": "37bbdfe2-1cab-4a5c-ac9e-35f509263174",
   "metadata": {},
   "outputs": [
    {
     "data": {
      "text/plain": [
       "{'price': 2490}"
      ]
     },
     "execution_count": 1,
     "metadata": {},
     "output_type": "execute_result"
    }
   ],
   "source": [
    "class Phone:\n",
    "\n",
    "    def __init__(self, price):\n",
    "        self.price = price\n",
    "\n",
    "phone = Phone(2490)\n",
    "phone.__dict__"
   ]
  },
  {
   "cell_type": "code",
   "execution_count": 2,
   "id": "3848fc6b-937c-421c-92ba-7bb084176718",
   "metadata": {},
   "outputs": [
    {
     "data": {
      "text/plain": [
       "{'price': 'Apple'}"
      ]
     },
     "execution_count": 2,
     "metadata": {},
     "output_type": "execute_result"
    }
   ],
   "source": [
    "phone = Phone('Apple')\n",
    "phone.__dict__"
   ]
  },
  {
   "cell_type": "code",
   "execution_count": 3,
   "id": "f085cb5b-f7f0-487b-b610-97fb4d9a4b29",
   "metadata": {},
   "outputs": [
    {
     "data": {
      "text/plain": [
       "{'price': 2490}"
      ]
     },
     "execution_count": 3,
     "metadata": {},
     "output_type": "execute_result"
    }
   ],
   "source": [
    "phone = Phone(2490)\n",
    "phone.__dict__"
   ]
  },
  {
   "cell_type": "code",
   "execution_count": 4,
   "id": "4da7a09a-24b9-4531-9d3a-9b3b110dc8ea",
   "metadata": {},
   "outputs": [],
   "source": [
    "phone.price = 'John'"
   ]
  },
  {
   "cell_type": "code",
   "execution_count": 5,
   "id": "b78cfde3-ddcf-4b2f-aa40-3d3e7290e15f",
   "metadata": {},
   "outputs": [
    {
     "data": {
      "text/plain": [
       "'John'"
      ]
     },
     "execution_count": 5,
     "metadata": {},
     "output_type": "execute_result"
    }
   ],
   "source": [
    "phone.price"
   ]
  },
  {
   "cell_type": "code",
   "execution_count": 6,
   "id": "b4a45ab2-0fc4-4276-9d8c-8756cccfe003",
   "metadata": {},
   "outputs": [
    {
     "data": {
      "text/plain": [
       "{'_price': 2490}"
      ]
     },
     "execution_count": 6,
     "metadata": {},
     "output_type": "execute_result"
    }
   ],
   "source": [
    "class Phone:\n",
    "\n",
    "    def __init__(self, price):\n",
    "        self._price = price\n",
    "\n",
    "    def get_price(self):\n",
    "        return self._price\n",
    "\n",
    "    def set_price(self, value):\n",
    "        self._price = value\n",
    "\n",
    "phone = Phone(2490)\n",
    "phone.__dict__"
   ]
  },
  {
   "cell_type": "code",
   "execution_count": 7,
   "id": "d15598be-3730-4c21-bb89-d6cc07f7a6a7",
   "metadata": {},
   "outputs": [
    {
     "data": {
      "text/plain": [
       "2490"
      ]
     },
     "execution_count": 7,
     "metadata": {},
     "output_type": "execute_result"
    }
   ],
   "source": [
    "phone.get_price()"
   ]
  },
  {
   "cell_type": "code",
   "execution_count": 8,
   "id": "88ab8d4f-8ade-45b3-9af2-dc89e8b31ac7",
   "metadata": {},
   "outputs": [],
   "source": [
    "phone.set_price(3000)"
   ]
  },
  {
   "cell_type": "code",
   "execution_count": 9,
   "id": "52c93cfb-ca83-4490-809d-644553dfd66b",
   "metadata": {},
   "outputs": [
    {
     "data": {
      "text/plain": [
       "3000"
      ]
     },
     "execution_count": 9,
     "metadata": {},
     "output_type": "execute_result"
    }
   ],
   "source": [
    "phone.get_price()"
   ]
  },
  {
   "cell_type": "code",
   "execution_count": 10,
   "id": "bc66998e-6ac6-443d-9260-7ac75fe95802",
   "metadata": {},
   "outputs": [
    {
     "data": {
      "text/plain": [
       "{'_price': 3000}"
      ]
     },
     "execution_count": 10,
     "metadata": {},
     "output_type": "execute_result"
    }
   ],
   "source": [
    "phone.__dict__"
   ]
  },
  {
   "cell_type": "code",
   "execution_count": 11,
   "id": "811152c7-f3f7-46c2-9159-8710108d3bd8",
   "metadata": {},
   "outputs": [
    {
     "data": {
      "text/plain": [
       "3000"
      ]
     },
     "execution_count": 11,
     "metadata": {},
     "output_type": "execute_result"
    }
   ],
   "source": [
    "phone._price"
   ]
  },
  {
   "cell_type": "code",
   "execution_count": null,
   "id": "9d20464a-c6c5-49c8-b6c8-889c00b92dfc",
   "metadata": {},
   "outputs": [],
   "source": []
  }
 ],
 "metadata": {
  "kernelspec": {
   "display_name": "Python 3 (ipykernel)",
   "language": "python",
   "name": "python3"
  },
  "language_info": {
   "codemirror_mode": {
    "name": "ipython",
    "version": 3
   },
   "file_extension": ".py",
   "mimetype": "text/x-python",
   "name": "python",
   "nbconvert_exporter": "python",
   "pygments_lexer": "ipython3",
   "version": "3.9.7"
  }
 },
 "nbformat": 4,
 "nbformat_minor": 5
}
