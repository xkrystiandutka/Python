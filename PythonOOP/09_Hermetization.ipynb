{
 "cells": [
  {
   "cell_type": "markdown",
   "id": "76095ba1-d4c9-4b27-9a35-cdcdab529ad7",
   "metadata": {},
   "source": [
    "# Hermetization & Encapsulation "
   ]
  },
  {
   "cell_type": "code",
   "execution_count": 1,
   "id": "37bbdfe2-1cab-4a5c-ac9e-35f509263174",
   "metadata": {},
   "outputs": [
    {
     "data": {
      "text/plain": [
       "{'price': 2490}"
      ]
     },
     "execution_count": 1,
     "metadata": {},
     "output_type": "execute_result"
    }
   ],
   "source": [
    "class Phone:\n",
    "\n",
    "    def __init__(self, price):\n",
    "        self.price = price\n",
    "\n",
    "phone = Phone(2490)\n",
    "phone.__dict__"
   ]
  },
  {
   "cell_type": "code",
   "execution_count": 2,
   "id": "3848fc6b-937c-421c-92ba-7bb084176718",
   "metadata": {},
   "outputs": [
    {
     "data": {
      "text/plain": [
       "{'price': 'Apple'}"
      ]
     },
     "execution_count": 2,
     "metadata": {},
     "output_type": "execute_result"
    }
   ],
   "source": [
    "phone = Phone('Apple')\n",
    "phone.__dict__"
   ]
  },
  {
   "cell_type": "code",
   "execution_count": 3,
   "id": "f085cb5b-f7f0-487b-b610-97fb4d9a4b29",
   "metadata": {},
   "outputs": [
    {
     "data": {
      "text/plain": [
       "{'price': 2490}"
      ]
     },
     "execution_count": 3,
     "metadata": {},
     "output_type": "execute_result"
    }
   ],
   "source": [
    "phone = Phone(2490)\n",
    "phone.__dict__"
   ]
  },
  {
   "cell_type": "code",
   "execution_count": 4,
   "id": "4da7a09a-24b9-4531-9d3a-9b3b110dc8ea",
   "metadata": {},
   "outputs": [],
   "source": [
    "phone.price = 'John'"
   ]
  },
  {
   "cell_type": "code",
   "execution_count": 5,
   "id": "b78cfde3-ddcf-4b2f-aa40-3d3e7290e15f",
   "metadata": {},
   "outputs": [
    {
     "data": {
      "text/plain": [
       "'John'"
      ]
     },
     "execution_count": 5,
     "metadata": {},
     "output_type": "execute_result"
    }
   ],
   "source": [
    "phone.price"
   ]
  },
  {
   "cell_type": "code",
   "execution_count": 6,
   "id": "b4a45ab2-0fc4-4276-9d8c-8756cccfe003",
   "metadata": {},
   "outputs": [
    {
     "data": {
      "text/plain": [
       "{'_price': 2490}"
      ]
     },
     "execution_count": 6,
     "metadata": {},
     "output_type": "execute_result"
    }
   ],
   "source": [
    "class Phone:\n",
    "\n",
    "    def __init__(self, price):\n",
    "        self._price = price\n",
    "\n",
    "    def get_price(self):\n",
    "        return self._price\n",
    "\n",
    "    def set_price(self, value):\n",
    "        self._price = value\n",
    "\n",
    "phone = Phone(2490)\n",
    "phone.__dict__"
   ]
  },
  {
   "cell_type": "code",
   "execution_count": 7,
   "id": "d15598be-3730-4c21-bb89-d6cc07f7a6a7",
   "metadata": {},
   "outputs": [
    {
     "data": {
      "text/plain": [
       "2490"
      ]
     },
     "execution_count": 7,
     "metadata": {},
     "output_type": "execute_result"
    }
   ],
   "source": [
    "phone.get_price()"
   ]
  },
  {
   "cell_type": "code",
   "execution_count": 8,
   "id": "88ab8d4f-8ade-45b3-9af2-dc89e8b31ac7",
   "metadata": {},
   "outputs": [],
   "source": [
    "phone.set_price(3000)"
   ]
  },
  {
   "cell_type": "code",
   "execution_count": 9,
   "id": "52c93cfb-ca83-4490-809d-644553dfd66b",
   "metadata": {},
   "outputs": [
    {
     "data": {
      "text/plain": [
       "3000"
      ]
     },
     "execution_count": 9,
     "metadata": {},
     "output_type": "execute_result"
    }
   ],
   "source": [
    "phone.get_price()"
   ]
  },
  {
   "cell_type": "code",
   "execution_count": 10,
   "id": "bc66998e-6ac6-443d-9260-7ac75fe95802",
   "metadata": {},
   "outputs": [
    {
     "data": {
      "text/plain": [
       "{'_price': 3000}"
      ]
     },
     "execution_count": 10,
     "metadata": {},
     "output_type": "execute_result"
    }
   ],
   "source": [
    "phone.__dict__"
   ]
  },
  {
   "cell_type": "code",
   "execution_count": 11,
   "id": "811152c7-f3f7-46c2-9159-8710108d3bd8",
   "metadata": {},
   "outputs": [
    {
     "data": {
      "text/plain": [
       "3000"
      ]
     },
     "execution_count": 11,
     "metadata": {},
     "output_type": "execute_result"
    }
   ],
   "source": [
    "phone._price"
   ]
  },
  {
   "cell_type": "markdown",
   "id": "4297ec83-bed1-4b72-bb07-8ef1ec70aa7d",
   "metadata": {},
   "source": [
    "## Validation"
   ]
  },
  {
   "cell_type": "code",
   "execution_count": 12,
   "id": "7f8e6279-9505-4f1a-85b3-8ecabf3b35d3",
   "metadata": {},
   "outputs": [
    {
     "data": {
      "text/plain": [
       "{'_price': 3000}"
      ]
     },
     "execution_count": 12,
     "metadata": {},
     "output_type": "execute_result"
    }
   ],
   "source": [
    "class Phone:\n",
    "\n",
    "    def __init__(self, price):\n",
    "        self._price = price\n",
    "\n",
    "    def get_price(self):\n",
    "        return self._price\n",
    "\n",
    "    def set_price(self, value):\n",
    "        if isinstance(value, (int, float)):\n",
    "            self._price = value\n",
    "        else:\n",
    "            raise TypeError('The price attribute must be an int or float value.')\n",
    "\n",
    "phone.__dict__"
   ]
  },
  {
   "cell_type": "code",
   "execution_count": 13,
   "id": "bcf31166-fcfa-4b02-87a6-7003dcaeba31",
   "metadata": {},
   "outputs": [
    {
     "data": {
      "text/plain": [
       "{'_price': 2000}"
      ]
     },
     "execution_count": 13,
     "metadata": {},
     "output_type": "execute_result"
    }
   ],
   "source": [
    "phone = Phone(2000)\n",
    "phone.__dict__"
   ]
  },
  {
   "cell_type": "code",
   "execution_count": 17,
   "id": "c0e1911a-4c33-474a-9beb-824396132591",
   "metadata": {},
   "outputs": [],
   "source": [
    "#phone.set_price('Apple')\n",
    "#TypeError: The price attribute must be an int or float value."
   ]
  },
  {
   "cell_type": "code",
   "execution_count": 18,
   "id": "236f91c7-2b0c-494c-990a-3ebd1a84cb94",
   "metadata": {},
   "outputs": [],
   "source": [
    "phone.set_price(4000)"
   ]
  },
  {
   "cell_type": "code",
   "execution_count": 19,
   "id": "4fbe633b-554e-49ff-96dd-85e157dbba35",
   "metadata": {},
   "outputs": [
    {
     "data": {
      "text/plain": [
       "4000"
      ]
     },
     "execution_count": 19,
     "metadata": {},
     "output_type": "execute_result"
    }
   ],
   "source": [
    "phone.get_price()"
   ]
  },
  {
   "cell_type": "code",
   "execution_count": 20,
   "id": "78fa84e4-aa57-4e6b-89ad-5ef081982fbb",
   "metadata": {},
   "outputs": [],
   "source": [
    "phone.set_price(-4000)"
   ]
  },
  {
   "cell_type": "code",
   "execution_count": 21,
   "id": "c98deabf-4405-4222-9e70-f87a7505dbc9",
   "metadata": {},
   "outputs": [
    {
     "data": {
      "text/plain": [
       "-4000"
      ]
     },
     "execution_count": 21,
     "metadata": {},
     "output_type": "execute_result"
    }
   ],
   "source": [
    "phone.get_price()"
   ]
  },
  {
   "cell_type": "code",
   "execution_count": 22,
   "id": "75676435-b5b1-4c3a-9b55-de9346ea5232",
   "metadata": {},
   "outputs": [],
   "source": [
    "class Phone:\n",
    "\n",
    "    def __init__(self, price):\n",
    "        self._price = price\n",
    "\n",
    "    def get_price(self):\n",
    "        return self._price\n",
    "\n",
    "    def set_price(self, value):\n",
    "        if isinstance(value, (int, float)):\n",
    "            if value > 0:\n",
    "                self._price = value\n",
    "            else:\n",
    "                raise ValueError('The price attribute must be positive.')\n",
    "        else:\n",
    "            raise TypeError('The price attribute must be an int or float value.')"
   ]
  },
  {
   "cell_type": "code",
   "execution_count": 23,
   "id": "db9e90df-29b7-4681-9946-924e06dfb321",
   "metadata": {},
   "outputs": [
    {
     "data": {
      "text/plain": [
       "{'_price': 1500}"
      ]
     },
     "execution_count": 23,
     "metadata": {},
     "output_type": "execute_result"
    }
   ],
   "source": [
    "phone = Phone(1500)\n",
    "phone.__dict__"
   ]
  },
  {
   "cell_type": "code",
   "execution_count": 24,
   "id": "1c7537a0-3f3d-48a7-b0ad-b185010ecbbd",
   "metadata": {},
   "outputs": [],
   "source": [
    "phone.set_price(1900)"
   ]
  },
  {
   "cell_type": "code",
   "execution_count": 25,
   "id": "149ef9ec-d42d-433b-9072-83e43226cb4b",
   "metadata": {},
   "outputs": [
    {
     "data": {
      "text/plain": [
       "1900"
      ]
     },
     "execution_count": 25,
     "metadata": {},
     "output_type": "execute_result"
    }
   ],
   "source": [
    "phone.get_price()"
   ]
  },
  {
   "cell_type": "code",
   "execution_count": 26,
   "id": "0cf15b26-7646-496d-bf6e-4afe21ee6334",
   "metadata": {},
   "outputs": [],
   "source": [
    "phone.set_price(1900.0)"
   ]
  },
  {
   "cell_type": "code",
   "execution_count": 27,
   "id": "0c2f4dec-039d-4101-ac2b-984db5fb2984",
   "metadata": {},
   "outputs": [
    {
     "data": {
      "text/plain": [
       "1900.0"
      ]
     },
     "execution_count": 27,
     "metadata": {},
     "output_type": "execute_result"
    }
   ],
   "source": [
    "phone.get_price()"
   ]
  },
  {
   "cell_type": "code",
   "execution_count": 29,
   "id": "4b14090d-f158-4a8f-820d-c4e08c8a2a5b",
   "metadata": {},
   "outputs": [],
   "source": [
    "#phone.set_price('1900.0')\n",
    "#TypeError: The price attribute must be an int or float value."
   ]
  },
  {
   "cell_type": "code",
   "execution_count": 31,
   "id": "63ccfa34-a2d7-4a2f-8b73-e329b145e6a7",
   "metadata": {},
   "outputs": [],
   "source": [
    "#phone.set_price(-1000)\n",
    "#ValueError: The price attribute must be positive."
   ]
  },
  {
   "cell_type": "code",
   "execution_count": 34,
   "id": "30429aea-416f-4f8a-b71f-d677a58787be",
   "metadata": {},
   "outputs": [],
   "source": [
    "#phone.set_price(0)\n",
    "#ValueError: The price attribute must be positive."
   ]
  },
  {
   "cell_type": "code",
   "execution_count": 33,
   "id": "19cb53f0-6e81-4c05-b1b1-f69296d839fb",
   "metadata": {},
   "outputs": [
    {
     "data": {
      "text/plain": [
       "'Apple'"
      ]
     },
     "execution_count": 33,
     "metadata": {},
     "output_type": "execute_result"
    }
   ],
   "source": [
    "phone = Phone('Apple')\n",
    "phone.get_price()"
   ]
  },
  {
   "cell_type": "code",
   "execution_count": 35,
   "id": "b2533884-0f8a-4776-936a-e27cdc1a8980",
   "metadata": {},
   "outputs": [],
   "source": [
    "class Phone:\n",
    "\n",
    "    def __init__(self, price):\n",
    "        self.set_price(price)\n",
    "\n",
    "    def get_price(self):\n",
    "        return self._price\n",
    "\n",
    "    def set_price(self, value):\n",
    "        if isinstance(value, (int, float)):\n",
    "            if value > 0:\n",
    "                self._price = value\n",
    "            else:\n",
    "                raise ValueError('The price attribute must be positive.')\n",
    "        else:\n",
    "            raise TypeError('The price attribute must be an int or float value.')"
   ]
  },
  {
   "cell_type": "code",
   "execution_count": 36,
   "id": "44039dec-40d0-4846-8504-cf949f10d41b",
   "metadata": {},
   "outputs": [],
   "source": [
    "phone = Phone(2000)"
   ]
  },
  {
   "cell_type": "code",
   "execution_count": 37,
   "id": "843762e1-99a2-45fa-b24c-88874bcb03c2",
   "metadata": {},
   "outputs": [
    {
     "data": {
      "text/plain": [
       "2000"
      ]
     },
     "execution_count": 37,
     "metadata": {},
     "output_type": "execute_result"
    }
   ],
   "source": [
    "phone.get_price()"
   ]
  },
  {
   "cell_type": "markdown",
   "id": "0f9c79bf-a52f-478f-ae97-7165015ed6f8",
   "metadata": {},
   "source": [
    "## Creating properties - `property()`.\n",
    "\n",
    "```\n",
    "property(fget=None, fset=None, fdel=None, doc=None) -> property attribute\n",
    "```"
   ]
  },
  {
   "cell_type": "code",
   "execution_count": 38,
   "id": "afb204cd-88e0-4910-8679-50b6bfee15bb",
   "metadata": {},
   "outputs": [
    {
     "name": "stdout",
     "output_type": "stream",
     "text": [
      "Help on class property in module builtins:\n",
      "\n",
      "class property(object)\n",
      " |  property(fget=None, fset=None, fdel=None, doc=None)\n",
      " |  \n",
      " |  Property attribute.\n",
      " |  \n",
      " |    fget\n",
      " |      function to be used for getting an attribute value\n",
      " |    fset\n",
      " |      function to be used for setting an attribute value\n",
      " |    fdel\n",
      " |      function to be used for del'ing an attribute\n",
      " |    doc\n",
      " |      docstring\n",
      " |  \n",
      " |  Typical use is to define a managed attribute x:\n",
      " |  \n",
      " |  class C(object):\n",
      " |      def getx(self): return self._x\n",
      " |      def setx(self, value): self._x = value\n",
      " |      def delx(self): del self._x\n",
      " |      x = property(getx, setx, delx, \"I'm the 'x' property.\")\n",
      " |  \n",
      " |  Decorators make defining new properties or modifying existing ones easy:\n",
      " |  \n",
      " |  class C(object):\n",
      " |      @property\n",
      " |      def x(self):\n",
      " |          \"I am the 'x' property.\"\n",
      " |          return self._x\n",
      " |      @x.setter\n",
      " |      def x(self, value):\n",
      " |          self._x = value\n",
      " |      @x.deleter\n",
      " |      def x(self):\n",
      " |          del self._x\n",
      " |  \n",
      " |  Methods defined here:\n",
      " |  \n",
      " |  __delete__(self, instance, /)\n",
      " |      Delete an attribute of instance.\n",
      " |  \n",
      " |  __get__(self, instance, owner, /)\n",
      " |      Return an attribute of instance, which is of type owner.\n",
      " |  \n",
      " |  __getattribute__(self, name, /)\n",
      " |      Return getattr(self, name).\n",
      " |  \n",
      " |  __init__(self, /, *args, **kwargs)\n",
      " |      Initialize self.  See help(type(self)) for accurate signature.\n",
      " |  \n",
      " |  __set__(self, instance, value, /)\n",
      " |      Set an attribute of instance to value.\n",
      " |  \n",
      " |  deleter(...)\n",
      " |      Descriptor to change the deleter on a property.\n",
      " |  \n",
      " |  getter(...)\n",
      " |      Descriptor to change the getter on a property.\n",
      " |  \n",
      " |  setter(...)\n",
      " |      Descriptor to change the setter on a property.\n",
      " |  \n",
      " |  ----------------------------------------------------------------------\n",
      " |  Static methods defined here:\n",
      " |  \n",
      " |  __new__(*args, **kwargs) from builtins.type\n",
      " |      Create and return a new object.  See help(type) for accurate signature.\n",
      " |  \n",
      " |  ----------------------------------------------------------------------\n",
      " |  Data descriptors defined here:\n",
      " |  \n",
      " |  __isabstractmethod__\n",
      " |  \n",
      " |  fdel\n",
      " |  \n",
      " |  fget\n",
      " |  \n",
      " |  fset\n",
      "\n"
     ]
    }
   ],
   "source": [
    "help(property)"
   ]
  },
  {
   "cell_type": "code",
   "execution_count": 39,
   "id": "7200ef8a-5dc1-4630-be8e-52063b948d67",
   "metadata": {},
   "outputs": [
    {
     "name": "stdout",
     "output_type": "stream",
     "text": [
      "getting...\n"
     ]
    },
    {
     "data": {
      "text/plain": [
       "1200"
      ]
     },
     "execution_count": 39,
     "metadata": {},
     "output_type": "execute_result"
    }
   ],
   "source": [
    "class Phone:\n",
    "\n",
    "    def __init__(self, price):\n",
    "        self._price = price\n",
    "\n",
    "    def get_price(self):\n",
    "        print('getting...')\n",
    "        return self._price\n",
    "\n",
    "phone = Phone(1200)\n",
    "phone.get_price()"
   ]
  },
  {
   "cell_type": "code",
   "execution_count": 40,
   "id": "d505edd9-3db1-4e79-9ce9-39fd0197928f",
   "metadata": {},
   "outputs": [
    {
     "data": {
      "text/plain": [
       "mappingproxy({'__module__': '__main__',\n",
       "              '__init__': <function __main__.Phone.__init__(self, price)>,\n",
       "              'get_price': <function __main__.Phone.get_price(self)>,\n",
       "              'price': <property at 0x24a56c67ae0>,\n",
       "              '__dict__': <attribute '__dict__' of 'Phone' objects>,\n",
       "              '__weakref__': <attribute '__weakref__' of 'Phone' objects>,\n",
       "              '__doc__': None})"
      ]
     },
     "execution_count": 40,
     "metadata": {},
     "output_type": "execute_result"
    }
   ],
   "source": [
    "class Phone:\n",
    "\n",
    "    def __init__(self, price):\n",
    "        self._price = price\n",
    "\n",
    "    def get_price(self):\n",
    "        print('getting...')\n",
    "        return self._price\n",
    "\n",
    "    price = property(fget=get_price)\n",
    "\n",
    "Phone.__dict__"
   ]
  },
  {
   "cell_type": "code",
   "execution_count": 41,
   "id": "c77aa5df-b079-4a31-889c-d14b2b7c3d31",
   "metadata": {},
   "outputs": [
    {
     "name": "stdout",
     "output_type": "stream",
     "text": [
      "getting...\n"
     ]
    },
    {
     "data": {
      "text/plain": [
       "1200"
      ]
     },
     "execution_count": 41,
     "metadata": {},
     "output_type": "execute_result"
    }
   ],
   "source": [
    "phone = Phone(1200)\n",
    "phone.get_price()"
   ]
  },
  {
   "cell_type": "code",
   "execution_count": 42,
   "id": "2d3b43bd-51b1-49a4-82a9-0f1dd381c30f",
   "metadata": {},
   "outputs": [
    {
     "name": "stdout",
     "output_type": "stream",
     "text": [
      "getting...\n"
     ]
    },
    {
     "data": {
      "text/plain": [
       "1200"
      ]
     },
     "execution_count": 42,
     "metadata": {},
     "output_type": "execute_result"
    }
   ],
   "source": [
    "phone.price"
   ]
  },
  {
   "cell_type": "code",
   "execution_count": 43,
   "id": "8d9ae6d9-6768-4933-ae8c-71ba6fc6d92c",
   "metadata": {},
   "outputs": [
    {
     "data": {
      "text/plain": [
       "mappingproxy({'__module__': '__main__',\n",
       "              '__init__': <function __main__.Phone.__init__(self, price)>,\n",
       "              'price': <property at 0x24a56c67c70>,\n",
       "              '__dict__': <attribute '__dict__' of 'Phone' objects>,\n",
       "              '__weakref__': <attribute '__weakref__' of 'Phone' objects>,\n",
       "              '__doc__': None})"
      ]
     },
     "execution_count": 43,
     "metadata": {},
     "output_type": "execute_result"
    }
   ],
   "source": [
    "class Phone:\n",
    "\n",
    "    def __init__(self, price):\n",
    "        self._price = price\n",
    "\n",
    "    def price(self):\n",
    "        print('getting...')\n",
    "        return self._price\n",
    "\n",
    "    price = property(fget=price)\n",
    "\n",
    "Phone.__dict__"
   ]
  },
  {
   "cell_type": "code",
   "execution_count": 44,
   "id": "28fbe9f1-b8ab-4f21-b45e-787ac42e7870",
   "metadata": {},
   "outputs": [
    {
     "name": "stdout",
     "output_type": "stream",
     "text": [
      "getting...\n"
     ]
    },
    {
     "data": {
      "text/plain": [
       "1200"
      ]
     },
     "execution_count": 44,
     "metadata": {},
     "output_type": "execute_result"
    }
   ],
   "source": [
    "phone = Phone(1200)\n",
    "phone.price"
   ]
  },
  {
   "cell_type": "code",
   "execution_count": 47,
   "id": "5806109a-aa46-44e3-ab62-7985f5fde8a3",
   "metadata": {},
   "outputs": [],
   "source": [
    "#phone.price = 3000\n",
    "#AttributeError: can't set attribute"
   ]
  },
  {
   "cell_type": "code",
   "execution_count": 48,
   "id": "9ca6c02f-351e-41d9-9988-b77dcd56976a",
   "metadata": {},
   "outputs": [],
   "source": [
    "#del phone.price\n",
    "#AttributeError: can't delete attribute"
   ]
  },
  {
   "cell_type": "markdown",
   "id": "55227f40-af18-4db2-b5c4-f171285460a8",
   "metadata": {},
   "source": [
    "## getter + setter"
   ]
  },
  {
   "cell_type": "code",
   "execution_count": 49,
   "id": "3bcfaec0-4e89-4b04-9c4c-8930bc639221",
   "metadata": {},
   "outputs": [
    {
     "data": {
      "text/plain": [
       "mappingproxy({'__module__': '__main__',\n",
       "              '__init__': <function __main__.Phone.__init__(self, price)>,\n",
       "              'get_price': <function __main__.Phone.get_price(self)>,\n",
       "              'set_price': <function __main__.Phone.set_price(self, value)>,\n",
       "              'price': <property at 0x24a56c67b30>,\n",
       "              '__dict__': <attribute '__dict__' of 'Phone' objects>,\n",
       "              '__weakref__': <attribute '__weakref__' of 'Phone' objects>,\n",
       "              '__doc__': None})"
      ]
     },
     "execution_count": 49,
     "metadata": {},
     "output_type": "execute_result"
    }
   ],
   "source": [
    "class Phone:\n",
    "\n",
    "    def __init__(self, price):\n",
    "        self._price = price\n",
    "\n",
    "    def get_price(self):\n",
    "        print('getting...')\n",
    "        return self._price\n",
    "\n",
    "    def set_price(self, value):\n",
    "        print('setting...')\n",
    "        if isinstance(value, (int, float)):\n",
    "            if value > 0:\n",
    "                self._price = value\n",
    "            else:\n",
    "                raise ValueError('The price attribute must be positive.')\n",
    "        else:\n",
    "            raise TypeError('The price attribute must be an int or float value.')        \n",
    "\n",
    "    price = property(fget=get_price, fset=set_price)\n",
    "\n",
    "Phone.__dict__"
   ]
  },
  {
   "cell_type": "code",
   "execution_count": 50,
   "id": "778e84a6-d622-487a-8183-42336e9dd2aa",
   "metadata": {},
   "outputs": [
    {
     "name": "stdout",
     "output_type": "stream",
     "text": [
      "getting...\n"
     ]
    },
    {
     "data": {
      "text/plain": [
       "3000"
      ]
     },
     "execution_count": 50,
     "metadata": {},
     "output_type": "execute_result"
    }
   ],
   "source": [
    "phone = Phone(3000)\n",
    "phone.price"
   ]
  },
  {
   "cell_type": "code",
   "execution_count": 51,
   "id": "cd9bfb5f-4051-4eb9-b5aa-9e237ba66568",
   "metadata": {},
   "outputs": [
    {
     "name": "stdout",
     "output_type": "stream",
     "text": [
      "setting...\n"
     ]
    }
   ],
   "source": [
    "phone.price = 4000"
   ]
  },
  {
   "cell_type": "code",
   "execution_count": 52,
   "id": "15a5b9e1-cca6-4893-bda4-54820246fb9d",
   "metadata": {},
   "outputs": [
    {
     "name": "stdout",
     "output_type": "stream",
     "text": [
      "getting...\n"
     ]
    },
    {
     "data": {
      "text/plain": [
       "4000"
      ]
     },
     "execution_count": 52,
     "metadata": {},
     "output_type": "execute_result"
    }
   ],
   "source": [
    "phone.price"
   ]
  },
  {
   "cell_type": "code",
   "execution_count": 53,
   "id": "2ddd19cc-4f52-4a3a-800d-fe1adc001196",
   "metadata": {},
   "outputs": [
    {
     "data": {
      "text/plain": [
       "{'_price': 4000}"
      ]
     },
     "execution_count": 53,
     "metadata": {},
     "output_type": "execute_result"
    }
   ],
   "source": [
    "phone.__dict__"
   ]
  },
  {
   "cell_type": "code",
   "execution_count": 55,
   "id": "51f6174b-0d8c-43a7-8a16-47eb2430b679",
   "metadata": {},
   "outputs": [],
   "source": [
    "#phone.price = -4000\n",
    "#ValueError: The price attribute must be positive."
   ]
  },
  {
   "cell_type": "code",
   "execution_count": 57,
   "id": "865c75cf-5044-4a63-8361-e233a66e58f1",
   "metadata": {},
   "outputs": [],
   "source": [
    "#phone.price = '54'\n",
    "#TypeError: The price attribute must be an int or float value."
   ]
  },
  {
   "cell_type": "code",
   "execution_count": 59,
   "id": "80d791e9-b8b2-4db9-8ab9-3501718af477",
   "metadata": {},
   "outputs": [],
   "source": [
    "#del phone.price\n",
    "#AttributeError: can't delete attribute"
   ]
  },
  {
   "cell_type": "markdown",
   "id": "b7f63760-d316-4ead-9459-b79ae11f1ce4",
   "metadata": {},
   "source": [
    "## getter + setter + deleter"
   ]
  },
  {
   "cell_type": "code",
   "execution_count": 71,
   "id": "953ba800-eba8-4c48-a495-91d203937291",
   "metadata": {},
   "outputs": [
    {
     "data": {
      "text/plain": [
       "mappingproxy({'__module__': '__main__',\n",
       "              '__init__': <function __main__.Phone.__init__(self, price)>,\n",
       "              'get_price': <function __main__.Phone.get_price(self)>,\n",
       "              'set_price': <function __main__.Phone.set_price(self, value)>,\n",
       "              'del_price': <function __main__.Phone.del_price(self)>,\n",
       "              'price': <property at 0x24a55b30810>,\n",
       "              '__dict__': <attribute '__dict__' of 'Phone' objects>,\n",
       "              '__weakref__': <attribute '__weakref__' of 'Phone' objects>,\n",
       "              '__doc__': None})"
      ]
     },
     "execution_count": 71,
     "metadata": {},
     "output_type": "execute_result"
    }
   ],
   "source": [
    "class Phone:\n",
    "\n",
    "    def __init__(self, price):\n",
    "        self._price = price\n",
    "\n",
    "    def get_price(self):\n",
    "        print('getting...')\n",
    "        return self._price\n",
    "\n",
    "    def set_price(self, value):\n",
    "        print('setting...')\n",
    "        if isinstance(value, (int, float)):\n",
    "            if value > 0:\n",
    "                self._price = value\n",
    "            else:\n",
    "                raise ValueError('The price attribute must be positive.')\n",
    "        else:\n",
    "            raise TypeError('The price attribute must be an int or float value.') \n",
    "\n",
    "    def del_price(self):\n",
    "        print('deleting...')\n",
    "        del self._price      \n",
    "\n",
    "    price = property(fget=get_price, fset=set_price, fdel=del_price)\n",
    "\n",
    "Phone.__dict__"
   ]
  },
  {
   "cell_type": "code",
   "execution_count": 72,
   "id": "0efa4434-2ecf-40d9-bc8c-9a284a5c725c",
   "metadata": {},
   "outputs": [
    {
     "name": "stdout",
     "output_type": "stream",
     "text": [
      "getting...\n"
     ]
    },
    {
     "data": {
      "text/plain": [
       "3000"
      ]
     },
     "execution_count": 72,
     "metadata": {},
     "output_type": "execute_result"
    }
   ],
   "source": [
    "phone = Phone(3000)\n",
    "phone.price"
   ]
  },
  {
   "cell_type": "code",
   "execution_count": 73,
   "id": "eae7dea6-909f-45fe-a72e-9181797c8125",
   "metadata": {},
   "outputs": [
    {
     "name": "stdout",
     "output_type": "stream",
     "text": [
      "setting...\n"
     ]
    }
   ],
   "source": [
    "phone.price = 2000"
   ]
  },
  {
   "cell_type": "code",
   "execution_count": 74,
   "id": "137aebb0-150b-460d-ad8d-b2a89f5b78ca",
   "metadata": {},
   "outputs": [
    {
     "name": "stdout",
     "output_type": "stream",
     "text": [
      "getting...\n"
     ]
    },
    {
     "data": {
      "text/plain": [
       "2000"
      ]
     },
     "execution_count": 74,
     "metadata": {},
     "output_type": "execute_result"
    }
   ],
   "source": [
    "phone.price"
   ]
  },
  {
   "cell_type": "code",
   "execution_count": 75,
   "id": "e05d4ced-3e28-4e1b-825e-ef190b820bee",
   "metadata": {},
   "outputs": [
    {
     "name": "stdout",
     "output_type": "stream",
     "text": [
      "deleting...\n"
     ]
    }
   ],
   "source": [
    "del phone.price"
   ]
  },
  {
   "cell_type": "code",
   "execution_count": 76,
   "id": "d77cd613-1f9d-414f-98de-3ac35cfa9850",
   "metadata": {},
   "outputs": [
    {
     "data": {
      "text/plain": [
       "{}"
      ]
     },
     "execution_count": 76,
     "metadata": {},
     "output_type": "execute_result"
    }
   ],
   "source": [
    "phone.__dict__"
   ]
  },
  {
   "cell_type": "code",
   "execution_count": 77,
   "id": "15ced66c-ff75-4014-bcfb-77e605c84a4a",
   "metadata": {},
   "outputs": [
    {
     "name": "stdout",
     "output_type": "stream",
     "text": [
      "setting...\n"
     ]
    }
   ],
   "source": [
    "phone.price = 1000"
   ]
  },
  {
   "cell_type": "code",
   "execution_count": 78,
   "id": "2c64094f-53b5-4088-8792-7bdcf84f27fb",
   "metadata": {},
   "outputs": [
    {
     "data": {
      "text/plain": [
       "{'_price': 1000}"
      ]
     },
     "execution_count": 78,
     "metadata": {},
     "output_type": "execute_result"
    }
   ],
   "source": [
    "phone.__dict__"
   ]
  },
  {
   "cell_type": "markdown",
   "id": "9e21ea60-4a60-45a8-bcf1-965fe0e619ad",
   "metadata": {},
   "source": [
    "## getter + setter + deleter + doc"
   ]
  },
  {
   "cell_type": "code",
   "execution_count": 80,
   "id": "e4818a87-b5f0-48b0-9fe5-1bdcd2b6583d",
   "metadata": {},
   "outputs": [],
   "source": [
    "class Phone:\n",
    "    \"\"\"Phone class docs.\"\"\"\n",
    "\n",
    "    def __init__(self, price):\n",
    "        self._price = price\n",
    "\n",
    "    def get_price(self):\n",
    "        print('getting...')\n",
    "        return self._price\n",
    "\n",
    "    def set_price(self, value):\n",
    "        print('setting...')\n",
    "        if isinstance(value, (int, float)):\n",
    "            if value > 0:\n",
    "                self._price = value\n",
    "            else:\n",
    "                raise ValueError('The price attribute must be positive.')\n",
    "        else:\n",
    "            raise TypeError('The price attribute must be an int or float value.') \n",
    "\n",
    "    def del_price(self):\n",
    "        print('deleting...')\n",
    "        del self._price      \n",
    "\n",
    "    price = property(fget=get_price, fset=set_price, fdel=del_price, doc='Phone price.')"
   ]
  },
  {
   "cell_type": "code",
   "execution_count": 81,
   "id": "ad84fad7-74b8-4e99-827f-e53aa97fd32c",
   "metadata": {},
   "outputs": [
    {
     "name": "stdout",
     "output_type": "stream",
     "text": [
      "Help on class Phone in module __main__:\n",
      "\n",
      "class Phone(builtins.object)\n",
      " |  Phone(price)\n",
      " |  \n",
      " |  Phone class docs.\n",
      " |  \n",
      " |  Methods defined here:\n",
      " |  \n",
      " |  __init__(self, price)\n",
      " |      Initialize self.  See help(type(self)) for accurate signature.\n",
      " |  \n",
      " |  del_price(self)\n",
      " |  \n",
      " |  get_price(self)\n",
      " |  \n",
      " |  set_price(self, value)\n",
      " |  \n",
      " |  ----------------------------------------------------------------------\n",
      " |  Data descriptors defined here:\n",
      " |  \n",
      " |  __dict__\n",
      " |      dictionary for instance variables (if defined)\n",
      " |  \n",
      " |  __weakref__\n",
      " |      list of weak references to the object (if defined)\n",
      " |  \n",
      " |  price\n",
      " |      Phone price.\n",
      "\n"
     ]
    }
   ],
   "source": [
    "help(Phone)"
   ]
  },
  {
   "cell_type": "code",
   "execution_count": null,
   "id": "24d81cf8-434e-4169-88b8-e32b9ec9330a",
   "metadata": {},
   "outputs": [],
   "source": []
  }
 ],
 "metadata": {
  "kernelspec": {
   "display_name": "Python 3 (ipykernel)",
   "language": "python",
   "name": "python3"
  },
  "language_info": {
   "codemirror_mode": {
    "name": "ipython",
    "version": 3
   },
   "file_extension": ".py",
   "mimetype": "text/x-python",
   "name": "python",
   "nbconvert_exporter": "python",
   "pygments_lexer": "ipython3",
   "version": "3.9.7"
  }
 },
 "nbformat": 4,
 "nbformat_minor": 5
}
