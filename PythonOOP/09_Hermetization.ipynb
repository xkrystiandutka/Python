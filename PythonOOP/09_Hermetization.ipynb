{
 "cells": [
  {
   "cell_type": "markdown",
   "id": "76095ba1-d4c9-4b27-9a35-cdcdab529ad7",
   "metadata": {},
   "source": [
    "# Hermetization & Encapsulation "
   ]
  },
  {
   "cell_type": "code",
   "execution_count": 1,
   "id": "37bbdfe2-1cab-4a5c-ac9e-35f509263174",
   "metadata": {},
   "outputs": [
    {
     "data": {
      "text/plain": [
       "{'price': 2490}"
      ]
     },
     "execution_count": 1,
     "metadata": {},
     "output_type": "execute_result"
    }
   ],
   "source": [
    "class Phone:\n",
    "\n",
    "    def __init__(self, price):\n",
    "        self.price = price\n",
    "\n",
    "phone = Phone(2490)\n",
    "phone.__dict__"
   ]
  },
  {
   "cell_type": "code",
   "execution_count": 2,
   "id": "3848fc6b-937c-421c-92ba-7bb084176718",
   "metadata": {},
   "outputs": [
    {
     "data": {
      "text/plain": [
       "{'price': 'Apple'}"
      ]
     },
     "execution_count": 2,
     "metadata": {},
     "output_type": "execute_result"
    }
   ],
   "source": [
    "phone = Phone('Apple')\n",
    "phone.__dict__"
   ]
  },
  {
   "cell_type": "code",
   "execution_count": 3,
   "id": "f085cb5b-f7f0-487b-b610-97fb4d9a4b29",
   "metadata": {},
   "outputs": [
    {
     "data": {
      "text/plain": [
       "{'price': 2490}"
      ]
     },
     "execution_count": 3,
     "metadata": {},
     "output_type": "execute_result"
    }
   ],
   "source": [
    "phone = Phone(2490)\n",
    "phone.__dict__"
   ]
  },
  {
   "cell_type": "code",
   "execution_count": 4,
   "id": "4da7a09a-24b9-4531-9d3a-9b3b110dc8ea",
   "metadata": {},
   "outputs": [],
   "source": [
    "phone.price = 'John'"
   ]
  },
  {
   "cell_type": "code",
   "execution_count": 5,
   "id": "b78cfde3-ddcf-4b2f-aa40-3d3e7290e15f",
   "metadata": {},
   "outputs": [
    {
     "data": {
      "text/plain": [
       "'John'"
      ]
     },
     "execution_count": 5,
     "metadata": {},
     "output_type": "execute_result"
    }
   ],
   "source": [
    "phone.price"
   ]
  },
  {
   "cell_type": "code",
   "execution_count": 6,
   "id": "b4a45ab2-0fc4-4276-9d8c-8756cccfe003",
   "metadata": {},
   "outputs": [
    {
     "data": {
      "text/plain": [
       "{'_price': 2490}"
      ]
     },
     "execution_count": 6,
     "metadata": {},
     "output_type": "execute_result"
    }
   ],
   "source": [
    "class Phone:\n",
    "\n",
    "    def __init__(self, price):\n",
    "        self._price = price\n",
    "\n",
    "    def get_price(self):\n",
    "        return self._price\n",
    "\n",
    "    def set_price(self, value):\n",
    "        self._price = value\n",
    "\n",
    "phone = Phone(2490)\n",
    "phone.__dict__"
   ]
  },
  {
   "cell_type": "code",
   "execution_count": 7,
   "id": "d15598be-3730-4c21-bb89-d6cc07f7a6a7",
   "metadata": {},
   "outputs": [
    {
     "data": {
      "text/plain": [
       "2490"
      ]
     },
     "execution_count": 7,
     "metadata": {},
     "output_type": "execute_result"
    }
   ],
   "source": [
    "phone.get_price()"
   ]
  },
  {
   "cell_type": "code",
   "execution_count": 8,
   "id": "88ab8d4f-8ade-45b3-9af2-dc89e8b31ac7",
   "metadata": {},
   "outputs": [],
   "source": [
    "phone.set_price(3000)"
   ]
  },
  {
   "cell_type": "code",
   "execution_count": 9,
   "id": "52c93cfb-ca83-4490-809d-644553dfd66b",
   "metadata": {},
   "outputs": [
    {
     "data": {
      "text/plain": [
       "3000"
      ]
     },
     "execution_count": 9,
     "metadata": {},
     "output_type": "execute_result"
    }
   ],
   "source": [
    "phone.get_price()"
   ]
  },
  {
   "cell_type": "code",
   "execution_count": 10,
   "id": "bc66998e-6ac6-443d-9260-7ac75fe95802",
   "metadata": {},
   "outputs": [
    {
     "data": {
      "text/plain": [
       "{'_price': 3000}"
      ]
     },
     "execution_count": 10,
     "metadata": {},
     "output_type": "execute_result"
    }
   ],
   "source": [
    "phone.__dict__"
   ]
  },
  {
   "cell_type": "code",
   "execution_count": 11,
   "id": "811152c7-f3f7-46c2-9159-8710108d3bd8",
   "metadata": {},
   "outputs": [
    {
     "data": {
      "text/plain": [
       "3000"
      ]
     },
     "execution_count": 11,
     "metadata": {},
     "output_type": "execute_result"
    }
   ],
   "source": [
    "phone._price"
   ]
  },
  {
   "cell_type": "markdown",
   "id": "4297ec83-bed1-4b72-bb07-8ef1ec70aa7d",
   "metadata": {},
   "source": [
    "## Validation"
   ]
  },
  {
   "cell_type": "code",
   "execution_count": 12,
   "id": "7f8e6279-9505-4f1a-85b3-8ecabf3b35d3",
   "metadata": {},
   "outputs": [
    {
     "data": {
      "text/plain": [
       "{'_price': 3000}"
      ]
     },
     "execution_count": 12,
     "metadata": {},
     "output_type": "execute_result"
    }
   ],
   "source": [
    "class Phone:\n",
    "\n",
    "    def __init__(self, price):\n",
    "        self._price = price\n",
    "\n",
    "    def get_price(self):\n",
    "        return self._price\n",
    "\n",
    "    def set_price(self, value):\n",
    "        if isinstance(value, (int, float)):\n",
    "            self._price = value\n",
    "        else:\n",
    "            raise TypeError('The price attribute must be an int or float value.')\n",
    "\n",
    "phone.__dict__"
   ]
  },
  {
   "cell_type": "code",
   "execution_count": 13,
   "id": "bcf31166-fcfa-4b02-87a6-7003dcaeba31",
   "metadata": {},
   "outputs": [
    {
     "data": {
      "text/plain": [
       "{'_price': 2000}"
      ]
     },
     "execution_count": 13,
     "metadata": {},
     "output_type": "execute_result"
    }
   ],
   "source": [
    "phone = Phone(2000)\n",
    "phone.__dict__"
   ]
  },
  {
   "cell_type": "code",
   "execution_count": 17,
   "id": "c0e1911a-4c33-474a-9beb-824396132591",
   "metadata": {},
   "outputs": [],
   "source": [
    "#phone.set_price('Apple')\n",
    "#TypeError: The price attribute must be an int or float value."
   ]
  },
  {
   "cell_type": "code",
   "execution_count": 18,
   "id": "236f91c7-2b0c-494c-990a-3ebd1a84cb94",
   "metadata": {},
   "outputs": [],
   "source": [
    "phone.set_price(4000)"
   ]
  },
  {
   "cell_type": "code",
   "execution_count": 19,
   "id": "4fbe633b-554e-49ff-96dd-85e157dbba35",
   "metadata": {},
   "outputs": [
    {
     "data": {
      "text/plain": [
       "4000"
      ]
     },
     "execution_count": 19,
     "metadata": {},
     "output_type": "execute_result"
    }
   ],
   "source": [
    "phone.get_price()"
   ]
  },
  {
   "cell_type": "code",
   "execution_count": 20,
   "id": "78fa84e4-aa57-4e6b-89ad-5ef081982fbb",
   "metadata": {},
   "outputs": [],
   "source": [
    "phone.set_price(-4000)"
   ]
  },
  {
   "cell_type": "code",
   "execution_count": 21,
   "id": "c98deabf-4405-4222-9e70-f87a7505dbc9",
   "metadata": {},
   "outputs": [
    {
     "data": {
      "text/plain": [
       "-4000"
      ]
     },
     "execution_count": 21,
     "metadata": {},
     "output_type": "execute_result"
    }
   ],
   "source": [
    "phone.get_price()"
   ]
  },
  {
   "cell_type": "code",
   "execution_count": 22,
   "id": "75676435-b5b1-4c3a-9b55-de9346ea5232",
   "metadata": {},
   "outputs": [],
   "source": [
    "class Phone:\n",
    "\n",
    "    def __init__(self, price):\n",
    "        self._price = price\n",
    "\n",
    "    def get_price(self):\n",
    "        return self._price\n",
    "\n",
    "    def set_price(self, value):\n",
    "        if isinstance(value, (int, float)):\n",
    "            if value > 0:\n",
    "                self._price = value\n",
    "            else:\n",
    "                raise ValueError('The price attribute must be positive.')\n",
    "        else:\n",
    "            raise TypeError('The price attribute must be an int or float value.')"
   ]
  },
  {
   "cell_type": "code",
   "execution_count": 23,
   "id": "db9e90df-29b7-4681-9946-924e06dfb321",
   "metadata": {},
   "outputs": [
    {
     "data": {
      "text/plain": [
       "{'_price': 1500}"
      ]
     },
     "execution_count": 23,
     "metadata": {},
     "output_type": "execute_result"
    }
   ],
   "source": [
    "phone = Phone(1500)\n",
    "phone.__dict__"
   ]
  },
  {
   "cell_type": "code",
   "execution_count": 24,
   "id": "1c7537a0-3f3d-48a7-b0ad-b185010ecbbd",
   "metadata": {},
   "outputs": [],
   "source": [
    "phone.set_price(1900)"
   ]
  },
  {
   "cell_type": "code",
   "execution_count": 25,
   "id": "149ef9ec-d42d-433b-9072-83e43226cb4b",
   "metadata": {},
   "outputs": [
    {
     "data": {
      "text/plain": [
       "1900"
      ]
     },
     "execution_count": 25,
     "metadata": {},
     "output_type": "execute_result"
    }
   ],
   "source": [
    "phone.get_price()"
   ]
  },
  {
   "cell_type": "code",
   "execution_count": 26,
   "id": "0cf15b26-7646-496d-bf6e-4afe21ee6334",
   "metadata": {},
   "outputs": [],
   "source": [
    "phone.set_price(1900.0)"
   ]
  },
  {
   "cell_type": "code",
   "execution_count": 27,
   "id": "0c2f4dec-039d-4101-ac2b-984db5fb2984",
   "metadata": {},
   "outputs": [
    {
     "data": {
      "text/plain": [
       "1900.0"
      ]
     },
     "execution_count": 27,
     "metadata": {},
     "output_type": "execute_result"
    }
   ],
   "source": [
    "phone.get_price()"
   ]
  },
  {
   "cell_type": "code",
   "execution_count": 29,
   "id": "4b14090d-f158-4a8f-820d-c4e08c8a2a5b",
   "metadata": {},
   "outputs": [],
   "source": [
    "#phone.set_price('1900.0')\n",
    "#TypeError: The price attribute must be an int or float value."
   ]
  },
  {
   "cell_type": "code",
   "execution_count": 31,
   "id": "63ccfa34-a2d7-4a2f-8b73-e329b145e6a7",
   "metadata": {},
   "outputs": [],
   "source": [
    "#phone.set_price(-1000)\n",
    "#ValueError: The price attribute must be positive."
   ]
  },
  {
   "cell_type": "code",
   "execution_count": 34,
   "id": "30429aea-416f-4f8a-b71f-d677a58787be",
   "metadata": {},
   "outputs": [],
   "source": [
    "#phone.set_price(0)\n",
    "#ValueError: The price attribute must be positive."
   ]
  },
  {
   "cell_type": "code",
   "execution_count": 33,
   "id": "19cb53f0-6e81-4c05-b1b1-f69296d839fb",
   "metadata": {},
   "outputs": [
    {
     "data": {
      "text/plain": [
       "'Apple'"
      ]
     },
     "execution_count": 33,
     "metadata": {},
     "output_type": "execute_result"
    }
   ],
   "source": [
    "phone = Phone('Apple')\n",
    "phone.get_price()"
   ]
  },
  {
   "cell_type": "code",
   "execution_count": 35,
   "id": "b2533884-0f8a-4776-936a-e27cdc1a8980",
   "metadata": {},
   "outputs": [],
   "source": [
    "class Phone:\n",
    "\n",
    "    def __init__(self, price):\n",
    "        self.set_price(price)\n",
    "\n",
    "    def get_price(self):\n",
    "        return self._price\n",
    "\n",
    "    def set_price(self, value):\n",
    "        if isinstance(value, (int, float)):\n",
    "            if value > 0:\n",
    "                self._price = value\n",
    "            else:\n",
    "                raise ValueError('The price attribute must be positive.')\n",
    "        else:\n",
    "            raise TypeError('The price attribute must be an int or float value.')"
   ]
  },
  {
   "cell_type": "code",
   "execution_count": 36,
   "id": "44039dec-40d0-4846-8504-cf949f10d41b",
   "metadata": {},
   "outputs": [],
   "source": [
    "phone = Phone(2000)"
   ]
  },
  {
   "cell_type": "code",
   "execution_count": 37,
   "id": "843762e1-99a2-45fa-b24c-88874bcb03c2",
   "metadata": {},
   "outputs": [
    {
     "data": {
      "text/plain": [
       "2000"
      ]
     },
     "execution_count": 37,
     "metadata": {},
     "output_type": "execute_result"
    }
   ],
   "source": [
    "phone.get_price()"
   ]
  },
  {
   "cell_type": "markdown",
   "id": "0f9c79bf-a52f-478f-ae97-7165015ed6f8",
   "metadata": {},
   "source": [
    "## Creating properties - `property()`.\n",
    "\n",
    "```\n",
    "property(fget=None, fset=None, fdel=None, doc=None) -> property attribute\n",
    "```"
   ]
  },
  {
   "cell_type": "code",
   "execution_count": 38,
   "id": "afb204cd-88e0-4910-8679-50b6bfee15bb",
   "metadata": {},
   "outputs": [
    {
     "name": "stdout",
     "output_type": "stream",
     "text": [
      "Help on class property in module builtins:\n",
      "\n",
      "class property(object)\n",
      " |  property(fget=None, fset=None, fdel=None, doc=None)\n",
      " |  \n",
      " |  Property attribute.\n",
      " |  \n",
      " |    fget\n",
      " |      function to be used for getting an attribute value\n",
      " |    fset\n",
      " |      function to be used for setting an attribute value\n",
      " |    fdel\n",
      " |      function to be used for del'ing an attribute\n",
      " |    doc\n",
      " |      docstring\n",
      " |  \n",
      " |  Typical use is to define a managed attribute x:\n",
      " |  \n",
      " |  class C(object):\n",
      " |      def getx(self): return self._x\n",
      " |      def setx(self, value): self._x = value\n",
      " |      def delx(self): del self._x\n",
      " |      x = property(getx, setx, delx, \"I'm the 'x' property.\")\n",
      " |  \n",
      " |  Decorators make defining new properties or modifying existing ones easy:\n",
      " |  \n",
      " |  class C(object):\n",
      " |      @property\n",
      " |      def x(self):\n",
      " |          \"I am the 'x' property.\"\n",
      " |          return self._x\n",
      " |      @x.setter\n",
      " |      def x(self, value):\n",
      " |          self._x = value\n",
      " |      @x.deleter\n",
      " |      def x(self):\n",
      " |          del self._x\n",
      " |  \n",
      " |  Methods defined here:\n",
      " |  \n",
      " |  __delete__(self, instance, /)\n",
      " |      Delete an attribute of instance.\n",
      " |  \n",
      " |  __get__(self, instance, owner, /)\n",
      " |      Return an attribute of instance, which is of type owner.\n",
      " |  \n",
      " |  __getattribute__(self, name, /)\n",
      " |      Return getattr(self, name).\n",
      " |  \n",
      " |  __init__(self, /, *args, **kwargs)\n",
      " |      Initialize self.  See help(type(self)) for accurate signature.\n",
      " |  \n",
      " |  __set__(self, instance, value, /)\n",
      " |      Set an attribute of instance to value.\n",
      " |  \n",
      " |  deleter(...)\n",
      " |      Descriptor to change the deleter on a property.\n",
      " |  \n",
      " |  getter(...)\n",
      " |      Descriptor to change the getter on a property.\n",
      " |  \n",
      " |  setter(...)\n",
      " |      Descriptor to change the setter on a property.\n",
      " |  \n",
      " |  ----------------------------------------------------------------------\n",
      " |  Static methods defined here:\n",
      " |  \n",
      " |  __new__(*args, **kwargs) from builtins.type\n",
      " |      Create and return a new object.  See help(type) for accurate signature.\n",
      " |  \n",
      " |  ----------------------------------------------------------------------\n",
      " |  Data descriptors defined here:\n",
      " |  \n",
      " |  __isabstractmethod__\n",
      " |  \n",
      " |  fdel\n",
      " |  \n",
      " |  fget\n",
      " |  \n",
      " |  fset\n",
      "\n"
     ]
    }
   ],
   "source": [
    "help(property)"
   ]
  },
  {
   "cell_type": "code",
   "execution_count": 39,
   "id": "7200ef8a-5dc1-4630-be8e-52063b948d67",
   "metadata": {},
   "outputs": [
    {
     "name": "stdout",
     "output_type": "stream",
     "text": [
      "getting...\n"
     ]
    },
    {
     "data": {
      "text/plain": [
       "1200"
      ]
     },
     "execution_count": 39,
     "metadata": {},
     "output_type": "execute_result"
    }
   ],
   "source": [
    "class Phone:\n",
    "\n",
    "    def __init__(self, price):\n",
    "        self._price = price\n",
    "\n",
    "    def get_price(self):\n",
    "        print('getting...')\n",
    "        return self._price\n",
    "\n",
    "phone = Phone(1200)\n",
    "phone.get_price()"
   ]
  },
  {
   "cell_type": "code",
   "execution_count": 40,
   "id": "d505edd9-3db1-4e79-9ce9-39fd0197928f",
   "metadata": {},
   "outputs": [
    {
     "data": {
      "text/plain": [
       "mappingproxy({'__module__': '__main__',\n",
       "              '__init__': <function __main__.Phone.__init__(self, price)>,\n",
       "              'get_price': <function __main__.Phone.get_price(self)>,\n",
       "              'price': <property at 0x24a56c67ae0>,\n",
       "              '__dict__': <attribute '__dict__' of 'Phone' objects>,\n",
       "              '__weakref__': <attribute '__weakref__' of 'Phone' objects>,\n",
       "              '__doc__': None})"
      ]
     },
     "execution_count": 40,
     "metadata": {},
     "output_type": "execute_result"
    }
   ],
   "source": [
    "class Phone:\n",
    "\n",
    "    def __init__(self, price):\n",
    "        self._price = price\n",
    "\n",
    "    def get_price(self):\n",
    "        print('getting...')\n",
    "        return self._price\n",
    "\n",
    "    price = property(fget=get_price)\n",
    "\n",
    "Phone.__dict__"
   ]
  },
  {
   "cell_type": "code",
   "execution_count": 41,
   "id": "c77aa5df-b079-4a31-889c-d14b2b7c3d31",
   "metadata": {},
   "outputs": [
    {
     "name": "stdout",
     "output_type": "stream",
     "text": [
      "getting...\n"
     ]
    },
    {
     "data": {
      "text/plain": [
       "1200"
      ]
     },
     "execution_count": 41,
     "metadata": {},
     "output_type": "execute_result"
    }
   ],
   "source": [
    "phone = Phone(1200)\n",
    "phone.get_price()"
   ]
  },
  {
   "cell_type": "code",
   "execution_count": 42,
   "id": "2d3b43bd-51b1-49a4-82a9-0f1dd381c30f",
   "metadata": {},
   "outputs": [
    {
     "name": "stdout",
     "output_type": "stream",
     "text": [
      "getting...\n"
     ]
    },
    {
     "data": {
      "text/plain": [
       "1200"
      ]
     },
     "execution_count": 42,
     "metadata": {},
     "output_type": "execute_result"
    }
   ],
   "source": [
    "phone.price"
   ]
  },
  {
   "cell_type": "code",
   "execution_count": 43,
   "id": "8d9ae6d9-6768-4933-ae8c-71ba6fc6d92c",
   "metadata": {},
   "outputs": [
    {
     "data": {
      "text/plain": [
       "mappingproxy({'__module__': '__main__',\n",
       "              '__init__': <function __main__.Phone.__init__(self, price)>,\n",
       "              'price': <property at 0x24a56c67c70>,\n",
       "              '__dict__': <attribute '__dict__' of 'Phone' objects>,\n",
       "              '__weakref__': <attribute '__weakref__' of 'Phone' objects>,\n",
       "              '__doc__': None})"
      ]
     },
     "execution_count": 43,
     "metadata": {},
     "output_type": "execute_result"
    }
   ],
   "source": [
    "class Phone:\n",
    "\n",
    "    def __init__(self, price):\n",
    "        self._price = price\n",
    "\n",
    "    def price(self):\n",
    "        print('getting...')\n",
    "        return self._price\n",
    "\n",
    "    price = property(fget=price)\n",
    "\n",
    "Phone.__dict__"
   ]
  },
  {
   "cell_type": "code",
   "execution_count": 44,
   "id": "28fbe9f1-b8ab-4f21-b45e-787ac42e7870",
   "metadata": {},
   "outputs": [
    {
     "name": "stdout",
     "output_type": "stream",
     "text": [
      "getting...\n"
     ]
    },
    {
     "data": {
      "text/plain": [
       "1200"
      ]
     },
     "execution_count": 44,
     "metadata": {},
     "output_type": "execute_result"
    }
   ],
   "source": [
    "phone = Phone(1200)\n",
    "phone.price"
   ]
  },
  {
   "cell_type": "code",
   "execution_count": 47,
   "id": "5806109a-aa46-44e3-ab62-7985f5fde8a3",
   "metadata": {},
   "outputs": [],
   "source": [
    "#phone.price = 3000\n",
    "#AttributeError: can't set attribute"
   ]
  },
  {
   "cell_type": "code",
   "execution_count": 48,
   "id": "9ca6c02f-351e-41d9-9988-b77dcd56976a",
   "metadata": {},
   "outputs": [],
   "source": [
    "#del phone.price\n",
    "#AttributeError: can't delete attribute"
   ]
  },
  {
   "cell_type": "markdown",
   "id": "55227f40-af18-4db2-b5c4-f171285460a8",
   "metadata": {},
   "source": [
    "## getter + setter"
   ]
  },
  {
   "cell_type": "code",
   "execution_count": 49,
   "id": "3bcfaec0-4e89-4b04-9c4c-8930bc639221",
   "metadata": {},
   "outputs": [
    {
     "data": {
      "text/plain": [
       "mappingproxy({'__module__': '__main__',\n",
       "              '__init__': <function __main__.Phone.__init__(self, price)>,\n",
       "              'get_price': <function __main__.Phone.get_price(self)>,\n",
       "              'set_price': <function __main__.Phone.set_price(self, value)>,\n",
       "              'price': <property at 0x24a56c67b30>,\n",
       "              '__dict__': <attribute '__dict__' of 'Phone' objects>,\n",
       "              '__weakref__': <attribute '__weakref__' of 'Phone' objects>,\n",
       "              '__doc__': None})"
      ]
     },
     "execution_count": 49,
     "metadata": {},
     "output_type": "execute_result"
    }
   ],
   "source": [
    "class Phone:\n",
    "\n",
    "    def __init__(self, price):\n",
    "        self._price = price\n",
    "\n",
    "    def get_price(self):\n",
    "        print('getting...')\n",
    "        return self._price\n",
    "\n",
    "    def set_price(self, value):\n",
    "        print('setting...')\n",
    "        if isinstance(value, (int, float)):\n",
    "            if value > 0:\n",
    "                self._price = value\n",
    "            else:\n",
    "                raise ValueError('The price attribute must be positive.')\n",
    "        else:\n",
    "            raise TypeError('The price attribute must be an int or float value.')        \n",
    "\n",
    "    price = property(fget=get_price, fset=set_price)\n",
    "\n",
    "Phone.__dict__"
   ]
  },
  {
   "cell_type": "code",
   "execution_count": 50,
   "id": "778e84a6-d622-487a-8183-42336e9dd2aa",
   "metadata": {},
   "outputs": [
    {
     "name": "stdout",
     "output_type": "stream",
     "text": [
      "getting...\n"
     ]
    },
    {
     "data": {
      "text/plain": [
       "3000"
      ]
     },
     "execution_count": 50,
     "metadata": {},
     "output_type": "execute_result"
    }
   ],
   "source": [
    "phone = Phone(3000)\n",
    "phone.price"
   ]
  },
  {
   "cell_type": "code",
   "execution_count": 51,
   "id": "cd9bfb5f-4051-4eb9-b5aa-9e237ba66568",
   "metadata": {},
   "outputs": [
    {
     "name": "stdout",
     "output_type": "stream",
     "text": [
      "setting...\n"
     ]
    }
   ],
   "source": [
    "phone.price = 4000"
   ]
  },
  {
   "cell_type": "code",
   "execution_count": 52,
   "id": "15a5b9e1-cca6-4893-bda4-54820246fb9d",
   "metadata": {},
   "outputs": [
    {
     "name": "stdout",
     "output_type": "stream",
     "text": [
      "getting...\n"
     ]
    },
    {
     "data": {
      "text/plain": [
       "4000"
      ]
     },
     "execution_count": 52,
     "metadata": {},
     "output_type": "execute_result"
    }
   ],
   "source": [
    "phone.price"
   ]
  },
  {
   "cell_type": "code",
   "execution_count": 53,
   "id": "2ddd19cc-4f52-4a3a-800d-fe1adc001196",
   "metadata": {},
   "outputs": [
    {
     "data": {
      "text/plain": [
       "{'_price': 4000}"
      ]
     },
     "execution_count": 53,
     "metadata": {},
     "output_type": "execute_result"
    }
   ],
   "source": [
    "phone.__dict__"
   ]
  },
  {
   "cell_type": "code",
   "execution_count": 55,
   "id": "51f6174b-0d8c-43a7-8a16-47eb2430b679",
   "metadata": {},
   "outputs": [],
   "source": [
    "#phone.price = -4000\n",
    "#ValueError: The price attribute must be positive."
   ]
  },
  {
   "cell_type": "code",
   "execution_count": 57,
   "id": "865c75cf-5044-4a63-8361-e233a66e58f1",
   "metadata": {},
   "outputs": [],
   "source": [
    "#phone.price = '54'\n",
    "#TypeError: The price attribute must be an int or float value."
   ]
  },
  {
   "cell_type": "code",
   "execution_count": 59,
   "id": "80d791e9-b8b2-4db9-8ab9-3501718af477",
   "metadata": {},
   "outputs": [],
   "source": [
    "#del phone.price\n",
    "#AttributeError: can't delete attribute"
   ]
  },
  {
   "cell_type": "markdown",
   "id": "b7f63760-d316-4ead-9459-b79ae11f1ce4",
   "metadata": {},
   "source": [
    "## getter + setter + deleter"
   ]
  },
  {
   "cell_type": "code",
   "execution_count": 71,
   "id": "953ba800-eba8-4c48-a495-91d203937291",
   "metadata": {},
   "outputs": [
    {
     "data": {
      "text/plain": [
       "mappingproxy({'__module__': '__main__',\n",
       "              '__init__': <function __main__.Phone.__init__(self, price)>,\n",
       "              'get_price': <function __main__.Phone.get_price(self)>,\n",
       "              'set_price': <function __main__.Phone.set_price(self, value)>,\n",
       "              'del_price': <function __main__.Phone.del_price(self)>,\n",
       "              'price': <property at 0x24a55b30810>,\n",
       "              '__dict__': <attribute '__dict__' of 'Phone' objects>,\n",
       "              '__weakref__': <attribute '__weakref__' of 'Phone' objects>,\n",
       "              '__doc__': None})"
      ]
     },
     "execution_count": 71,
     "metadata": {},
     "output_type": "execute_result"
    }
   ],
   "source": [
    "class Phone:\n",
    "\n",
    "    def __init__(self, price):\n",
    "        self._price = price\n",
    "\n",
    "    def get_price(self):\n",
    "        print('getting...')\n",
    "        return self._price\n",
    "\n",
    "    def set_price(self, value):\n",
    "        print('setting...')\n",
    "        if isinstance(value, (int, float)):\n",
    "            if value > 0:\n",
    "                self._price = value\n",
    "            else:\n",
    "                raise ValueError('The price attribute must be positive.')\n",
    "        else:\n",
    "            raise TypeError('The price attribute must be an int or float value.') \n",
    "\n",
    "    def del_price(self):\n",
    "        print('deleting...')\n",
    "        del self._price      \n",
    "\n",
    "    price = property(fget=get_price, fset=set_price, fdel=del_price)\n",
    "\n",
    "Phone.__dict__"
   ]
  },
  {
   "cell_type": "code",
   "execution_count": 72,
   "id": "0efa4434-2ecf-40d9-bc8c-9a284a5c725c",
   "metadata": {},
   "outputs": [
    {
     "name": "stdout",
     "output_type": "stream",
     "text": [
      "getting...\n"
     ]
    },
    {
     "data": {
      "text/plain": [
       "3000"
      ]
     },
     "execution_count": 72,
     "metadata": {},
     "output_type": "execute_result"
    }
   ],
   "source": [
    "phone = Phone(3000)\n",
    "phone.price"
   ]
  },
  {
   "cell_type": "code",
   "execution_count": 73,
   "id": "eae7dea6-909f-45fe-a72e-9181797c8125",
   "metadata": {},
   "outputs": [
    {
     "name": "stdout",
     "output_type": "stream",
     "text": [
      "setting...\n"
     ]
    }
   ],
   "source": [
    "phone.price = 2000"
   ]
  },
  {
   "cell_type": "code",
   "execution_count": 74,
   "id": "137aebb0-150b-460d-ad8d-b2a89f5b78ca",
   "metadata": {},
   "outputs": [
    {
     "name": "stdout",
     "output_type": "stream",
     "text": [
      "getting...\n"
     ]
    },
    {
     "data": {
      "text/plain": [
       "2000"
      ]
     },
     "execution_count": 74,
     "metadata": {},
     "output_type": "execute_result"
    }
   ],
   "source": [
    "phone.price"
   ]
  },
  {
   "cell_type": "code",
   "execution_count": 75,
   "id": "e05d4ced-3e28-4e1b-825e-ef190b820bee",
   "metadata": {},
   "outputs": [
    {
     "name": "stdout",
     "output_type": "stream",
     "text": [
      "deleting...\n"
     ]
    }
   ],
   "source": [
    "del phone.price"
   ]
  },
  {
   "cell_type": "code",
   "execution_count": 76,
   "id": "d77cd613-1f9d-414f-98de-3ac35cfa9850",
   "metadata": {},
   "outputs": [
    {
     "data": {
      "text/plain": [
       "{}"
      ]
     },
     "execution_count": 76,
     "metadata": {},
     "output_type": "execute_result"
    }
   ],
   "source": [
    "phone.__dict__"
   ]
  },
  {
   "cell_type": "code",
   "execution_count": 77,
   "id": "15ced66c-ff75-4014-bcfb-77e605c84a4a",
   "metadata": {},
   "outputs": [
    {
     "name": "stdout",
     "output_type": "stream",
     "text": [
      "setting...\n"
     ]
    }
   ],
   "source": [
    "phone.price = 1000"
   ]
  },
  {
   "cell_type": "code",
   "execution_count": 78,
   "id": "2c64094f-53b5-4088-8792-7bdcf84f27fb",
   "metadata": {},
   "outputs": [
    {
     "data": {
      "text/plain": [
       "{'_price': 1000}"
      ]
     },
     "execution_count": 78,
     "metadata": {},
     "output_type": "execute_result"
    }
   ],
   "source": [
    "phone.__dict__"
   ]
  },
  {
   "cell_type": "markdown",
   "id": "9e21ea60-4a60-45a8-bcf1-965fe0e619ad",
   "metadata": {},
   "source": [
    "## getter + setter + deleter + doc"
   ]
  },
  {
   "cell_type": "code",
   "execution_count": 80,
   "id": "e4818a87-b5f0-48b0-9fe5-1bdcd2b6583d",
   "metadata": {},
   "outputs": [],
   "source": [
    "class Phone:\n",
    "    \"\"\"Phone class docs.\"\"\"\n",
    "\n",
    "    def __init__(self, price):\n",
    "        self._price = price\n",
    "\n",
    "    def get_price(self):\n",
    "        print('getting...')\n",
    "        return self._price\n",
    "\n",
    "    def set_price(self, value):\n",
    "        print('setting...')\n",
    "        if isinstance(value, (int, float)):\n",
    "            if value > 0:\n",
    "                self._price = value\n",
    "            else:\n",
    "                raise ValueError('The price attribute must be positive.')\n",
    "        else:\n",
    "            raise TypeError('The price attribute must be an int or float value.') \n",
    "\n",
    "    def del_price(self):\n",
    "        print('deleting...')\n",
    "        del self._price      \n",
    "\n",
    "    price = property(fget=get_price, fset=set_price, fdel=del_price, doc='Phone price.')"
   ]
  },
  {
   "cell_type": "code",
   "execution_count": 81,
   "id": "ad84fad7-74b8-4e99-827f-e53aa97fd32c",
   "metadata": {},
   "outputs": [
    {
     "name": "stdout",
     "output_type": "stream",
     "text": [
      "Help on class Phone in module __main__:\n",
      "\n",
      "class Phone(builtins.object)\n",
      " |  Phone(price)\n",
      " |  \n",
      " |  Phone class docs.\n",
      " |  \n",
      " |  Methods defined here:\n",
      " |  \n",
      " |  __init__(self, price)\n",
      " |      Initialize self.  See help(type(self)) for accurate signature.\n",
      " |  \n",
      " |  del_price(self)\n",
      " |  \n",
      " |  get_price(self)\n",
      " |  \n",
      " |  set_price(self, value)\n",
      " |  \n",
      " |  ----------------------------------------------------------------------\n",
      " |  Data descriptors defined here:\n",
      " |  \n",
      " |  __dict__\n",
      " |      dictionary for instance variables (if defined)\n",
      " |  \n",
      " |  __weakref__\n",
      " |      list of weak references to the object (if defined)\n",
      " |  \n",
      " |  price\n",
      " |      Phone price.\n",
      "\n"
     ]
    }
   ],
   "source": [
    "help(Phone)"
   ]
  },
  {
   "cell_type": "markdown",
   "id": "fd12fb0d-8d74-417b-be79-5103c11ecf07",
   "metadata": {},
   "source": [
    "## Decorator"
   ]
  },
  {
   "cell_type": "code",
   "execution_count": 82,
   "id": "730d5c6c-a06e-4e4f-9c25-38a8686fce59",
   "metadata": {},
   "outputs": [
    {
     "name": "stdout",
     "output_type": "stream",
     "text": [
      "Python 3.9\n"
     ]
    }
   ],
   "source": [
    "def hello():\n",
    "    print('Python 3.9')\n",
    "\n",
    "hello()"
   ]
  },
  {
   "cell_type": "code",
   "execution_count": 83,
   "id": "04efa30e-e8cf-487d-ac6d-62c0b08b017a",
   "metadata": {},
   "outputs": [
    {
     "data": {
      "text/plain": [
       "<function __main__.pretty_print.<locals>.wrapper()>"
      ]
     },
     "execution_count": 83,
     "metadata": {},
     "output_type": "execute_result"
    }
   ],
   "source": [
    "def pretty_print(func):\n",
    "    def wrapper():\n",
    "        print('=' * 30)\n",
    "        func()\n",
    "        print('=' * 30)\n",
    "    return wrapper\n",
    "\n",
    "pretty_print(hello)"
   ]
  },
  {
   "cell_type": "code",
   "execution_count": 84,
   "id": "aff02122-e8a8-4d9b-b148-5d4e392c7218",
   "metadata": {},
   "outputs": [
    {
     "name": "stdout",
     "output_type": "stream",
     "text": [
      "==============================\n",
      "Python 3.9\n",
      "==============================\n"
     ]
    }
   ],
   "source": [
    "pretty_print(hello)()"
   ]
  },
  {
   "cell_type": "code",
   "execution_count": 85,
   "id": "3c4037e5-67e0-4f4c-8d58-4b802ad45601",
   "metadata": {},
   "outputs": [
    {
     "name": "stdout",
     "output_type": "stream",
     "text": [
      "==============================\n",
      "Python 3.9\n",
      "==============================\n"
     ]
    }
   ],
   "source": [
    "hello = pretty_print(hello)\n",
    "hello()"
   ]
  },
  {
   "cell_type": "code",
   "execution_count": 89,
   "id": "f62afff9-09c9-43e0-a83c-a1d354138fbb",
   "metadata": {},
   "outputs": [
    {
     "data": {
      "text/plain": [
       "<function __main__.pretty_print.<locals>.wrapper()>"
      ]
     },
     "execution_count": 89,
     "metadata": {},
     "output_type": "execute_result"
    }
   ],
   "source": [
    "def pretty_print(func):\n",
    "    def wrapper():\n",
    "        print('=' * 30)\n",
    "        func()\n",
    "        print('=' * 30)\n",
    "    return wrapper\n",
    "\n",
    "def hello():\n",
    "    print('Python 3.9')\n",
    "\n",
    "\n",
    "hello = pretty_print(hello)\n",
    "hello"
   ]
  },
  {
   "cell_type": "code",
   "execution_count": 90,
   "id": "c31332ad-e874-46d4-b99d-9ea9c1a2cb0e",
   "metadata": {},
   "outputs": [
    {
     "name": "stdout",
     "output_type": "stream",
     "text": [
      "==============================\n",
      "Python 3.9\n",
      "==============================\n"
     ]
    }
   ],
   "source": [
    "hello()"
   ]
  },
  {
   "cell_type": "code",
   "execution_count": 91,
   "id": "55497e40-2926-47a7-8186-9fd52497f4e1",
   "metadata": {},
   "outputs": [
    {
     "data": {
      "text/plain": [
       "<function __main__.pretty_print.<locals>.wrapper()>"
      ]
     },
     "execution_count": 91,
     "metadata": {},
     "output_type": "execute_result"
    }
   ],
   "source": [
    "def pretty_print(func):\n",
    "    def wrapper():\n",
    "        print('=' * 30)\n",
    "        func()\n",
    "        print('=' * 30)\n",
    "    return wrapper\n",
    "\n",
    "@pretty_print\n",
    "def hello():\n",
    "    print('Python 3.9')\n",
    "\n",
    "hello"
   ]
  },
  {
   "cell_type": "code",
   "execution_count": 93,
   "id": "98954228-adc6-48cb-8fc8-c683c1c84753",
   "metadata": {},
   "outputs": [
    {
     "name": "stdout",
     "output_type": "stream",
     "text": [
      "==============================\n",
      "Python 3.9\n",
      "==============================\n"
     ]
    }
   ],
   "source": [
    "hello()"
   ]
  },
  {
   "cell_type": "markdown",
   "id": "79c37e7a-1f4a-4db2-87e8-95a74348b99a",
   "metadata": {},
   "source": [
    "## Decorator example"
   ]
  },
  {
   "cell_type": "code",
   "execution_count": 102,
   "id": "3b20e896-685d-4e16-aaf2-20453c9c8e7c",
   "metadata": {},
   "outputs": [
    {
     "data": {
      "text/plain": [
       "1661421737.1209257"
      ]
     },
     "execution_count": 102,
     "metadata": {},
     "output_type": "execute_result"
    }
   ],
   "source": [
    "import time\n",
    "time.time()"
   ]
  },
  {
   "cell_type": "code",
   "execution_count": 105,
   "id": "dabe542f-d59a-4ada-aed5-19d9e4dfb7f5",
   "metadata": {},
   "outputs": [],
   "source": [
    "time.sleep(2)"
   ]
  },
  {
   "cell_type": "code",
   "execution_count": 106,
   "id": "9f71032c-268a-445f-a4bf-d9e8551e507b",
   "metadata": {},
   "outputs": [
    {
     "name": "stdout",
     "output_type": "stream",
     "text": [
      "Executing fake_sleep...\n"
     ]
    }
   ],
   "source": [
    "def timer(func):\n",
    "    def wrapper(sec):\n",
    "        start = time.time()\n",
    "        func(sec)\n",
    "        stop = time.time()\n",
    "        print(f'Execution time: {stop - start:.4f}')\n",
    "    return wrapper\n",
    "\n",
    "def fake_sleep(sec):\n",
    "    print(f'Executing {fake_sleep.__name__}...')\n",
    "    time.sleep(sec)\n",
    "\n",
    "fake_sleep(2)"
   ]
  },
  {
   "cell_type": "code",
   "execution_count": 107,
   "id": "73692526-3ffc-490a-b9d3-0b58efb9774b",
   "metadata": {},
   "outputs": [
    {
     "name": "stdout",
     "output_type": "stream",
     "text": [
      "Executing fake_sleep...\n",
      "Execution time: 3.0093\n"
     ]
    }
   ],
   "source": [
    "timer(fake_sleep)(3)"
   ]
  },
  {
   "cell_type": "code",
   "execution_count": 108,
   "id": "50463ad7-3f2b-4d50-94a0-7d3f080b9839",
   "metadata": {},
   "outputs": [
    {
     "name": "stdout",
     "output_type": "stream",
     "text": [
      "Executing wrapper...\n",
      "Execution time: 3.0065\n"
     ]
    }
   ],
   "source": [
    "fake_sleep = timer(fake_sleep)\n",
    "fake_sleep(3)"
   ]
  },
  {
   "cell_type": "code",
   "execution_count": 111,
   "id": "a75f7d97-60c8-41bc-a2da-44042c334b57",
   "metadata": {},
   "outputs": [
    {
     "name": "stdout",
     "output_type": "stream",
     "text": [
      "Executing wrapper...\n",
      "Execution time: 2.0103\n"
     ]
    }
   ],
   "source": [
    "import time\n",
    "\n",
    "\n",
    "def timer(func):\n",
    "    def wrapper(sec):\n",
    "        start = time.time()\n",
    "        func(sec)\n",
    "        stop = time.time()\n",
    "        print(f'Execution time: {stop - start:.4f}')\n",
    "    return wrapper\n",
    "\n",
    "@timer\n",
    "def fake_sleep(sec):\n",
    "    print(f'Executing {fake_sleep.__name__}...')\n",
    "    time.sleep(sec)\n",
    "\n",
    "fake_sleep(2)"
   ]
  },
  {
   "cell_type": "code",
   "execution_count": 113,
   "id": "f994d4f5-0d9f-4d26-92f7-b82e3f2f736f",
   "metadata": {},
   "outputs": [
    {
     "name": "stdout",
     "output_type": "stream",
     "text": [
      "Executing wrapper...\n",
      "Execution time: 4.0084\n"
     ]
    }
   ],
   "source": [
    "fake_sleep(4)"
   ]
  },
  {
   "cell_type": "markdown",
   "id": "6ec2b247-ca6f-451d-929a-e38ee9d90db5",
   "metadata": {},
   "source": [
    "## Dekorator `@property`"
   ]
  },
  {
   "cell_type": "code",
   "execution_count": 114,
   "id": "501f16d6-5150-4081-81c5-cfe20e36324d",
   "metadata": {},
   "outputs": [],
   "source": [
    " class Phone:\n",
    "\n",
    "    def __init__(self, price):\n",
    "        self._price = price\n",
    "\n",
    "    def price(self):\n",
    "        print('getting...')\n",
    "        return self._price\n",
    "        \n",
    "    price = property(fget=price)"
   ]
  },
  {
   "cell_type": "code",
   "execution_count": 115,
   "id": "82272379-12be-408a-a7aa-bc3bf8b83b56",
   "metadata": {},
   "outputs": [
    {
     "data": {
      "text/plain": [
       "mappingproxy({'__module__': '__main__',\n",
       "              '__init__': <function __main__.Phone.__init__(self, price)>,\n",
       "              'price': <property at 0x24a56c85630>,\n",
       "              '__dict__': <attribute '__dict__' of 'Phone' objects>,\n",
       "              '__weakref__': <attribute '__weakref__' of 'Phone' objects>,\n",
       "              '__doc__': None})"
      ]
     },
     "execution_count": 115,
     "metadata": {},
     "output_type": "execute_result"
    }
   ],
   "source": [
    " class Phone:\n",
    "\n",
    "    def __init__(self, price):\n",
    "        self._price = price\n",
    "\n",
    "    @property\n",
    "    def price(self):\n",
    "        print('getting...')\n",
    "        return self._price\n",
    "\n",
    "Phone.__dict__"
   ]
  },
  {
   "cell_type": "code",
   "execution_count": 116,
   "id": "9a30dd45-0b5c-44b1-bc08-f595b8bb0b25",
   "metadata": {},
   "outputs": [
    {
     "data": {
      "text/plain": [
       "{'_price': 2000}"
      ]
     },
     "execution_count": 116,
     "metadata": {},
     "output_type": "execute_result"
    }
   ],
   "source": [
    "phone = Phone(2000)\n",
    "phone.__dict__"
   ]
  },
  {
   "cell_type": "code",
   "execution_count": 117,
   "id": "16a85158-7a6d-4fc6-8d9e-dd743a7801b9",
   "metadata": {},
   "outputs": [
    {
     "name": "stdout",
     "output_type": "stream",
     "text": [
      "getting...\n"
     ]
    },
    {
     "data": {
      "text/plain": [
       "2000"
      ]
     },
     "execution_count": 117,
     "metadata": {},
     "output_type": "execute_result"
    }
   ],
   "source": [
    "phone.price"
   ]
  },
  {
   "cell_type": "code",
   "execution_count": 120,
   "id": "d3a950d2-9ebf-4ca0-a5f1-d2ec62873938",
   "metadata": {},
   "outputs": [],
   "source": [
    "#phone.price = 1000\n",
    "#AttributeError: can't set attribute"
   ]
  },
  {
   "cell_type": "code",
   "execution_count": 121,
   "id": "b3e3c244-51a3-4ac4-9e91-3fae136be155",
   "metadata": {},
   "outputs": [],
   "source": [
    "#del phone.price\n",
    "#AttributeError: can't delete attribute"
   ]
  },
  {
   "cell_type": "code",
   "execution_count": 122,
   "id": "d6c3c6d8-b49c-46d6-a44a-5a0b5462f286",
   "metadata": {},
   "outputs": [
    {
     "data": {
      "text/plain": [
       "mappingproxy({'__module__': '__main__',\n",
       "              '__init__': <function __main__.Phone.__init__(self, price)>,\n",
       "              'get_price': <function __main__.Phone.get_price(self)>,\n",
       "              'set_price': <function __main__.Phone.set_price(self, value)>,\n",
       "              'price': <property at 0x24a56c6e400>,\n",
       "              '__dict__': <attribute '__dict__' of 'Phone' objects>,\n",
       "              '__weakref__': <attribute '__weakref__' of 'Phone' objects>,\n",
       "              '__doc__': None})"
      ]
     },
     "execution_count": 122,
     "metadata": {},
     "output_type": "execute_result"
    }
   ],
   "source": [
    "class Phone:\n",
    "\n",
    "    def __init__(self, price):\n",
    "        self._price = price\n",
    "\n",
    "    def get_price(self):\n",
    "        print('getting...')\n",
    "        return self._price\n",
    "\n",
    "    def set_price(self, value):\n",
    "        print('setting...')\n",
    "        if isinstance(value, (int, float)):\n",
    "            if value > 0:\n",
    "                self._price = value\n",
    "            else:\n",
    "                raise ValueError('The price attribute must be positive.')\n",
    "        else:\n",
    "            raise TypeError('The price attribute must be an int or float value.')        \n",
    "\n",
    "    price = property(fget=get_price, fset=set_price)\n",
    "\n",
    "Phone.__dict__"
   ]
  },
  {
   "cell_type": "code",
   "execution_count": 123,
   "id": "c2cb24fe-6c36-43da-9e42-70c3adb75b5c",
   "metadata": {},
   "outputs": [
    {
     "data": {
      "text/plain": [
       "mappingproxy({'__module__': '__main__',\n",
       "              '__init__': <function __main__.Phone.__init__(self, price)>,\n",
       "              'price': <property at 0x24a56c81040>,\n",
       "              'set_price': <function __main__.Phone.set_price(self, value)>,\n",
       "              '__dict__': <attribute '__dict__' of 'Phone' objects>,\n",
       "              '__weakref__': <attribute '__weakref__' of 'Phone' objects>,\n",
       "              '__doc__': None})"
      ]
     },
     "execution_count": 123,
     "metadata": {},
     "output_type": "execute_result"
    }
   ],
   "source": [
    "class Phone:\n",
    "\n",
    "    def __init__(self, price):\n",
    "        self._price = price\n",
    "\n",
    "    @property\n",
    "    def price(self):\n",
    "        print('getting...')\n",
    "        return self._price\n",
    "\n",
    "    def set_price(self, value):\n",
    "        print('setting...')\n",
    "        if isinstance(value, (int, float)):\n",
    "            if value > 0:\n",
    "                self._price = value\n",
    "            else:\n",
    "                raise ValueError('The price attribute must be positive.')\n",
    "        else:\n",
    "            raise TypeError('The price attribute must be an int or float value.')        \n",
    "\n",
    "    price = price.setter(set_price)\n",
    "\n",
    "Phone.__dict__"
   ]
  },
  {
   "cell_type": "code",
   "execution_count": 124,
   "id": "97baac10-7297-421c-8982-c40b14302648",
   "metadata": {},
   "outputs": [
    {
     "name": "stdout",
     "output_type": "stream",
     "text": [
      "getting...\n"
     ]
    },
    {
     "data": {
      "text/plain": [
       "2000"
      ]
     },
     "execution_count": 124,
     "metadata": {},
     "output_type": "execute_result"
    }
   ],
   "source": [
    "phone = Phone(2000)\n",
    "phone.price"
   ]
  },
  {
   "cell_type": "code",
   "execution_count": 125,
   "id": "67835d42-c1c0-4360-a260-e6dda3da8df1",
   "metadata": {},
   "outputs": [
    {
     "name": "stdout",
     "output_type": "stream",
     "text": [
      "setting...\n"
     ]
    }
   ],
   "source": [
    "phone.price = 3000"
   ]
  },
  {
   "cell_type": "code",
   "execution_count": 126,
   "id": "aa191717-6875-4972-9efb-5200dfd9cf72",
   "metadata": {},
   "outputs": [
    {
     "name": "stdout",
     "output_type": "stream",
     "text": [
      "getting...\n"
     ]
    },
    {
     "data": {
      "text/plain": [
       "3000"
      ]
     },
     "execution_count": 126,
     "metadata": {},
     "output_type": "execute_result"
    }
   ],
   "source": [
    "phone.price"
   ]
  },
  {
   "cell_type": "code",
   "execution_count": 128,
   "id": "3f78d046-0ba4-439b-94bc-03e7126cfd8c",
   "metadata": {},
   "outputs": [],
   "source": [
    "#del phone.price\n",
    "#AttributeError: can't delete attribute"
   ]
  },
  {
   "cell_type": "code",
   "execution_count": 129,
   "id": "c1c5ee96-ddb1-4264-b484-912d1f1d3e4b",
   "metadata": {},
   "outputs": [
    {
     "data": {
      "text/plain": [
       "mappingproxy({'__module__': '__main__',\n",
       "              '__init__': <function __main__.Phone.__init__(self, price)>,\n",
       "              'price': <property at 0x24a56c916d0>,\n",
       "              '__dict__': <attribute '__dict__' of 'Phone' objects>,\n",
       "              '__weakref__': <attribute '__weakref__' of 'Phone' objects>,\n",
       "              '__doc__': None})"
      ]
     },
     "execution_count": 129,
     "metadata": {},
     "output_type": "execute_result"
    }
   ],
   "source": [
    "class Phone:\n",
    "\n",
    "    def __init__(self, price):\n",
    "        self._price = price\n",
    "\n",
    "    @property\n",
    "    def price(self):\n",
    "        print('getting...')\n",
    "        return self._price\n",
    "\n",
    "    @price.setter\n",
    "    def price(self, value):\n",
    "        print('setting...')\n",
    "        if isinstance(value, (int, float)):\n",
    "            if value > 0:\n",
    "                self._price = value\n",
    "            else:\n",
    "                raise ValueError('The price attribute must be positive.')\n",
    "        else:\n",
    "            raise TypeError('The price attribute must be an int or float value.')        \n",
    "\n",
    "Phone.__dict__"
   ]
  },
  {
   "cell_type": "code",
   "execution_count": 130,
   "id": "8049694a-7796-4bd3-86c6-4b07e873dda3",
   "metadata": {},
   "outputs": [
    {
     "name": "stdout",
     "output_type": "stream",
     "text": [
      "getting...\n"
     ]
    },
    {
     "data": {
      "text/plain": [
       "2000"
      ]
     },
     "execution_count": 130,
     "metadata": {},
     "output_type": "execute_result"
    }
   ],
   "source": [
    "phone = Phone(2000)\n",
    "phone.price"
   ]
  },
  {
   "cell_type": "code",
   "execution_count": 136,
   "id": "d5a2b68e-6e7e-4f40-b0da-7089d21157f4",
   "metadata": {},
   "outputs": [],
   "source": [
    "#phone.price = -1000\n",
    "#ValueError: The price attribute must be positive."
   ]
  },
  {
   "cell_type": "code",
   "execution_count": 137,
   "id": "ed486633-84ea-44fc-9862-237ae838e9e0",
   "metadata": {},
   "outputs": [],
   "source": [
    "#phone.price = 'fsds'\n",
    "#TypeError: The price attribute must be an int or float value."
   ]
  },
  {
   "cell_type": "code",
   "execution_count": 133,
   "id": "6e09f6ee-0400-4bf7-91cf-b0640cccbe8b",
   "metadata": {},
   "outputs": [
    {
     "name": "stdout",
     "output_type": "stream",
     "text": [
      "setting...\n"
     ]
    }
   ],
   "source": [
    "phone.price = 4000"
   ]
  },
  {
   "cell_type": "code",
   "execution_count": 134,
   "id": "90f35acc-f134-4b1b-9269-a2fd9fd875a6",
   "metadata": {},
   "outputs": [
    {
     "name": "stdout",
     "output_type": "stream",
     "text": [
      "getting...\n"
     ]
    },
    {
     "data": {
      "text/plain": [
       "4000"
      ]
     },
     "execution_count": 134,
     "metadata": {},
     "output_type": "execute_result"
    }
   ],
   "source": [
    "phone.price"
   ]
  },
  {
   "cell_type": "code",
   "execution_count": 138,
   "id": "3a6307fa-8267-4abb-be09-835f9ec65b10",
   "metadata": {},
   "outputs": [],
   "source": [
    "#del phone.price\n",
    "#AttributeError: can't delete attribute"
   ]
  },
  {
   "cell_type": "code",
   "execution_count": 139,
   "id": "c7512096-f1b4-472a-aaf3-72027fc08a68",
   "metadata": {},
   "outputs": [],
   "source": [
    "class Phone:\n",
    "\n",
    "    def __init__(self, price):\n",
    "        self._price = price\n",
    "\n",
    "    def get_price(self):\n",
    "        print('getting...')\n",
    "        return self._price\n",
    "\n",
    "    def set_price(self, value):\n",
    "        print('setting...')\n",
    "        if isinstance(value, (int, float)):\n",
    "            if value > 0:\n",
    "                self._price = value\n",
    "            else:\n",
    "                raise ValueError('The price attribute must be positive.')\n",
    "        else:\n",
    "            raise TypeError('The price attribute must be an int or float value.') \n",
    "\n",
    "    def del_price(self):\n",
    "        print('deleting...')\n",
    "        del self._price      \n",
    "\n",
    "    price = property(fget=get_price, fset=set_price, fdel=del_price)"
   ]
  },
  {
   "cell_type": "code",
   "execution_count": 140,
   "id": "1e1ce4cb-80db-49d5-98f6-043fb2e68034",
   "metadata": {},
   "outputs": [
    {
     "data": {
      "text/plain": [
       "mappingproxy({'__module__': '__main__',\n",
       "              '__init__': <function __main__.Phone.__init__(self, price)>,\n",
       "              'price': <property at 0x24a56c94130>,\n",
       "              '__dict__': <attribute '__dict__' of 'Phone' objects>,\n",
       "              '__weakref__': <attribute '__weakref__' of 'Phone' objects>,\n",
       "              '__doc__': None})"
      ]
     },
     "execution_count": 140,
     "metadata": {},
     "output_type": "execute_result"
    }
   ],
   "source": [
    "class Phone:\n",
    "\n",
    "    def __init__(self, price):\n",
    "        self._price = price\n",
    "\n",
    "    @property\n",
    "    def price(self):\n",
    "        print('getting...')\n",
    "        return self._price\n",
    "\n",
    "    @price.setter\n",
    "    def price(self, value):\n",
    "        print('setting...')\n",
    "        if isinstance(value, (int, float)):\n",
    "            if value > 0:\n",
    "                self._price = value\n",
    "            else:\n",
    "                raise ValueError('The price attribute must be positive.')\n",
    "        else:\n",
    "            raise TypeError('The price attribute must be an int or float value.') \n",
    "\n",
    "    @price.deleter\n",
    "    def price(self):\n",
    "        print('deleting...')\n",
    "        del self._price\n",
    "\n",
    "Phone.__dict__"
   ]
  },
  {
   "cell_type": "code",
   "execution_count": 141,
   "id": "6ebfe7d0-7667-4f23-b8d0-146a55c3a9e7",
   "metadata": {},
   "outputs": [
    {
     "name": "stdout",
     "output_type": "stream",
     "text": [
      "getting...\n"
     ]
    },
    {
     "data": {
      "text/plain": [
       "1000"
      ]
     },
     "execution_count": 141,
     "metadata": {},
     "output_type": "execute_result"
    }
   ],
   "source": [
    "phone = Phone(1000)\n",
    "phone.price"
   ]
  },
  {
   "cell_type": "code",
   "execution_count": 142,
   "id": "40e1ee8e-05b8-42b1-8535-ea1f3449a89e",
   "metadata": {},
   "outputs": [
    {
     "name": "stdout",
     "output_type": "stream",
     "text": [
      "setting...\n"
     ]
    }
   ],
   "source": [
    "phone.price = 2000"
   ]
  },
  {
   "cell_type": "code",
   "execution_count": 143,
   "id": "28d37631-3cc4-40ef-a048-bcf6930ad4bd",
   "metadata": {},
   "outputs": [
    {
     "name": "stdout",
     "output_type": "stream",
     "text": [
      "getting...\n"
     ]
    },
    {
     "data": {
      "text/plain": [
       "2000"
      ]
     },
     "execution_count": 143,
     "metadata": {},
     "output_type": "execute_result"
    }
   ],
   "source": [
    "phone.price"
   ]
  },
  {
   "cell_type": "code",
   "execution_count": 144,
   "id": "0e6e6956-3f50-421b-a255-b1dea10b87e4",
   "metadata": {},
   "outputs": [
    {
     "name": "stdout",
     "output_type": "stream",
     "text": [
      "deleting...\n"
     ]
    }
   ],
   "source": [
    "del phone.price"
   ]
  },
  {
   "cell_type": "code",
   "execution_count": 145,
   "id": "a43e9898-f976-4ee1-8a52-2a3b59a06321",
   "metadata": {},
   "outputs": [
    {
     "data": {
      "text/plain": [
       "{}"
      ]
     },
     "execution_count": 145,
     "metadata": {},
     "output_type": "execute_result"
    }
   ],
   "source": [
    "phone.__dict__"
   ]
  },
  {
   "cell_type": "code",
   "execution_count": 146,
   "id": "00cc212a-7ca0-491a-a1f1-7d0eba37bc72",
   "metadata": {},
   "outputs": [
    {
     "name": "stdout",
     "output_type": "stream",
     "text": [
      "setting...\n"
     ]
    }
   ],
   "source": [
    "phone.price = 2000"
   ]
  },
  {
   "cell_type": "code",
   "execution_count": 147,
   "id": "31c6305a-b387-490c-bad2-f19613edb098",
   "metadata": {},
   "outputs": [
    {
     "data": {
      "text/plain": [
       "{'_price': 2000}"
      ]
     },
     "execution_count": 147,
     "metadata": {},
     "output_type": "execute_result"
    }
   ],
   "source": [
    "phone.__dict__"
   ]
  },
  {
   "cell_type": "code",
   "execution_count": 148,
   "id": "953d2390-ca1a-47cd-8763-e892af1d9428",
   "metadata": {},
   "outputs": [
    {
     "data": {
      "text/plain": [
       "mappingproxy({'__module__': '__main__',\n",
       "              '__init__': <function __main__.Phone.__init__(self, price)>,\n",
       "              'price': <property at 0x24a56c94900>,\n",
       "              '__dict__': <attribute '__dict__' of 'Phone' objects>,\n",
       "              '__weakref__': <attribute '__weakref__' of 'Phone' objects>,\n",
       "              '__doc__': None})"
      ]
     },
     "execution_count": 148,
     "metadata": {},
     "output_type": "execute_result"
    }
   ],
   "source": [
    "class Phone:\n",
    "\n",
    "    def __init__(self, price):\n",
    "        self._price = price\n",
    "\n",
    "    @property\n",
    "    def price(self):\n",
    "        print('getting...')\n",
    "        return self._price\n",
    "\n",
    "    @price.setter\n",
    "    def price(self, value):\n",
    "        print('setting...')\n",
    "        if isinstance(value, (int, float)):\n",
    "            if value > 0:\n",
    "                self._price = value\n",
    "            else:\n",
    "                raise ValueError('The price attribute must be positive.')\n",
    "        else:\n",
    "            raise TypeError('The price attribute must be an int or float value.') \n",
    "\n",
    "    @price.deleter\n",
    "    def price(self):\n",
    "        print('deleting...')\n",
    "        del self._price\n",
    "\n",
    "Phone.__dict__"
   ]
  },
  {
   "cell_type": "code",
   "execution_count": 149,
   "id": "2bf8cb57-a5bb-4ade-90ce-61d9e5e999c3",
   "metadata": {},
   "outputs": [
    {
     "name": "stdout",
     "output_type": "stream",
     "text": [
      "getting...\n"
     ]
    },
    {
     "data": {
      "text/plain": [
       "'3423'"
      ]
     },
     "execution_count": 149,
     "metadata": {},
     "output_type": "execute_result"
    }
   ],
   "source": [
    "phone = Phone('3423')\n",
    "phone.price"
   ]
  },
  {
   "cell_type": "code",
   "execution_count": 150,
   "id": "f8b1e983-2499-4aed-9271-a57da94fd93a",
   "metadata": {},
   "outputs": [
    {
     "data": {
      "text/plain": [
       "mappingproxy({'__module__': '__main__',\n",
       "              '__init__': <function __main__.Phone.__init__(self, price)>,\n",
       "              'price': <property at 0x24a56c96220>,\n",
       "              '__dict__': <attribute '__dict__' of 'Phone' objects>,\n",
       "              '__weakref__': <attribute '__weakref__' of 'Phone' objects>,\n",
       "              '__doc__': None})"
      ]
     },
     "execution_count": 150,
     "metadata": {},
     "output_type": "execute_result"
    }
   ],
   "source": [
    "class Phone:\n",
    "\n",
    "    def __init__(self, price):\n",
    "        self.price = price\n",
    "\n",
    "    @property\n",
    "    def price(self):\n",
    "        print('getting...')\n",
    "        return self._price\n",
    "\n",
    "    @price.setter\n",
    "    def price(self, value):\n",
    "        print('setting...')\n",
    "        if isinstance(value, (int, float)):\n",
    "            if value > 0:\n",
    "                self._price = value\n",
    "            else:\n",
    "                raise ValueError('The price attribute must be positive.')\n",
    "        else:\n",
    "            raise TypeError('The price attribute must be an int or float value.') \n",
    "\n",
    "    @price.deleter\n",
    "    def price(self):\n",
    "        print('deleting...')\n",
    "        del self._price\n",
    "\n",
    "Phone.__dict__"
   ]
  },
  {
   "cell_type": "code",
   "execution_count": 153,
   "id": "7facdfd0-8705-4492-bb1b-6dd72c4da84b",
   "metadata": {},
   "outputs": [],
   "source": [
    "#phone = Phone('3423')\n",
    "#TypeError: The price attribute must be an int or float value."
   ]
  },
  {
   "cell_type": "code",
   "execution_count": 152,
   "id": "9c6a9a8b-302b-4a6e-a1b0-167d1213f6e9",
   "metadata": {},
   "outputs": [
    {
     "name": "stdout",
     "output_type": "stream",
     "text": [
      "setting...\n"
     ]
    }
   ],
   "source": [
    "phone = Phone(2000)"
   ]
  },
  {
   "cell_type": "markdown",
   "id": "e5ac915d-e38d-4d43-9e62-cfcd81e52349",
   "metadata": {},
   "source": [
    "## Example"
   ]
  },
  {
   "cell_type": "code",
   "execution_count": 154,
   "id": "df9e8dc3-195a-4753-ad72-c43a4005f2ce",
   "metadata": {},
   "outputs": [],
   "source": [
    "class Game:\n",
    "\n",
    "    def __init__(self, level=0):\n",
    "        self.level = level\n",
    "\n",
    "    @property\n",
    "    def level(self):\n",
    "        return self._level\n",
    "\n",
    "    @level.setter\n",
    "    def level(self, value):\n",
    "        if value < 0:\n",
    "            self._level = 0\n",
    "        elif value > 100:\n",
    "            self._level = 100\n",
    "        else:\n",
    "            self._level = value"
   ]
  },
  {
   "cell_type": "code",
   "execution_count": 155,
   "id": "9e0d192f-d5bc-42e4-adfa-6628c2c32152",
   "metadata": {},
   "outputs": [
    {
     "data": {
      "text/plain": [
       "[<__main__.Game at 0x24a56c7b790>,\n",
       " <__main__.Game at 0x24a56c7bf40>,\n",
       " <__main__.Game at 0x24a56c7b430>,\n",
       " <__main__.Game at 0x24a56c7b820>]"
      ]
     },
     "execution_count": 155,
     "metadata": {},
     "output_type": "execute_result"
    }
   ],
   "source": [
    "games = [Game(), Game(10), Game(-10), Game(130)]\n",
    "games"
   ]
  },
  {
   "cell_type": "code",
   "execution_count": 156,
   "id": "9ccbe1f9-3a15-474b-9460-e106b1c9c09b",
   "metadata": {},
   "outputs": [
    {
     "data": {
      "text/plain": [
       "[0, 10, 0, 100]"
      ]
     },
     "execution_count": 156,
     "metadata": {},
     "output_type": "execute_result"
    }
   ],
   "source": [
    "[game.level for game in games]"
   ]
  },
  {
   "cell_type": "code",
   "execution_count": 157,
   "id": "bb7e4629-edfa-48e7-8968-12890d96078c",
   "metadata": {},
   "outputs": [
    {
     "name": "stdout",
     "output_type": "stream",
     "text": [
      "0\n",
      "10\n",
      "0\n",
      "100\n"
     ]
    }
   ],
   "source": [
    "for game in games:\n",
    "    print(game.level)"
   ]
  },
  {
   "cell_type": "markdown",
   "id": "410c67e6-ac40-4114-a1ec-95820049e85a",
   "metadata": {},
   "source": [
    "## task1\n",
    "### Implement a class named Smartphone, which in the __init__() method sets the value of the protected price attribute storing the price of the smartphone (without any validation for now). Then implement a method to read this attribute called get_price() and a method to modify this attribute called set_price() also without validation. Next, create an instance of the Smartphone class with a price of 3499 and perform the following steps:\n",
    "- using the get_price() method, print the value of the price protected attribute to the console\n",
    "- using the set_price() method, set the value of the price protected attribute to 3999\n",
    "- using the get_price() method again print the value of the price protected attribute to the console\n",
    "### Expected result:\n",
    "- 3499\n",
    "- 3999"
   ]
  },
  {
   "cell_type": "code",
   "execution_count": 158,
   "id": "aa53098e-a35a-44d4-81a0-baac88b41f9d",
   "metadata": {},
   "outputs": [
    {
     "name": "stdout",
     "output_type": "stream",
     "text": [
      "3499\n",
      "3999\n"
     ]
    }
   ],
   "source": [
    "class Smartphone:\n",
    " \n",
    "    def __init__(self, price):\n",
    "        self._price = price\n",
    " \n",
    "    def get_price(self):\n",
    "        return self._price\n",
    " \n",
    "    def set_price(self, value):\n",
    "        self._price = value\n",
    "        \n",
    " \n",
    "smartphone = Smartphone(3499)\n",
    "print(smartphone.get_price())\n",
    "smartphone.set_price(3999)\n",
    "print(smartphone.get_price())"
   ]
  },
  {
   "cell_type": "markdown",
   "id": "d49d919f-ed03-40ed-81e4-b099f31c1c16",
   "metadata": {},
   "source": [
    "## task2 \n",
    "### Implement a class named Worker, which has two instance protected attributes named first_name and last_name, respectively. Next, implement methods named get_first_name() and get_last_name() that read the value of the set protected attributes first_name and last_name, respectively. Then, using the get_first_name() and get_last_name() methods and the property class (do it the standard way), create two properties named first_name and last_name, respectively (read-only properties). Then create an instance of the Worker class and set the attributes:\n",
    "- first_name to the value 'John'\n",
    "- last_name to the value 'Dow'\n",
    "### Print the first_name and last_name attribute values of the created instance to the console.\n",
    "- Expected result:\n",
    "- John\n",
    "- Dow"
   ]
  },
  {
   "cell_type": "code",
   "execution_count": 159,
   "id": "81755817-32cf-4ad7-a936-0a445b75e81e",
   "metadata": {},
   "outputs": [
    {
     "name": "stdout",
     "output_type": "stream",
     "text": [
      "John\n",
      "Dow\n"
     ]
    }
   ],
   "source": [
    "class Worker:\n",
    " \n",
    "    def __init__(self, first_name, last_name):\n",
    "        self._first_name = first_name\n",
    "        self._last_name = last_name\n",
    " \n",
    "    def get_first_name(self):\n",
    "        return self._first_name\n",
    " \n",
    "    def get_last_name(self):\n",
    "        return self._last_name\n",
    " \n",
    "    first_name = property(fget=get_first_name)\n",
    "    last_name = property(fget=get_last_name)\n",
    "        \n",
    " \n",
    "worker = Worker('John', 'Dow')\n",
    "print(worker.first_name)\n",
    "print(worker.last_name)"
   ]
  },
  {
   "cell_type": "markdown",
   "id": "c3626060-67e7-4e9c-82ad-9f01f1703389",
   "metadata": {},
   "source": [
    "## task3\n",
    "### Implement a class named Pet, which has one protected instance attribute named name. Then using the @property decorator, create a property named name (a property to read and to modify, do not add any validation of the value being set). Create an instance of the Pet class named pet and set the name attribute to the value 'Max'. Then, using dot notation, modify the value of the name attribute to 'Oscar'. In response, print the contents of the __dict__ attribute of the pet instance.\n",
    "- The expected result:\n",
    "- { '_name': 'Oscar'}"
   ]
  },
  {
   "cell_type": "code",
   "execution_count": 170,
   "id": "43e82161-917f-4144-a178-e9e4583700fb",
   "metadata": {},
   "outputs": [
    {
     "name": "stdout",
     "output_type": "stream",
     "text": [
      "{'_name': 'Oscar'}\n"
     ]
    }
   ],
   "source": [
    "class Pet:\n",
    " \n",
    "    def __init__(self, name):\n",
    "        self._name = name\n",
    " \n",
    "    @property\n",
    "    def name(self):\n",
    "        return self._name\n",
    " \n",
    "    @name.setter\n",
    "    def name(self, value):\n",
    "        self._name = value\n",
    " \n",
    "        \n",
    "pet = Pet('Max')\n",
    "pet.name = 'Oscar'\n",
    "print(pet.__dict__)"
   ]
  }
 ],
 "metadata": {
  "kernelspec": {
   "display_name": "Python 3 (ipykernel)",
   "language": "python",
   "name": "python3"
  },
  "language_info": {
   "codemirror_mode": {
    "name": "ipython",
    "version": 3
   },
   "file_extension": ".py",
   "mimetype": "text/x-python",
   "name": "python",
   "nbconvert_exporter": "python",
   "pygments_lexer": "ipython3",
   "version": "3.9.7"
  }
 },
 "nbformat": 4,
 "nbformat_minor": 5
}
