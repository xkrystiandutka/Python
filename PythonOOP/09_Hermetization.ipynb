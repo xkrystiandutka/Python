{
 "cells": [
  {
   "cell_type": "markdown",
   "id": "76095ba1-d4c9-4b27-9a35-cdcdab529ad7",
   "metadata": {},
   "source": [
    "# Hermetization & Encapsulation "
   ]
  },
  {
   "cell_type": "code",
   "execution_count": 1,
   "id": "37bbdfe2-1cab-4a5c-ac9e-35f509263174",
   "metadata": {},
   "outputs": [
    {
     "data": {
      "text/plain": [
       "{'price': 2490}"
      ]
     },
     "execution_count": 1,
     "metadata": {},
     "output_type": "execute_result"
    }
   ],
   "source": [
    "class Phone:\n",
    "\n",
    "    def __init__(self, price):\n",
    "        self.price = price\n",
    "\n",
    "phone = Phone(2490)\n",
    "phone.__dict__"
   ]
  },
  {
   "cell_type": "code",
   "execution_count": 2,
   "id": "3848fc6b-937c-421c-92ba-7bb084176718",
   "metadata": {},
   "outputs": [
    {
     "data": {
      "text/plain": [
       "{'price': 'Apple'}"
      ]
     },
     "execution_count": 2,
     "metadata": {},
     "output_type": "execute_result"
    }
   ],
   "source": [
    "phone = Phone('Apple')\n",
    "phone.__dict__"
   ]
  },
  {
   "cell_type": "code",
   "execution_count": 3,
   "id": "f085cb5b-f7f0-487b-b610-97fb4d9a4b29",
   "metadata": {},
   "outputs": [
    {
     "data": {
      "text/plain": [
       "{'price': 2490}"
      ]
     },
     "execution_count": 3,
     "metadata": {},
     "output_type": "execute_result"
    }
   ],
   "source": [
    "phone = Phone(2490)\n",
    "phone.__dict__"
   ]
  },
  {
   "cell_type": "code",
   "execution_count": 4,
   "id": "4da7a09a-24b9-4531-9d3a-9b3b110dc8ea",
   "metadata": {},
   "outputs": [],
   "source": [
    "phone.price = 'John'"
   ]
  },
  {
   "cell_type": "code",
   "execution_count": 5,
   "id": "b78cfde3-ddcf-4b2f-aa40-3d3e7290e15f",
   "metadata": {},
   "outputs": [
    {
     "data": {
      "text/plain": [
       "'John'"
      ]
     },
     "execution_count": 5,
     "metadata": {},
     "output_type": "execute_result"
    }
   ],
   "source": [
    "phone.price"
   ]
  },
  {
   "cell_type": "code",
   "execution_count": 6,
   "id": "b4a45ab2-0fc4-4276-9d8c-8756cccfe003",
   "metadata": {},
   "outputs": [
    {
     "data": {
      "text/plain": [
       "{'_price': 2490}"
      ]
     },
     "execution_count": 6,
     "metadata": {},
     "output_type": "execute_result"
    }
   ],
   "source": [
    "class Phone:\n",
    "\n",
    "    def __init__(self, price):\n",
    "        self._price = price\n",
    "\n",
    "    def get_price(self):\n",
    "        return self._price\n",
    "\n",
    "    def set_price(self, value):\n",
    "        self._price = value\n",
    "\n",
    "phone = Phone(2490)\n",
    "phone.__dict__"
   ]
  },
  {
   "cell_type": "code",
   "execution_count": 7,
   "id": "d15598be-3730-4c21-bb89-d6cc07f7a6a7",
   "metadata": {},
   "outputs": [
    {
     "data": {
      "text/plain": [
       "2490"
      ]
     },
     "execution_count": 7,
     "metadata": {},
     "output_type": "execute_result"
    }
   ],
   "source": [
    "phone.get_price()"
   ]
  },
  {
   "cell_type": "code",
   "execution_count": 8,
   "id": "88ab8d4f-8ade-45b3-9af2-dc89e8b31ac7",
   "metadata": {},
   "outputs": [],
   "source": [
    "phone.set_price(3000)"
   ]
  },
  {
   "cell_type": "code",
   "execution_count": 9,
   "id": "52c93cfb-ca83-4490-809d-644553dfd66b",
   "metadata": {},
   "outputs": [
    {
     "data": {
      "text/plain": [
       "3000"
      ]
     },
     "execution_count": 9,
     "metadata": {},
     "output_type": "execute_result"
    }
   ],
   "source": [
    "phone.get_price()"
   ]
  },
  {
   "cell_type": "code",
   "execution_count": 10,
   "id": "bc66998e-6ac6-443d-9260-7ac75fe95802",
   "metadata": {},
   "outputs": [
    {
     "data": {
      "text/plain": [
       "{'_price': 3000}"
      ]
     },
     "execution_count": 10,
     "metadata": {},
     "output_type": "execute_result"
    }
   ],
   "source": [
    "phone.__dict__"
   ]
  },
  {
   "cell_type": "code",
   "execution_count": 11,
   "id": "811152c7-f3f7-46c2-9159-8710108d3bd8",
   "metadata": {},
   "outputs": [
    {
     "data": {
      "text/plain": [
       "3000"
      ]
     },
     "execution_count": 11,
     "metadata": {},
     "output_type": "execute_result"
    }
   ],
   "source": [
    "phone._price"
   ]
  },
  {
   "cell_type": "markdown",
   "id": "4297ec83-bed1-4b72-bb07-8ef1ec70aa7d",
   "metadata": {},
   "source": [
    "## Validation"
   ]
  },
  {
   "cell_type": "code",
   "execution_count": 12,
   "id": "7f8e6279-9505-4f1a-85b3-8ecabf3b35d3",
   "metadata": {},
   "outputs": [
    {
     "data": {
      "text/plain": [
       "{'_price': 3000}"
      ]
     },
     "execution_count": 12,
     "metadata": {},
     "output_type": "execute_result"
    }
   ],
   "source": [
    "class Phone:\n",
    "\n",
    "    def __init__(self, price):\n",
    "        self._price = price\n",
    "\n",
    "    def get_price(self):\n",
    "        return self._price\n",
    "\n",
    "    def set_price(self, value):\n",
    "        if isinstance(value, (int, float)):\n",
    "            self._price = value\n",
    "        else:\n",
    "            raise TypeError('The price attribute must be an int or float value.')\n",
    "\n",
    "phone.__dict__"
   ]
  },
  {
   "cell_type": "code",
   "execution_count": 13,
   "id": "bcf31166-fcfa-4b02-87a6-7003dcaeba31",
   "metadata": {},
   "outputs": [
    {
     "data": {
      "text/plain": [
       "{'_price': 2000}"
      ]
     },
     "execution_count": 13,
     "metadata": {},
     "output_type": "execute_result"
    }
   ],
   "source": [
    "phone = Phone(2000)\n",
    "phone.__dict__"
   ]
  },
  {
   "cell_type": "code",
   "execution_count": 17,
   "id": "c0e1911a-4c33-474a-9beb-824396132591",
   "metadata": {},
   "outputs": [],
   "source": [
    "#phone.set_price('Apple')\n",
    "#TypeError: The price attribute must be an int or float value."
   ]
  },
  {
   "cell_type": "code",
   "execution_count": 18,
   "id": "236f91c7-2b0c-494c-990a-3ebd1a84cb94",
   "metadata": {},
   "outputs": [],
   "source": [
    "phone.set_price(4000)"
   ]
  },
  {
   "cell_type": "code",
   "execution_count": 19,
   "id": "4fbe633b-554e-49ff-96dd-85e157dbba35",
   "metadata": {},
   "outputs": [
    {
     "data": {
      "text/plain": [
       "4000"
      ]
     },
     "execution_count": 19,
     "metadata": {},
     "output_type": "execute_result"
    }
   ],
   "source": [
    "phone.get_price()"
   ]
  },
  {
   "cell_type": "code",
   "execution_count": 20,
   "id": "78fa84e4-aa57-4e6b-89ad-5ef081982fbb",
   "metadata": {},
   "outputs": [],
   "source": [
    "phone.set_price(-4000)"
   ]
  },
  {
   "cell_type": "code",
   "execution_count": 21,
   "id": "c98deabf-4405-4222-9e70-f87a7505dbc9",
   "metadata": {},
   "outputs": [
    {
     "data": {
      "text/plain": [
       "-4000"
      ]
     },
     "execution_count": 21,
     "metadata": {},
     "output_type": "execute_result"
    }
   ],
   "source": [
    "phone.get_price()"
   ]
  },
  {
   "cell_type": "code",
   "execution_count": 22,
   "id": "75676435-b5b1-4c3a-9b55-de9346ea5232",
   "metadata": {},
   "outputs": [],
   "source": [
    "class Phone:\n",
    "\n",
    "    def __init__(self, price):\n",
    "        self._price = price\n",
    "\n",
    "    def get_price(self):\n",
    "        return self._price\n",
    "\n",
    "    def set_price(self, value):\n",
    "        if isinstance(value, (int, float)):\n",
    "            if value > 0:\n",
    "                self._price = value\n",
    "            else:\n",
    "                raise ValueError('The price attribute must be positive.')\n",
    "        else:\n",
    "            raise TypeError('The price attribute must be an int or float value.')"
   ]
  },
  {
   "cell_type": "code",
   "execution_count": 23,
   "id": "db9e90df-29b7-4681-9946-924e06dfb321",
   "metadata": {},
   "outputs": [
    {
     "data": {
      "text/plain": [
       "{'_price': 1500}"
      ]
     },
     "execution_count": 23,
     "metadata": {},
     "output_type": "execute_result"
    }
   ],
   "source": [
    "phone = Phone(1500)\n",
    "phone.__dict__"
   ]
  },
  {
   "cell_type": "code",
   "execution_count": 24,
   "id": "1c7537a0-3f3d-48a7-b0ad-b185010ecbbd",
   "metadata": {},
   "outputs": [],
   "source": [
    "phone.set_price(1900)"
   ]
  },
  {
   "cell_type": "code",
   "execution_count": 25,
   "id": "149ef9ec-d42d-433b-9072-83e43226cb4b",
   "metadata": {},
   "outputs": [
    {
     "data": {
      "text/plain": [
       "1900"
      ]
     },
     "execution_count": 25,
     "metadata": {},
     "output_type": "execute_result"
    }
   ],
   "source": [
    "phone.get_price()"
   ]
  },
  {
   "cell_type": "code",
   "execution_count": 26,
   "id": "0cf15b26-7646-496d-bf6e-4afe21ee6334",
   "metadata": {},
   "outputs": [],
   "source": [
    "phone.set_price(1900.0)"
   ]
  },
  {
   "cell_type": "code",
   "execution_count": 27,
   "id": "0c2f4dec-039d-4101-ac2b-984db5fb2984",
   "metadata": {},
   "outputs": [
    {
     "data": {
      "text/plain": [
       "1900.0"
      ]
     },
     "execution_count": 27,
     "metadata": {},
     "output_type": "execute_result"
    }
   ],
   "source": [
    "phone.get_price()"
   ]
  },
  {
   "cell_type": "code",
   "execution_count": 29,
   "id": "4b14090d-f158-4a8f-820d-c4e08c8a2a5b",
   "metadata": {},
   "outputs": [],
   "source": [
    "#phone.set_price('1900.0')\n",
    "#TypeError: The price attribute must be an int or float value."
   ]
  },
  {
   "cell_type": "code",
   "execution_count": 31,
   "id": "63ccfa34-a2d7-4a2f-8b73-e329b145e6a7",
   "metadata": {},
   "outputs": [],
   "source": [
    "#phone.set_price(-1000)\n",
    "#ValueError: The price attribute must be positive."
   ]
  },
  {
   "cell_type": "code",
   "execution_count": null,
   "id": "30429aea-416f-4f8a-b71f-d677a58787be",
   "metadata": {},
   "outputs": [],
   "source": [
    "phone.set_price(0)"
   ]
  }
 ],
 "metadata": {
  "kernelspec": {
   "display_name": "Python 3 (ipykernel)",
   "language": "python",
   "name": "python3"
  },
  "language_info": {
   "codemirror_mode": {
    "name": "ipython",
    "version": 3
   },
   "file_extension": ".py",
   "mimetype": "text/x-python",
   "name": "python",
   "nbconvert_exporter": "python",
   "pygments_lexer": "ipython3",
   "version": "3.9.7"
  }
 },
 "nbformat": 4,
 "nbformat_minor": 5
}
