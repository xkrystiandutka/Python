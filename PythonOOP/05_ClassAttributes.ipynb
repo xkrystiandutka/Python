{
 "cells": [
  {
   "cell_type": "markdown",
   "id": "d7cac35e-cc6b-45c5-8127-c6cd9cb3f529",
   "metadata": {},
   "source": [
    "# Class attributes"
   ]
  },
  {
   "cell_type": "code",
   "execution_count": 1,
   "id": "b50458d7-765c-418a-9a29-2f98907f7a0b",
   "metadata": {},
   "outputs": [],
   "source": [
    "class Phone:\n",
    "    pass"
   ]
  },
  {
   "cell_type": "code",
   "execution_count": 2,
   "id": "8b479eb8-041b-46f8-9f17-efd4f808ba61",
   "metadata": {},
   "outputs": [],
   "source": [
    "class Phone: pass"
   ]
  },
  {
   "cell_type": "code",
   "execution_count": 3,
   "id": "229dc786-5938-48d7-9b05-10757240f6b5",
   "metadata": {},
   "outputs": [
    {
     "data": {
      "text/plain": [
       "'Phone'"
      ]
     },
     "execution_count": 3,
     "metadata": {},
     "output_type": "execute_result"
    }
   ],
   "source": [
    "Phone.__name__"
   ]
  },
  {
   "cell_type": "code",
   "execution_count": 4,
   "id": "5f9ce671-8452-4303-862a-06d0dc8ef921",
   "metadata": {},
   "outputs": [
    {
     "data": {
      "text/plain": [
       "mappingproxy({'__module__': '__main__',\n",
       "              '__dict__': <attribute '__dict__' of 'Phone' objects>,\n",
       "              '__weakref__': <attribute '__weakref__' of 'Phone' objects>,\n",
       "              '__doc__': None})"
      ]
     },
     "execution_count": 4,
     "metadata": {},
     "output_type": "execute_result"
    }
   ],
   "source": [
    "Phone.__dict__"
   ]
  },
  {
   "cell_type": "code",
   "execution_count": 5,
   "id": "b0a6fb81-c5ca-4f72-b1b7-f41bceffc2f5",
   "metadata": {},
   "outputs": [
    {
     "data": {
      "text/plain": [
       "'__main__'"
      ]
     },
     "execution_count": 5,
     "metadata": {},
     "output_type": "execute_result"
    }
   ],
   "source": [
    "Phone.__module__"
   ]
  },
  {
   "cell_type": "code",
   "execution_count": 6,
   "id": "6d9f872a-5de4-41a3-88c0-9a485e6b260b",
   "metadata": {},
   "outputs": [],
   "source": [
    "Phone.__doc__"
   ]
  },
  {
   "cell_type": "code",
   "execution_count": 7,
   "id": "5b9ba7fa-6b31-4607-a053-813b89dff666",
   "metadata": {},
   "outputs": [
    {
     "name": "stdout",
     "output_type": "stream",
     "text": [
      "Help on class Phone in module __main__:\n",
      "\n",
      "class Phone(builtins.object)\n",
      " |  Data descriptors defined here:\n",
      " |  \n",
      " |  __dict__\n",
      " |      dictionary for instance variables (if defined)\n",
      " |  \n",
      " |  __weakref__\n",
      " |      list of weak references to the object (if defined)\n",
      "\n"
     ]
    }
   ],
   "source": [
    "help(Phone)"
   ]
  },
  {
   "cell_type": "code",
   "execution_count": 8,
   "id": "822b76a2-6b54-4f08-beae-8eb1a78cf908",
   "metadata": {},
   "outputs": [
    {
     "name": "stdout",
     "output_type": "stream",
     "text": [
      "Help on class Phone in module __main__:\n",
      "\n",
      "class Phone(builtins.object)\n",
      " |  This is a Phone class.\n",
      " |  \n",
      " |  Data descriptors defined here:\n",
      " |  \n",
      " |  __dict__\n",
      " |      dictionary for instance variables (if defined)\n",
      " |  \n",
      " |  __weakref__\n",
      " |      list of weak references to the object (if defined)\n",
      "\n"
     ]
    }
   ],
   "source": [
    "class Phone:\n",
    "    \"\"\"This is a Phone class.\"\"\"\n",
    "\n",
    "help(Phone)"
   ]
  },
  {
   "cell_type": "code",
   "execution_count": 9,
   "id": "df82bbc7-23e6-494f-9343-5d30bbb1fcb8",
   "metadata": {},
   "outputs": [
    {
     "data": {
      "text/plain": [
       "'This is a Phone class.'"
      ]
     },
     "execution_count": 9,
     "metadata": {},
     "output_type": "execute_result"
    }
   ],
   "source": [
    "Phone.__doc__"
   ]
  },
  {
   "cell_type": "code",
   "execution_count": 10,
   "id": "279f0045-ab9d-4e37-839d-ae1888dc0203",
   "metadata": {},
   "outputs": [
    {
     "data": {
      "text/plain": [
       "mappingproxy({'__module__': '__main__',\n",
       "              '__doc__': 'This is a Phone class.',\n",
       "              '__dict__': <attribute '__dict__' of 'Phone' objects>,\n",
       "              '__weakref__': <attribute '__weakref__' of 'Phone' objects>})"
      ]
     },
     "execution_count": 10,
     "metadata": {},
     "output_type": "execute_result"
    }
   ],
   "source": [
    "Phone.__dict__"
   ]
  },
  {
   "cell_type": "code",
   "execution_count": 11,
   "id": "c5d9f65c-b8a0-4d68-98a9-259fe353d91f",
   "metadata": {},
   "outputs": [
    {
     "data": {
      "text/plain": [
       "(object,)"
      ]
     },
     "execution_count": 11,
     "metadata": {},
     "output_type": "execute_result"
    }
   ],
   "source": [
    "Phone.__bases__"
   ]
  },
  {
   "cell_type": "markdown",
   "id": "0d4afa5a-4c0c-4f38-98ec-a8b8830d6fd4",
   "metadata": {},
   "source": [
    "## User-defined class attributes"
   ]
  },
  {
   "cell_type": "code",
   "execution_count": 12,
   "id": "8fc2982c-3c7f-4c03-9a7e-289f8760ffdc",
   "metadata": {},
   "outputs": [],
   "source": [
    "class Phone:\n",
    "\n",
    "    sector = 'electronics'\n",
    "    os = 'Android'\n",
    "    width = 500\n",
    "    height = 1200"
   ]
  },
  {
   "cell_type": "code",
   "execution_count": 13,
   "id": "79c3c7a2-3e15-4b42-afd1-23f92411b016",
   "metadata": {},
   "outputs": [
    {
     "data": {
      "text/plain": [
       "mappingproxy({'__module__': '__main__',\n",
       "              'sector': 'electronics',\n",
       "              'os': 'Android',\n",
       "              'width': 500,\n",
       "              'height': 1200,\n",
       "              '__dict__': <attribute '__dict__' of 'Phone' objects>,\n",
       "              '__weakref__': <attribute '__weakref__' of 'Phone' objects>,\n",
       "              '__doc__': None})"
      ]
     },
     "execution_count": 13,
     "metadata": {},
     "output_type": "execute_result"
    }
   ],
   "source": [
    "Phone.__dict__"
   ]
  },
  {
   "cell_type": "code",
   "execution_count": 14,
   "id": "21a16484-4dfc-43ee-88a2-f161350e43ec",
   "metadata": {},
   "outputs": [
    {
     "data": {
      "text/plain": [
       "dict_keys(['__module__', 'sector', 'os', 'width', 'height', '__dict__', '__weakref__', '__doc__'])"
      ]
     },
     "execution_count": 14,
     "metadata": {},
     "output_type": "execute_result"
    }
   ],
   "source": [
    "Phone.__dict__.keys()"
   ]
  },
  {
   "cell_type": "code",
   "execution_count": 15,
   "id": "12fce914-3f6e-47f8-a88f-38c5726e1a43",
   "metadata": {},
   "outputs": [
    {
     "data": {
      "text/plain": [
       "['__dict__',\n",
       " '__doc__',\n",
       " '__module__',\n",
       " '__weakref__',\n",
       " 'height',\n",
       " 'os',\n",
       " 'sector',\n",
       " 'width']"
      ]
     },
     "execution_count": 15,
     "metadata": {},
     "output_type": "execute_result"
    }
   ],
   "source": [
    "sorted(Phone.__dict__.keys())"
   ]
  },
  {
   "cell_type": "code",
   "execution_count": 16,
   "id": "87d0f081-5387-4ae8-b8be-435eaa91f0bb",
   "metadata": {},
   "outputs": [
    {
     "data": {
      "text/plain": [
       "'electronics'"
      ]
     },
     "execution_count": 16,
     "metadata": {},
     "output_type": "execute_result"
    }
   ],
   "source": [
    "Phone.sector"
   ]
  },
  {
   "cell_type": "code",
   "execution_count": 17,
   "id": "c76fa721-3b10-4c99-9f09-be78725b89c5",
   "metadata": {},
   "outputs": [
    {
     "data": {
      "text/plain": [
       "('Android', 500, 1200)"
      ]
     },
     "execution_count": 17,
     "metadata": {},
     "output_type": "execute_result"
    }
   ],
   "source": [
    "Phone.os, Phone.width, Phone.height"
   ]
  },
  {
   "cell_type": "code",
   "execution_count": 18,
   "id": "7b28c87e-fdbd-4c0d-a721-6d56b1d69252",
   "metadata": {},
   "outputs": [
    {
     "data": {
      "text/plain": [
       "'Android'"
      ]
     },
     "execution_count": 18,
     "metadata": {},
     "output_type": "execute_result"
    }
   ],
   "source": [
    "Phone.__dict__['os']"
   ]
  },
  {
   "cell_type": "code",
   "execution_count": 19,
   "id": "a870d346-31f8-4048-9c7e-7bdcfe875ae7",
   "metadata": {},
   "outputs": [
    {
     "data": {
      "text/plain": [
       "\u001b[1;31mDocstring:\u001b[0m\n",
       "getattr(object, name[, default]) -> value\n",
       "\n",
       "Get a named attribute from an object; getattr(x, 'y') is equivalent to x.y.\n",
       "When a default argument is given, it is returned when the attribute doesn't\n",
       "exist; without it, an exception is raised in that case.\n",
       "\u001b[1;31mType:\u001b[0m      builtin_function_or_method\n"
      ]
     },
     "metadata": {},
     "output_type": "display_data"
    }
   ],
   "source": [
    "getattr?"
   ]
  },
  {
   "cell_type": "code",
   "execution_count": 20,
   "id": "ead3e3c9-2c21-454e-befc-ace0e26282fa",
   "metadata": {},
   "outputs": [
    {
     "data": {
      "text/plain": [
       "'Android'"
      ]
     },
     "execution_count": 20,
     "metadata": {},
     "output_type": "execute_result"
    }
   ],
   "source": [
    "getattr(Phone, 'os')"
   ]
  },
  {
   "cell_type": "code",
   "execution_count": 21,
   "id": "08b1b04b-c5b9-4b1e-8df7-ee52d114fa69",
   "metadata": {},
   "outputs": [
    {
     "data": {
      "text/plain": [
       "500"
      ]
     },
     "execution_count": 21,
     "metadata": {},
     "output_type": "execute_result"
    }
   ],
   "source": [
    "getattr(Phone, 'width')"
   ]
  },
  {
   "cell_type": "code",
   "execution_count": 23,
   "id": "619397b2-a313-4df6-baaa-ee95db1ca417",
   "metadata": {},
   "outputs": [],
   "source": [
    "#getattr(Phone, 'price')\n",
    "#AttributeError: type object 'Phone' has no attribute 'price'"
   ]
  },
  {
   "cell_type": "code",
   "execution_count": 24,
   "id": "66a241f9-c70f-4afd-abd9-3581d6933893",
   "metadata": {},
   "outputs": [],
   "source": [
    "getattr(Phone, 'price', None)"
   ]
  },
  {
   "cell_type": "code",
   "execution_count": 25,
   "id": "f15ac438-3724-4a98-93a9-9f8ed8ed9dcb",
   "metadata": {},
   "outputs": [
    {
     "data": {
      "text/plain": [
       "'brak'"
      ]
     },
     "execution_count": 25,
     "metadata": {},
     "output_type": "execute_result"
    }
   ],
   "source": [
    "getattr(Phone, 'price', 'brak')"
   ]
  },
  {
   "cell_type": "code",
   "execution_count": 26,
   "id": "d9b6a9fd-61a5-4a43-92d0-969e8431d3fe",
   "metadata": {},
   "outputs": [
    {
     "name": "stdout",
     "output_type": "stream",
     "text": [
      "height 1200\n",
      "os Android\n",
      "sector electronics\n",
      "width 500\n"
     ]
    }
   ],
   "source": [
    "for attr in sorted(Phone.__dict__.keys()):\n",
    "    if not attr.startswith('_'):\n",
    "        print(attr, getattr(Phone, attr))"
   ]
  },
  {
   "cell_type": "code",
   "execution_count": 27,
   "id": "075ed8a4-ea4b-4c27-ad1d-1f1a51232046",
   "metadata": {},
   "outputs": [
    {
     "name": "stdout",
     "output_type": "stream",
     "text": [
      "height -> 1200\n",
      "os -> Android\n",
      "sector -> electronics\n",
      "width -> 500\n"
     ]
    }
   ],
   "source": [
    "for attr in sorted(Phone.__dict__.keys()):\n",
    "    if not attr.startswith('_'):\n",
    "        print(f'{attr} -> {getattr(Phone, attr)}')"
   ]
  },
  {
   "cell_type": "code",
   "execution_count": 29,
   "id": "5580e5db-eca9-4608-9613-a2aef1b0a44d",
   "metadata": {},
   "outputs": [],
   "source": [
    "#Phone.price\n",
    "#AttributeError: type object 'Phone' has no attribute 'price'"
   ]
  },
  {
   "cell_type": "code",
   "execution_count": 30,
   "id": "ab06fa3a-73d4-4b03-862a-e782725e91a6",
   "metadata": {},
   "outputs": [
    {
     "name": "stdout",
     "output_type": "stream",
     "text": [
      "type object 'Phone' has no attribute 'price'\n"
     ]
    }
   ],
   "source": [
    "try:\n",
    "    Phone.price\n",
    "except AttributeError as error:\n",
    "    print(error)"
   ]
  },
  {
   "cell_type": "markdown",
   "id": "cf6e26c8-89d5-40c9-91d8-db351f80ed2f",
   "metadata": {},
   "source": [
    "## Modification of a class attribute"
   ]
  },
  {
   "cell_type": "code",
   "execution_count": 31,
   "id": "1dc25972-6dfb-4821-b803-c21c3d851e1c",
   "metadata": {},
   "outputs": [],
   "source": [
    "class Phone:\n",
    "\n",
    "    sector = 'electronics'\n",
    "    os = 'Android'\n",
    "    width = 500\n",
    "    height = 1200"
   ]
  },
  {
   "cell_type": "code",
   "execution_count": 32,
   "id": "138c3b39-cec5-4a26-9bbc-f5412efc7930",
   "metadata": {},
   "outputs": [
    {
     "data": {
      "text/plain": [
       "'Android'"
      ]
     },
     "execution_count": 32,
     "metadata": {},
     "output_type": "execute_result"
    }
   ],
   "source": [
    "Phone.os"
   ]
  },
  {
   "cell_type": "code",
   "execution_count": 33,
   "id": "883582db-3a95-4303-abb0-593363f27770",
   "metadata": {},
   "outputs": [],
   "source": [
    "Phone.os = 'iOS'"
   ]
  },
  {
   "cell_type": "code",
   "execution_count": 34,
   "id": "f1847bdf-42ab-481a-88f4-64da060976d3",
   "metadata": {},
   "outputs": [
    {
     "data": {
      "text/plain": [
       "'iOS'"
      ]
     },
     "execution_count": 34,
     "metadata": {},
     "output_type": "execute_result"
    }
   ],
   "source": [
    "Phone.os"
   ]
  },
  {
   "cell_type": "code",
   "execution_count": 35,
   "id": "378e3560-82fb-47e4-9bff-fdf2bd92d6d3",
   "metadata": {},
   "outputs": [
    {
     "data": {
      "text/plain": [
       "mappingproxy({'__module__': '__main__',\n",
       "              'sector': 'electronics',\n",
       "              'os': 'iOS',\n",
       "              'width': 500,\n",
       "              'height': 1200,\n",
       "              '__dict__': <attribute '__dict__' of 'Phone' objects>,\n",
       "              '__weakref__': <attribute '__weakref__' of 'Phone' objects>,\n",
       "              '__doc__': None})"
      ]
     },
     "execution_count": 35,
     "metadata": {},
     "output_type": "execute_result"
    }
   ],
   "source": [
    "Phone.__dict__"
   ]
  },
  {
   "cell_type": "code",
   "execution_count": 36,
   "id": "619f663c-f39c-4d53-bd6c-723f9a7211e3",
   "metadata": {},
   "outputs": [
    {
     "data": {
      "text/plain": [
       "\u001b[1;31mSignature:\u001b[0m \u001b[0msetattr\u001b[0m\u001b[1;33m(\u001b[0m\u001b[0mobj\u001b[0m\u001b[1;33m,\u001b[0m \u001b[0mname\u001b[0m\u001b[1;33m,\u001b[0m \u001b[0mvalue\u001b[0m\u001b[1;33m,\u001b[0m \u001b[1;33m/\u001b[0m\u001b[1;33m)\u001b[0m\u001b[1;33m\u001b[0m\u001b[1;33m\u001b[0m\u001b[0m\n",
       "\u001b[1;31mDocstring:\u001b[0m\n",
       "Sets the named attribute on the given object to the specified value.\n",
       "\n",
       "setattr(x, 'y', v) is equivalent to ``x.y = v''\n",
       "\u001b[1;31mType:\u001b[0m      builtin_function_or_method\n"
      ]
     },
     "metadata": {},
     "output_type": "display_data"
    }
   ],
   "source": [
    "setattr?"
   ]
  },
  {
   "cell_type": "code",
   "execution_count": 37,
   "id": "8b7c2f8a-87d4-48dc-9319-73a0741b437d",
   "metadata": {},
   "outputs": [],
   "source": [
    "setattr(Phone, 'os', 'Android')"
   ]
  },
  {
   "cell_type": "code",
   "execution_count": 38,
   "id": "cf70fd3d-7da7-44e6-b295-8732a9b5e37d",
   "metadata": {},
   "outputs": [
    {
     "data": {
      "text/plain": [
       "'Android'"
      ]
     },
     "execution_count": 38,
     "metadata": {},
     "output_type": "execute_result"
    }
   ],
   "source": [
    "getattr(Phone, 'os')"
   ]
  },
  {
   "cell_type": "code",
   "execution_count": 39,
   "id": "29070074-81e5-4d23-968d-c7ddd2ad648d",
   "metadata": {},
   "outputs": [
    {
     "data": {
      "text/plain": [
       "mappingproxy({'__module__': '__main__',\n",
       "              'sector': 'electronics',\n",
       "              'os': 'Android',\n",
       "              'width': 500,\n",
       "              'height': 1200,\n",
       "              '__dict__': <attribute '__dict__' of 'Phone' objects>,\n",
       "              '__weakref__': <attribute '__weakref__' of 'Phone' objects>,\n",
       "              '__doc__': None})"
      ]
     },
     "execution_count": 39,
     "metadata": {},
     "output_type": "execute_result"
    }
   ],
   "source": [
    "Phone.__dict__"
   ]
  },
  {
   "cell_type": "code",
   "execution_count": 41,
   "id": "526fa7ed-9de3-4f04-a91c-8e1d6cc8f8e0",
   "metadata": {},
   "outputs": [],
   "source": [
    "#Phone.__dict__['os'] = 'iOS'\n",
    "#TypeError: 'mappingproxy' object does not support item assignment"
   ]
  },
  {
   "cell_type": "code",
   "execution_count": null,
   "id": "94956883-4ca9-4d16-9865-882ad95b7248",
   "metadata": {},
   "outputs": [],
   "source": []
  }
 ],
 "metadata": {
  "kernelspec": {
   "display_name": "Python 3 (ipykernel)",
   "language": "python",
   "name": "python3"
  },
  "language_info": {
   "codemirror_mode": {
    "name": "ipython",
    "version": 3
   },
   "file_extension": ".py",
   "mimetype": "text/x-python",
   "name": "python",
   "nbconvert_exporter": "python",
   "pygments_lexer": "ipython3",
   "version": "3.9.7"
  }
 },
 "nbformat": 4,
 "nbformat_minor": 5
}
