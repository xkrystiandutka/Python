{
 "cells": [
  {
   "cell_type": "markdown",
   "id": "d7cac35e-cc6b-45c5-8127-c6cd9cb3f529",
   "metadata": {},
   "source": [
    "# Class attributes"
   ]
  },
  {
   "cell_type": "code",
   "execution_count": 1,
   "id": "b50458d7-765c-418a-9a29-2f98907f7a0b",
   "metadata": {},
   "outputs": [],
   "source": [
    "class Phone:\n",
    "    pass"
   ]
  },
  {
   "cell_type": "code",
   "execution_count": 2,
   "id": "8b479eb8-041b-46f8-9f17-efd4f808ba61",
   "metadata": {},
   "outputs": [],
   "source": [
    "class Phone: pass"
   ]
  },
  {
   "cell_type": "code",
   "execution_count": 3,
   "id": "229dc786-5938-48d7-9b05-10757240f6b5",
   "metadata": {},
   "outputs": [
    {
     "data": {
      "text/plain": [
       "'Phone'"
      ]
     },
     "execution_count": 3,
     "metadata": {},
     "output_type": "execute_result"
    }
   ],
   "source": [
    "Phone.__name__"
   ]
  },
  {
   "cell_type": "code",
   "execution_count": 4,
   "id": "5f9ce671-8452-4303-862a-06d0dc8ef921",
   "metadata": {},
   "outputs": [
    {
     "data": {
      "text/plain": [
       "mappingproxy({'__module__': '__main__',\n",
       "              '__dict__': <attribute '__dict__' of 'Phone' objects>,\n",
       "              '__weakref__': <attribute '__weakref__' of 'Phone' objects>,\n",
       "              '__doc__': None})"
      ]
     },
     "execution_count": 4,
     "metadata": {},
     "output_type": "execute_result"
    }
   ],
   "source": [
    "Phone.__dict__"
   ]
  },
  {
   "cell_type": "code",
   "execution_count": 5,
   "id": "b0a6fb81-c5ca-4f72-b1b7-f41bceffc2f5",
   "metadata": {},
   "outputs": [
    {
     "data": {
      "text/plain": [
       "'__main__'"
      ]
     },
     "execution_count": 5,
     "metadata": {},
     "output_type": "execute_result"
    }
   ],
   "source": [
    "Phone.__module__"
   ]
  },
  {
   "cell_type": "code",
   "execution_count": 6,
   "id": "6d9f872a-5de4-41a3-88c0-9a485e6b260b",
   "metadata": {},
   "outputs": [],
   "source": [
    "Phone.__doc__"
   ]
  },
  {
   "cell_type": "code",
   "execution_count": 7,
   "id": "5b9ba7fa-6b31-4607-a053-813b89dff666",
   "metadata": {},
   "outputs": [
    {
     "name": "stdout",
     "output_type": "stream",
     "text": [
      "Help on class Phone in module __main__:\n",
      "\n",
      "class Phone(builtins.object)\n",
      " |  Data descriptors defined here:\n",
      " |  \n",
      " |  __dict__\n",
      " |      dictionary for instance variables (if defined)\n",
      " |  \n",
      " |  __weakref__\n",
      " |      list of weak references to the object (if defined)\n",
      "\n"
     ]
    }
   ],
   "source": [
    "help(Phone)"
   ]
  },
  {
   "cell_type": "code",
   "execution_count": 8,
   "id": "822b76a2-6b54-4f08-beae-8eb1a78cf908",
   "metadata": {},
   "outputs": [
    {
     "name": "stdout",
     "output_type": "stream",
     "text": [
      "Help on class Phone in module __main__:\n",
      "\n",
      "class Phone(builtins.object)\n",
      " |  This is a Phone class.\n",
      " |  \n",
      " |  Data descriptors defined here:\n",
      " |  \n",
      " |  __dict__\n",
      " |      dictionary for instance variables (if defined)\n",
      " |  \n",
      " |  __weakref__\n",
      " |      list of weak references to the object (if defined)\n",
      "\n"
     ]
    }
   ],
   "source": [
    "class Phone:\n",
    "    \"\"\"This is a Phone class.\"\"\"\n",
    "\n",
    "help(Phone)"
   ]
  },
  {
   "cell_type": "code",
   "execution_count": 9,
   "id": "df82bbc7-23e6-494f-9343-5d30bbb1fcb8",
   "metadata": {},
   "outputs": [
    {
     "data": {
      "text/plain": [
       "'This is a Phone class.'"
      ]
     },
     "execution_count": 9,
     "metadata": {},
     "output_type": "execute_result"
    }
   ],
   "source": [
    "Phone.__doc__"
   ]
  },
  {
   "cell_type": "code",
   "execution_count": 10,
   "id": "279f0045-ab9d-4e37-839d-ae1888dc0203",
   "metadata": {},
   "outputs": [
    {
     "data": {
      "text/plain": [
       "mappingproxy({'__module__': '__main__',\n",
       "              '__doc__': 'This is a Phone class.',\n",
       "              '__dict__': <attribute '__dict__' of 'Phone' objects>,\n",
       "              '__weakref__': <attribute '__weakref__' of 'Phone' objects>})"
      ]
     },
     "execution_count": 10,
     "metadata": {},
     "output_type": "execute_result"
    }
   ],
   "source": [
    "Phone.__dict__"
   ]
  },
  {
   "cell_type": "code",
   "execution_count": 11,
   "id": "c5d9f65c-b8a0-4d68-98a9-259fe353d91f",
   "metadata": {},
   "outputs": [
    {
     "data": {
      "text/plain": [
       "(object,)"
      ]
     },
     "execution_count": 11,
     "metadata": {},
     "output_type": "execute_result"
    }
   ],
   "source": [
    "Phone.__bases__"
   ]
  },
  {
   "cell_type": "markdown",
   "id": "0d4afa5a-4c0c-4f38-98ec-a8b8830d6fd4",
   "metadata": {},
   "source": [
    "## User-defined class attributes"
   ]
  },
  {
   "cell_type": "code",
   "execution_count": 12,
   "id": "8fc2982c-3c7f-4c03-9a7e-289f8760ffdc",
   "metadata": {},
   "outputs": [],
   "source": [
    "class Phone:\n",
    "\n",
    "    sector = 'electronics'\n",
    "    os = 'Android'\n",
    "    width = 500\n",
    "    height = 1200"
   ]
  },
  {
   "cell_type": "code",
   "execution_count": 13,
   "id": "79c3c7a2-3e15-4b42-afd1-23f92411b016",
   "metadata": {},
   "outputs": [
    {
     "data": {
      "text/plain": [
       "mappingproxy({'__module__': '__main__',\n",
       "              'sector': 'electronics',\n",
       "              'os': 'Android',\n",
       "              'width': 500,\n",
       "              'height': 1200,\n",
       "              '__dict__': <attribute '__dict__' of 'Phone' objects>,\n",
       "              '__weakref__': <attribute '__weakref__' of 'Phone' objects>,\n",
       "              '__doc__': None})"
      ]
     },
     "execution_count": 13,
     "metadata": {},
     "output_type": "execute_result"
    }
   ],
   "source": [
    "Phone.__dict__"
   ]
  },
  {
   "cell_type": "code",
   "execution_count": 14,
   "id": "21a16484-4dfc-43ee-88a2-f161350e43ec",
   "metadata": {},
   "outputs": [
    {
     "data": {
      "text/plain": [
       "dict_keys(['__module__', 'sector', 'os', 'width', 'height', '__dict__', '__weakref__', '__doc__'])"
      ]
     },
     "execution_count": 14,
     "metadata": {},
     "output_type": "execute_result"
    }
   ],
   "source": [
    "Phone.__dict__.keys()"
   ]
  },
  {
   "cell_type": "code",
   "execution_count": 15,
   "id": "12fce914-3f6e-47f8-a88f-38c5726e1a43",
   "metadata": {},
   "outputs": [
    {
     "data": {
      "text/plain": [
       "['__dict__',\n",
       " '__doc__',\n",
       " '__module__',\n",
       " '__weakref__',\n",
       " 'height',\n",
       " 'os',\n",
       " 'sector',\n",
       " 'width']"
      ]
     },
     "execution_count": 15,
     "metadata": {},
     "output_type": "execute_result"
    }
   ],
   "source": [
    "sorted(Phone.__dict__.keys())"
   ]
  },
  {
   "cell_type": "code",
   "execution_count": 16,
   "id": "87d0f081-5387-4ae8-b8be-435eaa91f0bb",
   "metadata": {},
   "outputs": [
    {
     "data": {
      "text/plain": [
       "'electronics'"
      ]
     },
     "execution_count": 16,
     "metadata": {},
     "output_type": "execute_result"
    }
   ],
   "source": [
    "Phone.sector"
   ]
  },
  {
   "cell_type": "code",
   "execution_count": 17,
   "id": "c76fa721-3b10-4c99-9f09-be78725b89c5",
   "metadata": {},
   "outputs": [
    {
     "data": {
      "text/plain": [
       "('Android', 500, 1200)"
      ]
     },
     "execution_count": 17,
     "metadata": {},
     "output_type": "execute_result"
    }
   ],
   "source": [
    "Phone.os, Phone.width, Phone.height"
   ]
  },
  {
   "cell_type": "code",
   "execution_count": 18,
   "id": "7b28c87e-fdbd-4c0d-a721-6d56b1d69252",
   "metadata": {},
   "outputs": [
    {
     "data": {
      "text/plain": [
       "'Android'"
      ]
     },
     "execution_count": 18,
     "metadata": {},
     "output_type": "execute_result"
    }
   ],
   "source": [
    "Phone.__dict__['os']"
   ]
  },
  {
   "cell_type": "code",
   "execution_count": 19,
   "id": "a870d346-31f8-4048-9c7e-7bdcfe875ae7",
   "metadata": {},
   "outputs": [
    {
     "data": {
      "text/plain": [
       "\u001b[1;31mDocstring:\u001b[0m\n",
       "getattr(object, name[, default]) -> value\n",
       "\n",
       "Get a named attribute from an object; getattr(x, 'y') is equivalent to x.y.\n",
       "When a default argument is given, it is returned when the attribute doesn't\n",
       "exist; without it, an exception is raised in that case.\n",
       "\u001b[1;31mType:\u001b[0m      builtin_function_or_method\n"
      ]
     },
     "metadata": {},
     "output_type": "display_data"
    }
   ],
   "source": [
    "getattr?"
   ]
  },
  {
   "cell_type": "code",
   "execution_count": 20,
   "id": "ead3e3c9-2c21-454e-befc-ace0e26282fa",
   "metadata": {},
   "outputs": [
    {
     "data": {
      "text/plain": [
       "'Android'"
      ]
     },
     "execution_count": 20,
     "metadata": {},
     "output_type": "execute_result"
    }
   ],
   "source": [
    "getattr(Phone, 'os')"
   ]
  },
  {
   "cell_type": "code",
   "execution_count": 21,
   "id": "08b1b04b-c5b9-4b1e-8df7-ee52d114fa69",
   "metadata": {},
   "outputs": [
    {
     "data": {
      "text/plain": [
       "500"
      ]
     },
     "execution_count": 21,
     "metadata": {},
     "output_type": "execute_result"
    }
   ],
   "source": [
    "getattr(Phone, 'width')"
   ]
  },
  {
   "cell_type": "code",
   "execution_count": 23,
   "id": "619397b2-a313-4df6-baaa-ee95db1ca417",
   "metadata": {},
   "outputs": [],
   "source": [
    "#getattr(Phone, 'price')\n",
    "#AttributeError: type object 'Phone' has no attribute 'price'"
   ]
  },
  {
   "cell_type": "code",
   "execution_count": 24,
   "id": "66a241f9-c70f-4afd-abd9-3581d6933893",
   "metadata": {},
   "outputs": [],
   "source": [
    "getattr(Phone, 'price', None)"
   ]
  },
  {
   "cell_type": "code",
   "execution_count": 25,
   "id": "f15ac438-3724-4a98-93a9-9f8ed8ed9dcb",
   "metadata": {},
   "outputs": [
    {
     "data": {
      "text/plain": [
       "'brak'"
      ]
     },
     "execution_count": 25,
     "metadata": {},
     "output_type": "execute_result"
    }
   ],
   "source": [
    "getattr(Phone, 'price', 'brak')"
   ]
  },
  {
   "cell_type": "code",
   "execution_count": 26,
   "id": "d9b6a9fd-61a5-4a43-92d0-969e8431d3fe",
   "metadata": {},
   "outputs": [
    {
     "name": "stdout",
     "output_type": "stream",
     "text": [
      "height 1200\n",
      "os Android\n",
      "sector electronics\n",
      "width 500\n"
     ]
    }
   ],
   "source": [
    "for attr in sorted(Phone.__dict__.keys()):\n",
    "    if not attr.startswith('_'):\n",
    "        print(attr, getattr(Phone, attr))"
   ]
  },
  {
   "cell_type": "code",
   "execution_count": 27,
   "id": "075ed8a4-ea4b-4c27-ad1d-1f1a51232046",
   "metadata": {},
   "outputs": [
    {
     "name": "stdout",
     "output_type": "stream",
     "text": [
      "height -> 1200\n",
      "os -> Android\n",
      "sector -> electronics\n",
      "width -> 500\n"
     ]
    }
   ],
   "source": [
    "for attr in sorted(Phone.__dict__.keys()):\n",
    "    if not attr.startswith('_'):\n",
    "        print(f'{attr} -> {getattr(Phone, attr)}')"
   ]
  },
  {
   "cell_type": "code",
   "execution_count": 29,
   "id": "5580e5db-eca9-4608-9613-a2aef1b0a44d",
   "metadata": {},
   "outputs": [],
   "source": [
    "#Phone.price\n",
    "#AttributeError: type object 'Phone' has no attribute 'price'"
   ]
  },
  {
   "cell_type": "code",
   "execution_count": 30,
   "id": "ab06fa3a-73d4-4b03-862a-e782725e91a6",
   "metadata": {},
   "outputs": [
    {
     "name": "stdout",
     "output_type": "stream",
     "text": [
      "type object 'Phone' has no attribute 'price'\n"
     ]
    }
   ],
   "source": [
    "try:\n",
    "    Phone.price\n",
    "except AttributeError as error:\n",
    "    print(error)"
   ]
  },
  {
   "cell_type": "markdown",
   "id": "cf6e26c8-89d5-40c9-91d8-db351f80ed2f",
   "metadata": {},
   "source": [
    "## Modification of a class attribute"
   ]
  },
  {
   "cell_type": "code",
   "execution_count": 31,
   "id": "1dc25972-6dfb-4821-b803-c21c3d851e1c",
   "metadata": {},
   "outputs": [],
   "source": [
    "class Phone:\n",
    "\n",
    "    sector = 'electronics'\n",
    "    os = 'Android'\n",
    "    width = 500\n",
    "    height = 1200"
   ]
  },
  {
   "cell_type": "code",
   "execution_count": 32,
   "id": "138c3b39-cec5-4a26-9bbc-f5412efc7930",
   "metadata": {},
   "outputs": [
    {
     "data": {
      "text/plain": [
       "'Android'"
      ]
     },
     "execution_count": 32,
     "metadata": {},
     "output_type": "execute_result"
    }
   ],
   "source": [
    "Phone.os"
   ]
  },
  {
   "cell_type": "code",
   "execution_count": 33,
   "id": "883582db-3a95-4303-abb0-593363f27770",
   "metadata": {},
   "outputs": [],
   "source": [
    "Phone.os = 'iOS'"
   ]
  },
  {
   "cell_type": "code",
   "execution_count": 34,
   "id": "f1847bdf-42ab-481a-88f4-64da060976d3",
   "metadata": {},
   "outputs": [
    {
     "data": {
      "text/plain": [
       "'iOS'"
      ]
     },
     "execution_count": 34,
     "metadata": {},
     "output_type": "execute_result"
    }
   ],
   "source": [
    "Phone.os"
   ]
  },
  {
   "cell_type": "code",
   "execution_count": 35,
   "id": "378e3560-82fb-47e4-9bff-fdf2bd92d6d3",
   "metadata": {},
   "outputs": [
    {
     "data": {
      "text/plain": [
       "mappingproxy({'__module__': '__main__',\n",
       "              'sector': 'electronics',\n",
       "              'os': 'iOS',\n",
       "              'width': 500,\n",
       "              'height': 1200,\n",
       "              '__dict__': <attribute '__dict__' of 'Phone' objects>,\n",
       "              '__weakref__': <attribute '__weakref__' of 'Phone' objects>,\n",
       "              '__doc__': None})"
      ]
     },
     "execution_count": 35,
     "metadata": {},
     "output_type": "execute_result"
    }
   ],
   "source": [
    "Phone.__dict__"
   ]
  },
  {
   "cell_type": "code",
   "execution_count": 36,
   "id": "619f663c-f39c-4d53-bd6c-723f9a7211e3",
   "metadata": {},
   "outputs": [
    {
     "data": {
      "text/plain": [
       "\u001b[1;31mSignature:\u001b[0m \u001b[0msetattr\u001b[0m\u001b[1;33m(\u001b[0m\u001b[0mobj\u001b[0m\u001b[1;33m,\u001b[0m \u001b[0mname\u001b[0m\u001b[1;33m,\u001b[0m \u001b[0mvalue\u001b[0m\u001b[1;33m,\u001b[0m \u001b[1;33m/\u001b[0m\u001b[1;33m)\u001b[0m\u001b[1;33m\u001b[0m\u001b[1;33m\u001b[0m\u001b[0m\n",
       "\u001b[1;31mDocstring:\u001b[0m\n",
       "Sets the named attribute on the given object to the specified value.\n",
       "\n",
       "setattr(x, 'y', v) is equivalent to ``x.y = v''\n",
       "\u001b[1;31mType:\u001b[0m      builtin_function_or_method\n"
      ]
     },
     "metadata": {},
     "output_type": "display_data"
    }
   ],
   "source": [
    "setattr?"
   ]
  },
  {
   "cell_type": "code",
   "execution_count": 37,
   "id": "8b7c2f8a-87d4-48dc-9319-73a0741b437d",
   "metadata": {},
   "outputs": [],
   "source": [
    "setattr(Phone, 'os', 'Android')"
   ]
  },
  {
   "cell_type": "code",
   "execution_count": 38,
   "id": "cf70fd3d-7da7-44e6-b295-8732a9b5e37d",
   "metadata": {},
   "outputs": [
    {
     "data": {
      "text/plain": [
       "'Android'"
      ]
     },
     "execution_count": 38,
     "metadata": {},
     "output_type": "execute_result"
    }
   ],
   "source": [
    "getattr(Phone, 'os')"
   ]
  },
  {
   "cell_type": "code",
   "execution_count": 39,
   "id": "29070074-81e5-4d23-968d-c7ddd2ad648d",
   "metadata": {},
   "outputs": [
    {
     "data": {
      "text/plain": [
       "mappingproxy({'__module__': '__main__',\n",
       "              'sector': 'electronics',\n",
       "              'os': 'Android',\n",
       "              'width': 500,\n",
       "              'height': 1200,\n",
       "              '__dict__': <attribute '__dict__' of 'Phone' objects>,\n",
       "              '__weakref__': <attribute '__weakref__' of 'Phone' objects>,\n",
       "              '__doc__': None})"
      ]
     },
     "execution_count": 39,
     "metadata": {},
     "output_type": "execute_result"
    }
   ],
   "source": [
    "Phone.__dict__"
   ]
  },
  {
   "cell_type": "code",
   "execution_count": 41,
   "id": "526fa7ed-9de3-4f04-a91c-8e1d6cc8f8e0",
   "metadata": {},
   "outputs": [],
   "source": [
    "#Phone.__dict__['os'] = 'iOS'\n",
    "#TypeError: 'mappingproxy' object does not support item assignment"
   ]
  },
  {
   "cell_type": "markdown",
   "id": "d1078966-2f49-4da7-a832-18c72f9e05ed",
   "metadata": {},
   "source": [
    "## Adding a new class attribute"
   ]
  },
  {
   "cell_type": "code",
   "execution_count": 42,
   "id": "29f72797-ce8a-452a-b6e4-0d82b21e9f73",
   "metadata": {},
   "outputs": [],
   "source": [
    "class Phone:\n",
    "\n",
    "    sector = 'electronics'\n",
    "    os = 'Android'\n",
    "    width = 500\n",
    "    height = 1200"
   ]
  },
  {
   "cell_type": "code",
   "execution_count": 43,
   "id": "7f4de614-b3e0-4ce4-a724-4b52b730f4c8",
   "metadata": {},
   "outputs": [
    {
     "data": {
      "text/plain": [
       "mappingproxy({'__module__': '__main__',\n",
       "              'sector': 'electronics',\n",
       "              'os': 'Android',\n",
       "              'width': 500,\n",
       "              'height': 1200,\n",
       "              '__dict__': <attribute '__dict__' of 'Phone' objects>,\n",
       "              '__weakref__': <attribute '__weakref__' of 'Phone' objects>,\n",
       "              '__doc__': None})"
      ]
     },
     "execution_count": 43,
     "metadata": {},
     "output_type": "execute_result"
    }
   ],
   "source": [
    "Phone.__dict__"
   ]
  },
  {
   "cell_type": "code",
   "execution_count": 44,
   "id": "ad39a0fd-c144-4527-8246-5dafc6a225da",
   "metadata": {},
   "outputs": [],
   "source": [
    "Phone.origin_country = 'USA'"
   ]
  },
  {
   "cell_type": "code",
   "execution_count": 45,
   "id": "c60de900-adcb-42b1-8431-16a9c252be68",
   "metadata": {},
   "outputs": [
    {
     "data": {
      "text/plain": [
       "mappingproxy({'__module__': '__main__',\n",
       "              'sector': 'electronics',\n",
       "              'os': 'Android',\n",
       "              'width': 500,\n",
       "              'height': 1200,\n",
       "              '__dict__': <attribute '__dict__' of 'Phone' objects>,\n",
       "              '__weakref__': <attribute '__weakref__' of 'Phone' objects>,\n",
       "              '__doc__': None,\n",
       "              'origin_country': 'USA'})"
      ]
     },
     "execution_count": 45,
     "metadata": {},
     "output_type": "execute_result"
    }
   ],
   "source": [
    "Phone.__dict__"
   ]
  },
  {
   "cell_type": "code",
   "execution_count": 46,
   "id": "4dab3729-0ba3-46ed-9109-e789bc1f234e",
   "metadata": {},
   "outputs": [
    {
     "data": {
      "text/plain": [
       "'USA'"
      ]
     },
     "execution_count": 46,
     "metadata": {},
     "output_type": "execute_result"
    }
   ],
   "source": [
    "Phone.origin_country"
   ]
  },
  {
   "cell_type": "code",
   "execution_count": 47,
   "id": "b0c505eb-ec69-41d5-bf8b-40300723ad70",
   "metadata": {},
   "outputs": [],
   "source": [
    "Phone.origin_country = 'China'"
   ]
  },
  {
   "cell_type": "code",
   "execution_count": 48,
   "id": "e7ebd16e-39e8-47e6-af7a-4634c7a6d2ed",
   "metadata": {},
   "outputs": [
    {
     "data": {
      "text/plain": [
       "'China'"
      ]
     },
     "execution_count": 48,
     "metadata": {},
     "output_type": "execute_result"
    }
   ],
   "source": [
    "Phone.origin_country"
   ]
  },
  {
   "cell_type": "code",
   "execution_count": 49,
   "id": "5c5512d1-2b7f-41b6-a391-0ff9454b0e4c",
   "metadata": {},
   "outputs": [],
   "source": [
    "setattr(Phone, 'year_of_production', 2020)"
   ]
  },
  {
   "cell_type": "code",
   "execution_count": 50,
   "id": "ae5388a6-979c-41a1-bee5-046c2a49ef06",
   "metadata": {},
   "outputs": [
    {
     "data": {
      "text/plain": [
       "mappingproxy({'__module__': '__main__',\n",
       "              'sector': 'electronics',\n",
       "              'os': 'Android',\n",
       "              'width': 500,\n",
       "              'height': 1200,\n",
       "              '__dict__': <attribute '__dict__' of 'Phone' objects>,\n",
       "              '__weakref__': <attribute '__weakref__' of 'Phone' objects>,\n",
       "              '__doc__': None,\n",
       "              'origin_country': 'China',\n",
       "              'year_of_production': 2020})"
      ]
     },
     "execution_count": 50,
     "metadata": {},
     "output_type": "execute_result"
    }
   ],
   "source": [
    "Phone.__dict__"
   ]
  },
  {
   "cell_type": "code",
   "execution_count": 51,
   "id": "11cab4d6-db40-4eca-84a9-b0f153a5fd7d",
   "metadata": {},
   "outputs": [
    {
     "data": {
      "text/plain": [
       "2020"
      ]
     },
     "execution_count": 51,
     "metadata": {},
     "output_type": "execute_result"
    }
   ],
   "source": [
    "Phone.year_of_production"
   ]
  },
  {
   "cell_type": "markdown",
   "id": "35466eff-2d3c-4008-a99e-4d6db2299486",
   "metadata": {},
   "source": [
    "## Remove class attribute"
   ]
  },
  {
   "cell_type": "code",
   "execution_count": 52,
   "id": "2678ab19-6f4b-4608-8a07-e0c82bd3af64",
   "metadata": {},
   "outputs": [
    {
     "data": {
      "text/plain": [
       "mappingproxy({'__module__': '__main__',\n",
       "              'sector': 'electronics',\n",
       "              'os': 'Android',\n",
       "              'width': 500,\n",
       "              'height': 1200,\n",
       "              '__dict__': <attribute '__dict__' of 'Phone' objects>,\n",
       "              '__weakref__': <attribute '__weakref__' of 'Phone' objects>,\n",
       "              '__doc__': None})"
      ]
     },
     "execution_count": 52,
     "metadata": {},
     "output_type": "execute_result"
    }
   ],
   "source": [
    "class Phone:\n",
    "\n",
    "    sector = 'electronics'\n",
    "    os = 'Android'\n",
    "    width = 500\n",
    "    height = 1200\n",
    "\n",
    "Phone.__dict__"
   ]
  },
  {
   "cell_type": "code",
   "execution_count": 53,
   "id": "d79edf54-33ee-4f7f-ba38-6ee84180e9ce",
   "metadata": {},
   "outputs": [],
   "source": [
    "del Phone.os"
   ]
  },
  {
   "cell_type": "code",
   "execution_count": 54,
   "id": "728aab46-1706-48cc-8280-42dd1c44da27",
   "metadata": {},
   "outputs": [
    {
     "data": {
      "text/plain": [
       "mappingproxy({'__module__': '__main__',\n",
       "              'sector': 'electronics',\n",
       "              'width': 500,\n",
       "              'height': 1200,\n",
       "              '__dict__': <attribute '__dict__' of 'Phone' objects>,\n",
       "              '__weakref__': <attribute '__weakref__' of 'Phone' objects>,\n",
       "              '__doc__': None})"
      ]
     },
     "execution_count": 54,
     "metadata": {},
     "output_type": "execute_result"
    }
   ],
   "source": [
    "Phone.__dict__"
   ]
  },
  {
   "cell_type": "code",
   "execution_count": 56,
   "id": "dbfb8a8c-0e10-4b29-a797-d48569454667",
   "metadata": {},
   "outputs": [],
   "source": [
    "#Phone.os\n",
    "#AttributeError: type object 'Phone' has no attribute 'os'"
   ]
  },
  {
   "cell_type": "code",
   "execution_count": 57,
   "id": "5691c20f-1ae0-4a17-b7cf-fed169afe5e6",
   "metadata": {},
   "outputs": [
    {
     "data": {
      "text/plain": [
       "mappingproxy({'__module__': '__main__',\n",
       "              'sector': 'electronics',\n",
       "              'os': 'Android',\n",
       "              'width': 500,\n",
       "              'height': 1200,\n",
       "              '__dict__': <attribute '__dict__' of 'Phone' objects>,\n",
       "              '__weakref__': <attribute '__weakref__' of 'Phone' objects>,\n",
       "              '__doc__': None})"
      ]
     },
     "execution_count": 57,
     "metadata": {},
     "output_type": "execute_result"
    }
   ],
   "source": [
    "class Phone:\n",
    "\n",
    "    sector = 'electronics'\n",
    "    os = 'Android'\n",
    "    width = 500\n",
    "    height = 1200\n",
    "\n",
    "Phone.__dict__"
   ]
  },
  {
   "cell_type": "code",
   "execution_count": 58,
   "id": "cc0416da-3615-49c3-b8a8-e0d5adf3e140",
   "metadata": {},
   "outputs": [
    {
     "data": {
      "text/plain": [
       "\u001b[1;31mSignature:\u001b[0m \u001b[0mdelattr\u001b[0m\u001b[1;33m(\u001b[0m\u001b[0mobj\u001b[0m\u001b[1;33m,\u001b[0m \u001b[0mname\u001b[0m\u001b[1;33m,\u001b[0m \u001b[1;33m/\u001b[0m\u001b[1;33m)\u001b[0m\u001b[1;33m\u001b[0m\u001b[1;33m\u001b[0m\u001b[0m\n",
       "\u001b[1;31mDocstring:\u001b[0m\n",
       "Deletes the named attribute from the given object.\n",
       "\n",
       "delattr(x, 'y') is equivalent to ``del x.y''\n",
       "\u001b[1;31mType:\u001b[0m      builtin_function_or_method\n"
      ]
     },
     "metadata": {},
     "output_type": "display_data"
    }
   ],
   "source": [
    "delattr?"
   ]
  },
  {
   "cell_type": "code",
   "execution_count": 59,
   "id": "5a5442bd-da06-44f7-8177-eadc3bfeee54",
   "metadata": {},
   "outputs": [],
   "source": [
    "delattr(Phone, 'os')"
   ]
  },
  {
   "cell_type": "code",
   "execution_count": 60,
   "id": "8c13a1eb-b1fa-4665-a5f5-063c7d8f3c0b",
   "metadata": {},
   "outputs": [
    {
     "data": {
      "text/plain": [
       "mappingproxy({'__module__': '__main__',\n",
       "              'sector': 'electronics',\n",
       "              'width': 500,\n",
       "              'height': 1200,\n",
       "              '__dict__': <attribute '__dict__' of 'Phone' objects>,\n",
       "              '__weakref__': <attribute '__weakref__' of 'Phone' objects>,\n",
       "              '__doc__': None})"
      ]
     },
     "execution_count": 60,
     "metadata": {},
     "output_type": "execute_result"
    }
   ],
   "source": [
    "Phone.__dict__"
   ]
  },
  {
   "cell_type": "code",
   "execution_count": 62,
   "id": "a1efdda7-50f3-4db6-8741-02f255c2de41",
   "metadata": {},
   "outputs": [],
   "source": [
    "#Phone.os\n",
    "#AttributeError: type object 'Phone' has no attribute 'os'"
   ]
  },
  {
   "cell_type": "markdown",
   "id": "fd8c9904-215c-4492-8619-f700f02f5678",
   "metadata": {},
   "source": [
    "## Callable class attributes"
   ]
  },
  {
   "cell_type": "code",
   "execution_count": 63,
   "id": "cbea31b4-2eaa-4857-a803-93d6e752f860",
   "metadata": {},
   "outputs": [
    {
     "data": {
      "text/plain": [
       "mappingproxy({'__module__': '__main__',\n",
       "              'sector': 'electronics',\n",
       "              'os': 'Android',\n",
       "              'width': 500,\n",
       "              'height': 1200,\n",
       "              '__dict__': <attribute '__dict__' of 'Phone' objects>,\n",
       "              '__weakref__': <attribute '__weakref__' of 'Phone' objects>,\n",
       "              '__doc__': None})"
      ]
     },
     "execution_count": 63,
     "metadata": {},
     "output_type": "execute_result"
    }
   ],
   "source": [
    "class Phone:\n",
    "    \n",
    "    sector = 'electronics'\n",
    "    os = 'Android'\n",
    "    width = 500\n",
    "    height = 1200\n",
    "\n",
    "Phone.__dict__"
   ]
  },
  {
   "cell_type": "code",
   "execution_count": 64,
   "id": "df42349b-daa7-4209-b76c-67f82feafbcf",
   "metadata": {},
   "outputs": [
    {
     "data": {
      "text/plain": [
       "mappingproxy({'__module__': '__main__',\n",
       "              'sector': 'electronics',\n",
       "              'os': 'Android',\n",
       "              'width': 500,\n",
       "              'height': 1200,\n",
       "              'describe_class': <function __main__.Phone.describe_class()>,\n",
       "              '__dict__': <attribute '__dict__' of 'Phone' objects>,\n",
       "              '__weakref__': <attribute '__weakref__' of 'Phone' objects>,\n",
       "              '__doc__': None})"
      ]
     },
     "execution_count": 64,
     "metadata": {},
     "output_type": "execute_result"
    }
   ],
   "source": [
    "class Phone:\n",
    "    \n",
    "    sector = 'electronics'\n",
    "    os = 'Android'\n",
    "    width = 500\n",
    "    height = 1200\n",
    "\n",
    "    def describe_class():\n",
    "        print('Phone class.')\n",
    "\n",
    "Phone.__dict__"
   ]
  },
  {
   "cell_type": "code",
   "execution_count": 65,
   "id": "de8e1946-2f6a-4179-8477-a66244ff9c88",
   "metadata": {},
   "outputs": [
    {
     "data": {
      "text/plain": [
       "<function __main__.Phone.describe_class()>"
      ]
     },
     "execution_count": 65,
     "metadata": {},
     "output_type": "execute_result"
    }
   ],
   "source": [
    "Phone.describe_class"
   ]
  },
  {
   "cell_type": "code",
   "execution_count": 66,
   "id": "e4ed8455-8311-4ed1-bc84-ddd628278ec3",
   "metadata": {},
   "outputs": [
    {
     "name": "stdout",
     "output_type": "stream",
     "text": [
      "Phone class.\n"
     ]
    }
   ],
   "source": [
    "Phone.describe_class()"
   ]
  },
  {
   "cell_type": "code",
   "execution_count": 67,
   "id": "3843682e-4fc3-49a5-a16c-2c687a521dcc",
   "metadata": {},
   "outputs": [
    {
     "name": "stdout",
     "output_type": "stream",
     "text": [
      "<class '__main__.Phone'> class.\n"
     ]
    }
   ],
   "source": [
    "class Phone:\n",
    "    \n",
    "    sector = 'electronics'\n",
    "    os = 'Android'\n",
    "    width = 500\n",
    "    height = 1200\n",
    "\n",
    "    def describe_class():\n",
    "        print(f'{Phone} class.')\n",
    "\n",
    "Phone.describe_class()"
   ]
  },
  {
   "cell_type": "code",
   "execution_count": 69,
   "id": "bf93af19-702a-4144-9628-637078e3d9ca",
   "metadata": {},
   "outputs": [
    {
     "name": "stdout",
     "output_type": "stream",
     "text": [
      "Phone class.\n"
     ]
    }
   ],
   "source": [
    "class Phone:\n",
    "    \n",
    "    sector = 'electronics'\n",
    "    os = 'Android'\n",
    "    width = 500\n",
    "    height = 1200\n",
    "\n",
    "    def describe_class():\n",
    "        print(f'{Phone.__name__} class.')\n",
    "\n",
    "Phone.describe_class()"
   ]
  },
  {
   "cell_type": "code",
   "execution_count": 70,
   "id": "6faa93df-e9cc-463f-90b3-ee4df7e7b7ee",
   "metadata": {},
   "outputs": [
    {
     "name": "stdout",
     "output_type": "stream",
     "text": [
      "Operating system: Android\n",
      "Phone class.\n"
     ]
    }
   ],
   "source": [
    "class Phone:\n",
    "    \n",
    "    sector = 'electronics'\n",
    "    os = 'Android'\n",
    "    width = 500\n",
    "    height = 1200\n",
    "\n",
    "    def describe_class():\n",
    "        \"\"\"Print class name.\"\"\"\n",
    "        print(f'Operating system: {Phone.os}')\n",
    "        print(f'{Phone.__name__} class.')\n",
    "\n",
    "Phone.describe_class()"
   ]
  },
  {
   "cell_type": "code",
   "execution_count": 71,
   "id": "80fd42b8-0da4-4680-a7a0-11879a749ea6",
   "metadata": {},
   "outputs": [
    {
     "data": {
      "text/plain": [
       "<function __main__.Phone.describe_class()>"
      ]
     },
     "execution_count": 71,
     "metadata": {},
     "output_type": "execute_result"
    }
   ],
   "source": [
    "getattr(Phone, 'describe_class')"
   ]
  },
  {
   "cell_type": "code",
   "execution_count": 72,
   "id": "3454f3c7-275d-4db8-a410-3e0ff285e667",
   "metadata": {},
   "outputs": [
    {
     "name": "stdout",
     "output_type": "stream",
     "text": [
      "Operating system: Android\n",
      "Phone class.\n"
     ]
    }
   ],
   "source": [
    "getattr(Phone, 'describe_class')()"
   ]
  },
  {
   "cell_type": "code",
   "execution_count": 74,
   "id": "d46da246-aa6d-4053-a81f-882f6f0cf8de",
   "metadata": {},
   "outputs": [
    {
     "name": "stdout",
     "output_type": "stream",
     "text": [
      "Help on class Phone in module __main__:\n",
      "\n",
      "class Phone(builtins.object)\n",
      " |  Methods defined here:\n",
      " |  \n",
      " |  describe_class()\n",
      " |      Print class name.\n",
      " |  \n",
      " |  ----------------------------------------------------------------------\n",
      " |  Data descriptors defined here:\n",
      " |  \n",
      " |  __dict__\n",
      " |      dictionary for instance variables (if defined)\n",
      " |  \n",
      " |  __weakref__\n",
      " |      list of weak references to the object (if defined)\n",
      " |  \n",
      " |  ----------------------------------------------------------------------\n",
      " |  Data and other attributes defined here:\n",
      " |  \n",
      " |  height = 1200\n",
      " |  \n",
      " |  os = 'Android'\n",
      " |  \n",
      " |  sector = 'electronics'\n",
      " |  \n",
      " |  width = 500\n",
      "\n"
     ]
    }
   ],
   "source": [
    "help(Phone)"
   ]
  },
  {
   "cell_type": "code",
   "execution_count": null,
   "id": "9b9bcbe8-9839-4d2f-bc5e-fe560154da2a",
   "metadata": {},
   "outputs": [],
   "source": []
  }
 ],
 "metadata": {
  "kernelspec": {
   "display_name": "Python 3 (ipykernel)",
   "language": "python",
   "name": "python3"
  },
  "language_info": {
   "codemirror_mode": {
    "name": "ipython",
    "version": 3
   },
   "file_extension": ".py",
   "mimetype": "text/x-python",
   "name": "python",
   "nbconvert_exporter": "python",
   "pygments_lexer": "ipython3",
   "version": "3.9.7"
  }
 },
 "nbformat": 4,
 "nbformat_minor": 5
}
