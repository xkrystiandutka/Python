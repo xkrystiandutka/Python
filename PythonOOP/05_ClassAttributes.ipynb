{
 "cells": [
  {
   "cell_type": "markdown",
   "id": "d7cac35e-cc6b-45c5-8127-c6cd9cb3f529",
   "metadata": {},
   "source": [
    "# Class attributes"
   ]
  },
  {
   "cell_type": "code",
   "execution_count": 1,
   "id": "b50458d7-765c-418a-9a29-2f98907f7a0b",
   "metadata": {},
   "outputs": [],
   "source": [
    "class Phone:\n",
    "    pass"
   ]
  },
  {
   "cell_type": "code",
   "execution_count": 2,
   "id": "8b479eb8-041b-46f8-9f17-efd4f808ba61",
   "metadata": {},
   "outputs": [],
   "source": [
    "class Phone: pass"
   ]
  },
  {
   "cell_type": "code",
   "execution_count": null,
   "id": "229dc786-5938-48d7-9b05-10757240f6b5",
   "metadata": {},
   "outputs": [],
   "source": []
  }
 ],
 "metadata": {
  "kernelspec": {
   "display_name": "Python 3 (ipykernel)",
   "language": "python",
   "name": "python3"
  },
  "language_info": {
   "codemirror_mode": {
    "name": "ipython",
    "version": 3
   },
   "file_extension": ".py",
   "mimetype": "text/x-python",
   "name": "python",
   "nbconvert_exporter": "python",
   "pygments_lexer": "ipython3",
   "version": "3.9.7"
  }
 },
 "nbformat": 4,
 "nbformat_minor": 5
}
