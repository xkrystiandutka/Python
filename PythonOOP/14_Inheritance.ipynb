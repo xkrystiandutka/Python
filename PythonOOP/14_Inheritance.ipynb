{
 "cells": [
  {
   "cell_type": "markdown",
   "id": "9bd3f94a-b27d-4fb5-b326-4c520c74ba6d",
   "metadata": {},
   "source": [
    "# Inheritance"
   ]
  },
  {
   "cell_type": "code",
   "execution_count": 2,
   "id": "8e548b67-1c17-4697-aaab-60ba184f4c02",
   "metadata": {},
   "outputs": [],
   "source": [
    "#help(object)"
   ]
  },
  {
   "cell_type": "code",
   "execution_count": 3,
   "id": "ddb097b7-45e1-4139-a8dc-18b6c3a4c618",
   "metadata": {},
   "outputs": [
    {
     "data": {
      "text/plain": [
       "['__class__',\n",
       " '__delattr__',\n",
       " '__dir__',\n",
       " '__doc__',\n",
       " '__eq__',\n",
       " '__format__',\n",
       " '__ge__',\n",
       " '__getattribute__',\n",
       " '__gt__',\n",
       " '__hash__',\n",
       " '__init__',\n",
       " '__init_subclass__',\n",
       " '__le__',\n",
       " '__lt__',\n",
       " '__ne__',\n",
       " '__new__',\n",
       " '__reduce__',\n",
       " '__reduce_ex__',\n",
       " '__repr__',\n",
       " '__setattr__',\n",
       " '__sizeof__',\n",
       " '__str__',\n",
       " '__subclasshook__']"
      ]
     },
     "execution_count": 3,
     "metadata": {},
     "output_type": "execute_result"
    }
   ],
   "source": [
    "dir(object)"
   ]
  },
  {
   "cell_type": "code",
   "execution_count": 4,
   "id": "98241602-da05-4468-a0af-7f1eb268e8aa",
   "metadata": {},
   "outputs": [],
   "source": [
    "class Vehicle(object):\n",
    "    pass"
   ]
  },
  {
   "cell_type": "code",
   "execution_count": 5,
   "id": "8c122a0a-1e76-4376-9116-99539894ac6d",
   "metadata": {},
   "outputs": [],
   "source": [
    "class Vehicle:\n",
    "    pass"
   ]
  },
  {
   "cell_type": "code",
   "execution_count": 6,
   "id": "0788d262-ce26-4d70-9623-4b950b05fc2a",
   "metadata": {},
   "outputs": [
    {
     "name": "stdout",
     "output_type": "stream",
     "text": [
      "Help on class Vehicle in module __main__:\n",
      "\n",
      "class Vehicle(builtins.object)\n",
      " |  Data descriptors defined here:\n",
      " |  \n",
      " |  __dict__\n",
      " |      dictionary for instance variables (if defined)\n",
      " |  \n",
      " |  __weakref__\n",
      " |      list of weak references to the object (if defined)\n",
      "\n"
     ]
    }
   ],
   "source": [
    "help(Vehicle)"
   ]
  },
  {
   "cell_type": "code",
   "execution_count": 7,
   "id": "4eca8196-b111-4d9d-91e8-c58eae6f0dda",
   "metadata": {},
   "outputs": [],
   "source": [
    "vehicle = Vehicle()"
   ]
  },
  {
   "cell_type": "code",
   "execution_count": 8,
   "id": "7e97e934-6749-4ba7-82f0-84a0e72f1bd6",
   "metadata": {},
   "outputs": [
    {
     "data": {
      "text/plain": [
       "139731450820"
      ]
     },
     "execution_count": 8,
     "metadata": {},
     "output_type": "execute_result"
    }
   ],
   "source": [
    "hash(vehicle)"
   ]
  },
  {
   "cell_type": "markdown",
   "id": "a8f04189-2a4c-4b3e-9f03-0a34933a6007",
   "metadata": {},
   "source": [
    "## Single Inheritance\n",
    "\n",
    "* Vehicle:\n",
    "    * LandVehicle\n",
    "    * AirVehicle\n",
    "    * WaterVehicle"
   ]
  },
  {
   "cell_type": "code",
   "execution_count": 9,
   "id": "a1fb361c-b594-4ca7-8bde-7f69cefb904c",
   "metadata": {},
   "outputs": [],
   "source": [
    "class Vehicle:\n",
    "    pass\n",
    "\n",
    "\n",
    "class LandVehicle(Vehicle):\n",
    "    pass\n",
    "\n",
    "\n",
    "class AirVehicle(Vehicle):\n",
    "    pass\n",
    "\n",
    "\n",
    "class WaterVehicle(Vehicle):\n",
    "    pass"
   ]
  },
  {
   "cell_type": "code",
   "execution_count": 10,
   "id": "fd86971e-5d35-40c1-851e-29e320ddb993",
   "metadata": {},
   "outputs": [],
   "source": [
    "vehicles = [Vehicle(), LandVehicle(), AirVehicle(), WaterVehicle()]"
   ]
  },
  {
   "cell_type": "code",
   "execution_count": 11,
   "id": "f3a047c2-bf24-444d-9898-f6289cd48677",
   "metadata": {},
   "outputs": [
    {
     "data": {
      "text/plain": [
       "[<__main__.Vehicle at 0x2088a47cfd0>,\n",
       " <__main__.LandVehicle at 0x2088a47cd00>,\n",
       " <__main__.AirVehicle at 0x2088a47ca90>,\n",
       " <__main__.WaterVehicle at 0x2088a47cb80>]"
      ]
     },
     "execution_count": 11,
     "metadata": {},
     "output_type": "execute_result"
    }
   ],
   "source": [
    "vehicles"
   ]
  },
  {
   "cell_type": "code",
   "execution_count": 12,
   "id": "374a15d5-db28-42d8-818e-5c0673b5d882",
   "metadata": {},
   "outputs": [
    {
     "name": "stdout",
     "output_type": "stream",
     "text": [
      "Help on built-in function issubclass in module builtins:\n",
      "\n",
      "issubclass(cls, class_or_tuple, /)\n",
      "    Return whether 'cls' is a derived from another class or is the same class.\n",
      "    \n",
      "    A tuple, as in ``issubclass(x, (A, B, ...))``, may be given as the target to\n",
      "    check against. This is equivalent to ``issubclass(x, A) or issubclass(x, B)\n",
      "    or ...`` etc.\n",
      "\n"
     ]
    }
   ],
   "source": [
    "help(issubclass)"
   ]
  },
  {
   "cell_type": "code",
   "execution_count": 13,
   "id": "c22bb36c-0f5e-49a0-8631-996853ff831c",
   "metadata": {},
   "outputs": [
    {
     "data": {
      "text/plain": [
       "True"
      ]
     },
     "execution_count": 13,
     "metadata": {},
     "output_type": "execute_result"
    }
   ],
   "source": [
    "issubclass(Vehicle, object)"
   ]
  },
  {
   "cell_type": "code",
   "execution_count": null,
   "id": "382cb122-0d16-4a75-8290-ecd1a183c970",
   "metadata": {},
   "outputs": [],
   "source": []
  }
 ],
 "metadata": {
  "kernelspec": {
   "display_name": "Python 3 (ipykernel)",
   "language": "python",
   "name": "python3"
  },
  "language_info": {
   "codemirror_mode": {
    "name": "ipython",
    "version": 3
   },
   "file_extension": ".py",
   "mimetype": "text/x-python",
   "name": "python",
   "nbconvert_exporter": "python",
   "pygments_lexer": "ipython3",
   "version": "3.9.7"
  }
 },
 "nbformat": 4,
 "nbformat_minor": 5
}
