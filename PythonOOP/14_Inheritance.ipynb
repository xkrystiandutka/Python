{
 "cells": [
  {
   "cell_type": "markdown",
   "id": "9bd3f94a-b27d-4fb5-b326-4c520c74ba6d",
   "metadata": {},
   "source": [
    "# Inheritance"
   ]
  },
  {
   "cell_type": "code",
   "execution_count": 2,
   "id": "8e548b67-1c17-4697-aaab-60ba184f4c02",
   "metadata": {},
   "outputs": [],
   "source": [
    "#help(object)"
   ]
  },
  {
   "cell_type": "code",
   "execution_count": 3,
   "id": "ddb097b7-45e1-4139-a8dc-18b6c3a4c618",
   "metadata": {},
   "outputs": [
    {
     "data": {
      "text/plain": [
       "['__class__',\n",
       " '__delattr__',\n",
       " '__dir__',\n",
       " '__doc__',\n",
       " '__eq__',\n",
       " '__format__',\n",
       " '__ge__',\n",
       " '__getattribute__',\n",
       " '__gt__',\n",
       " '__hash__',\n",
       " '__init__',\n",
       " '__init_subclass__',\n",
       " '__le__',\n",
       " '__lt__',\n",
       " '__ne__',\n",
       " '__new__',\n",
       " '__reduce__',\n",
       " '__reduce_ex__',\n",
       " '__repr__',\n",
       " '__setattr__',\n",
       " '__sizeof__',\n",
       " '__str__',\n",
       " '__subclasshook__']"
      ]
     },
     "execution_count": 3,
     "metadata": {},
     "output_type": "execute_result"
    }
   ],
   "source": [
    "dir(object)"
   ]
  },
  {
   "cell_type": "code",
   "execution_count": 4,
   "id": "98241602-da05-4468-a0af-7f1eb268e8aa",
   "metadata": {},
   "outputs": [],
   "source": [
    "class Vehicle(object):\n",
    "    pass"
   ]
  },
  {
   "cell_type": "code",
   "execution_count": 5,
   "id": "8c122a0a-1e76-4376-9116-99539894ac6d",
   "metadata": {},
   "outputs": [],
   "source": [
    "class Vehicle:\n",
    "    pass"
   ]
  },
  {
   "cell_type": "code",
   "execution_count": 6,
   "id": "0788d262-ce26-4d70-9623-4b950b05fc2a",
   "metadata": {},
   "outputs": [
    {
     "name": "stdout",
     "output_type": "stream",
     "text": [
      "Help on class Vehicle in module __main__:\n",
      "\n",
      "class Vehicle(builtins.object)\n",
      " |  Data descriptors defined here:\n",
      " |  \n",
      " |  __dict__\n",
      " |      dictionary for instance variables (if defined)\n",
      " |  \n",
      " |  __weakref__\n",
      " |      list of weak references to the object (if defined)\n",
      "\n"
     ]
    }
   ],
   "source": [
    "help(Vehicle)"
   ]
  },
  {
   "cell_type": "code",
   "execution_count": 7,
   "id": "4eca8196-b111-4d9d-91e8-c58eae6f0dda",
   "metadata": {},
   "outputs": [],
   "source": [
    "vehicle = Vehicle()"
   ]
  },
  {
   "cell_type": "code",
   "execution_count": 8,
   "id": "7e97e934-6749-4ba7-82f0-84a0e72f1bd6",
   "metadata": {},
   "outputs": [
    {
     "data": {
      "text/plain": [
       "139731450820"
      ]
     },
     "execution_count": 8,
     "metadata": {},
     "output_type": "execute_result"
    }
   ],
   "source": [
    "hash(vehicle)"
   ]
  },
  {
   "cell_type": "markdown",
   "id": "a8f04189-2a4c-4b3e-9f03-0a34933a6007",
   "metadata": {},
   "source": [
    "## Single Inheritance\n",
    "\n",
    "* Vehicle:\n",
    "    * LandVehicle\n",
    "    * AirVehicle\n",
    "    * WaterVehicle"
   ]
  },
  {
   "cell_type": "code",
   "execution_count": 9,
   "id": "a1fb361c-b594-4ca7-8bde-7f69cefb904c",
   "metadata": {},
   "outputs": [],
   "source": [
    "class Vehicle:\n",
    "    pass\n",
    "\n",
    "\n",
    "class LandVehicle(Vehicle):\n",
    "    pass\n",
    "\n",
    "\n",
    "class AirVehicle(Vehicle):\n",
    "    pass\n",
    "\n",
    "\n",
    "class WaterVehicle(Vehicle):\n",
    "    pass"
   ]
  },
  {
   "cell_type": "code",
   "execution_count": 10,
   "id": "fd86971e-5d35-40c1-851e-29e320ddb993",
   "metadata": {},
   "outputs": [],
   "source": [
    "vehicles = [Vehicle(), LandVehicle(), AirVehicle(), WaterVehicle()]"
   ]
  },
  {
   "cell_type": "code",
   "execution_count": 11,
   "id": "f3a047c2-bf24-444d-9898-f6289cd48677",
   "metadata": {},
   "outputs": [
    {
     "data": {
      "text/plain": [
       "[<__main__.Vehicle at 0x2088a47cfd0>,\n",
       " <__main__.LandVehicle at 0x2088a47cd00>,\n",
       " <__main__.AirVehicle at 0x2088a47ca90>,\n",
       " <__main__.WaterVehicle at 0x2088a47cb80>]"
      ]
     },
     "execution_count": 11,
     "metadata": {},
     "output_type": "execute_result"
    }
   ],
   "source": [
    "vehicles"
   ]
  },
  {
   "cell_type": "code",
   "execution_count": 12,
   "id": "374a15d5-db28-42d8-818e-5c0673b5d882",
   "metadata": {},
   "outputs": [
    {
     "name": "stdout",
     "output_type": "stream",
     "text": [
      "Help on built-in function issubclass in module builtins:\n",
      "\n",
      "issubclass(cls, class_or_tuple, /)\n",
      "    Return whether 'cls' is a derived from another class or is the same class.\n",
      "    \n",
      "    A tuple, as in ``issubclass(x, (A, B, ...))``, may be given as the target to\n",
      "    check against. This is equivalent to ``issubclass(x, A) or issubclass(x, B)\n",
      "    or ...`` etc.\n",
      "\n"
     ]
    }
   ],
   "source": [
    "help(issubclass)"
   ]
  },
  {
   "cell_type": "code",
   "execution_count": 13,
   "id": "c22bb36c-0f5e-49a0-8631-996853ff831c",
   "metadata": {},
   "outputs": [
    {
     "data": {
      "text/plain": [
       "True"
      ]
     },
     "execution_count": 13,
     "metadata": {},
     "output_type": "execute_result"
    }
   ],
   "source": [
    "issubclass(Vehicle, object)"
   ]
  },
  {
   "cell_type": "code",
   "execution_count": 14,
   "id": "382cb122-0d16-4a75-8290-ecd1a183c970",
   "metadata": {},
   "outputs": [
    {
     "data": {
      "text/plain": [
       "(True, True, True)"
      ]
     },
     "execution_count": 14,
     "metadata": {},
     "output_type": "execute_result"
    }
   ],
   "source": [
    "issubclass(LandVehicle, Vehicle), issubclass(AirVehicle, Vehicle), issubclass(WaterVehicle, Vehicle)"
   ]
  },
  {
   "cell_type": "code",
   "execution_count": 15,
   "id": "020d9d26-0f06-424b-96f3-2ad68f4431aa",
   "metadata": {},
   "outputs": [
    {
     "data": {
      "text/plain": [
       "True"
      ]
     },
     "execution_count": 15,
     "metadata": {},
     "output_type": "execute_result"
    }
   ],
   "source": [
    "issubclass(WaterVehicle, object)"
   ]
  },
  {
   "cell_type": "markdown",
   "id": "ee9234d2-d5fa-471c-b792-f5663124cfa6",
   "metadata": {},
   "source": [
    "## Implement the following class hierarchy:\n",
    "\n",
    "* Vehicle\n",
    "    * LandVehicle\n",
    "        * Bike\n",
    "        * Car\n",
    "        * Truck\n",
    "    * AirVehicle\n",
    "        * Plane\n",
    "        * Helicopter\n",
    "    * WaterVehicle"
   ]
  },
  {
   "cell_type": "code",
   "execution_count": 16,
   "id": "88b36a99-1d67-4af3-acfe-b172ffe075af",
   "metadata": {},
   "outputs": [],
   "source": [
    "class Vehicle:\n",
    "    pass\n",
    "\n",
    "\n",
    "class LandVehicle(Vehicle):\n",
    "    pass\n",
    "\n",
    "\n",
    "class Bike(LandVehicle):\n",
    "    pass\n",
    "\n",
    "\n",
    "class Car(LandVehicle):\n",
    "    pass\n",
    "\n",
    "\n",
    "class Truck(LandVehicle):\n",
    "    pass\n",
    "\n",
    "\n",
    "class AirVehicle(Vehicle):\n",
    "    pass\n",
    "\n",
    "\n",
    "class Plane(AirVehicle):\n",
    "    pass\n",
    "\n",
    "\n",
    "class Helicopter(AirVehicle):\n",
    "    pass\n",
    "\n",
    "\n",
    "class WaterVehicle(Vehicle):\n",
    "    pass"
   ]
  },
  {
   "cell_type": "code",
   "execution_count": 17,
   "id": "f1a00c27-8629-4067-b6ca-99a768af7a9b",
   "metadata": {},
   "outputs": [
    {
     "data": {
      "text/plain": [
       "(True, True, True)"
      ]
     },
     "execution_count": 17,
     "metadata": {},
     "output_type": "execute_result"
    }
   ],
   "source": [
    "issubclass(Bike, Vehicle), issubclass(Car, Vehicle), issubclass(Truck, Vehicle)"
   ]
  },
  {
   "cell_type": "code",
   "execution_count": 18,
   "id": "df2d1121-2e49-4f2b-a5bf-e4c17e2cdc44",
   "metadata": {},
   "outputs": [
    {
     "data": {
      "text/plain": [
       "(True, True, True)"
      ]
     },
     "execution_count": 18,
     "metadata": {},
     "output_type": "execute_result"
    }
   ],
   "source": [
    "issubclass(Bike, LandVehicle), issubclass(Car, LandVehicle), issubclass(Truck, LandVehicle)"
   ]
  },
  {
   "cell_type": "code",
   "execution_count": 19,
   "id": "38b7b9e8-b190-49da-b320-53c719334734",
   "metadata": {},
   "outputs": [
    {
     "data": {
      "text/plain": [
       "(False, False, True)"
      ]
     },
     "execution_count": 19,
     "metadata": {},
     "output_type": "execute_result"
    }
   ],
   "source": [
    "issubclass(Bike, AirVehicle), issubclass(Car, WaterVehicle), issubclass(Truck, LandVehicle)"
   ]
  },
  {
   "cell_type": "code",
   "execution_count": 20,
   "id": "1a49ce3d-9364-4518-91a3-c7f2568535f1",
   "metadata": {},
   "outputs": [
    {
     "data": {
      "text/plain": [
       "True"
      ]
     },
     "execution_count": 20,
     "metadata": {},
     "output_type": "execute_result"
    }
   ],
   "source": [
    "issubclass(Bike, (LandVehicle, AirVehicle))"
   ]
  },
  {
   "cell_type": "markdown",
   "id": "9064ce00-8f4d-4bb4-9fef-9418ce7d3f96",
   "metadata": {},
   "source": [
    "# MRO - Method Resolution Order"
   ]
  },
  {
   "cell_type": "code",
   "execution_count": 21,
   "id": "37681b1d-64d9-4d1c-bef6-235d21d2f4a1",
   "metadata": {},
   "outputs": [],
   "source": [
    "class Vehicle:\n",
    "    pass\n",
    "\n",
    "\n",
    "class LandVehicle(Vehicle):\n",
    "    pass\n",
    "\n",
    "\n",
    "class Bike(LandVehicle):\n",
    "    pass\n",
    "\n",
    "\n",
    "class Car(LandVehicle):\n",
    "    pass\n",
    "\n",
    "\n",
    "class Truck(LandVehicle):\n",
    "    pass\n",
    "\n",
    "\n",
    "class AirVehicle(Vehicle):\n",
    "    pass\n",
    "\n",
    "\n",
    "class Plane(AirVehicle):\n",
    "    pass\n",
    "\n",
    "\n",
    "class Helicopter(AirVehicle):\n",
    "    pass\n",
    "\n",
    "\n",
    "class WaterVehicle(Vehicle):\n",
    "    pass"
   ]
  },
  {
   "cell_type": "code",
   "execution_count": 22,
   "id": "9c3e1ca6-ed4f-42c3-a2b8-acab402099ff",
   "metadata": {},
   "outputs": [
    {
     "name": "stdout",
     "output_type": "stream",
     "text": [
      "Help on class Plane in module __main__:\n",
      "\n",
      "class Plane(AirVehicle)\n",
      " |  Method resolution order:\n",
      " |      Plane\n",
      " |      AirVehicle\n",
      " |      Vehicle\n",
      " |      builtins.object\n",
      " |  \n",
      " |  Data descriptors inherited from Vehicle:\n",
      " |  \n",
      " |  __dict__\n",
      " |      dictionary for instance variables (if defined)\n",
      " |  \n",
      " |  __weakref__\n",
      " |      list of weak references to the object (if defined)\n",
      "\n"
     ]
    }
   ],
   "source": [
    "help(Plane)"
   ]
  },
  {
   "cell_type": "code",
   "execution_count": 23,
   "id": "102d0b13-c573-4b4e-b28a-4397e4ef7a03",
   "metadata": {},
   "outputs": [
    {
     "data": {
      "text/plain": [
       "[__main__.Plane, __main__.AirVehicle, __main__.Vehicle, object]"
      ]
     },
     "execution_count": 23,
     "metadata": {},
     "output_type": "execute_result"
    }
   ],
   "source": [
    "Plane.mro()"
   ]
  },
  {
   "cell_type": "code",
   "execution_count": 24,
   "id": "8fe5e60b-8d1f-494f-b914-617ad5923d2a",
   "metadata": {},
   "outputs": [
    {
     "data": {
      "text/plain": [
       "(__main__.Plane, __main__.AirVehicle, __main__.Vehicle, object)"
      ]
     },
     "execution_count": 24,
     "metadata": {},
     "output_type": "execute_result"
    }
   ],
   "source": [
    "Plane.__mro__"
   ]
  },
  {
   "cell_type": "code",
   "execution_count": 25,
   "id": "fc4c8514-52d2-4d71-8445-c0ed598b807f",
   "metadata": {},
   "outputs": [
    {
     "data": {
      "text/plain": [
       "(__main__.Truck, __main__.LandVehicle, __main__.Vehicle, object)"
      ]
     },
     "execution_count": 25,
     "metadata": {},
     "output_type": "execute_result"
    }
   ],
   "source": [
    "Truck.__mro__"
   ]
  },
  {
   "cell_type": "markdown",
   "id": "3737bad1-65b9-47ef-9db6-406b9cfd48f6",
   "metadata": {},
   "source": [
    "## Method Overriding"
   ]
  },
  {
   "cell_type": "code",
   "execution_count": 26,
   "id": "c7184e18-95f6-48d9-b44d-0cf6a5c68a60",
   "metadata": {},
   "outputs": [
    {
     "data": {
      "text/plain": [
       "<__main__.Vehicle at 0x2088a47c5b0>"
      ]
     },
     "execution_count": 26,
     "metadata": {},
     "output_type": "execute_result"
    }
   ],
   "source": [
    "class Vehicle:\n",
    "\n",
    "    def __init__(self, category):\n",
    "        self.category = category\n",
    "\n",
    "\n",
    "vehicle = Vehicle('land')\n",
    "vehicle"
   ]
  },
  {
   "cell_type": "code",
   "execution_count": 27,
   "id": "ab25fa30-962b-4559-a8ea-71d69e5afd8f",
   "metadata": {},
   "outputs": [
    {
     "data": {
      "text/plain": [
       "'<__main__.Vehicle object at 0x000002088A47C5B0>'"
      ]
     },
     "execution_count": 27,
     "metadata": {},
     "output_type": "execute_result"
    }
   ],
   "source": [
    "repr(vehicle)"
   ]
  },
  {
   "cell_type": "code",
   "execution_count": 28,
   "id": "4df9cf75-e688-4182-b451-b4c8aee79173",
   "metadata": {},
   "outputs": [
    {
     "data": {
      "text/plain": [
       "[__main__.Vehicle, object]"
      ]
     },
     "execution_count": 28,
     "metadata": {},
     "output_type": "execute_result"
    }
   ],
   "source": [
    "Vehicle.mro()"
   ]
  },
  {
   "cell_type": "code",
   "execution_count": 29,
   "id": "c2c9f95f-4bbf-496d-8a21-af4d78de15f0",
   "metadata": {},
   "outputs": [
    {
     "data": {
      "text/plain": [
       "Vehicle(category='land')"
      ]
     },
     "execution_count": 29,
     "metadata": {},
     "output_type": "execute_result"
    }
   ],
   "source": [
    "class Vehicle:\n",
    "\n",
    "    def __init__(self, category):\n",
    "        self.category = category\n",
    "\n",
    "    def __repr__(self):\n",
    "        return f\"Vehicle(category='{self.category}')\"\n",
    "\n",
    "\n",
    "vehicle = Vehicle('land')\n",
    "vehicle"
   ]
  },
  {
   "cell_type": "code",
   "execution_count": 30,
   "id": "ec984a34-e296-4326-aa21-a03d0c8130fb",
   "metadata": {},
   "outputs": [
    {
     "data": {
      "text/plain": [
       "\"Vehicle(category='land')\""
      ]
     },
     "execution_count": 30,
     "metadata": {},
     "output_type": "execute_result"
    }
   ],
   "source": [
    "repr(vehicle)"
   ]
  },
  {
   "cell_type": "code",
   "execution_count": 31,
   "id": "05ef16aa-c3b4-4e3d-b8e3-6f95745e60c4",
   "metadata": {},
   "outputs": [
    {
     "data": {
      "text/plain": [
       "\"Vehicle(category='land')\""
      ]
     },
     "execution_count": 31,
     "metadata": {},
     "output_type": "execute_result"
    }
   ],
   "source": [
    "vehicle.__repr__()"
   ]
  },
  {
   "cell_type": "code",
   "execution_count": 32,
   "id": "62ccae93-d874-4578-b454-0f2af3f8b114",
   "metadata": {},
   "outputs": [
    {
     "name": "stdout",
     "output_type": "stream",
     "text": [
      "Vehicle(category='land')\n"
     ]
    }
   ],
   "source": [
    "print(vehicle)"
   ]
  },
  {
   "cell_type": "code",
   "execution_count": 33,
   "id": "6540b106-bf2f-4cb3-b380-a666e9a00c5e",
   "metadata": {},
   "outputs": [
    {
     "data": {
      "text/plain": [
       "Vehicle(category='land')"
      ]
     },
     "execution_count": 33,
     "metadata": {},
     "output_type": "execute_result"
    }
   ],
   "source": [
    "class Vehicle:\n",
    "\n",
    "    def __init__(self, category=None):\n",
    "        self.category = category if category else 'land'\n",
    "\n",
    "    def __repr__(self):\n",
    "        return f\"Vehicle(category='{self.category}')\"\n",
    "\n",
    "\n",
    "vehicle = Vehicle()\n",
    "vehicle"
   ]
  },
  {
   "cell_type": "code",
   "execution_count": 34,
   "id": "6077c183-eadf-4bf3-9a86-e27bd67789fd",
   "metadata": {},
   "outputs": [
    {
     "data": {
      "text/plain": [
       "'land'"
      ]
     },
     "execution_count": 34,
     "metadata": {},
     "output_type": "execute_result"
    }
   ],
   "source": [
    "vehicle.category"
   ]
  },
  {
   "cell_type": "markdown",
   "id": "8ca8ad2f-76d1-4c73-a965-13cff2ea4b4e",
   "metadata": {},
   "source": [
    "## Example\n",
    "\n",
    "* Vehicle\n",
    "    * LandVehicle\n",
    "    * AirVehicle"
   ]
  },
  {
   "cell_type": "code",
   "execution_count": 35,
   "id": "46935f97-5015-4254-8795-adb7273516bd",
   "metadata": {},
   "outputs": [
    {
     "data": {
      "text/plain": [
       "[Vehicle(category='land'), Vehicle(category='land'), Vehicle(category='air')]"
      ]
     },
     "execution_count": 35,
     "metadata": {},
     "output_type": "execute_result"
    }
   ],
   "source": [
    "class Vehicle:\n",
    "\n",
    "    def __init__(self, category=None):\n",
    "        self.category = category if category else 'land'\n",
    "\n",
    "    def __repr__(self):\n",
    "        return f\"Vehicle(category='{self.category}')\"\n",
    "\n",
    "\n",
    "class LandVehicle(Vehicle):\n",
    "    pass\n",
    "\n",
    "\n",
    "class AirVehicle(Vehicle):\n",
    "    pass\n",
    "\n",
    "\n",
    "vehicles = [Vehicle(), LandVehicle(), AirVehicle('air')]\n",
    "vehicles"
   ]
  },
  {
   "cell_type": "code",
   "execution_count": 36,
   "id": "f8d542fa-cc11-4cb3-9e63-10454fa2a4a2",
   "metadata": {},
   "outputs": [
    {
     "data": {
      "text/plain": [
       "[Vehicle(category='land'),\n",
       " LandVehicle(category='land'),\n",
       " AirVehicle(category='air')]"
      ]
     },
     "execution_count": 36,
     "metadata": {},
     "output_type": "execute_result"
    }
   ],
   "source": [
    "class Vehicle:\n",
    "\n",
    "    def __init__(self, category=None):\n",
    "        self.category = category if category else 'land'\n",
    "\n",
    "    def __repr__(self):\n",
    "        return f\"Vehicle(category='{self.category}')\"\n",
    "\n",
    "\n",
    "class LandVehicle(Vehicle):\n",
    "    \n",
    "    def __repr__(self):\n",
    "        return f\"LandVehicle(category='{self.category}')\"    \n",
    "\n",
    "\n",
    "class AirVehicle(Vehicle):\n",
    "    \n",
    "    def __repr__(self):\n",
    "        return f\"AirVehicle(category='{self.category}')\"    \n",
    "\n",
    "\n",
    "vehicles = [Vehicle(), LandVehicle(), AirVehicle('air')]\n",
    "vehicles"
   ]
  },
  {
   "cell_type": "code",
   "execution_count": 37,
   "id": "9c9d4834-7622-4c88-9195-932a5aad2558",
   "metadata": {},
   "outputs": [
    {
     "data": {
      "text/plain": [
       "[Vehicle(category='land'),\n",
       " LandVehicle(category='land'),\n",
       " AirVehicle(category='air')]"
      ]
     },
     "execution_count": 37,
     "metadata": {},
     "output_type": "execute_result"
    }
   ],
   "source": [
    "class Vehicle:\n",
    "\n",
    "    def __init__(self, category=None):\n",
    "        self.category = category if category else 'land'\n",
    "\n",
    "    def __repr__(self):\n",
    "        return f\"{self.__class__.__name__}(category='{self.category}')\"\n",
    "\n",
    "\n",
    "class LandVehicle(Vehicle):\n",
    "    pass\n",
    "\n",
    "\n",
    "class AirVehicle(Vehicle):\n",
    "    pass\n",
    "\n",
    "\n",
    "vehicles = [Vehicle(), LandVehicle(), AirVehicle('air')]\n",
    "vehicles"
   ]
  },
  {
   "cell_type": "code",
   "execution_count": 38,
   "id": "e78d5a7a-b342-4d62-ae4b-f47c19c3cc5f",
   "metadata": {},
   "outputs": [],
   "source": [
    "class Vehicle:\n",
    "\n",
    "    def __init__(self, category=None):\n",
    "        self.category = category if category else 'land'\n",
    "\n",
    "    def __repr__(self):\n",
    "        return f\"{self.__class__.__name__}(category='{self.category}')\"\n",
    "\n",
    "    def display_info(self):\n",
    "        print(f'Vehicle category: {self.category}')\n",
    "\n",
    "\n",
    "class LandVehicle(Vehicle):\n",
    "    pass\n",
    "\n",
    "\n",
    "class AirVehicle(Vehicle):\n",
    "    pass"
   ]
  },
  {
   "cell_type": "code",
   "execution_count": 39,
   "id": "c2798908-eb2d-4352-8126-37b1d3f5e95c",
   "metadata": {},
   "outputs": [
    {
     "data": {
      "text/plain": [
       "[Vehicle(category='land'),\n",
       " LandVehicle(category='land'),\n",
       " AirVehicle(category='air')]"
      ]
     },
     "execution_count": 39,
     "metadata": {},
     "output_type": "execute_result"
    }
   ],
   "source": [
    "vehicles = [Vehicle(), LandVehicle(), AirVehicle('air')]\n",
    "vehicles"
   ]
  },
  {
   "cell_type": "code",
   "execution_count": 40,
   "id": "a499306f-5e24-4e03-9753-47c6bfe5e1d8",
   "metadata": {},
   "outputs": [
    {
     "name": "stdout",
     "output_type": "stream",
     "text": [
      "Vehicle category: land\n",
      "Vehicle category: land\n",
      "Vehicle category: air\n"
     ]
    }
   ],
   "source": [
    "for vehicle in vehicles:\n",
    "    vehicle.display_info()"
   ]
  },
  {
   "cell_type": "code",
   "execution_count": 41,
   "id": "480313a7-6c9e-4b3d-ae73-4ef9a3ecfd5d",
   "metadata": {},
   "outputs": [
    {
     "name": "stdout",
     "output_type": "stream",
     "text": [
      "(<class '__main__.Vehicle'>, <class 'object'>)\n",
      "(<class '__main__.LandVehicle'>, <class '__main__.Vehicle'>, <class 'object'>)\n",
      "(<class '__main__.AirVehicle'>, <class '__main__.Vehicle'>, <class 'object'>)\n"
     ]
    }
   ],
   "source": [
    "for vehicle in vehicles:\n",
    "    print(vehicle.__class__.__mro__)"
   ]
  },
  {
   "cell_type": "code",
   "execution_count": 42,
   "id": "922baeff-70b4-41c8-a428-8981ed2e2432",
   "metadata": {},
   "outputs": [],
   "source": [
    "class Vehicle:\n",
    "\n",
    "    def __init__(self, category=None):\n",
    "        self.category = category if category else 'land'\n",
    "\n",
    "    def __repr__(self):\n",
    "        return f\"{self.__class__.__name__}(category='{self.category}')\"\n",
    "\n",
    "    def display_info(self):\n",
    "        print(f'Vehicle category: {self.category}')\n",
    "\n",
    "\n",
    "class LandVehicle(Vehicle): \n",
    "\n",
    "    def display_info(self):\n",
    "        print(f'LandVehicle category: {self.category}')\n",
    "\n",
    "\n",
    "class AirVehicle(Vehicle):\n",
    "    pass"
   ]
  },
  {
   "cell_type": "code",
   "execution_count": 44,
   "id": "4ecbc234-299a-4c1e-9189-1ab0812b7245",
   "metadata": {},
   "outputs": [
    {
     "data": {
      "text/plain": [
       "[Vehicle(category='land'),\n",
       " LandVehicle(category='land'),\n",
       " AirVehicle(category='air')]"
      ]
     },
     "execution_count": 44,
     "metadata": {},
     "output_type": "execute_result"
    }
   ],
   "source": [
    "vehicles = [Vehicle(), LandVehicle(), AirVehicle('air')]\n",
    "vehicles"
   ]
  },
  {
   "cell_type": "code",
   "execution_count": 45,
   "id": "d85779eb-6af9-42c7-ae42-7f0ffc63b68f",
   "metadata": {},
   "outputs": [
    {
     "name": "stdout",
     "output_type": "stream",
     "text": [
      "Vehicle category: land\n",
      "LandVehicle category: land\n",
      "Vehicle category: air\n"
     ]
    }
   ],
   "source": [
    "for vehicle in vehicles:\n",
    "    vehicle.display_info()"
   ]
  },
  {
   "cell_type": "code",
   "execution_count": 50,
   "id": "f01bf5e1-6ddf-4a73-9ff3-94aa76ded539",
   "metadata": {},
   "outputs": [],
   "source": [
    "class Vehicle:\n",
    "\n",
    "    def __init__(self, category=None):\n",
    "        self.category = category if category else 'land'\n",
    "\n",
    "    def __repr__(self):\n",
    "        return f\"{self.__class__.__name__}(category='{self.category}')\"\n",
    "\n",
    "    def display_info(self):\n",
    "        print(f'Vehicle category: {self.category}')\n",
    "\n",
    "    def show_activity(self):\n",
    "        print(f'{self} -> Moving...')\n",
    "\n",
    "\n",
    "class LandVehicle(Vehicle): \n",
    "\n",
    "    def display_info(self):\n",
    "        print(f'LandVehicle category: {self.category}')\n",
    "\n",
    "    def show_activity(self):\n",
    "        print(f'{self} -> Driving...')        \n",
    "\n",
    "\n",
    "class AirVehicle(Vehicle):\n",
    "    \n",
    "    def show_activity(self):\n",
    "        print(f'{self} -> Flying...')    "
   ]
  },
  {
   "cell_type": "code",
   "execution_count": 51,
   "id": "1700ce0e-5381-48cf-9e03-5b034e047237",
   "metadata": {},
   "outputs": [
    {
     "data": {
      "text/plain": [
       "[Vehicle(category='land'),\n",
       " LandVehicle(category='land'),\n",
       " AirVehicle(category='air')]"
      ]
     },
     "execution_count": 51,
     "metadata": {},
     "output_type": "execute_result"
    }
   ],
   "source": [
    "vehicles = [Vehicle(), LandVehicle(), AirVehicle('air')]\n",
    "vehicles"
   ]
  },
  {
   "cell_type": "code",
   "execution_count": 52,
   "id": "564a1b43-472f-44c1-b6f5-f8462c994b03",
   "metadata": {},
   "outputs": [
    {
     "name": "stdout",
     "output_type": "stream",
     "text": [
      "Vehicle(category='land') -> Moving...\n",
      "LandVehicle(category='land') -> Driving...\n",
      "AirVehicle(category='air') -> Flying...\n"
     ]
    }
   ],
   "source": [
    "for vehicle in vehicles:\n",
    "    vehicle.show_activity()"
   ]
  },
  {
   "cell_type": "markdown",
   "id": "0b013ce4-d673-4043-a503-999a1152d1b7",
   "metadata": {},
   "source": [
    "## Example "
   ]
  },
  {
   "cell_type": "code",
   "execution_count": 53,
   "id": "c26a1b26-f75e-4f5e-b54b-9f080853c60d",
   "metadata": {},
   "outputs": [
    {
     "name": "stdout",
     "output_type": "stream",
     "text": [
      "--- USER SESSION ---\n",
      "Starting...\n",
      "Drinking...\n",
      "Working...\n",
      "Ending...\n",
      "--- END SESSION ---\n",
      "\n"
     ]
    }
   ],
   "source": [
    "class User:\n",
    "\n",
    "    def start(self):\n",
    "        print('Starting...')\n",
    "\n",
    "    def drink(self):\n",
    "        print('Drinking...')\n",
    "\n",
    "    def work(self):\n",
    "        print('Working...')\n",
    "\n",
    "    def end(self):\n",
    "        print('Ending...')\n",
    "\n",
    "    def make_session(self):\n",
    "        print(f'--- {self.__class__.__name__.upper()} SESSION ---')\n",
    "        self.start()\n",
    "        self.drink()\n",
    "        self.work()\n",
    "        self.end()\n",
    "        print(f'--- END SESSION ---\\n')\n",
    "\n",
    "user = User()\n",
    "user.make_session()"
   ]
  },
  {
   "cell_type": "code",
   "execution_count": 54,
   "id": "2d2f4eae-fa54-4b9c-8ea0-f7b3dbf77bc1",
   "metadata": {},
   "outputs": [
    {
     "name": "stdout",
     "output_type": "stream",
     "text": [
      "--- USER SESSION ---\n",
      "Starting...\n",
      "Drinking...\n",
      "Working...\n",
      "Ending...\n",
      "--- END SESSION ---\n",
      "\n",
      "--- PLAYER SESSION ---\n",
      "Starting...\n",
      "Drinking...\n",
      "Playing...\n",
      "Ending...\n",
      "--- END SESSION ---\n",
      "\n"
     ]
    }
   ],
   "source": [
    "class User:\n",
    "\n",
    "    def start(self):\n",
    "        print('Starting...')\n",
    "\n",
    "    def drink(self):\n",
    "        print('Drinking...')\n",
    "\n",
    "    def work(self):\n",
    "        print('Working...')\n",
    "\n",
    "    def end(self):\n",
    "        print('Ending...')\n",
    "\n",
    "    def make_session(self):\n",
    "        print(f'--- {self.__class__.__name__.upper()} SESSION ---')\n",
    "        self.start()\n",
    "        self.drink()\n",
    "        self.work()\n",
    "        self.end()\n",
    "        print(f'--- END SESSION ---\\n')\n",
    "\n",
    "\n",
    "class Player(User):\n",
    "\n",
    "    def work(self):\n",
    "        print('Playing...')\n",
    "\n",
    "user = User()\n",
    "user.make_session()\n",
    "\n",
    "player = Player()\n",
    "player.make_session()"
   ]
  },
  {
   "cell_type": "code",
   "execution_count": 55,
   "id": "61bb25e6-a343-44d6-a46d-f1825f55b216",
   "metadata": {},
   "outputs": [
    {
     "name": "stdout",
     "output_type": "stream",
     "text": [
      "--- USER SESSION ---\n",
      "Starting...\n",
      "Drinking...\n",
      "Working...\n",
      "Ending...\n",
      "--- END SESSION ---\n",
      "\n",
      "--- PLAYER SESSION ---\n",
      "Starting...\n",
      "Drinking...\n",
      "Working...\n",
      "Ending...\n",
      "--- END SESSION ---\n",
      "\n"
     ]
    }
   ],
   "source": [
    "class User:\n",
    "\n",
    "    def start(self):\n",
    "        print('Starting...')\n",
    "\n",
    "    def drink(self):\n",
    "        print('Drinking...')\n",
    "\n",
    "    def work(self):\n",
    "        print('Working...')\n",
    "\n",
    "    def end(self):\n",
    "        print('Ending...')\n",
    "\n",
    "    def make_session(self):\n",
    "        print(f'--- {self.__class__.__name__.upper()} SESSION ---')\n",
    "        User.start(self)\n",
    "        User.drink(self)\n",
    "        User.work(self)\n",
    "        User.end(self)\n",
    "        print(f'--- END SESSION ---\\n')\n",
    "\n",
    "\n",
    "class Player(User):\n",
    "\n",
    "    def work(self):\n",
    "        print('Playing...')\n",
    "\n",
    "user = User()\n",
    "user.make_session()\n",
    "\n",
    "player = Player()\n",
    "player.make_session()"
   ]
  },
  {
   "cell_type": "markdown",
   "id": "5ee6dc54-75b1-498b-b94f-9e94853d48af",
   "metadata": {},
   "source": [
    "## Inheritance of classes "
   ]
  },
  {
   "cell_type": "code",
   "execution_count": 1,
   "id": "8e97f21c-e22b-419a-b610-c765e23ee453",
   "metadata": {},
   "outputs": [
    {
     "name": "stdout",
     "output_type": "stream",
     "text": [
      "Vehicle from 2010.\n",
      "Car from 2010.\n"
     ]
    }
   ],
   "source": [
    "class Vehicle:\n",
    "    \n",
    "    year = 2010\n",
    "\n",
    "    def info(self):\n",
    "        print(f'{self.__class__.__name__} from {Vehicle.year}.')\n",
    "\n",
    "\n",
    "class Car(Vehicle):\n",
    "    \n",
    "    year = 2020\n",
    "\n",
    "\n",
    "vehicles = [Vehicle(), Car()]\n",
    "for vehicle in vehicles:\n",
    "    vehicle.info()"
   ]
  },
  {
   "cell_type": "code",
   "execution_count": 2,
   "id": "496f1862-1c3d-4b5b-8f7e-73875fd07c5f",
   "metadata": {},
   "outputs": [
    {
     "name": "stdout",
     "output_type": "stream",
     "text": [
      "Vehicle from 2010.\n",
      "Car from 2020.\n"
     ]
    }
   ],
   "source": [
    "class Vehicle:\n",
    "    \n",
    "    year = 2010\n",
    "\n",
    "    def info(self):\n",
    "        print(f'{self.__class__.__name__} from {self.__class__.year}.')\n",
    "\n",
    "\n",
    "class Car(Vehicle):\n",
    "    \n",
    "    year = 2020\n",
    "\n",
    "\n",
    "vehicles = [Vehicle(), Car()]\n",
    "for vehicle in vehicles:\n",
    "    vehicle.info()"
   ]
  },
  {
   "cell_type": "code",
   "execution_count": 3,
   "id": "033b4adb-9ab4-42ca-ad6a-c031f53b1dc4",
   "metadata": {},
   "outputs": [
    {
     "name": "stdout",
     "output_type": "stream",
     "text": [
      "Vehicle from 2010.\n",
      "Car from 2020.\n"
     ]
    }
   ],
   "source": [
    "class Vehicle:\n",
    "    \n",
    "    year = 2010\n",
    "\n",
    "    def info(self):\n",
    "        print(f'{self.__class__.__name__} from {type(self).year}.')\n",
    "\n",
    "\n",
    "class Car(Vehicle):\n",
    "    \n",
    "    year = 2020\n",
    "\n",
    "\n",
    "vehicles = [Vehicle(), Car()]\n",
    "for vehicle in vehicles:\n",
    "    vehicle.info()"
   ]
  },
  {
   "cell_type": "markdown",
   "id": "33481ebd-af87-4438-8a96-de0b69cc3a17",
   "metadata": {},
   "source": [
    "## `super()`"
   ]
  },
  {
   "cell_type": "code",
   "execution_count": 4,
   "id": "d96a1ad7-7ea3-459f-9512-005ba2ff1db4",
   "metadata": {},
   "outputs": [],
   "source": [
    "class Vehicle:\n",
    "\n",
    "    def __init__(self, brand, year):\n",
    "        self.brand = brand\n",
    "        self.year = year\n",
    "\n",
    "\n",
    "class Car(Vehicle):\n",
    "\n",
    "    def __init__(self, brand, year, horsepower):\n",
    "        self.brand = brand\n",
    "        self.year = year\n",
    "        self.horsepower = horsepower        "
   ]
  },
  {
   "cell_type": "code",
   "execution_count": 5,
   "id": "d38041e6-3775-47b9-ac2f-4543af913ad6",
   "metadata": {},
   "outputs": [
    {
     "data": {
      "text/plain": [
       "{'brand': 'Tesla', 'year': 2020}"
      ]
     },
     "execution_count": 5,
     "metadata": {},
     "output_type": "execute_result"
    }
   ],
   "source": [
    "v1 = Vehicle('Tesla', 2020)\n",
    "v1.__dict__"
   ]
  },
  {
   "cell_type": "code",
   "execution_count": 6,
   "id": "8a2bc109-1326-4206-871b-97e3bcca85fc",
   "metadata": {},
   "outputs": [
    {
     "data": {
      "text/plain": [
       "{'brand': 'Tesla', 'year': 2020, 'horsepower': 306}"
      ]
     },
     "execution_count": 6,
     "metadata": {},
     "output_type": "execute_result"
    }
   ],
   "source": [
    "c1 = Car('Tesla', 2020, 306)\n",
    "c1.__dict__"
   ]
  },
  {
   "cell_type": "code",
   "execution_count": 7,
   "id": "4a7ecc5a-35ab-4bfa-a16d-d3fbf9b34cb4",
   "metadata": {},
   "outputs": [],
   "source": [
    "class Vehicle:\n",
    "\n",
    "    def __init__(self, brand, year):\n",
    "        self.brand = brand\n",
    "        self.year = year\n",
    "\n",
    "\n",
    "class Car(Vehicle):\n",
    "\n",
    "    def __init__(self, brand, year, horsepower):\n",
    "        super().__init__(brand, year)\n",
    "        self.horsepower = horsepower        "
   ]
  },
  {
   "cell_type": "code",
   "execution_count": 8,
   "id": "b636051f-9f73-46a6-8a73-fede2aa3b08a",
   "metadata": {},
   "outputs": [
    {
     "data": {
      "text/plain": [
       "{'brand': 'Tesla', 'year': 2020}"
      ]
     },
     "execution_count": 8,
     "metadata": {},
     "output_type": "execute_result"
    }
   ],
   "source": [
    "v1 = Vehicle('Tesla', 2020)\n",
    "v1.__dict__"
   ]
  },
  {
   "cell_type": "code",
   "execution_count": 10,
   "id": "ca5483dd-e884-452f-a087-4224a7a8d653",
   "metadata": {},
   "outputs": [
    {
     "data": {
      "text/plain": [
       "{'brand': 'Tesla', 'year': 2020, 'horsepower': 306}"
      ]
     },
     "execution_count": 10,
     "metadata": {},
     "output_type": "execute_result"
    }
   ],
   "source": [
    "c1 = Car('Tesla', 2020, 306)\n",
    "c1.__dict__"
   ]
  },
  {
   "cell_type": "code",
   "execution_count": null,
   "id": "ae31d794-4b3e-4016-ac9f-8270130809a3",
   "metadata": {},
   "outputs": [],
   "source": []
  }
 ],
 "metadata": {
  "kernelspec": {
   "display_name": "Python 3 (ipykernel)",
   "language": "python",
   "name": "python3"
  },
  "language_info": {
   "codemirror_mode": {
    "name": "ipython",
    "version": 3
   },
   "file_extension": ".py",
   "mimetype": "text/x-python",
   "name": "python",
   "nbconvert_exporter": "python",
   "pygments_lexer": "ipython3",
   "version": "3.9.7"
  }
 },
 "nbformat": 4,
 "nbformat_minor": 5
}
