{
 "cells": [
  {
   "cell_type": "markdown",
   "id": "bf4a0bb0-adfe-4451-9266-2be432267ef7",
   "metadata": {},
   "source": [
    "# Special Methods\n",
    "* `__new__`\n",
    "* `__init__`\n",
    "* `__del__`\n",
    "* `__str__`\n",
    "* `__repr__`\n",
    "* `__len__`\n",
    "* `__bool__`\n"
   ]
  },
  {
   "cell_type": "markdown",
   "id": "d173882e-63a4-461a-bd60-eb16a5a1b868",
   "metadata": {},
   "source": [
    "## `__new__()` + `__init__()`"
   ]
  },
  {
   "cell_type": "code",
   "execution_count": 1,
   "id": "42e73fc7-ecbc-45a6-a03a-94dbcf41dee3",
   "metadata": {},
   "outputs": [
    {
     "data": {
      "text/plain": [
       "['__class__',\n",
       " '__delattr__',\n",
       " '__dir__',\n",
       " '__doc__',\n",
       " '__eq__',\n",
       " '__format__',\n",
       " '__ge__',\n",
       " '__getattribute__',\n",
       " '__gt__',\n",
       " '__hash__',\n",
       " '__init__',\n",
       " '__init_subclass__',\n",
       " '__le__',\n",
       " '__lt__',\n",
       " '__ne__',\n",
       " '__new__',\n",
       " '__reduce__',\n",
       " '__reduce_ex__',\n",
       " '__repr__',\n",
       " '__setattr__',\n",
       " '__sizeof__',\n",
       " '__str__',\n",
       " '__subclasshook__']"
      ]
     },
     "execution_count": 1,
     "metadata": {},
     "output_type": "execute_result"
    }
   ],
   "source": [
    "dir(object)"
   ]
  },
  {
   "cell_type": "code",
   "execution_count": 2,
   "id": "de12c557-a000-4071-8d2e-37454bea83b1",
   "metadata": {},
   "outputs": [
    {
     "name": "stdout",
     "output_type": "stream",
     "text": [
      "Help on built-in function __new__:\n",
      "\n",
      "__new__(*args, **kwargs) method of builtins.type instance\n",
      "    Create and return a new object.  See help(type) for accurate signature.\n",
      "\n"
     ]
    }
   ],
   "source": [
    "help(object.__new__)"
   ]
  },
  {
   "cell_type": "code",
   "execution_count": 3,
   "id": "669fec0a-ec27-44ec-86bd-c7d0bad2c3f7",
   "metadata": {},
   "outputs": [
    {
     "name": "stdout",
     "output_type": "stream",
     "text": [
      "Help on wrapper_descriptor:\n",
      "\n",
      "__init__(self, /, *args, **kwargs)\n",
      "    Initialize self.  See help(type(self)) for accurate signature.\n",
      "\n"
     ]
    }
   ],
   "source": [
    "help(object.__init__)"
   ]
  },
  {
   "cell_type": "code",
   "execution_count": 4,
   "id": "55accb0a-93b9-4cf1-84f2-bb62305f08ea",
   "metadata": {},
   "outputs": [
    {
     "data": {
      "text/plain": [
       "{'name': 'Microsoft'}"
      ]
     },
     "execution_count": 4,
     "metadata": {},
     "output_type": "execute_result"
    }
   ],
   "source": [
    "class Company:\n",
    "    \"\"\"The Company class docs.\"\"\"\n",
    "\n",
    "    def __init__(self, name):\n",
    "        self.name = name\n",
    "\n",
    "company = Company('Microsoft')\n",
    "company.__dict__"
   ]
  },
  {
   "cell_type": "code",
   "execution_count": 5,
   "id": "db1231d2-48e0-454f-8034-8bf6d0dfcdf1",
   "metadata": {},
   "outputs": [],
   "source": [
    "company2 = Company.__new__(Company)"
   ]
  },
  {
   "cell_type": "code",
   "execution_count": 6,
   "id": "6f9ca22d-a9cf-4e5f-ae28-cebaf6500de2",
   "metadata": {},
   "outputs": [
    {
     "data": {
      "text/plain": [
       "<__main__.Company at 0x177d53a7280>"
      ]
     },
     "execution_count": 6,
     "metadata": {},
     "output_type": "execute_result"
    }
   ],
   "source": [
    "company2"
   ]
  },
  {
   "cell_type": "code",
   "execution_count": 7,
   "id": "8f42150d-e3c0-499d-8447-2e30b0e753aa",
   "metadata": {},
   "outputs": [],
   "source": [
    "company2.__init__('Microsoft')"
   ]
  },
  {
   "cell_type": "code",
   "execution_count": 9,
   "id": "cfce2956-2348-488c-b435-d1c5d6307a2e",
   "metadata": {},
   "outputs": [
    {
     "data": {
      "text/plain": [
       "{'name': 'Microsoft'}"
      ]
     },
     "execution_count": 9,
     "metadata": {},
     "output_type": "execute_result"
    }
   ],
   "source": [
    "company2.__dict__"
   ]
  },
  {
   "cell_type": "markdown",
   "id": "41c139e2-1950-4f5d-83f9-2dbc6decd233",
   "metadata": {},
   "source": [
    "## Example"
   ]
  },
  {
   "cell_type": "code",
   "execution_count": 11,
   "id": "4c3d6544-34a2-4b00-9e2f-437aa29f3ec4",
   "metadata": {},
   "outputs": [],
   "source": [
    "class Student:\n",
    "\n",
    "    students = []\n",
    "    limit = 3\n",
    "\n",
    "    def __new__(cls):\n",
    "        if len(cls.students) >= cls.limit:\n",
    "            raise RuntimeError(f'Instance limit reached: {cls.limit}')\n",
    "        instance = object.__new__(cls)\n",
    "        cls.students.append(instance)\n",
    "        return instance"
   ]
  },
  {
   "cell_type": "code",
   "execution_count": 12,
   "id": "6742d43b-f47f-44f6-a214-8e8b7b7aec45",
   "metadata": {},
   "outputs": [],
   "source": [
    "s1 = Student()\n",
    "s2 = Student()\n",
    "s3 = Student()"
   ]
  },
  {
   "cell_type": "code",
   "execution_count": 13,
   "id": "e64cc615-2cb8-4ccf-85ab-38598877a09f",
   "metadata": {},
   "outputs": [
    {
     "data": {
      "text/plain": [
       "mappingproxy({'__module__': '__main__',\n",
       "              'students': [<__main__.Student at 0x177d53a7400>,\n",
       "               <__main__.Student at 0x177d53a1130>,\n",
       "               <__main__.Student at 0x177d53a72e0>],\n",
       "              'limit': 3,\n",
       "              '__new__': <staticmethod at 0x177d53a78b0>,\n",
       "              '__dict__': <attribute '__dict__' of 'Student' objects>,\n",
       "              '__weakref__': <attribute '__weakref__' of 'Student' objects>,\n",
       "              '__doc__': None})"
      ]
     },
     "execution_count": 13,
     "metadata": {},
     "output_type": "execute_result"
    }
   ],
   "source": [
    "Student.__dict__"
   ]
  },
  {
   "cell_type": "code",
   "execution_count": 14,
   "id": "cc2ef3df-e3a4-4228-874c-964b80747706",
   "metadata": {},
   "outputs": [
    {
     "data": {
      "text/plain": [
       "[<__main__.Student at 0x177d53a7400>,\n",
       " <__main__.Student at 0x177d53a1130>,\n",
       " <__main__.Student at 0x177d53a72e0>]"
      ]
     },
     "execution_count": 14,
     "metadata": {},
     "output_type": "execute_result"
    }
   ],
   "source": [
    "Student.students"
   ]
  },
  {
   "cell_type": "code",
   "execution_count": 17,
   "id": "8a288695-3f65-4f9e-8181-7ac417fe11cb",
   "metadata": {},
   "outputs": [],
   "source": [
    "#s4 = Student()\n",
    "#RuntimeError: Instance limit reached: 3"
   ]
  },
  {
   "cell_type": "markdown",
   "id": "f588f744-3263-41f6-97ff-371f4ee76a9e",
   "metadata": {},
   "source": [
    "## `__repr__()`"
   ]
  },
  {
   "cell_type": "code",
   "execution_count": 18,
   "id": "67518d5d-aba1-4d96-b99e-4dac32a6578d",
   "metadata": {},
   "outputs": [
    {
     "name": "stdout",
     "output_type": "stream",
     "text": [
      "Help on wrapper_descriptor:\n",
      "\n",
      "__repr__(self, /)\n",
      "    Return repr(self).\n",
      "\n"
     ]
    }
   ],
   "source": [
    "help(object.__repr__)"
   ]
  },
  {
   "cell_type": "code",
   "execution_count": 19,
   "id": "b6e2665b-a9fa-4cee-934e-20a8898abd11",
   "metadata": {},
   "outputs": [
    {
     "name": "stdout",
     "output_type": "stream",
     "text": [
      "Help on built-in function repr in module builtins:\n",
      "\n",
      "repr(obj, /)\n",
      "    Return the canonical string representation of the object.\n",
      "    \n",
      "    For many object types, including most builtins, eval(repr(obj)) == obj.\n",
      "\n"
     ]
    }
   ],
   "source": [
    "help(repr)"
   ]
  },
  {
   "cell_type": "code",
   "execution_count": 20,
   "id": "b23c0e2d-ac5a-4759-9702-d4b1229a4084",
   "metadata": {},
   "outputs": [
    {
     "data": {
      "text/plain": [
       "\"<class 'object'>\""
      ]
     },
     "execution_count": 20,
     "metadata": {},
     "output_type": "execute_result"
    }
   ],
   "source": [
    "repr(object)"
   ]
  },
  {
   "cell_type": "code",
   "execution_count": 21,
   "id": "b184779e-ba8a-4f69-815c-010429a5b5d3",
   "metadata": {},
   "outputs": [
    {
     "data": {
      "text/plain": [
       "mappingproxy({'__module__': '__main__',\n",
       "              '__init__': <function __main__.Phone.__init__(self, brand)>,\n",
       "              '__dict__': <attribute '__dict__' of 'Phone' objects>,\n",
       "              '__weakref__': <attribute '__weakref__' of 'Phone' objects>,\n",
       "              '__doc__': None})"
      ]
     },
     "execution_count": 21,
     "metadata": {},
     "output_type": "execute_result"
    }
   ],
   "source": [
    "class Phone:\n",
    "\n",
    "    def __init__(self, brand):\n",
    "        self.brand = brand\n",
    "\n",
    "Phone.__dict__"
   ]
  },
  {
   "cell_type": "code",
   "execution_count": 22,
   "id": "2d117adb-6d77-4b76-b76b-c35cff98de36",
   "metadata": {},
   "outputs": [
    {
     "data": {
      "text/plain": [
       "__main__.Phone"
      ]
     },
     "execution_count": 22,
     "metadata": {},
     "output_type": "execute_result"
    }
   ],
   "source": [
    "Phone"
   ]
  },
  {
   "cell_type": "code",
   "execution_count": 23,
   "id": "97cb8b7f-deae-41b2-b00c-c36b9d1204a4",
   "metadata": {},
   "outputs": [
    {
     "data": {
      "text/plain": [
       "\"<class '__main__.Phone'>\""
      ]
     },
     "execution_count": 23,
     "metadata": {},
     "output_type": "execute_result"
    }
   ],
   "source": [
    "repr(Phone)"
   ]
  },
  {
   "cell_type": "code",
   "execution_count": 24,
   "id": "5d6c8ba2-6463-4cc3-84bc-0426d13266d7",
   "metadata": {},
   "outputs": [
    {
     "name": "stdout",
     "output_type": "stream",
     "text": [
      "<class '__main__.Phone'>\n"
     ]
    }
   ],
   "source": [
    "print(Phone)"
   ]
  },
  {
   "cell_type": "code",
   "execution_count": 25,
   "id": "35ba4141-b748-4ff9-adec-6dcdb7342b18",
   "metadata": {},
   "outputs": [
    {
     "data": {
      "text/plain": [
       "<__main__.Phone at 0x177d63d9fa0>"
      ]
     },
     "execution_count": 25,
     "metadata": {},
     "output_type": "execute_result"
    }
   ],
   "source": [
    "phone = Phone('Apple')\n",
    "phone"
   ]
  },
  {
   "cell_type": "code",
   "execution_count": 26,
   "id": "6685e35b-24d5-4209-80f9-c67151c910a3",
   "metadata": {},
   "outputs": [
    {
     "data": {
      "text/plain": [
       "'<__main__.Phone object at 0x00000177D63D9FA0>'"
      ]
     },
     "execution_count": 26,
     "metadata": {},
     "output_type": "execute_result"
    }
   ],
   "source": [
    "repr(phone)"
   ]
  },
  {
   "cell_type": "code",
   "execution_count": 27,
   "id": "575e4b55-c334-4e97-b2b4-a7b51f9785f5",
   "metadata": {},
   "outputs": [
    {
     "name": "stdout",
     "output_type": "stream",
     "text": [
      "<__main__.Phone object at 0x00000177D63D9FA0>\n"
     ]
    }
   ],
   "source": [
    "print(phone)"
   ]
  },
  {
   "cell_type": "code",
   "execution_count": 28,
   "id": "d10acb79-b2c1-4396-9fe5-c9d4961a3ccf",
   "metadata": {},
   "outputs": [
    {
     "data": {
      "text/plain": [
       "mappingproxy({'__module__': '__main__',\n",
       "              '__init__': <function __main__.Phone.__init__(self, brand)>,\n",
       "              '__repr__': <function __main__.Phone.__repr__(self)>,\n",
       "              '__dict__': <attribute '__dict__' of 'Phone' objects>,\n",
       "              '__weakref__': <attribute '__weakref__' of 'Phone' objects>,\n",
       "              '__doc__': None})"
      ]
     },
     "execution_count": 28,
     "metadata": {},
     "output_type": "execute_result"
    }
   ],
   "source": [
    "class Phone:\n",
    "\n",
    "    def __init__(self, brand):\n",
    "        self.brand = brand\n",
    "\n",
    "    def __repr__(self):\n",
    "        return f\"Phone(brand='{self.brand}')\"\n",
    "\n",
    "Phone.__dict__"
   ]
  },
  {
   "cell_type": "code",
   "execution_count": 29,
   "id": "05941ecc-59ea-4214-9cd0-22adf18b7dc4",
   "metadata": {},
   "outputs": [
    {
     "data": {
      "text/plain": [
       "Phone(brand='Apple')"
      ]
     },
     "execution_count": 29,
     "metadata": {},
     "output_type": "execute_result"
    }
   ],
   "source": [
    "phone = Phone('Apple')\n",
    "phone"
   ]
  },
  {
   "cell_type": "code",
   "execution_count": 30,
   "id": "ebfd4969-5e16-4f18-aa00-29f5d1b4c223",
   "metadata": {},
   "outputs": [
    {
     "data": {
      "text/plain": [
       "\"Phone(brand='Apple')\""
      ]
     },
     "execution_count": 30,
     "metadata": {},
     "output_type": "execute_result"
    }
   ],
   "source": [
    "repr(phone)"
   ]
  },
  {
   "cell_type": "code",
   "execution_count": 31,
   "id": "48f52ca8-fb95-4ca6-a60f-36beebbefb18",
   "metadata": {},
   "outputs": [
    {
     "name": "stdout",
     "output_type": "stream",
     "text": [
      "Phone(brand='Apple')\n"
     ]
    }
   ],
   "source": [
    "print(phone)"
   ]
  },
  {
   "cell_type": "code",
   "execution_count": 32,
   "id": "634e754f-9824-4c9a-98e0-729eaf7444c1",
   "metadata": {},
   "outputs": [
    {
     "data": {
      "text/plain": [
       "Phone(brand='Apple')"
      ]
     },
     "execution_count": 32,
     "metadata": {},
     "output_type": "execute_result"
    }
   ],
   "source": [
    "eval(repr(phone))"
   ]
  },
  {
   "cell_type": "code",
   "execution_count": 33,
   "id": "3a47e956-cd5b-4141-8adc-bc405d02750c",
   "metadata": {},
   "outputs": [
    {
     "data": {
      "text/plain": [
       "'Apple'"
      ]
     },
     "execution_count": 33,
     "metadata": {},
     "output_type": "execute_result"
    }
   ],
   "source": [
    "phone2 = eval(repr(phone))\n",
    "phone2.brand"
   ]
  },
  {
   "cell_type": "code",
   "execution_count": 34,
   "id": "ef76ee3e-8755-4f42-b73e-dd49ca375927",
   "metadata": {},
   "outputs": [
    {
     "data": {
      "text/plain": [
       "1614207097056"
      ]
     },
     "execution_count": 34,
     "metadata": {},
     "output_type": "execute_result"
    }
   ],
   "source": [
    "id(phone2)"
   ]
  },
  {
   "cell_type": "markdown",
   "id": "2e9681f8-4c6c-4567-b542-39383fe81e2b",
   "metadata": {},
   "source": [
    "## `__str__()`"
   ]
  },
  {
   "cell_type": "code",
   "execution_count": 35,
   "id": "71d117b5-9e1e-4d22-a0c2-a490bcd83c0c",
   "metadata": {},
   "outputs": [
    {
     "name": "stdout",
     "output_type": "stream",
     "text": [
      "Help on wrapper_descriptor:\n",
      "\n",
      "__str__(self, /)\n",
      "    Return str(self).\n",
      "\n"
     ]
    }
   ],
   "source": [
    "help(object.__str__)"
   ]
  },
  {
   "cell_type": "code",
   "execution_count": 37,
   "id": "4a6ed199-9c4b-4c17-9a41-919d8a053346",
   "metadata": {},
   "outputs": [],
   "source": [
    "#help(str)"
   ]
  },
  {
   "cell_type": "code",
   "execution_count": 39,
   "id": "58fe0cb5-3697-49b9-9b63-c9dc51678293",
   "metadata": {},
   "outputs": [],
   "source": [
    "class Phone:\n",
    "\n",
    "    def __init__(self, brand):\n",
    "        self.brand = brand\n",
    "\n",
    "    def __repr__(self):\n",
    "        return f\"Phone(brand='{self.brand}')\"\n",
    "\n",
    "    def __str__(self):\n",
    "        return f'{self.brand} brand mobile phone.'"
   ]
  },
  {
   "cell_type": "code",
   "execution_count": 40,
   "id": "6cc1ffe3-9514-4daf-9f1c-278a2d71b8b4",
   "metadata": {},
   "outputs": [
    {
     "data": {
      "text/plain": [
       "Phone(brand='Apple')"
      ]
     },
     "execution_count": 40,
     "metadata": {},
     "output_type": "execute_result"
    }
   ],
   "source": [
    "phone = Phone('Apple')\n",
    "phone"
   ]
  },
  {
   "cell_type": "code",
   "execution_count": 41,
   "id": "10005293-1c98-467b-8dc0-8ca7a4489841",
   "metadata": {},
   "outputs": [
    {
     "data": {
      "text/plain": [
       "\"Phone(brand='Apple')\""
      ]
     },
     "execution_count": 41,
     "metadata": {},
     "output_type": "execute_result"
    }
   ],
   "source": [
    "repr(phone)"
   ]
  },
  {
   "cell_type": "code",
   "execution_count": 42,
   "id": "524c4051-d5c1-4bb7-8c07-743fe6b5ae61",
   "metadata": {},
   "outputs": [
    {
     "name": "stdout",
     "output_type": "stream",
     "text": [
      "Apple brand mobile phone.\n"
     ]
    }
   ],
   "source": [
    "print(phone)"
   ]
  },
  {
   "cell_type": "code",
   "execution_count": 43,
   "id": "0ccc7a7d-f48e-49f4-901d-92d82de1c105",
   "metadata": {},
   "outputs": [
    {
     "data": {
      "text/plain": [
       "'Apple brand mobile phone.'"
      ]
     },
     "execution_count": 43,
     "metadata": {},
     "output_type": "execute_result"
    }
   ],
   "source": [
    "str(phone)"
   ]
  },
  {
   "cell_type": "code",
   "execution_count": 44,
   "id": "6a2c19ec-3c30-4bff-a4c4-de089a81179c",
   "metadata": {},
   "outputs": [
    {
     "data": {
      "text/plain": [
       "\"Phone(brand='Apple')\""
      ]
     },
     "execution_count": 44,
     "metadata": {},
     "output_type": "execute_result"
    }
   ],
   "source": [
    "repr(phone)"
   ]
  },
  {
   "cell_type": "code",
   "execution_count": 45,
   "id": "24ecc099-83f8-4f35-905d-02275f594967",
   "metadata": {},
   "outputs": [
    {
     "data": {
      "text/plain": [
       "\"Phone(brand='Apple')\""
      ]
     },
     "execution_count": 45,
     "metadata": {},
     "output_type": "execute_result"
    }
   ],
   "source": [
    "phone.__repr__()"
   ]
  },
  {
   "cell_type": "code",
   "execution_count": 46,
   "id": "30ecdfe9-a248-4cfc-9f23-70dc7acabba4",
   "metadata": {},
   "outputs": [
    {
     "data": {
      "text/plain": [
       "'Apple brand mobile phone.'"
      ]
     },
     "execution_count": 46,
     "metadata": {},
     "output_type": "execute_result"
    }
   ],
   "source": [
    "str(phone)"
   ]
  },
  {
   "cell_type": "code",
   "execution_count": 47,
   "id": "f9f46825-3b5d-4684-be5e-e35ae1643f5f",
   "metadata": {},
   "outputs": [
    {
     "data": {
      "text/plain": [
       "'Apple brand mobile phone.'"
      ]
     },
     "execution_count": 47,
     "metadata": {},
     "output_type": "execute_result"
    }
   ],
   "source": [
    "phone.__str__()"
   ]
  },
  {
   "cell_type": "code",
   "execution_count": 49,
   "id": "ef7aca02-5344-4416-a6e5-a42244f2d787",
   "metadata": {},
   "outputs": [],
   "source": [
    "class Phone:\n",
    "\n",
    "    def __init__(self, brand):\n",
    "        self.brand = brand\n",
    "\n",
    "    # def __repr__(self):\n",
    "    #     return f\"Phone(brand='{self.brand}')\"\n",
    "\n",
    "    def __str__(self):\n",
    "        return f'{self.brand} brand mobile phone.'"
   ]
  },
  {
   "cell_type": "code",
   "execution_count": 50,
   "id": "a0420024-21c2-4b3f-8966-fc240c514c63",
   "metadata": {},
   "outputs": [
    {
     "data": {
      "text/plain": [
       "<__main__.Phone at 0x177d63d9520>"
      ]
     },
     "execution_count": 50,
     "metadata": {},
     "output_type": "execute_result"
    }
   ],
   "source": [
    "phone = Phone('Apple')\n",
    "phone"
   ]
  },
  {
   "cell_type": "code",
   "execution_count": 51,
   "id": "e2db9ad2-ea2b-4c54-9588-ffcdef3b2cdc",
   "metadata": {},
   "outputs": [
    {
     "name": "stdout",
     "output_type": "stream",
     "text": [
      "Apple brand mobile phone.\n"
     ]
    }
   ],
   "source": [
    "print(phone)"
   ]
  },
  {
   "cell_type": "code",
   "execution_count": 52,
   "id": "94756aa2-e7a6-42b4-b14d-fdf5595b3634",
   "metadata": {},
   "outputs": [
    {
     "data": {
      "text/plain": [
       "'Apple brand mobile phone.'"
      ]
     },
     "execution_count": 52,
     "metadata": {},
     "output_type": "execute_result"
    }
   ],
   "source": [
    "str(phone)"
   ]
  },
  {
   "cell_type": "markdown",
   "id": "da01961c-8d54-4a64-8799-18073c4a8cb7",
   "metadata": {},
   "source": [
    "## `__len__()`"
   ]
  },
  {
   "cell_type": "code",
   "execution_count": 53,
   "id": "7fad1635-805c-4ca8-814f-47da115152ba",
   "metadata": {},
   "outputs": [
    {
     "name": "stdout",
     "output_type": "stream",
     "text": [
      "Help on built-in function len in module builtins:\n",
      "\n",
      "len(obj, /)\n",
      "    Return the number of items in a container.\n",
      "\n"
     ]
    }
   ],
   "source": [
    "help(len)"
   ]
  },
  {
   "cell_type": "code",
   "execution_count": 55,
   "id": "5eea6e5e-d808-4184-a5f9-da364c614231",
   "metadata": {},
   "outputs": [],
   "source": [
    "class Point:\n",
    "\n",
    "    def __init__(self, *coords):\n",
    "        for value in coords:\n",
    "            if not isinstance(value, (int, float)):\n",
    "                raise ValueError('Coordinates must be of type int or float.')\n",
    "        self._coords = coords\n",
    "\n",
    "    def __repr__(self):\n",
    "        return f\"Point(coords={self._coords})\"\n",
    "\n",
    "    @property\n",
    "    def coords(self):\n",
    "        return self._coords"
   ]
  },
  {
   "cell_type": "code",
   "execution_count": 56,
   "id": "8cd870b7-21b2-441b-aeb6-2ddbeea4a847",
   "metadata": {},
   "outputs": [
    {
     "data": {
      "text/plain": [
       "{'_coords': (3, 4)}"
      ]
     },
     "execution_count": 56,
     "metadata": {},
     "output_type": "execute_result"
    }
   ],
   "source": [
    "p = Point(3, 4)\n",
    "p.__dict__"
   ]
  },
  {
   "cell_type": "code",
   "execution_count": 57,
   "id": "0ba4e237-df3d-43ae-bbd4-107f4b103f9b",
   "metadata": {},
   "outputs": [
    {
     "data": {
      "text/plain": [
       "(3, 4)"
      ]
     },
     "execution_count": 57,
     "metadata": {},
     "output_type": "execute_result"
    }
   ],
   "source": [
    "p.coords"
   ]
  },
  {
   "cell_type": "code",
   "execution_count": 58,
   "id": "e1cbff2c-11d9-4883-9a93-153532101610",
   "metadata": {},
   "outputs": [
    {
     "data": {
      "text/plain": [
       "Point(coords=(3, 4))"
      ]
     },
     "execution_count": 58,
     "metadata": {},
     "output_type": "execute_result"
    }
   ],
   "source": [
    "p"
   ]
  },
  {
   "cell_type": "code",
   "execution_count": 59,
   "id": "2ba117b3-7eaf-4220-8008-fed09d59a57a",
   "metadata": {},
   "outputs": [
    {
     "data": {
      "text/plain": [
       "'Point(coords=(3, 4))'"
      ]
     },
     "execution_count": 59,
     "metadata": {},
     "output_type": "execute_result"
    }
   ],
   "source": [
    "repr(p)"
   ]
  },
  {
   "cell_type": "code",
   "execution_count": 60,
   "id": "21c3654d-e769-4017-a93b-a40a165db31b",
   "metadata": {},
   "outputs": [
    {
     "data": {
      "text/plain": [
       "{'_coords': (3, 4, -4)}"
      ]
     },
     "execution_count": 60,
     "metadata": {},
     "output_type": "execute_result"
    }
   ],
   "source": [
    "p = Point(3, 4, -4)\n",
    "p.__dict__"
   ]
  },
  {
   "cell_type": "code",
   "execution_count": 61,
   "id": "e83963d3-8f09-42cf-af9f-12b999f21a85",
   "metadata": {},
   "outputs": [
    {
     "data": {
      "text/plain": [
       "(3, 4, -4)"
      ]
     },
     "execution_count": 61,
     "metadata": {},
     "output_type": "execute_result"
    }
   ],
   "source": [
    "p.coords"
   ]
  },
  {
   "cell_type": "code",
   "execution_count": 62,
   "id": "b19adc3d-7a2d-4b0a-8419-59c1fd1dd7f2",
   "metadata": {},
   "outputs": [
    {
     "data": {
      "text/plain": [
       "Point(coords=(3, 4, -4))"
      ]
     },
     "execution_count": 62,
     "metadata": {},
     "output_type": "execute_result"
    }
   ],
   "source": [
    "p"
   ]
  },
  {
   "cell_type": "code",
   "execution_count": 68,
   "id": "6f5cc744-c037-4242-9f84-215b3434fdef",
   "metadata": {},
   "outputs": [],
   "source": [
    "#p = Point(3, 4, 'var2')\n",
    "#p.__dict__\n",
    "#ValueError: Coordinates must be of type int or float."
   ]
  },
  {
   "cell_type": "code",
   "execution_count": 70,
   "id": "48d2d81e-eafb-48a4-a335-a77a8ea0ec58",
   "metadata": {},
   "outputs": [],
   "source": [
    "#len(p)\n",
    "#TypeError: object of type 'Point' has no len()"
   ]
  },
  {
   "cell_type": "code",
   "execution_count": 71,
   "id": "c6d5e76e-a740-4810-a099-1d1e3becc4e7",
   "metadata": {},
   "outputs": [],
   "source": [
    "class Point:\n",
    "\n",
    "    def __init__(self, *coords):\n",
    "        for value in coords:\n",
    "            if not isinstance(value, (int, float)):\n",
    "                raise ValueError('Coordinates must be of type int or float.')\n",
    "        self._coords = coords\n",
    "\n",
    "    def __repr__(self):\n",
    "        return f\"Point(coords={self._coords})\"\n",
    "\n",
    "    def __len__(self):\n",
    "        return len(self._coords)\n",
    "\n",
    "    @property\n",
    "    def coords(self):\n",
    "        return self._coords"
   ]
  },
  {
   "cell_type": "code",
   "execution_count": 72,
   "id": "e487714b-ebb9-4a14-8842-2e222996bf1b",
   "metadata": {},
   "outputs": [
    {
     "data": {
      "text/plain": [
       "(4, 2, 5)"
      ]
     },
     "execution_count": 72,
     "metadata": {},
     "output_type": "execute_result"
    }
   ],
   "source": [
    "q = Point(4, 2, 5)\n",
    "q.coords"
   ]
  },
  {
   "cell_type": "code",
   "execution_count": 73,
   "id": "b4b1038d-5ab7-4d52-8495-88aa78792ca9",
   "metadata": {},
   "outputs": [
    {
     "data": {
      "text/plain": [
       "Point(coords=(4, 2, 5))"
      ]
     },
     "execution_count": 73,
     "metadata": {},
     "output_type": "execute_result"
    }
   ],
   "source": [
    "q"
   ]
  },
  {
   "cell_type": "code",
   "execution_count": 74,
   "id": "a4d6d5c3-a037-402a-87ee-676ef87dbc25",
   "metadata": {},
   "outputs": [
    {
     "data": {
      "text/plain": [
       "3"
      ]
     },
     "execution_count": 74,
     "metadata": {},
     "output_type": "execute_result"
    }
   ],
   "source": [
    "len(q)"
   ]
  },
  {
   "cell_type": "code",
   "execution_count": 75,
   "id": "aa269de6-2828-4171-a6b5-d1140d23c6d4",
   "metadata": {},
   "outputs": [
    {
     "data": {
      "text/plain": [
       "3"
      ]
     },
     "execution_count": 75,
     "metadata": {},
     "output_type": "execute_result"
    }
   ],
   "source": [
    "q.__len__()"
   ]
  },
  {
   "cell_type": "code",
   "execution_count": 76,
   "id": "6c450e4a-a89d-4a37-ac16-737fbede2220",
   "metadata": {},
   "outputs": [
    {
     "data": {
      "text/plain": [
       "()"
      ]
     },
     "execution_count": 76,
     "metadata": {},
     "output_type": "execute_result"
    }
   ],
   "source": [
    "q = Point()\n",
    "q.coords"
   ]
  },
  {
   "cell_type": "code",
   "execution_count": 77,
   "id": "1b7686fd-c53e-46bc-bf9c-746d6937a98b",
   "metadata": {},
   "outputs": [
    {
     "data": {
      "text/plain": [
       "0"
      ]
     },
     "execution_count": 77,
     "metadata": {},
     "output_type": "execute_result"
    }
   ],
   "source": [
    "len(q)"
   ]
  },
  {
   "cell_type": "markdown",
   "id": "62d99ab3-f963-4310-ad51-a51fdb68b2d7",
   "metadata": {},
   "source": [
    "## `__bool__()`"
   ]
  },
  {
   "cell_type": "code",
   "execution_count": 78,
   "id": "4196e09d-6045-47ec-9b86-b4cefb51c09a",
   "metadata": {},
   "outputs": [],
   "source": [
    "class Point:\n",
    "\n",
    "    def __init__(self, *coords):\n",
    "        for value in coords:\n",
    "            if not isinstance(value, (int, float)):\n",
    "                raise ValueError('Coordinates must be of type int or float.')\n",
    "        self._coords = coords\n",
    "\n",
    "    def __repr__(self):\n",
    "        return f\"Point(coords={self._coords})\"\n",
    "\n",
    "    def __len__(self):\n",
    "        return len(self._coords)\n",
    "\n",
    "    @property\n",
    "    def coords(self):\n",
    "        return self._coords"
   ]
  },
  {
   "cell_type": "code",
   "execution_count": 79,
   "id": "87f70983-a49b-4f84-babc-bb2e52b57d61",
   "metadata": {},
   "outputs": [
    {
     "data": {
      "text/plain": [
       "(Point(coords=()), Point(coords=(4, 2)))"
      ]
     },
     "execution_count": 79,
     "metadata": {},
     "output_type": "execute_result"
    }
   ],
   "source": [
    "p = Point()\n",
    "q = Point(4, 2)\n",
    "p, q"
   ]
  },
  {
   "cell_type": "code",
   "execution_count": 80,
   "id": "562bd01a-df21-431b-b218-04028d45f2b1",
   "metadata": {},
   "outputs": [
    {
     "data": {
      "text/plain": [
       "(False, True)"
      ]
     },
     "execution_count": 80,
     "metadata": {},
     "output_type": "execute_result"
    }
   ],
   "source": [
    "bool(p), bool(q)"
   ]
  },
  {
   "cell_type": "code",
   "execution_count": 81,
   "id": "83c1c4cd-207e-4dcb-befc-bb21bc43ecee",
   "metadata": {},
   "outputs": [],
   "source": [
    "class Point:\n",
    "\n",
    "    def __init__(self, *coords):\n",
    "        for value in coords:\n",
    "            if not isinstance(value, (int, float)):\n",
    "                raise ValueError('Coordinates must be of type int or float.')\n",
    "        self._coords = coords\n",
    "\n",
    "    def __repr__(self):\n",
    "        return f\"Point(coords={self._coords})\"\n",
    "\n",
    "    @property\n",
    "    def coords(self):\n",
    "        return self._coords"
   ]
  },
  {
   "cell_type": "code",
   "execution_count": 82,
   "id": "2c0cc6b0-c087-46d6-a752-b50ad46555c7",
   "metadata": {},
   "outputs": [
    {
     "data": {
      "text/plain": [
       "(True, True)"
      ]
     },
     "execution_count": 82,
     "metadata": {},
     "output_type": "execute_result"
    }
   ],
   "source": [
    "p = Point()\n",
    "q = Point(4, 2)\n",
    "bool(p), bool(q)"
   ]
  },
  {
   "cell_type": "code",
   "execution_count": 83,
   "id": "bbeb0fa4-dd03-48bb-bf98-4e8de4699304",
   "metadata": {},
   "outputs": [],
   "source": [
    "class Point:\n",
    "\n",
    "    def __init__(self, *coords):\n",
    "        for value in coords:\n",
    "            if not isinstance(value, (int, float)):\n",
    "                raise ValueError('Coordinates must be of type int or float.')\n",
    "        self._coords = coords\n",
    "\n",
    "    def __repr__(self):\n",
    "        return f\"Point(coords={self._coords})\"\n",
    "\n",
    "    def __len__(self):\n",
    "        return len(self._coords)\n",
    "\n",
    "    def __bool__(self):\n",
    "        return sum(self._coords) != 0\n",
    "\n",
    "    @property\n",
    "    def coords(self):\n",
    "        return self._coords"
   ]
  },
  {
   "cell_type": "code",
   "execution_count": 84,
   "id": "aae3c432-3e4c-488c-8b25-1c1089f82fdb",
   "metadata": {},
   "outputs": [
    {
     "data": {
      "text/plain": [
       "True"
      ]
     },
     "execution_count": 84,
     "metadata": {},
     "output_type": "execute_result"
    }
   ],
   "source": [
    "p = Point(1, 2)\n",
    "bool(p)"
   ]
  },
  {
   "cell_type": "code",
   "execution_count": 85,
   "id": "ff00a50a-32c1-4e4a-baaa-a4951f6f1e7f",
   "metadata": {},
   "outputs": [
    {
     "data": {
      "text/plain": [
       "False"
      ]
     },
     "execution_count": 85,
     "metadata": {},
     "output_type": "execute_result"
    }
   ],
   "source": [
    "p = Point(1, 2, -3)\n",
    "bool(p)"
   ]
  },
  {
   "cell_type": "code",
   "execution_count": 86,
   "id": "015fe06c-1953-4fc1-b2e8-4b298cd9dddf",
   "metadata": {},
   "outputs": [
    {
     "data": {
      "text/plain": [
       "False"
      ]
     },
     "execution_count": 86,
     "metadata": {},
     "output_type": "execute_result"
    }
   ],
   "source": [
    "p = Point()\n",
    "bool(p)"
   ]
  },
  {
   "cell_type": "markdown",
   "id": "db01f392-9028-4284-80e7-700f8ed465ff",
   "metadata": {
    "tags": []
   },
   "source": [
    "# Basic operators\n",
    "| operator | method |\n",
    "|----------|--------|\n",
    "|+|`object.__add__(self, other)`|\n",
    "|-|`object.__sub__(self, other)`|\n",
    "|*|`object.__mul__(self, other)`|\n",
    "|//|`object.__floordiv__(self, other)`|\n",
    "|/|`object.__truediv__(self, other)`|\n",
    "|%|`object.__mod__(self, other[, modulo])`|\n",
    "|**|`object.__pow__(self, other)`|"
   ]
  },
  {
   "cell_type": "markdown",
   "id": "4f37fa32-d33e-4cc9-ac50-d2eccd8ce185",
   "metadata": {},
   "source": [
    "## `__add__()`"
   ]
  },
  {
   "cell_type": "code",
   "execution_count": 92,
   "id": "7cdb7a69-46d1-4560-94b4-a007bffc01ac",
   "metadata": {},
   "outputs": [],
   "source": [
    "class Point:\n",
    "\n",
    "    def __init__(self, *coords):\n",
    "        for value in coords:\n",
    "            if not isinstance(value, (int, float)):\n",
    "                raise ValueError('Coordinates must be of type int or float.')\n",
    "        self._coords = coords\n",
    "\n",
    "    def __repr__(self):\n",
    "        return f\"Point(coords={self._coords})\"\n",
    "\n",
    "    @property\n",
    "    def coords(self):\n",
    "        return self._coords"
   ]
  },
  {
   "cell_type": "code",
   "execution_count": 94,
   "id": "b88d4e32-2540-40bd-856b-9677e63711ca",
   "metadata": {},
   "outputs": [],
   "source": [
    "p1 = Point(4, 2)\n",
    "p2 = Point(5, 2)\n",
    "#p1 + p2\n",
    "#TypeError: unsupported operand type(s) for +: 'Point' and 'Point'"
   ]
  },
  {
   "cell_type": "code",
   "execution_count": 95,
   "id": "311c2d4e-35c9-42c3-a9d4-ba8f11970c69",
   "metadata": {},
   "outputs": [],
   "source": [
    "class Point:\n",
    "\n",
    "    def __init__(self, *coords):\n",
    "        for value in coords:\n",
    "            if not isinstance(value, (int, float)):\n",
    "                raise ValueError('Coordinates must be of type int or float.')\n",
    "        self._coords = coords\n",
    "\n",
    "    def __repr__(self):\n",
    "        return f\"Point(coords={self._coords})\"\n",
    "\n",
    "    def __add__(self, other):\n",
    "        coords = tuple(x + y for x, y in zip(self.coords, other.coords))\n",
    "        return Point(*coords)\n",
    "\n",
    "    @property\n",
    "    def coords(self):\n",
    "        return self._coords"
   ]
  },
  {
   "cell_type": "code",
   "execution_count": 96,
   "id": "71f269ff-00a7-4ec7-833d-87c438cfd5b4",
   "metadata": {},
   "outputs": [
    {
     "data": {
      "text/plain": [
       "Point(coords=(9, 4))"
      ]
     },
     "execution_count": 96,
     "metadata": {},
     "output_type": "execute_result"
    }
   ],
   "source": [
    "p1 = Point(4, 2)\n",
    "p2 = Point(5, 2)\n",
    "p1 + p2"
   ]
  },
  {
   "cell_type": "code",
   "execution_count": 97,
   "id": "b8f1bd25-7f42-40a7-8235-3790837f7330",
   "metadata": {},
   "outputs": [
    {
     "data": {
      "text/plain": [
       "Point(coords=(9, 4))"
      ]
     },
     "execution_count": 97,
     "metadata": {},
     "output_type": "execute_result"
    }
   ],
   "source": [
    "p2 + p1"
   ]
  },
  {
   "cell_type": "code",
   "execution_count": 98,
   "id": "3963b680-5d1d-4d52-a509-902e482f6753",
   "metadata": {},
   "outputs": [
    {
     "data": {
      "text/plain": [
       "Point(coords=(9, 4))"
      ]
     },
     "execution_count": 98,
     "metadata": {},
     "output_type": "execute_result"
    }
   ],
   "source": [
    "p1 + p2"
   ]
  },
  {
   "cell_type": "code",
   "execution_count": 99,
   "id": "c307504f-55a6-46dc-b8c7-7d7bde5083ae",
   "metadata": {},
   "outputs": [
    {
     "data": {
      "text/plain": [
       "Point(coords=(9, 4))"
      ]
     },
     "execution_count": 99,
     "metadata": {},
     "output_type": "execute_result"
    }
   ],
   "source": [
    "p1.__add__(p2)"
   ]
  },
  {
   "cell_type": "code",
   "execution_count": 101,
   "id": "f60532fe-4410-4d07-ba0d-12e93580b115",
   "metadata": {},
   "outputs": [],
   "source": [
    "#p1 + 5\n",
    "#AttributeError: 'int' object has no attribute 'coords'"
   ]
  },
  {
   "cell_type": "code",
   "execution_count": 103,
   "id": "95f54800-4925-4f8b-8a33-92b721014022",
   "metadata": {},
   "outputs": [],
   "source": [
    "class Point:\n",
    "\n",
    "    def __init__(self, *coords):\n",
    "        for value in coords:\n",
    "            if not isinstance(value, (int, float)):\n",
    "                raise ValueError('Coordinates must be of type int or float.')\n",
    "        self._coords = coords\n",
    "\n",
    "    def __repr__(self):\n",
    "        return f\"Point(coords={self._coords})\"\n",
    "\n",
    "    def __add__(self, other):\n",
    "        if not isinstance(other, Point):\n",
    "            return NotImplemented\n",
    "        coords = tuple(x + y for x, y in zip(self.coords, other.coords))\n",
    "        return Point(*coords)\n",
    "\n",
    "    @property\n",
    "    def coords(self):\n",
    "        return self._coords"
   ]
  },
  {
   "cell_type": "code",
   "execution_count": 104,
   "id": "a4877534-5c07-452b-a216-7af932f4bee7",
   "metadata": {},
   "outputs": [
    {
     "data": {
      "text/plain": [
       "Point(coords=(9, 4))"
      ]
     },
     "execution_count": 104,
     "metadata": {},
     "output_type": "execute_result"
    }
   ],
   "source": [
    "p1 = Point(4, 2)\n",
    "p2 = Point(5, 2)\n",
    "p1 + p2"
   ]
  },
  {
   "cell_type": "code",
   "execution_count": 109,
   "id": "dc6cf556-94ca-4861-8161-b18cfa11721f",
   "metadata": {},
   "outputs": [],
   "source": [
    "#p1 + 5\n",
    "#TypeError: unsupported operand type(s) for +: 'Point' and 'int'\n",
    "#p1 + 'var1'\n",
    "#TypeError: unsupported operand type(s) for +: 'Point' and 'str'\n",
    "#p1 + False\n",
    "#TypeError: unsupported operand type(s) for +: 'Point' and 'bool'"
   ]
  },
  {
   "cell_type": "markdown",
   "id": "20ad44fe-b4f8-47ff-b5c6-57e3dd1d508a",
   "metadata": {},
   "source": [
    "## `__sub__()`"
   ]
  },
  {
   "cell_type": "code",
   "execution_count": 111,
   "id": "38ae7034-96c8-4f75-8b58-983d62abaad1",
   "metadata": {},
   "outputs": [],
   "source": [
    "class Point:\n",
    "\n",
    "    def __init__(self, *coords):\n",
    "        for value in coords:\n",
    "            if not isinstance(value, (int, float)):\n",
    "                raise ValueError('Coordinates must be of type int or float.')\n",
    "        self._coords = coords\n",
    "\n",
    "    def __repr__(self):\n",
    "        return f\"Point(coords={self._coords})\"\n",
    "\n",
    "    def __add__(self, other):\n",
    "        if not isinstance(other, Point):\n",
    "            return NotImplemented\n",
    "        coords = tuple(x + y for x, y in zip(self.coords, other.coords))\n",
    "        return Point(*coords)\n",
    "\n",
    "    @property\n",
    "    def coords(self):\n",
    "        return self._coords"
   ]
  },
  {
   "cell_type": "code",
   "execution_count": 113,
   "id": "2c6441ee-875e-49fc-87ae-f4515e88c059",
   "metadata": {},
   "outputs": [],
   "source": [
    "p1 = Point(4, 2)\n",
    "p2 = Point(3, 2)\n",
    "#p1 - p2\n",
    "#TypeError: unsupported operand type(s) for -: 'Point' and 'Point'"
   ]
  },
  {
   "cell_type": "code",
   "execution_count": 114,
   "id": "44d4be8d-f8ea-4d45-bc76-a07d84266bf2",
   "metadata": {},
   "outputs": [],
   "source": [
    "class Point:\n",
    "\n",
    "    def __init__(self, *coords):\n",
    "        for value in coords:\n",
    "            if not isinstance(value, (int, float)):\n",
    "                raise ValueError('Coordinates must be of type int or float.')\n",
    "        self._coords = coords\n",
    "\n",
    "    def __repr__(self):\n",
    "        return f\"Point(coords={self._coords})\"\n",
    "\n",
    "    def __add__(self, other):\n",
    "        if not isinstance(other, Point):\n",
    "            return NotImplemented\n",
    "        coords = tuple(x + y for x, y in zip(self.coords, other.coords))\n",
    "        return Point(*coords)\n",
    "\n",
    "    def __sub__(self, other):\n",
    "        if not isinstance(other, Point):\n",
    "            return NotImplemented\n",
    "        coords = tuple(x - y for x, y in zip(self.coords, other.coords))\n",
    "        return Point(*coords)\n",
    "\n",
    "    @property\n",
    "    def coords(self):\n",
    "        return self._coords"
   ]
  },
  {
   "cell_type": "code",
   "execution_count": 115,
   "id": "58a852dd-2e55-4b8d-970f-51c79a255948",
   "metadata": {},
   "outputs": [
    {
     "data": {
      "text/plain": [
       "Point(coords=(1, 0))"
      ]
     },
     "execution_count": 115,
     "metadata": {},
     "output_type": "execute_result"
    }
   ],
   "source": [
    "p1 = Point(4, 2)\n",
    "p2 = Point(3, 2)\n",
    "p1 - p2"
   ]
  },
  {
   "cell_type": "code",
   "execution_count": 116,
   "id": "9d0b97cd-35c3-4e60-8470-9364b2b8756d",
   "metadata": {},
   "outputs": [
    {
     "data": {
      "text/plain": [
       "Point(coords=(1, 0))"
      ]
     },
     "execution_count": 116,
     "metadata": {},
     "output_type": "execute_result"
    }
   ],
   "source": [
    "p1.__sub__(p2)"
   ]
  },
  {
   "cell_type": "code",
   "execution_count": 117,
   "id": "1d51239b-70fd-49fa-a55d-a5e4fc390ac4",
   "metadata": {},
   "outputs": [
    {
     "data": {
      "text/plain": [
       "Point(coords=(-1, 0))"
      ]
     },
     "execution_count": 117,
     "metadata": {},
     "output_type": "execute_result"
    }
   ],
   "source": [
    "p2.__sub__(p1)"
   ]
  },
  {
   "cell_type": "markdown",
   "id": "9c106ffc-18ae-4a4b-880c-69bb5705acf4",
   "metadata": {},
   "source": [
    "## `__mul__()`"
   ]
  },
  {
   "cell_type": "code",
   "execution_count": 118,
   "id": "de54e3cb-6b3d-4056-9a71-5cbe15181fd8",
   "metadata": {},
   "outputs": [],
   "source": [
    "class Point:\n",
    "\n",
    "    def __init__(self, *coords):\n",
    "        for value in coords:\n",
    "            if not isinstance(value, (int, float)):\n",
    "                raise ValueError('Coordinates must be of type int or float.')\n",
    "        self._coords = coords\n",
    "\n",
    "    def __repr__(self):\n",
    "        return f\"Point(coords={self._coords})\"\n",
    "\n",
    "    def __add__(self, other):\n",
    "        if not isinstance(other, Point):\n",
    "            return NotImplemented\n",
    "        coords = tuple(x + y for x, y in zip(self.coords, other.coords))\n",
    "        return Point(*coords)\n",
    "\n",
    "    def __sub__(self, other):\n",
    "        if not isinstance(other, Point):\n",
    "            return NotImplemented\n",
    "        coords = tuple(x - y for x, y in zip(self.coords, other.coords))\n",
    "        return Point(*coords)\n",
    "\n",
    "    @property\n",
    "    def coords(self):\n",
    "        return self._coords"
   ]
  },
  {
   "cell_type": "code",
   "execution_count": 120,
   "id": "13d11161-d5d3-4f2b-a000-01ab4c6798ce",
   "metadata": {},
   "outputs": [],
   "source": [
    "p1 = Point(4, 2)\n",
    "p2 = Point(3, 2)\n",
    "#p1 * p2\n",
    "#TypeError: unsupported operand type(s) for *: 'Point' and 'Point'"
   ]
  },
  {
   "cell_type": "code",
   "execution_count": 121,
   "id": "e258d182-7aad-46cf-8e61-f4c64851fcb9",
   "metadata": {},
   "outputs": [],
   "source": [
    "class Point:\n",
    "\n",
    "    def __init__(self, *coords):\n",
    "        for value in coords:\n",
    "            if not isinstance(value, (int, float)):\n",
    "                raise ValueError('Coordinates must be of type int or float.')\n",
    "        self._coords = coords\n",
    "\n",
    "    def __repr__(self):\n",
    "        return f\"Point(coords={self._coords})\"\n",
    "\n",
    "    def __add__(self, other):\n",
    "        if not isinstance(other, Point):\n",
    "            return NotImplemented\n",
    "        coords = tuple(x + y for x, y in zip(self.coords, other.coords))\n",
    "        return Point(*coords)\n",
    "\n",
    "    def __sub__(self, other):\n",
    "        if not isinstance(other, Point):\n",
    "            return NotImplemented\n",
    "        coords = tuple(x - y for x, y in zip(self.coords, other.coords))\n",
    "        return Point(*coords)\n",
    "\n",
    "    def __mul__(self, other):\n",
    "        if not isinstance(other, Point):\n",
    "            return NotImplemented\n",
    "        coords = tuple(x * y for x, y in zip(self.coords, other.coords))\n",
    "        return Point(*coords)        \n",
    "\n",
    "    @property\n",
    "    def coords(self):\n",
    "        return self._coords"
   ]
  },
  {
   "cell_type": "code",
   "execution_count": 122,
   "id": "a6545759-0b4e-4c76-afd5-ce1b5060d240",
   "metadata": {},
   "outputs": [
    {
     "data": {
      "text/plain": [
       "Point(coords=(12, 4))"
      ]
     },
     "execution_count": 122,
     "metadata": {},
     "output_type": "execute_result"
    }
   ],
   "source": [
    "p1 = Point(4, 2)\n",
    "p2 = Point(3, 2)\n",
    "p1 * p2"
   ]
  },
  {
   "cell_type": "code",
   "execution_count": 123,
   "id": "7598dc96-7cc3-401b-bae6-ad2fb8091cfa",
   "metadata": {},
   "outputs": [
    {
     "data": {
      "text/plain": [
       "Point(coords=(12, 4))"
      ]
     },
     "execution_count": 123,
     "metadata": {},
     "output_type": "execute_result"
    }
   ],
   "source": [
    "p1.__mul__(p2)"
   ]
  },
  {
   "cell_type": "code",
   "execution_count": 124,
   "id": "46a06b96-4dec-4c44-ba4b-6802d2f4da77",
   "metadata": {},
   "outputs": [
    {
     "data": {
      "text/plain": [
       "Point(coords=(12, 4))"
      ]
     },
     "execution_count": 124,
     "metadata": {},
     "output_type": "execute_result"
    }
   ],
   "source": [
    "p2.__mul__(p1)"
   ]
  },
  {
   "cell_type": "markdown",
   "id": "7be491d2-74e1-482d-9b1a-be2160b31428",
   "metadata": {},
   "source": [
    "## `__truediv__()` oraz `__floordiv__()`"
   ]
  },
  {
   "cell_type": "code",
   "execution_count": 125,
   "id": "262e4597-e5d1-4def-9d5b-b623b533baea",
   "metadata": {},
   "outputs": [
    {
     "data": {
      "text/plain": [
       "(5, 2)"
      ]
     },
     "execution_count": 125,
     "metadata": {},
     "output_type": "execute_result"
    }
   ],
   "source": [
    "a, b = 5, 2\n",
    "a, b"
   ]
  },
  {
   "cell_type": "code",
   "execution_count": 126,
   "id": "55b9e3bd-878c-43ea-80fa-ea11c88da858",
   "metadata": {},
   "outputs": [
    {
     "data": {
      "text/plain": [
       "2.5"
      ]
     },
     "execution_count": 126,
     "metadata": {},
     "output_type": "execute_result"
    }
   ],
   "source": [
    "a / b"
   ]
  },
  {
   "cell_type": "code",
   "execution_count": 127,
   "id": "e70aa1d3-6966-40e4-8ff4-46c8eae65fe8",
   "metadata": {},
   "outputs": [
    {
     "data": {
      "text/plain": [
       "2.5"
      ]
     },
     "execution_count": 127,
     "metadata": {},
     "output_type": "execute_result"
    }
   ],
   "source": [
    "a.__truediv__(b)"
   ]
  },
  {
   "cell_type": "code",
   "execution_count": 128,
   "id": "f40c8714-4838-4dbf-8aa5-ed93b5aaf5cb",
   "metadata": {},
   "outputs": [
    {
     "name": "stdout",
     "output_type": "stream",
     "text": [
      "Help on wrapper_descriptor:\n",
      "\n",
      "__truediv__(self, value, /)\n",
      "    Return self/value.\n",
      "\n"
     ]
    }
   ],
   "source": [
    "help(int.__truediv__)"
   ]
  },
  {
   "cell_type": "code",
   "execution_count": 129,
   "id": "c1fd297c-49e0-4676-ace4-2712d6f486cc",
   "metadata": {},
   "outputs": [
    {
     "data": {
      "text/plain": [
       "2"
      ]
     },
     "execution_count": 129,
     "metadata": {},
     "output_type": "execute_result"
    }
   ],
   "source": [
    "a // b"
   ]
  },
  {
   "cell_type": "code",
   "execution_count": 130,
   "id": "62a28853-0739-4761-bc09-517294e9419f",
   "metadata": {},
   "outputs": [
    {
     "data": {
      "text/plain": [
       "2"
      ]
     },
     "execution_count": 130,
     "metadata": {},
     "output_type": "execute_result"
    }
   ],
   "source": [
    "a.__floordiv__(b)"
   ]
  },
  {
   "cell_type": "code",
   "execution_count": 131,
   "id": "b070599f-1756-4537-80a8-a08baa16bbb1",
   "metadata": {},
   "outputs": [
    {
     "name": "stdout",
     "output_type": "stream",
     "text": [
      "Help on wrapper_descriptor:\n",
      "\n",
      "__floordiv__(self, value, /)\n",
      "    Return self//value.\n",
      "\n"
     ]
    }
   ],
   "source": [
    "help(int.__floordiv__)"
   ]
  },
  {
   "cell_type": "code",
   "execution_count": 132,
   "id": "3bdfbf59-7dfe-4e99-91e4-d380d66e7cdf",
   "metadata": {},
   "outputs": [],
   "source": [
    "class Point:\n",
    "\n",
    "    def __init__(self, *coords):\n",
    "        for value in coords:\n",
    "            if not isinstance(value, (int, float)):\n",
    "                raise ValueError('Coordinates must be of type int or float.')\n",
    "        self._coords = coords\n",
    "\n",
    "    def __repr__(self):\n",
    "        return f\"Point(coords={self._coords})\"\n",
    "\n",
    "    def __add__(self, other):\n",
    "        if not isinstance(other, Point):\n",
    "            return NotImplemented\n",
    "        coords = tuple(x + y for x, y in zip(self.coords, other.coords))\n",
    "        return Point(*coords)\n",
    "\n",
    "    def __sub__(self, other):\n",
    "        if not isinstance(other, Point):\n",
    "            return NotImplemented\n",
    "        coords = tuple(x - y for x, y in zip(self.coords, other.coords))\n",
    "        return Point(*coords)\n",
    "\n",
    "    def __mul__(self, other):\n",
    "        if not isinstance(other, Point):\n",
    "            return NotImplemented\n",
    "        coords = tuple(x * y for x, y in zip(self.coords, other.coords))\n",
    "        return Point(*coords) \n",
    "\n",
    "    def __truediv__(self, other):\n",
    "        return '__truediv__ called...'   \n",
    "\n",
    "    def __floordiv__(self, other):\n",
    "        return '__floordiv__ called...'          \n",
    "\n",
    "    @property\n",
    "    def coords(self):\n",
    "        return self._coords"
   ]
  },
  {
   "cell_type": "code",
   "execution_count": 133,
   "id": "d8feaa59-2eb9-48a5-a4b2-7add0a1584d3",
   "metadata": {},
   "outputs": [
    {
     "data": {
      "text/plain": [
       "'__truediv__ called...'"
      ]
     },
     "execution_count": 133,
     "metadata": {},
     "output_type": "execute_result"
    }
   ],
   "source": [
    "p1 = Point(4, 2)\n",
    "p2 = Point(2, 3)\n",
    "p1 / p2"
   ]
  },
  {
   "cell_type": "code",
   "execution_count": 134,
   "id": "53b7ed44-5ce6-4c00-bfbe-938539bce28b",
   "metadata": {},
   "outputs": [
    {
     "data": {
      "text/plain": [
       "'__floordiv__ called...'"
      ]
     },
     "execution_count": 134,
     "metadata": {},
     "output_type": "execute_result"
    }
   ],
   "source": [
    "p1 // p2"
   ]
  },
  {
   "cell_type": "code",
   "execution_count": 135,
   "id": "428197e7-1d09-438b-be89-5def39212fd0",
   "metadata": {},
   "outputs": [],
   "source": [
    "class Point:\n",
    "\n",
    "    def __init__(self, *coords):\n",
    "        for value in coords:\n",
    "            if not isinstance(value, (int, float)):\n",
    "                raise ValueError('Coordinates must be of type int or float.')\n",
    "        self._coords = coords\n",
    "\n",
    "    def __repr__(self):\n",
    "        return f\"Point(coords={self._coords})\"\n",
    "\n",
    "    def __add__(self, other):\n",
    "        if not isinstance(other, Point):\n",
    "            return NotImplemented\n",
    "        coords = tuple(x + y for x, y in zip(self.coords, other.coords))\n",
    "        return Point(*coords)\n",
    "\n",
    "    def __sub__(self, other):\n",
    "        if not isinstance(other, Point):\n",
    "            return NotImplemented\n",
    "        coords = tuple(x - y for x, y in zip(self.coords, other.coords))\n",
    "        return Point(*coords)\n",
    "\n",
    "    def __mul__(self, other):\n",
    "        if not isinstance(other, Point):\n",
    "            return NotImplemented\n",
    "        coords = tuple(x * y for x, y in zip(self.coords, other.coords))\n",
    "        return Point(*coords) \n",
    "\n",
    "    def __truediv__(self, other):\n",
    "        if not isinstance(other, Point):\n",
    "            return NotImplemented\n",
    "        for coord in other.coords:\n",
    "            if coord == 0:\n",
    "                raise ZeroDivisionError('Division by zero.')\n",
    "        coords = tuple(x / y for x, y in zip(self.coords, other.coords))\n",
    "        return Point(*coords)                \n",
    "\n",
    "    def __floordiv__(self, other):\n",
    "        if not isinstance(other, Point):\n",
    "            return NotImplemented\n",
    "        for coord in other.coords:\n",
    "            if coord == 0:\n",
    "                raise ZeroDivisionError('Division by zero.')\n",
    "        coords = tuple(x // y for x, y in zip(self.coords, other.coords))\n",
    "        return Point(*coords)          \n",
    "\n",
    "    @property\n",
    "    def coords(self):\n",
    "        return self._coords"
   ]
  },
  {
   "cell_type": "code",
   "execution_count": 136,
   "id": "b30e5d1a-d630-42e9-a8f0-93e38e03b98e",
   "metadata": {},
   "outputs": [
    {
     "data": {
      "text/plain": [
       "Point(coords=(2.0, 0.6666666666666666))"
      ]
     },
     "execution_count": 136,
     "metadata": {},
     "output_type": "execute_result"
    }
   ],
   "source": [
    "p1 = Point(4, 2)\n",
    "p2 = Point(2, 3)\n",
    "p1 / p2"
   ]
  },
  {
   "cell_type": "code",
   "execution_count": 137,
   "id": "4afcb47e-ffbf-4728-8bd9-bb114e911244",
   "metadata": {},
   "outputs": [
    {
     "data": {
      "text/plain": [
       "Point(coords=(2, 0))"
      ]
     },
     "execution_count": 137,
     "metadata": {},
     "output_type": "execute_result"
    }
   ],
   "source": [
    "p1 // p2"
   ]
  },
  {
   "cell_type": "code",
   "execution_count": 138,
   "id": "beb3449b-92e0-4b1f-b757-07881c7fea92",
   "metadata": {},
   "outputs": [],
   "source": [
    "#https://docs.python.org/dev/reference/datamodel.html#special-method-names"
   ]
  },
  {
   "cell_type": "markdown",
   "id": "a60e5d09-7073-48b5-a0ce-6e6c36c01fc7",
   "metadata": {},
   "source": [
    "## Example"
   ]
  },
  {
   "cell_type": "code",
   "execution_count": 139,
   "id": "a0bec1cb-937a-4f0b-96d0-1e6a02084298",
   "metadata": {},
   "outputs": [
    {
     "data": {
      "text/plain": [
       "mappingproxy({'__module__': '__main__',\n",
       "              '__init__': <function __main__.Doc.__init__(self, string)>,\n",
       "              '__dict__': <attribute '__dict__' of 'Doc' objects>,\n",
       "              '__weakref__': <attribute '__weakref__' of 'Doc' objects>,\n",
       "              '__doc__': None})"
      ]
     },
     "execution_count": 139,
     "metadata": {},
     "output_type": "execute_result"
    }
   ],
   "source": [
    "class Doc:\n",
    "\n",
    "    def __init__(self, string):\n",
    "        self.string = string\n",
    "\n",
    "Doc.__dict__"
   ]
  },
  {
   "cell_type": "code",
   "execution_count": 140,
   "id": "c0316f56-72d6-4f67-ac95-c9285fdf4842",
   "metadata": {},
   "outputs": [],
   "source": [
    "doc1 = Doc('Object')\n",
    "doc2 = Doc('Oriented')\n",
    "doc3 = Doc('Programming')"
   ]
  },
  {
   "cell_type": "code",
   "execution_count": 142,
   "id": "228987d5-7552-4d07-bcd4-8addc0d179c3",
   "metadata": {},
   "outputs": [],
   "source": [
    "#doc1 + doc2\n",
    "#TypeError: unsupported operand type(s) for +: 'Doc' and 'Doc'"
   ]
  },
  {
   "cell_type": "code",
   "execution_count": 143,
   "id": "ff500307-1bb5-4985-a95f-d8da44d6ca02",
   "metadata": {},
   "outputs": [
    {
     "data": {
      "text/plain": [
       "mappingproxy({'__module__': '__main__',\n",
       "              '__init__': <function __main__.Doc.__init__(self, string)>,\n",
       "              '__repr__': <function __main__.Doc.__repr__(self)>,\n",
       "              '__dict__': <attribute '__dict__' of 'Doc' objects>,\n",
       "              '__weakref__': <attribute '__weakref__' of 'Doc' objects>,\n",
       "              '__doc__': None})"
      ]
     },
     "execution_count": 143,
     "metadata": {},
     "output_type": "execute_result"
    }
   ],
   "source": [
    "class Doc:\n",
    "\n",
    "    def __init__(self, string):\n",
    "        self.string = string\n",
    "\n",
    "    def __repr__(self):\n",
    "        return f\"Doc(string='{self.string}')\"\n",
    "\n",
    "Doc.__dict__"
   ]
  },
  {
   "cell_type": "code",
   "execution_count": 144,
   "id": "33dad611-a24c-4ce5-b6fd-b23670f7cc8c",
   "metadata": {},
   "outputs": [],
   "source": [
    "doc1 = Doc('Object')\n",
    "doc2 = Doc('Oriented')\n",
    "doc3 = Doc('Programming')"
   ]
  },
  {
   "cell_type": "code",
   "execution_count": 145,
   "id": "5db5f1b2-1a57-4425-a43d-8dac67cf19f1",
   "metadata": {},
   "outputs": [
    {
     "data": {
      "text/plain": [
       "Doc(string='Object')"
      ]
     },
     "execution_count": 145,
     "metadata": {},
     "output_type": "execute_result"
    }
   ],
   "source": [
    "doc1"
   ]
  },
  {
   "cell_type": "code",
   "execution_count": 146,
   "id": "ce7317b4-28d9-476e-9746-5f8fef862342",
   "metadata": {},
   "outputs": [
    {
     "data": {
      "text/plain": [
       "mappingproxy({'__module__': '__main__',\n",
       "              '__init__': <function __main__.Doc.__init__(self, string)>,\n",
       "              '__repr__': <function __main__.Doc.__repr__(self)>,\n",
       "              '__str__': <function __main__.Doc.__str__(self)>,\n",
       "              '__dict__': <attribute '__dict__' of 'Doc' objects>,\n",
       "              '__weakref__': <attribute '__weakref__' of 'Doc' objects>,\n",
       "              '__doc__': None})"
      ]
     },
     "execution_count": 146,
     "metadata": {},
     "output_type": "execute_result"
    }
   ],
   "source": [
    "class Doc:\n",
    "\n",
    "    def __init__(self, string):\n",
    "        self.string = string\n",
    "\n",
    "    def __repr__(self):\n",
    "        return f\"Doc(string='{self.string}')\"\n",
    "\n",
    "    def __str__(self):\n",
    "        return f'{self.string}'\n",
    "\n",
    "Doc.__dict__"
   ]
  },
  {
   "cell_type": "code",
   "execution_count": 147,
   "id": "b2521431-15f2-44f1-9f62-78d2b307bb2a",
   "metadata": {},
   "outputs": [],
   "source": [
    "doc1 = Doc('Object')\n",
    "doc2 = Doc('Oriented')\n",
    "doc3 = Doc('Programming')"
   ]
  },
  {
   "cell_type": "code",
   "execution_count": 148,
   "id": "2cc571a2-0d00-476d-8af6-78ea1563f87d",
   "metadata": {},
   "outputs": [
    {
     "data": {
      "text/plain": [
       "Doc(string='Object')"
      ]
     },
     "execution_count": 148,
     "metadata": {},
     "output_type": "execute_result"
    }
   ],
   "source": [
    "doc1"
   ]
  },
  {
   "cell_type": "code",
   "execution_count": 149,
   "id": "ab38b011-17a4-4423-8c3a-5c05b97128bd",
   "metadata": {},
   "outputs": [
    {
     "name": "stdout",
     "output_type": "stream",
     "text": [
      "Object\n"
     ]
    }
   ],
   "source": [
    "print(doc1)"
   ]
  },
  {
   "cell_type": "code",
   "execution_count": 150,
   "id": "11701626-d6d4-4282-b297-8efcda6b6d47",
   "metadata": {},
   "outputs": [
    {
     "name": "stdout",
     "output_type": "stream",
     "text": [
      "Programming\n"
     ]
    }
   ],
   "source": [
    "print(doc3)"
   ]
  },
  {
   "cell_type": "code",
   "execution_count": 151,
   "id": "c24f5f7f-1bd3-4d95-9d5c-a61454f19658",
   "metadata": {},
   "outputs": [
    {
     "data": {
      "text/plain": [
       "mappingproxy({'__module__': '__main__',\n",
       "              '__init__': <function __main__.Doc.__init__(self, string)>,\n",
       "              '__repr__': <function __main__.Doc.__repr__(self)>,\n",
       "              '__str__': <function __main__.Doc.__str__(self)>,\n",
       "              '__add__': <function __main__.Doc.__add__(self, other)>,\n",
       "              '__dict__': <attribute '__dict__' of 'Doc' objects>,\n",
       "              '__weakref__': <attribute '__weakref__' of 'Doc' objects>,\n",
       "              '__doc__': None})"
      ]
     },
     "execution_count": 151,
     "metadata": {},
     "output_type": "execute_result"
    }
   ],
   "source": [
    "class Doc:\n",
    "\n",
    "    def __init__(self, string):\n",
    "        self.string = string\n",
    "\n",
    "    def __repr__(self):\n",
    "        return f\"Doc(string='{self.string}')\"\n",
    "\n",
    "    def __str__(self):\n",
    "        return f'{self.string}'\n",
    "\n",
    "    def __add__(self, other):\n",
    "        if not isinstance(other, Doc):\n",
    "            return NotImplemented\n",
    "        return Doc(self.string + ' ' + other.string)\n",
    "\n",
    "Doc.__dict__"
   ]
  },
  {
   "cell_type": "code",
   "execution_count": 152,
   "id": "eea1f4b6-7d75-4f46-b2f5-dbc5d646cbec",
   "metadata": {},
   "outputs": [],
   "source": [
    "doc1 = Doc('Object')\n",
    "doc2 = Doc('Oriented')\n",
    "doc3 = Doc('Programming')"
   ]
  },
  {
   "cell_type": "code",
   "execution_count": 153,
   "id": "d55813e9-a4a5-4490-831b-c9f4a2f40740",
   "metadata": {},
   "outputs": [
    {
     "data": {
      "text/plain": [
       "Doc(string='Object Oriented')"
      ]
     },
     "execution_count": 153,
     "metadata": {},
     "output_type": "execute_result"
    }
   ],
   "source": [
    "doc1 + doc2"
   ]
  },
  {
   "cell_type": "code",
   "execution_count": 154,
   "id": "2b3d6b29-c210-4eba-b3f0-2bc6ec0651ea",
   "metadata": {},
   "outputs": [
    {
     "name": "stdout",
     "output_type": "stream",
     "text": [
      "Object Oriented\n"
     ]
    }
   ],
   "source": [
    "print(doc1 + doc2)"
   ]
  },
  {
   "cell_type": "code",
   "execution_count": 155,
   "id": "92b11c68-8e31-45e6-b0a4-7bd749b04f8f",
   "metadata": {},
   "outputs": [
    {
     "name": "stdout",
     "output_type": "stream",
     "text": [
      "Object Oriented Programming\n"
     ]
    }
   ],
   "source": [
    "print(doc1 + doc2 + doc3)"
   ]
  }
 ],
 "metadata": {
  "kernelspec": {
   "display_name": "Python 3 (ipykernel)",
   "language": "python",
   "name": "python3"
  },
  "language_info": {
   "codemirror_mode": {
    "name": "ipython",
    "version": 3
   },
   "file_extension": ".py",
   "mimetype": "text/x-python",
   "name": "python",
   "nbconvert_exporter": "python",
   "pygments_lexer": "ipython3",
   "version": "3.9.7"
  }
 },
 "nbformat": 4,
 "nbformat_minor": 5
}
