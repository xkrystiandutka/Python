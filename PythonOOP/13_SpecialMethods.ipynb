{
 "cells": [
  {
   "cell_type": "markdown",
   "id": "bf4a0bb0-adfe-4451-9266-2be432267ef7",
   "metadata": {},
   "source": [
    "# Special Methods\n",
    "* `__new__`\n",
    "* `__init__`\n",
    "* `__del__`\n",
    "* `__str__`\n",
    "* `__repr__`\n",
    "* `__len__`\n",
    "* `__bool__`\n"
   ]
  },
  {
   "cell_type": "markdown",
   "id": "d173882e-63a4-461a-bd60-eb16a5a1b868",
   "metadata": {},
   "source": [
    "## `__new__()` + `__init__()`"
   ]
  },
  {
   "cell_type": "code",
   "execution_count": 1,
   "id": "42e73fc7-ecbc-45a6-a03a-94dbcf41dee3",
   "metadata": {},
   "outputs": [
    {
     "data": {
      "text/plain": [
       "['__class__',\n",
       " '__delattr__',\n",
       " '__dir__',\n",
       " '__doc__',\n",
       " '__eq__',\n",
       " '__format__',\n",
       " '__ge__',\n",
       " '__getattribute__',\n",
       " '__gt__',\n",
       " '__hash__',\n",
       " '__init__',\n",
       " '__init_subclass__',\n",
       " '__le__',\n",
       " '__lt__',\n",
       " '__ne__',\n",
       " '__new__',\n",
       " '__reduce__',\n",
       " '__reduce_ex__',\n",
       " '__repr__',\n",
       " '__setattr__',\n",
       " '__sizeof__',\n",
       " '__str__',\n",
       " '__subclasshook__']"
      ]
     },
     "execution_count": 1,
     "metadata": {},
     "output_type": "execute_result"
    }
   ],
   "source": [
    "dir(object)"
   ]
  },
  {
   "cell_type": "code",
   "execution_count": 2,
   "id": "de12c557-a000-4071-8d2e-37454bea83b1",
   "metadata": {},
   "outputs": [
    {
     "name": "stdout",
     "output_type": "stream",
     "text": [
      "Help on built-in function __new__:\n",
      "\n",
      "__new__(*args, **kwargs) method of builtins.type instance\n",
      "    Create and return a new object.  See help(type) for accurate signature.\n",
      "\n"
     ]
    }
   ],
   "source": [
    "help(object.__new__)"
   ]
  },
  {
   "cell_type": "code",
   "execution_count": 3,
   "id": "669fec0a-ec27-44ec-86bd-c7d0bad2c3f7",
   "metadata": {},
   "outputs": [
    {
     "name": "stdout",
     "output_type": "stream",
     "text": [
      "Help on wrapper_descriptor:\n",
      "\n",
      "__init__(self, /, *args, **kwargs)\n",
      "    Initialize self.  See help(type(self)) for accurate signature.\n",
      "\n"
     ]
    }
   ],
   "source": [
    "help(object.__init__)"
   ]
  },
  {
   "cell_type": "code",
   "execution_count": 4,
   "id": "55accb0a-93b9-4cf1-84f2-bb62305f08ea",
   "metadata": {},
   "outputs": [
    {
     "data": {
      "text/plain": [
       "{'name': 'Microsoft'}"
      ]
     },
     "execution_count": 4,
     "metadata": {},
     "output_type": "execute_result"
    }
   ],
   "source": [
    "class Company:\n",
    "    \"\"\"The Company class docs.\"\"\"\n",
    "\n",
    "    def __init__(self, name):\n",
    "        self.name = name\n",
    "\n",
    "company = Company('Microsoft')\n",
    "company.__dict__"
   ]
  },
  {
   "cell_type": "code",
   "execution_count": 5,
   "id": "db1231d2-48e0-454f-8034-8bf6d0dfcdf1",
   "metadata": {},
   "outputs": [],
   "source": [
    "company2 = Company.__new__(Company)"
   ]
  },
  {
   "cell_type": "code",
   "execution_count": 6,
   "id": "6f9ca22d-a9cf-4e5f-ae28-cebaf6500de2",
   "metadata": {},
   "outputs": [
    {
     "data": {
      "text/plain": [
       "<__main__.Company at 0x177d53a7280>"
      ]
     },
     "execution_count": 6,
     "metadata": {},
     "output_type": "execute_result"
    }
   ],
   "source": [
    "company2"
   ]
  },
  {
   "cell_type": "code",
   "execution_count": 7,
   "id": "8f42150d-e3c0-499d-8447-2e30b0e753aa",
   "metadata": {},
   "outputs": [],
   "source": [
    "company2.__init__('Microsoft')"
   ]
  },
  {
   "cell_type": "code",
   "execution_count": 9,
   "id": "cfce2956-2348-488c-b435-d1c5d6307a2e",
   "metadata": {},
   "outputs": [
    {
     "data": {
      "text/plain": [
       "{'name': 'Microsoft'}"
      ]
     },
     "execution_count": 9,
     "metadata": {},
     "output_type": "execute_result"
    }
   ],
   "source": [
    "company2.__dict__"
   ]
  },
  {
   "cell_type": "markdown",
   "id": "41c139e2-1950-4f5d-83f9-2dbc6decd233",
   "metadata": {},
   "source": [
    "## Example"
   ]
  },
  {
   "cell_type": "code",
   "execution_count": 11,
   "id": "4c3d6544-34a2-4b00-9e2f-437aa29f3ec4",
   "metadata": {},
   "outputs": [],
   "source": [
    "class Student:\n",
    "\n",
    "    students = []\n",
    "    limit = 3\n",
    "\n",
    "    def __new__(cls):\n",
    "        if len(cls.students) >= cls.limit:\n",
    "            raise RuntimeError(f'Instance limit reached: {cls.limit}')\n",
    "        instance = object.__new__(cls)\n",
    "        cls.students.append(instance)\n",
    "        return instance"
   ]
  },
  {
   "cell_type": "code",
   "execution_count": 12,
   "id": "6742d43b-f47f-44f6-a214-8e8b7b7aec45",
   "metadata": {},
   "outputs": [],
   "source": [
    "s1 = Student()\n",
    "s2 = Student()\n",
    "s3 = Student()"
   ]
  },
  {
   "cell_type": "code",
   "execution_count": 13,
   "id": "e64cc615-2cb8-4ccf-85ab-38598877a09f",
   "metadata": {},
   "outputs": [
    {
     "data": {
      "text/plain": [
       "mappingproxy({'__module__': '__main__',\n",
       "              'students': [<__main__.Student at 0x177d53a7400>,\n",
       "               <__main__.Student at 0x177d53a1130>,\n",
       "               <__main__.Student at 0x177d53a72e0>],\n",
       "              'limit': 3,\n",
       "              '__new__': <staticmethod at 0x177d53a78b0>,\n",
       "              '__dict__': <attribute '__dict__' of 'Student' objects>,\n",
       "              '__weakref__': <attribute '__weakref__' of 'Student' objects>,\n",
       "              '__doc__': None})"
      ]
     },
     "execution_count": 13,
     "metadata": {},
     "output_type": "execute_result"
    }
   ],
   "source": [
    "Student.__dict__"
   ]
  },
  {
   "cell_type": "code",
   "execution_count": 14,
   "id": "cc2ef3df-e3a4-4228-874c-964b80747706",
   "metadata": {},
   "outputs": [
    {
     "data": {
      "text/plain": [
       "[<__main__.Student at 0x177d53a7400>,\n",
       " <__main__.Student at 0x177d53a1130>,\n",
       " <__main__.Student at 0x177d53a72e0>]"
      ]
     },
     "execution_count": 14,
     "metadata": {},
     "output_type": "execute_result"
    }
   ],
   "source": [
    "Student.students"
   ]
  },
  {
   "cell_type": "code",
   "execution_count": 17,
   "id": "8a288695-3f65-4f9e-8181-7ac417fe11cb",
   "metadata": {},
   "outputs": [],
   "source": [
    "#s4 = Student()\n",
    "#RuntimeError: Instance limit reached: 3"
   ]
  },
  {
   "cell_type": "code",
   "execution_count": null,
   "id": "2a72239b-9ee5-4546-b258-ab2d6bde23c6",
   "metadata": {},
   "outputs": [],
   "source": []
  }
 ],
 "metadata": {
  "kernelspec": {
   "display_name": "Python 3 (ipykernel)",
   "language": "python",
   "name": "python3"
  },
  "language_info": {
   "codemirror_mode": {
    "name": "ipython",
    "version": 3
   },
   "file_extension": ".py",
   "mimetype": "text/x-python",
   "name": "python",
   "nbconvert_exporter": "python",
   "pygments_lexer": "ipython3",
   "version": "3.9.7"
  }
 },
 "nbformat": 4,
 "nbformat_minor": 5
}
