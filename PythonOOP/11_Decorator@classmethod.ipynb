{
 "cells": [
  {
   "cell_type": "markdown",
   "id": "653433d6-9f17-4834-b0a9-7a17fbeb5abb",
   "metadata": {},
   "source": [
    "# Class method & decorator `@classmethod`."
   ]
  },
  {
   "cell_type": "code",
   "execution_count": 10,
   "id": "4f5ff1f1-e780-47f9-bcc1-85fe1febb856",
   "metadata": {},
   "outputs": [
    {
     "data": {
      "text/plain": [
       "mappingproxy({'__module__': '__main__',\n",
       "              'show': <function __main__.Phone.show()>,\n",
       "              '__dict__': <attribute '__dict__' of 'Phone' objects>,\n",
       "              '__weakref__': <attribute '__weakref__' of 'Phone' objects>,\n",
       "              '__doc__': None})"
      ]
     },
     "execution_count": 10,
     "metadata": {},
     "output_type": "execute_result"
    }
   ],
   "source": [
    "class Phone:\n",
    "\n",
    "    def show():\n",
    "        print('Running...')\n",
    "\n",
    "Phone.__dict__"
   ]
  },
  {
   "cell_type": "code",
   "execution_count": 11,
   "id": "70a7fff8-f0d1-42d8-a65b-60e03f3a9220",
   "metadata": {},
   "outputs": [
    {
     "data": {
      "text/plain": [
       "<function __main__.Phone.show()>"
      ]
     },
     "execution_count": 11,
     "metadata": {},
     "output_type": "execute_result"
    }
   ],
   "source": [
    "Phone.show"
   ]
  },
  {
   "cell_type": "code",
   "execution_count": 12,
   "id": "33d0a8f2-cb73-477e-89a8-e887af3738b0",
   "metadata": {},
   "outputs": [
    {
     "name": "stdout",
     "output_type": "stream",
     "text": [
      "Running...\n"
     ]
    }
   ],
   "source": [
    "Phone.show()"
   ]
  },
  {
   "cell_type": "code",
   "execution_count": 27,
   "id": "4c53cd81-66f0-4897-9542-05af85676a00",
   "metadata": {},
   "outputs": [],
   "source": [
    "#phone = Phone()\n",
    "#phone.show()\n",
    "#TypeError: show() takes 0 positional arguments but 1 was given"
   ]
  },
  {
   "cell_type": "code",
   "execution_count": 14,
   "id": "fe7afdc5-2dd0-4471-8821-5152e5e5a355",
   "metadata": {},
   "outputs": [
    {
     "data": {
      "text/plain": [
       "<bound method Phone.show of <__main__.Phone object at 0x00000186EE2B2130>>"
      ]
     },
     "execution_count": 14,
     "metadata": {},
     "output_type": "execute_result"
    }
   ],
   "source": [
    "phone.show"
   ]
  },
  {
   "cell_type": "code",
   "execution_count": 15,
   "id": "0a9f3b82-ac7b-4775-97b2-a780fa26f726",
   "metadata": {},
   "outputs": [],
   "source": [
    "class Phone:\n",
    "\n",
    "    def show(self):\n",
    "        print(f'Running...{self}')\n",
    "\n",
    "phone = Phone"
   ]
  },
  {
   "cell_type": "code",
   "execution_count": 16,
   "id": "92bebc68-1a5a-4194-91ac-1d83284143fc",
   "metadata": {},
   "outputs": [
    {
     "data": {
      "text/plain": [
       "<function __main__.Phone.show(self)>"
      ]
     },
     "execution_count": 16,
     "metadata": {},
     "output_type": "execute_result"
    }
   ],
   "source": [
    "phone.show"
   ]
  },
  {
   "cell_type": "code",
   "execution_count": 28,
   "id": "89a3eb00-a197-4f4b-aefc-0ca1506809f4",
   "metadata": {},
   "outputs": [],
   "source": [
    "#phone.show()\n",
    "#TypeError: show() missing 1 required positional argument: 'self'"
   ]
  },
  {
   "cell_type": "code",
   "execution_count": 9,
   "id": "0b16111c-bc51-4168-99ff-c6b624989a53",
   "metadata": {},
   "outputs": [
    {
     "name": "stdout",
     "output_type": "stream",
     "text": [
      "Running...<class '__main__.Phone'>\n"
     ]
    }
   ],
   "source": [
    "Phone.show(phone)"
   ]
  },
  {
   "cell_type": "code",
   "execution_count": 18,
   "id": "2c20abc6-3fed-46f7-b567-fadb7adbd2dc",
   "metadata": {},
   "outputs": [
    {
     "name": "stdout",
     "output_type": "stream",
     "text": [
      "Help on class classmethod in module builtins:\n",
      "\n",
      "class classmethod(object)\n",
      " |  classmethod(function) -> method\n",
      " |  \n",
      " |  Convert a function to be a class method.\n",
      " |  \n",
      " |  A class method receives the class as implicit first argument,\n",
      " |  just like an instance method receives the instance.\n",
      " |  To declare a class method, use this idiom:\n",
      " |  \n",
      " |    class C:\n",
      " |        @classmethod\n",
      " |        def f(cls, arg1, arg2, ...):\n",
      " |            ...\n",
      " |  \n",
      " |  It can be called either on the class (e.g. C.f()) or on an instance\n",
      " |  (e.g. C().f()).  The instance is ignored except for its class.\n",
      " |  If a class method is called for a derived class, the derived class\n",
      " |  object is passed as the implied first argument.\n",
      " |  \n",
      " |  Class methods are different than C++ or Java static methods.\n",
      " |  If you want those, see the staticmethod builtin.\n",
      " |  \n",
      " |  Methods defined here:\n",
      " |  \n",
      " |  __get__(self, instance, owner, /)\n",
      " |      Return an attribute of instance, which is of type owner.\n",
      " |  \n",
      " |  __init__(self, /, *args, **kwargs)\n",
      " |      Initialize self.  See help(type(self)) for accurate signature.\n",
      " |  \n",
      " |  ----------------------------------------------------------------------\n",
      " |  Static methods defined here:\n",
      " |  \n",
      " |  __new__(*args, **kwargs) from builtins.type\n",
      " |      Create and return a new object.  See help(type) for accurate signature.\n",
      " |  \n",
      " |  ----------------------------------------------------------------------\n",
      " |  Data descriptors defined here:\n",
      " |  \n",
      " |  __dict__\n",
      " |  \n",
      " |  __func__\n",
      " |  \n",
      " |  __isabstractmethod__\n",
      "\n"
     ]
    }
   ],
   "source": [
    "help(classmethod)"
   ]
  },
  {
   "cell_type": "code",
   "execution_count": 19,
   "id": "dcce6556-50c6-4d13-a61c-a8bb6386808e",
   "metadata": {},
   "outputs": [
    {
     "data": {
      "text/plain": [
       "mappingproxy({'__module__': '__main__',\n",
       "              'show': <classmethod at 0x186ef399220>,\n",
       "              '__dict__': <attribute '__dict__' of 'Phone' objects>,\n",
       "              '__weakref__': <attribute '__weakref__' of 'Phone' objects>,\n",
       "              '__doc__': None})"
      ]
     },
     "execution_count": 19,
     "metadata": {},
     "output_type": "execute_result"
    }
   ],
   "source": [
    "class Phone:\n",
    "\n",
    "    def show(cls):\n",
    "        print(f'Running...{cls}')\n",
    "\n",
    "    show = classmethod(show)\n",
    "\n",
    "Phone.__dict__"
   ]
  },
  {
   "cell_type": "code",
   "execution_count": 20,
   "id": "e90c9134-0a8f-4b50-a703-8901005351fc",
   "metadata": {},
   "outputs": [
    {
     "data": {
      "text/plain": [
       "<bound method Phone.show of <class '__main__.Phone'>>"
      ]
     },
     "execution_count": 20,
     "metadata": {},
     "output_type": "execute_result"
    }
   ],
   "source": [
    "Phone.show"
   ]
  },
  {
   "cell_type": "code",
   "execution_count": 21,
   "id": "0d6bb86c-a066-4785-9cef-c817af9af853",
   "metadata": {},
   "outputs": [
    {
     "name": "stdout",
     "output_type": "stream",
     "text": [
      "Running...<class '__main__.Phone'>\n"
     ]
    }
   ],
   "source": [
    "Phone.show()"
   ]
  },
  {
   "cell_type": "code",
   "execution_count": 22,
   "id": "2276c63c-2ec9-4dd8-a406-d6472a0d6ed4",
   "metadata": {},
   "outputs": [
    {
     "name": "stdout",
     "output_type": "stream",
     "text": [
      "Running...<class '__main__.Phone'>\n"
     ]
    }
   ],
   "source": [
    "phone = Phone()\n",
    "phone.show()"
   ]
  },
  {
   "cell_type": "code",
   "execution_count": 23,
   "id": "cc678aa6-d3aa-4190-97ba-5c90501f1980",
   "metadata": {},
   "outputs": [
    {
     "data": {
      "text/plain": [
       "<bound method Phone.show of <class '__main__.Phone'>>"
      ]
     },
     "execution_count": 23,
     "metadata": {},
     "output_type": "execute_result"
    }
   ],
   "source": [
    "phone.show"
   ]
  },
  {
   "cell_type": "code",
   "execution_count": 24,
   "id": "64b80128-384b-444e-99a9-1911d36dce89",
   "metadata": {},
   "outputs": [
    {
     "data": {
      "text/plain": [
       "mappingproxy({'__module__': '__main__',\n",
       "              'show': <classmethod at 0x186ef3999a0>,\n",
       "              '__dict__': <attribute '__dict__' of 'Phone' objects>,\n",
       "              '__weakref__': <attribute '__weakref__' of 'Phone' objects>,\n",
       "              '__doc__': None})"
      ]
     },
     "execution_count": 24,
     "metadata": {},
     "output_type": "execute_result"
    }
   ],
   "source": [
    "class Phone:\n",
    "\n",
    "    @classmethod\n",
    "    def show(cls):\n",
    "        print(f'Running...{cls}')\n",
    "\n",
    "Phone.__dict__"
   ]
  },
  {
   "cell_type": "code",
   "execution_count": 25,
   "id": "12b0a382-d1e8-48e8-bb1e-5b8dfe652342",
   "metadata": {},
   "outputs": [
    {
     "name": "stdout",
     "output_type": "stream",
     "text": [
      "Running...<class '__main__.Phone'>\n"
     ]
    }
   ],
   "source": [
    "Phone.show()"
   ]
  },
  {
   "cell_type": "code",
   "execution_count": 26,
   "id": "3abd4c52-2811-4299-b58f-971ae03e02b1",
   "metadata": {},
   "outputs": [
    {
     "name": "stdout",
     "output_type": "stream",
     "text": [
      "Running...<class '__main__.Phone'>\n"
     ]
    }
   ],
   "source": [
    "phone = Phone()\n",
    "phone.show()"
   ]
  },
  {
   "cell_type": "markdown",
   "id": "f8c4cb0e-598b-402c-bbd0-c17a87ab54a6",
   "metadata": {},
   "source": [
    "## Compare class method vs. instance method"
   ]
  },
  {
   "cell_type": "code",
   "execution_count": 38,
   "id": "a29a4470-8a53-46c1-8c90-8f25cb27b216",
   "metadata": {},
   "outputs": [
    {
     "data": {
      "text/plain": [
       "mappingproxy({'__module__': '__main__',\n",
       "              'show': <classmethod at 0x186ef3996a0>,\n",
       "              'describe': <function __main__.Phone.describe(self)>,\n",
       "              '__dict__': <attribute '__dict__' of 'Phone' objects>,\n",
       "              '__weakref__': <attribute '__weakref__' of 'Phone' objects>,\n",
       "              '__doc__': None})"
      ]
     },
     "execution_count": 38,
     "metadata": {},
     "output_type": "execute_result"
    }
   ],
   "source": [
    "class Phone:\n",
    "\n",
    "    @classmethod\n",
    "    def show(cls):\n",
    "        print(f'Running...{cls}')\n",
    "\n",
    "    def describe(self):\n",
    "        print(f'Describing... {self}')\n",
    "\n",
    "Phone.__dict__"
   ]
  },
  {
   "cell_type": "code",
   "execution_count": 30,
   "id": "df99de27-b7c4-42f6-ae33-d9c195a308bb",
   "metadata": {},
   "outputs": [
    {
     "data": {
      "text/plain": [
       "<bound method Phone.show of <class '__main__.Phone'>>"
      ]
     },
     "execution_count": 30,
     "metadata": {},
     "output_type": "execute_result"
    }
   ],
   "source": [
    "Phone.show"
   ]
  },
  {
   "cell_type": "code",
   "execution_count": 31,
   "id": "c8ba2d4f-e735-43e9-97f1-d20ba2a3cdd0",
   "metadata": {},
   "outputs": [
    {
     "name": "stdout",
     "output_type": "stream",
     "text": [
      "Running...<class '__main__.Phone'>\n"
     ]
    }
   ],
   "source": [
    "Phone.show()"
   ]
  },
  {
   "cell_type": "code",
   "execution_count": 32,
   "id": "057b69f5-0deb-45de-8be9-35c3dbb2efc5",
   "metadata": {},
   "outputs": [
    {
     "data": {
      "text/plain": [
       "<function __main__.Phone.describe(self)>"
      ]
     },
     "execution_count": 32,
     "metadata": {},
     "output_type": "execute_result"
    }
   ],
   "source": [
    "Phone.describe"
   ]
  },
  {
   "cell_type": "code",
   "execution_count": 34,
   "id": "3b008251-4298-4121-843f-3dc36afbc046",
   "metadata": {},
   "outputs": [],
   "source": [
    "#Phone.describe()\n",
    "#TypeError: describe() missing 1 required positional argument: 'self'"
   ]
  },
  {
   "cell_type": "code",
   "execution_count": 35,
   "id": "14f678ea-7b1f-433d-8c6b-5062fcd952f7",
   "metadata": {},
   "outputs": [
    {
     "name": "stdout",
     "output_type": "stream",
     "text": [
      "Describing... <__main__.Phone object at 0x00000186EF399CD0>\n"
     ]
    }
   ],
   "source": [
    "phone = Phone()\n",
    "Phone.describe(phone)"
   ]
  },
  {
   "cell_type": "code",
   "execution_count": 36,
   "id": "ea9f6d08-2899-4b3f-a6c1-a9772e6dfbf1",
   "metadata": {},
   "outputs": [
    {
     "name": "stdout",
     "output_type": "stream",
     "text": [
      "Running...<class '__main__.Phone'>\n"
     ]
    }
   ],
   "source": [
    "phone.show()"
   ]
  },
  {
   "cell_type": "code",
   "execution_count": 37,
   "id": "57d175ea-f7f4-469a-8bdb-8e4921c529ff",
   "metadata": {},
   "outputs": [
    {
     "name": "stdout",
     "output_type": "stream",
     "text": [
      "Describing... <__main__.Phone object at 0x00000186EF399CD0>\n"
     ]
    }
   ],
   "source": [
    "phone.describe()"
   ]
  },
  {
   "cell_type": "code",
   "execution_count": null,
   "id": "11c0e7a2-a9af-4607-a71e-70b6a17f4342",
   "metadata": {},
   "outputs": [],
   "source": []
  }
 ],
 "metadata": {
  "kernelspec": {
   "display_name": "Python 3 (ipykernel)",
   "language": "python",
   "name": "python3"
  },
  "language_info": {
   "codemirror_mode": {
    "name": "ipython",
    "version": 3
   },
   "file_extension": ".py",
   "mimetype": "text/x-python",
   "name": "python",
   "nbconvert_exporter": "python",
   "pygments_lexer": "ipython3",
   "version": "3.9.7"
  }
 },
 "nbformat": 4,
 "nbformat_minor": 5
}
