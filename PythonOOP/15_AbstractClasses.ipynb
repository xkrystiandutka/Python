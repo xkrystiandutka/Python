{
 "cells": [
  {
   "cell_type": "markdown",
   "id": "bb530bc0-ce29-428a-b10c-32527e856069",
   "metadata": {},
   "source": [
    "# Abstract classes"
   ]
  },
  {
   "cell_type": "code",
   "execution_count": 1,
   "id": "66f8d4cd-aa9a-478c-a3d6-76f872d1c084",
   "metadata": {},
   "outputs": [
    {
     "name": "stdout",
     "output_type": "stream",
     "text": [
      "Help on class ABC in module abc:\n",
      "\n",
      "class ABC(builtins.object)\n",
      " |  Helper class that provides a standard way to create an ABC using\n",
      " |  inheritance.\n",
      " |  \n",
      " |  Data and other attributes defined here:\n",
      " |  \n",
      " |  __abstractmethods__ = frozenset()\n",
      "\n"
     ]
    }
   ],
   "source": [
    "import abc\n",
    "help(abc.ABC)"
   ]
  },
  {
   "cell_type": "code",
   "execution_count": 2,
   "id": "b1261851-7d69-43e9-aafb-c3edec3d2ad9",
   "metadata": {},
   "outputs": [
    {
     "name": "stdout",
     "output_type": "stream",
     "text": [
      "Help on function abstractmethod in module abc:\n",
      "\n",
      "abstractmethod(funcobj)\n",
      "    A decorator indicating abstract methods.\n",
      "    \n",
      "    Requires that the metaclass is ABCMeta or derived from it.  A\n",
      "    class that has a metaclass derived from ABCMeta cannot be\n",
      "    instantiated unless all of its abstract methods are overridden.\n",
      "    The abstract methods can be called using any of the normal\n",
      "    'super' call mechanisms.  abstractmethod() may be used to declare\n",
      "    abstract methods for properties and descriptors.\n",
      "    \n",
      "    Usage:\n",
      "    \n",
      "        class C(metaclass=ABCMeta):\n",
      "            @abstractmethod\n",
      "            def my_abstract_method(self, ...):\n",
      "                ...\n",
      "\n"
     ]
    }
   ],
   "source": [
    "help(abc.abstractmethod)"
   ]
  },
  {
   "cell_type": "code",
   "execution_count": 5,
   "id": "f62e0421-cc3f-45b8-8ae8-8d4e86b7e01a",
   "metadata": {},
   "outputs": [
    {
     "name": "stdout",
     "output_type": "stream",
     "text": [
      "Side length: 1\n",
      "Area: 1\n",
      "\n",
      "Side length: 5\n",
      "Area: 25\n",
      "\n",
      "Side length: 10\n",
      "Area: 100\n",
      "\n"
     ]
    }
   ],
   "source": [
    "from abc import ABC, abstractmethod\n",
    "\n",
    "class Figure(ABC):\n",
    "    \n",
    "    @abstractmethod\n",
    "    def area(self):\n",
    "        pass\n",
    "    \n",
    "class Square(Figure):\n",
    "    \n",
    "    def __init__(self, a=1):\n",
    "        self.a = a\n",
    "        \n",
    "    def area(self):\n",
    "        return self.a * self.a\n",
    "       \n",
    "figures = [Square(), Square(5), Square(10)]\n",
    "\n",
    "for figure in figures:\n",
    "    print(f'Side length: {figure.a}')\n",
    "    print(f'Area: {figure.area()}\\n')"
   ]
  },
  {
   "cell_type": "code",
   "execution_count": 7,
   "id": "b5d102ec-0832-41cd-9ef2-017985772e77",
   "metadata": {},
   "outputs": [],
   "source": [
    "#f = Figure()\n",
    "#TypeError: Can't instantiate abstract class Figure with abstract method area"
   ]
  },
  {
   "cell_type": "code",
   "execution_count": null,
   "id": "448fd722-80f6-406d-a735-4a0c6b8b04a2",
   "metadata": {},
   "outputs": [],
   "source": []
  }
 ],
 "metadata": {
  "kernelspec": {
   "display_name": "Python 3 (ipykernel)",
   "language": "python",
   "name": "python3"
  },
  "language_info": {
   "codemirror_mode": {
    "name": "ipython",
    "version": 3
   },
   "file_extension": ".py",
   "mimetype": "text/x-python",
   "name": "python",
   "nbconvert_exporter": "python",
   "pygments_lexer": "ipython3",
   "version": "3.9.7"
  }
 },
 "nbformat": 4,
 "nbformat_minor": 5
}
