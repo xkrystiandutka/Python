{
 "cells": [
  {
   "cell_type": "markdown",
   "id": "bb530bc0-ce29-428a-b10c-32527e856069",
   "metadata": {},
   "source": [
    "# Abstract classes"
   ]
  },
  {
   "cell_type": "code",
   "execution_count": 1,
   "id": "66f8d4cd-aa9a-478c-a3d6-76f872d1c084",
   "metadata": {},
   "outputs": [
    {
     "name": "stdout",
     "output_type": "stream",
     "text": [
      "Help on class ABC in module abc:\n",
      "\n",
      "class ABC(builtins.object)\n",
      " |  Helper class that provides a standard way to create an ABC using\n",
      " |  inheritance.\n",
      " |  \n",
      " |  Data and other attributes defined here:\n",
      " |  \n",
      " |  __abstractmethods__ = frozenset()\n",
      "\n"
     ]
    }
   ],
   "source": [
    "import abc\n",
    "help(abc.ABC)"
   ]
  },
  {
   "cell_type": "code",
   "execution_count": 2,
   "id": "b1261851-7d69-43e9-aafb-c3edec3d2ad9",
   "metadata": {},
   "outputs": [
    {
     "name": "stdout",
     "output_type": "stream",
     "text": [
      "Help on function abstractmethod in module abc:\n",
      "\n",
      "abstractmethod(funcobj)\n",
      "    A decorator indicating abstract methods.\n",
      "    \n",
      "    Requires that the metaclass is ABCMeta or derived from it.  A\n",
      "    class that has a metaclass derived from ABCMeta cannot be\n",
      "    instantiated unless all of its abstract methods are overridden.\n",
      "    The abstract methods can be called using any of the normal\n",
      "    'super' call mechanisms.  abstractmethod() may be used to declare\n",
      "    abstract methods for properties and descriptors.\n",
      "    \n",
      "    Usage:\n",
      "    \n",
      "        class C(metaclass=ABCMeta):\n",
      "            @abstractmethod\n",
      "            def my_abstract_method(self, ...):\n",
      "                ...\n",
      "\n"
     ]
    }
   ],
   "source": [
    "help(abc.abstractmethod)"
   ]
  },
  {
   "cell_type": "code",
   "execution_count": 5,
   "id": "f62e0421-cc3f-45b8-8ae8-8d4e86b7e01a",
   "metadata": {},
   "outputs": [
    {
     "name": "stdout",
     "output_type": "stream",
     "text": [
      "Side length: 1\n",
      "Area: 1\n",
      "\n",
      "Side length: 5\n",
      "Area: 25\n",
      "\n",
      "Side length: 10\n",
      "Area: 100\n",
      "\n"
     ]
    }
   ],
   "source": [
    "from abc import ABC, abstractmethod\n",
    "\n",
    "class Figure(ABC):\n",
    "    \n",
    "    @abstractmethod\n",
    "    def area(self):\n",
    "        pass\n",
    "    \n",
    "class Square(Figure):\n",
    "    \n",
    "    def __init__(self, a=1):\n",
    "        self.a = a\n",
    "        \n",
    "    def area(self):\n",
    "        return self.a * self.a\n",
    "       \n",
    "figures = [Square(), Square(5), Square(10)]\n",
    "\n",
    "for figure in figures:\n",
    "    print(f'Side length: {figure.a}')\n",
    "    print(f'Area: {figure.area()}\\n')"
   ]
  },
  {
   "cell_type": "code",
   "execution_count": 7,
   "id": "b5d102ec-0832-41cd-9ef2-017985772e77",
   "metadata": {},
   "outputs": [],
   "source": [
    "#f = Figure()\n",
    "#TypeError: Can't instantiate abstract class Figure with abstract method area"
   ]
  },
  {
   "cell_type": "markdown",
   "id": "0a40b476-1bd2-4f44-ad53-f34c30c75807",
   "metadata": {},
   "source": [
    "##from abc import ABC, abstractmethod\n",
    "\n",
    "\n",
    "class Figure(ABC):\n",
    "\n",
    "    @abstractmethod\n",
    "    def area(self):\n",
    "        pass\n",
    "\n",
    "    @abstractmethod\n",
    "    def perimeter(self):\n",
    "        pass\n",
    "\n",
    "\n",
    "class Square(Figure):\n",
    "\n",
    "    def __init__(self, a=1):\n",
    "        self.a = a\n",
    "\n",
    "    def area(self):\n",
    "        return self.a * self.a\n",
    "\n",
    "    def perimeter(self):\n",
    "        return self.a * 4 Task\n",
    "Add an abstract method named `perimeter()` in the `Figure` class that allows you to count the perimeter of a figure. Then implement this method in the `Square` class."
   ]
  },
  {
   "cell_type": "code",
   "execution_count": 10,
   "id": "0d0c3c1e-54be-4dbe-8d7d-f73146955ca0",
   "metadata": {},
   "outputs": [],
   "source": [
    "from abc import ABC, abstractmethod\n",
    "\n",
    "\n",
    "class Figure(ABC):\n",
    "\n",
    "    @abstractmethod\n",
    "    def area(self):\n",
    "        pass\n",
    "\n",
    "    @abstractmethod\n",
    "    def perimeter(self):\n",
    "        pass\n",
    "\n",
    "\n",
    "class Square(Figure):\n",
    "\n",
    "    def __init__(self, a=1):\n",
    "        self.a = a\n",
    "\n",
    "    def area(self):\n",
    "        return self.a * self.a\n",
    "\n",
    "    def perimeter(self):\n",
    "        return self.a * 4"
   ]
  },
  {
   "cell_type": "code",
   "execution_count": 11,
   "id": "6a748627-d496-43aa-bd49-e4f719344a8e",
   "metadata": {},
   "outputs": [
    {
     "name": "stdout",
     "output_type": "stream",
     "text": [
      "Side length: 1\n",
      "Area: 1\n",
      "Perimeter: 4\n",
      "\n",
      "Side length: 5\n",
      "Area: 25\n",
      "Perimeter: 20\n",
      "\n",
      "Side length: 10\n",
      "Area: 100\n",
      "Perimeter: 40\n",
      "\n"
     ]
    }
   ],
   "source": [
    "figures = [Square(), Square(5), Square(10)]\n",
    "\n",
    "for figure in figures:\n",
    "    print(f'Side length: {figure.a}')\n",
    "    print(f'Area: {figure.area()}')\n",
    "    print(f'Perimeter: {figure.perimeter()}\\n')"
   ]
  },
  {
   "cell_type": "markdown",
   "id": "6c06dea1-2843-4ee9-8d28-592532b54d64",
   "metadata": {},
   "source": [
    "## Example"
   ]
  },
  {
   "cell_type": "code",
   "execution_count": 12,
   "id": "cc3c82c9-24ed-4bfb-8bb8-ec5013f48b78",
   "metadata": {},
   "outputs": [],
   "source": [
    "from abc import ABC, abstractmethod\n",
    "import math\n",
    "\n",
    "\n",
    "class Figure(ABC):\n",
    "\n",
    "    @abstractmethod\n",
    "    def area(self):\n",
    "        pass\n",
    "\n",
    "    @abstractmethod\n",
    "    def perimeter(self):\n",
    "        pass\n",
    "\n",
    "\n",
    "class Square(Figure):\n",
    "\n",
    "    def __init__(self, a=1):\n",
    "        self.a = a\n",
    "\n",
    "    def area(self):\n",
    "        return self.a * self.a\n",
    "\n",
    "    def perimeter(self):\n",
    "        return self.a * 4\n",
    "\n",
    "\n",
    "class Circle(Figure):\n",
    "\n",
    "    def __init__(self, radius=1):\n",
    "        self.radius = radius\n",
    "\n",
    "    def area(self):\n",
    "        return math.pi * self.radius ** 2\n",
    "\n",
    "    def perimeter(self):\n",
    "        return 2 * math.pi * self.radius"
   ]
  },
  {
   "cell_type": "code",
   "execution_count": 13,
   "id": "53bca0ad-0abd-43d9-b340-6798d558633f",
   "metadata": {},
   "outputs": [
    {
     "name": "stdout",
     "output_type": "stream",
     "text": [
      "Area: 1.00\n",
      "Perimeter: 4.00\n",
      "\n",
      "Area: 25.00\n",
      "Perimeter: 20.00\n",
      "\n",
      "Area: 100.00\n",
      "Perimeter: 40.00\n",
      "\n",
      "Area: 3.14\n",
      "Perimeter: 6.28\n",
      "\n",
      "Area: 78.54\n",
      "Perimeter: 31.42\n",
      "\n",
      "Area: 314.16\n",
      "Perimeter: 62.83\n",
      "\n"
     ]
    }
   ],
   "source": [
    "figures = [Square(), Square(5), Square(10), Circle(), Circle(5), Circle(10)]\n",
    "\n",
    "for figure in figures:\n",
    "    print(f'Area: {figure.area():.2f}')\n",
    "    print(f'Perimeter: {figure.perimeter():.2f}\\n')"
   ]
  },
  {
   "cell_type": "markdown",
   "id": "e79a1e1c-177f-4157-93ff-16740a796c1e",
   "metadata": {},
   "source": [
    "## Task\n",
    "Implement the `Triangle` class using the `Figure` abstract class."
   ]
  },
  {
   "cell_type": "code",
   "execution_count": 14,
   "id": "538a48ee-841a-4b58-a365-81030dedf99b",
   "metadata": {},
   "outputs": [],
   "source": [
    "from abc import ABC, abstractmethod\n",
    "import math\n",
    "\n",
    "\n",
    "class Figure(ABC):\n",
    "\n",
    "    @abstractmethod\n",
    "    def area(self):\n",
    "        pass\n",
    "\n",
    "    @abstractmethod\n",
    "    def perimeter(self):\n",
    "        pass\n",
    "\n",
    "\n",
    "class Square(Figure):\n",
    "\n",
    "    def __init__(self, a=1):\n",
    "        self.a = a\n",
    "\n",
    "    def area(self):\n",
    "        return self.a * self.a\n",
    "\n",
    "    def perimeter(self):\n",
    "        return self.a * 4\n",
    "\n",
    "\n",
    "class Circle(Figure):\n",
    "\n",
    "    def __init__(self, radius=1):\n",
    "        self.radius = radius\n",
    "\n",
    "    def area(self):\n",
    "        return math.pi * self.radius ** 2\n",
    "\n",
    "    def perimeter(self):\n",
    "        return 2 * math.pi * self.radius\n",
    "\n",
    "\n",
    "class Triangle(Figure):\n",
    "\n",
    "    def __init__(self, a, b, c):\n",
    "        self.a = a\n",
    "        self.b = b\n",
    "        self.c = c\n",
    "\n",
    "    def area(self):\n",
    "        p = self.perimeter() / 2\n",
    "        return math.sqrt(p * (p - self.a) * (p - self.b) * (p - self.c))\n",
    "\n",
    "    def perimeter(self):\n",
    "        return self.a + self.b + self.c"
   ]
  },
  {
   "cell_type": "code",
   "execution_count": 15,
   "id": "f1ad1f65-61bb-4eb5-a4f7-9477364a0646",
   "metadata": {},
   "outputs": [
    {
     "name": "stdout",
     "output_type": "stream",
     "text": [
      "Area: 1.00\n",
      "Perimeter: 4.00\n",
      "\n",
      "Area: 25.00\n",
      "Perimeter: 20.00\n",
      "\n",
      "Area: 100.00\n",
      "Perimeter: 40.00\n",
      "\n",
      "Area: 3.14\n",
      "Perimeter: 6.28\n",
      "\n",
      "Area: 78.54\n",
      "Perimeter: 31.42\n",
      "\n",
      "Area: 314.16\n",
      "Perimeter: 62.83\n",
      "\n",
      "Area: 6.00\n",
      "Perimeter: 12.00\n",
      "\n"
     ]
    }
   ],
   "source": [
    "figures = [Square(), Square(5), Square(10), Circle(), Circle(5), Circle(10),\n",
    "           Triangle(3, 4, 5)]\n",
    "\n",
    "for figure in figures:\n",
    "    print(f'Area: {figure.area():.2f}')\n",
    "    print(f'Perimeter: {figure.perimeter():.2f}\\n')"
   ]
  },
  {
   "cell_type": "code",
   "execution_count": null,
   "id": "596d101e-dd3f-4aa4-98f1-9206d8786187",
   "metadata": {},
   "outputs": [],
   "source": []
  }
 ],
 "metadata": {
  "kernelspec": {
   "display_name": "Python 3 (ipykernel)",
   "language": "python",
   "name": "python3"
  },
  "language_info": {
   "codemirror_mode": {
    "name": "ipython",
    "version": 3
   },
   "file_extension": ".py",
   "mimetype": "text/x-python",
   "name": "python",
   "nbconvert_exporter": "python",
   "pygments_lexer": "ipython3",
   "version": "3.9.7"
  }
 },
 "nbformat": 4,
 "nbformat_minor": 5
}
