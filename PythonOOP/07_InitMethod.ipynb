{
 "cells": [
  {
   "cell_type": "markdown",
   "id": "a9871d91-0e53-4d33-81d8-9ff8992f9d4d",
   "metadata": {},
   "source": [
    "# Method `__init__()`"
   ]
  },
  {
   "cell_type": "code",
   "execution_count": 1,
   "id": "c691765b-2cd1-4c6c-9092-242b719b0dd8",
   "metadata": {},
   "outputs": [
    {
     "name": "stdout",
     "output_type": "stream",
     "text": [
      "Help on class Phone in module __main__:\n",
      "\n",
      "class Phone(builtins.object)\n",
      " |  Phone class\n",
      " |  \n",
      " |  Data descriptors defined here:\n",
      " |  \n",
      " |  __dict__\n",
      " |      dictionary for instance variables (if defined)\n",
      " |  \n",
      " |  __weakref__\n",
      " |      list of weak references to the object (if defined)\n",
      "\n"
     ]
    }
   ],
   "source": [
    "class Phone:\n",
    "    \"\"\" Phone class \"\"\"\n",
    "    \n",
    "help(Phone)"
   ]
  },
  {
   "cell_type": "code",
   "execution_count": 2,
   "id": "ffabd01d-3fd7-4ef0-aa65-2c02d3913538",
   "metadata": {},
   "outputs": [
    {
     "name": "stdout",
     "output_type": "stream",
     "text": [
      "Help on class object in module builtins:\n",
      "\n",
      "class object\n",
      " |  The base class of the class hierarchy.\n",
      " |  \n",
      " |  When called, it accepts no arguments and returns a new featureless\n",
      " |  instance that has no instance attributes and cannot be given any.\n",
      " |  \n",
      " |  Built-in subclasses:\n",
      " |      ArgNotFound\n",
      " |      async_generator\n",
      " |      BaseException\n",
      " |      builtin_function_or_method\n",
      " |      ... and 116 other subclasses\n",
      " |  \n",
      " |  Methods defined here:\n",
      " |  \n",
      " |  __delattr__(self, name, /)\n",
      " |      Implement delattr(self, name).\n",
      " |  \n",
      " |  __dir__(self, /)\n",
      " |      Default dir() implementation.\n",
      " |  \n",
      " |  __eq__(self, value, /)\n",
      " |      Return self==value.\n",
      " |  \n",
      " |  __format__(self, format_spec, /)\n",
      " |      Default object formatter.\n",
      " |  \n",
      " |  __ge__(self, value, /)\n",
      " |      Return self>=value.\n",
      " |  \n",
      " |  __getattribute__(self, name, /)\n",
      " |      Return getattr(self, name).\n",
      " |  \n",
      " |  __gt__(self, value, /)\n",
      " |      Return self>value.\n",
      " |  \n",
      " |  __hash__(self, /)\n",
      " |      Return hash(self).\n",
      " |  \n",
      " |  __init__(self, /, *args, **kwargs)\n",
      " |      Initialize self.  See help(type(self)) for accurate signature.\n",
      " |  \n",
      " |  __le__(self, value, /)\n",
      " |      Return self<=value.\n",
      " |  \n",
      " |  __lt__(self, value, /)\n",
      " |      Return self<value.\n",
      " |  \n",
      " |  __ne__(self, value, /)\n",
      " |      Return self!=value.\n",
      " |  \n",
      " |  __reduce__(self, /)\n",
      " |      Helper for pickle.\n",
      " |  \n",
      " |  __reduce_ex__(self, protocol, /)\n",
      " |      Helper for pickle.\n",
      " |  \n",
      " |  __repr__(self, /)\n",
      " |      Return repr(self).\n",
      " |  \n",
      " |  __setattr__(self, name, value, /)\n",
      " |      Implement setattr(self, name, value).\n",
      " |  \n",
      " |  __sizeof__(self, /)\n",
      " |      Size of object in memory, in bytes.\n",
      " |  \n",
      " |  __str__(self, /)\n",
      " |      Return str(self).\n",
      " |  \n",
      " |  ----------------------------------------------------------------------\n",
      " |  Class methods defined here:\n",
      " |  \n",
      " |  __init_subclass__(...) from builtins.type\n",
      " |      This method is called when a class is subclassed.\n",
      " |      \n",
      " |      The default implementation does nothing. It may be\n",
      " |      overridden to extend subclasses.\n",
      " |  \n",
      " |  __subclasshook__(...) from builtins.type\n",
      " |      Abstract classes can override this to customize issubclass().\n",
      " |      \n",
      " |      This is invoked early on by abc.ABCMeta.__subclasscheck__().\n",
      " |      It should return True, False or NotImplemented.  If it returns\n",
      " |      NotImplemented, the normal algorithm is used.  Otherwise, it\n",
      " |      overrides the normal algorithm (and the outcome is cached).\n",
      " |  \n",
      " |  ----------------------------------------------------------------------\n",
      " |  Static methods defined here:\n",
      " |  \n",
      " |  __new__(*args, **kwargs) from builtins.type\n",
      " |      Create and return a new object.  See help(type) for accurate signature.\n",
      " |  \n",
      " |  ----------------------------------------------------------------------\n",
      " |  Data and other attributes defined here:\n",
      " |  \n",
      " |  __class__ = <class 'type'>\n",
      " |      type(object_or_name, bases, dict)\n",
      " |      type(object) -> the object's type\n",
      " |      type(name, bases, dict) -> a new type\n",
      "\n"
     ]
    }
   ],
   "source": [
    "help(object)"
   ]
  },
  {
   "cell_type": "code",
   "execution_count": 3,
   "id": "f206777d-a4f5-4121-8d36-8835514b0d43",
   "metadata": {},
   "outputs": [
    {
     "name": "stdout",
     "output_type": "stream",
     "text": [
      "Help on wrapper_descriptor:\n",
      "\n",
      "__init__(self, /, *args, **kwargs)\n",
      "    Initialize self.  See help(type(self)) for accurate signature.\n",
      "\n"
     ]
    }
   ],
   "source": [
    "help(object.__init__)"
   ]
  },
  {
   "cell_type": "code",
   "execution_count": 4,
   "id": "5976afb3-1f83-475a-b9ab-a768010d5231",
   "metadata": {},
   "outputs": [],
   "source": [
    "class Phone:\n",
    "    \"\"\"Phone class.\"\"\"\n",
    "\n",
    "    def __init__(self):\n",
    "        print(f'Inicjalizacja nowego obiektu {self}.')"
   ]
  },
  {
   "cell_type": "code",
   "execution_count": 5,
   "id": "ec5db3c0-de10-4ce1-84b7-ed2b7ea8b2fe",
   "metadata": {},
   "outputs": [
    {
     "name": "stdout",
     "output_type": "stream",
     "text": [
      "Inicjalizacja nowego obiektu <__main__.Phone object at 0x00000136C303C340>.\n"
     ]
    },
    {
     "data": {
      "text/plain": [
       "<__main__.Phone at 0x136c303c340>"
      ]
     },
     "execution_count": 5,
     "metadata": {},
     "output_type": "execute_result"
    }
   ],
   "source": [
    "Phone()"
   ]
  },
  {
   "cell_type": "code",
   "execution_count": 6,
   "id": "a702cc71-79a6-422e-8e11-a92f25b16abf",
   "metadata": {},
   "outputs": [
    {
     "name": "stdout",
     "output_type": "stream",
     "text": [
      "Inicjalizacja nowego obiektu <__main__.Phone object at 0x00000136C4052D90>.\n"
     ]
    }
   ],
   "source": [
    "phone1 = Phone()"
   ]
  },
  {
   "cell_type": "code",
   "execution_count": 7,
   "id": "1bf3e2aa-a8f9-4ee3-9ecb-02287dd03ca9",
   "metadata": {},
   "outputs": [
    {
     "name": "stdout",
     "output_type": "stream",
     "text": [
      "Help on class Phone in module __main__:\n",
      "\n",
      "class Phone(builtins.object)\n",
      " |  Phone class.\n",
      " |  \n",
      " |  Methods defined here:\n",
      " |  \n",
      " |  __init__(self)\n",
      " |      Initialize self.  See help(type(self)) for accurate signature.\n",
      " |  \n",
      " |  ----------------------------------------------------------------------\n",
      " |  Data descriptors defined here:\n",
      " |  \n",
      " |  __dict__\n",
      " |      dictionary for instance variables (if defined)\n",
      " |  \n",
      " |  __weakref__\n",
      " |      list of weak references to the object (if defined)\n",
      "\n"
     ]
    }
   ],
   "source": [
    "help(Phone)"
   ]
  },
  {
   "cell_type": "markdown",
   "id": "179910f3-2c20-4da4-afe0-f77d1ba51c76",
   "metadata": {},
   "source": [
    "### A class call\n",
    "\n",
    "When we call a class, two things happen:\n",
    "* Python does the `__new __ ()` class creating an object of a specific class:\n",
    "``\n",
    "instance = ClassName .__ new __ (ClassName, * args, ** kwargs)\n",
    "``\n",
    "* Python executes the `__init __ ()` method on the instance, initializing the created object:\n",
    "``\n",
    "instance .__ init __ (* args, ** kwargs)\n",
    "``\n"
   ]
  },
  {
   "cell_type": "code",
   "execution_count": 8,
   "id": "ec446a1a-9acc-44d9-9f71-0a564c98b39c",
   "metadata": {},
   "outputs": [
    {
     "name": "stdout",
     "output_type": "stream",
     "text": [
      "Help on built-in function __new__:\n",
      "\n",
      "__new__(*args, **kwargs) method of builtins.type instance\n",
      "    Create and return a new object.  See help(type) for accurate signature.\n",
      "\n"
     ]
    }
   ],
   "source": [
    "help(object.__new__)"
   ]
  },
  {
   "cell_type": "code",
   "execution_count": 9,
   "id": "cb5f0fc7-1c99-4823-9dce-f4cd6f58c6b7",
   "metadata": {},
   "outputs": [
    {
     "name": "stdout",
     "output_type": "stream",
     "text": [
      "Help on wrapper_descriptor:\n",
      "\n",
      "__init__(self, /, *args, **kwargs)\n",
      "    Initialize self.  See help(type(self)) for accurate signature.\n",
      "\n"
     ]
    }
   ],
   "source": [
    "help(object.__init__)"
   ]
  },
  {
   "cell_type": "code",
   "execution_count": 10,
   "id": "b0acceb9-012b-4c85-bcf2-3d4e96463eed",
   "metadata": {},
   "outputs": [],
   "source": [
    "class Phone:\n",
    "    pass\n",
    "\n",
    "phone1 = Phone()"
   ]
  },
  {
   "cell_type": "code",
   "execution_count": 11,
   "id": "bcb43f29-3f4c-4a1f-8538-2ab86fbef5c1",
   "metadata": {},
   "outputs": [
    {
     "data": {
      "text/plain": [
       "<__main__.Phone at 0x136c40524f0>"
      ]
     },
     "execution_count": 11,
     "metadata": {},
     "output_type": "execute_result"
    }
   ],
   "source": [
    "Phone.__new__(Phone)"
   ]
  },
  {
   "cell_type": "code",
   "execution_count": 12,
   "id": "82cd1319-5cf0-4e4b-8daf-a4bb5ad67267",
   "metadata": {},
   "outputs": [],
   "source": [
    "phone2 = Phone.__new__(Phone)"
   ]
  },
  {
   "cell_type": "code",
   "execution_count": 13,
   "id": "ee4814ae-d71a-4e55-9764-25ae080e21ae",
   "metadata": {},
   "outputs": [],
   "source": [
    "phone2.__init__()"
   ]
  },
  {
   "cell_type": "markdown",
   "id": "d9f03031-bd91-4e09-bb50-edda3e89684a",
   "metadata": {},
   "source": [
    "# Example "
   ]
  },
  {
   "cell_type": "code",
   "execution_count": 14,
   "id": "0b2195bb-57cd-4a03-ba9c-a90ef00677e1",
   "metadata": {},
   "outputs": [],
   "source": [
    "class Phone:\n",
    "    \"\"\"Phone class.\"\"\"\n",
    "\n",
    "    def __init__(self):\n",
    "        print(f'Inicjalizacja nowego obiektu {self}.')"
   ]
  },
  {
   "cell_type": "code",
   "execution_count": 15,
   "id": "1bb49801-5b3f-4d0a-9d0e-6428c2b7524f",
   "metadata": {},
   "outputs": [
    {
     "name": "stdout",
     "output_type": "stream",
     "text": [
      "Inicjalizacja nowego obiektu <__main__.Phone object at 0x00000136C4052D90>.\n"
     ]
    }
   ],
   "source": [
    "phone1 = Phone()"
   ]
  },
  {
   "cell_type": "code",
   "execution_count": 16,
   "id": "55d36d6a-6954-44b7-92b8-f1541ed7bc1b",
   "metadata": {},
   "outputs": [],
   "source": [
    "class Phone:\n",
    "    \"\"\"Phone class.\"\"\"\n",
    "\n",
    "    def __init__(self, value):\n",
    "        print(f'Inicjalizacja nowego obiektu {self}.')\n",
    "        self.brand = value"
   ]
  },
  {
   "cell_type": "code",
   "execution_count": 18,
   "id": "d77ec617-675e-4d0d-a10f-b72ce6153aaa",
   "metadata": {},
   "outputs": [],
   "source": [
    "#phone2 = Phone()\n",
    "#TypeError: __init__() missing 1 required positional argument: 'value'"
   ]
  },
  {
   "cell_type": "code",
   "execution_count": 19,
   "id": "b6da3584-e7ea-43cf-b1bc-a652f95c18ae",
   "metadata": {},
   "outputs": [
    {
     "name": "stdout",
     "output_type": "stream",
     "text": [
      "Inicjalizacja nowego obiektu <__main__.Phone object at 0x00000136C4052910>.\n"
     ]
    }
   ],
   "source": [
    "phone2 = Phone('Apple')"
   ]
  },
  {
   "cell_type": "code",
   "execution_count": 20,
   "id": "b43baa62-5533-4ae4-b15e-990ddccca3b1",
   "metadata": {},
   "outputs": [
    {
     "data": {
      "text/plain": [
       "'Apple'"
      ]
     },
     "execution_count": 20,
     "metadata": {},
     "output_type": "execute_result"
    }
   ],
   "source": [
    "phone2.brand"
   ]
  },
  {
   "cell_type": "code",
   "execution_count": 21,
   "id": "c5896eab-812a-4723-a396-82ea43daca55",
   "metadata": {},
   "outputs": [
    {
     "data": {
      "text/plain": [
       "{'brand': 'Apple'}"
      ]
     },
     "execution_count": 21,
     "metadata": {},
     "output_type": "execute_result"
    }
   ],
   "source": [
    "phone2.__dict__"
   ]
  },
  {
   "cell_type": "code",
   "execution_count": 23,
   "id": "b22476a4-be26-4b7e-b5e2-0b7eb88cc514",
   "metadata": {},
   "outputs": [],
   "source": [
    "#Phone.brand\n",
    "#AttributeError: type object 'Phone' has no attribute 'brand'"
   ]
  },
  {
   "cell_type": "code",
   "execution_count": 24,
   "id": "43bcae40-9711-4e13-85f1-3eb73e40772d",
   "metadata": {},
   "outputs": [],
   "source": [
    "class Phone:\n",
    "    \"\"\"Phone class.\"\"\"\n",
    "\n",
    "    def __init__(self, value):\n",
    "        self.brand = value"
   ]
  },
  {
   "cell_type": "code",
   "execution_count": 26,
   "id": "ead985da-baf9-407d-ab3c-bc254a3870a5",
   "metadata": {},
   "outputs": [],
   "source": [
    "class Phone:\n",
    "    \"\"\"Phone class.\"\"\"\n",
    "\n",
    "    def __init__(self, brand):\n",
    "        self.brand = brand"
   ]
  },
  {
   "cell_type": "markdown",
   "id": "d5502e5d-d109-4e32-91f1-baf327bc64d1",
   "metadata": {},
   "source": [
    "### Task\n",
    "\n",
    "Implement a class named `Laptop` with a method` __init __ () `that assigns the following instance attributes when creating an instance:\n",
    "* brand\n",
    "* model\n",
    "* price"
   ]
  },
  {
   "cell_type": "code",
   "execution_count": 29,
   "id": "741e7247-5446-49eb-981c-c021e246e1cd",
   "metadata": {},
   "outputs": [],
   "source": [
    "class Laptop:\n",
    "\n",
    "    def __init__(self, brand, model, price):\n",
    "        self.brand = brand\n",
    "        self.model = model\n",
    "        self.price = price"
   ]
  },
  {
   "cell_type": "code",
   "execution_count": 32,
   "id": "4e3b36a5-f8f8-4b02-8556-e0f255d619c1",
   "metadata": {},
   "outputs": [],
   "source": [
    "laptop1 = Laptop('Acer', 'Predator', 2500)"
   ]
  },
  {
   "cell_type": "code",
   "execution_count": 33,
   "id": "0a5c8035-7df0-4b2a-8b7a-38c391c4e765",
   "metadata": {},
   "outputs": [
    {
     "data": {
      "text/plain": [
       "{'brand': 'Acer', 'model': 'Predator', 'price': 2500}"
      ]
     },
     "execution_count": 33,
     "metadata": {},
     "output_type": "execute_result"
    }
   ],
   "source": [
    "laptop1.__dict__"
   ]
  },
  {
   "cell_type": "markdown",
   "id": "19d7f3eb-fd22-47df-b24e-e8a4eb40211b",
   "metadata": {},
   "source": [
    "# Example2"
   ]
  },
  {
   "cell_type": "code",
   "execution_count": 34,
   "id": "c0ffa8d6-544c-4b9b-8b86-983038d0f7a2",
   "metadata": {},
   "outputs": [],
   "source": [
    "class Laptop:\n",
    "\n",
    "    def __init__(self, brand, model, price):\n",
    "        self.brand = brand\n",
    "        self.model = model\n",
    "        self.price = price"
   ]
  },
  {
   "cell_type": "code",
   "execution_count": 35,
   "id": "e72cd33e-b338-448e-bc64-a1ddc37e2b80",
   "metadata": {},
   "outputs": [],
   "source": [
    "laptop1 = Laptop('Acer', 'Predator', 5490)"
   ]
  },
  {
   "cell_type": "code",
   "execution_count": 36,
   "id": "951378b1-2bea-425f-a903-bcd4470a33e7",
   "metadata": {},
   "outputs": [
    {
     "data": {
      "text/plain": [
       "dict_keys(['brand', 'model', 'price'])"
      ]
     },
     "execution_count": 36,
     "metadata": {},
     "output_type": "execute_result"
    }
   ],
   "source": [
    "laptop1.__dict__.keys()"
   ]
  },
  {
   "cell_type": "code",
   "execution_count": 37,
   "id": "6f43d0f2-871b-43c7-82bd-b38787cd1a19",
   "metadata": {},
   "outputs": [],
   "source": [
    "class Laptop:\n",
    "\n",
    "    def __init__(self, brand, model, price):\n",
    "        self.brand = brand\n",
    "        self.model = model\n",
    "        self.price = price\n",
    "\n",
    "    def display_attrs(self):\n",
    "        for attr in self.__dict__.keys():\n",
    "            print(attr)"
   ]
  },
  {
   "cell_type": "code",
   "execution_count": 38,
   "id": "eec98907-10b9-476d-baf0-708c8a6c9771",
   "metadata": {},
   "outputs": [],
   "source": [
    "laptop1 = Laptop('Acer', 'Predator', 5490)"
   ]
  },
  {
   "cell_type": "code",
   "execution_count": 39,
   "id": "313d7eb4-6020-4c55-a2ec-9d7578430b6a",
   "metadata": {},
   "outputs": [
    {
     "name": "stdout",
     "output_type": "stream",
     "text": [
      "brand\n",
      "model\n",
      "price\n"
     ]
    }
   ],
   "source": [
    "laptop1.display_attrs()"
   ]
  },
  {
   "cell_type": "code",
   "execution_count": 40,
   "id": "8e1b4043-7f7c-43da-88b2-5ea6b906e2ea",
   "metadata": {},
   "outputs": [
    {
     "data": {
      "text/plain": [
       "dict_items([('brand', 'Acer'), ('model', 'Predator'), ('price', 5490)])"
      ]
     },
     "execution_count": 40,
     "metadata": {},
     "output_type": "execute_result"
    }
   ],
   "source": [
    "laptop1.__dict__.items()"
   ]
  },
  {
   "cell_type": "code",
   "execution_count": 41,
   "id": "3d608c14-8fac-4f08-8ac1-fef65f65c275",
   "metadata": {},
   "outputs": [],
   "source": [
    "class Laptop:\n",
    "\n",
    "    def __init__(self, brand, model, price):\n",
    "        self.brand = brand\n",
    "        self.model = model\n",
    "        self.price = price\n",
    "\n",
    "    def display_attrs(self):\n",
    "        for attr in self.__dict__.keys():\n",
    "            print(attr)\n",
    "\n",
    "    def display_values(self):\n",
    "        for attr, value in self.__dict__.items():\n",
    "            print(f'{attr} -> {value}')"
   ]
  },
  {
   "cell_type": "code",
   "execution_count": 42,
   "id": "23cab0b9-6fe1-4e51-9558-d0c22c072141",
   "metadata": {},
   "outputs": [
    {
     "name": "stdout",
     "output_type": "stream",
     "text": [
      "brand -> Acer\n",
      "model -> Predator\n",
      "price -> 5490\n"
     ]
    }
   ],
   "source": [
    "laptop1 = Laptop('Acer', 'Predator', 5490)\n",
    "laptop1.display_values()"
   ]
  },
  {
   "cell_type": "markdown",
   "id": "8ce3ec19-7bb5-4233-b7db-9b2d3239bf33",
   "metadata": {},
   "source": [
    "# Example3"
   ]
  },
  {
   "cell_type": "code",
   "execution_count": 43,
   "id": "76753585-52e5-4c9c-abf1-19b37709d644",
   "metadata": {},
   "outputs": [],
   "source": [
    "class Vector:\n",
    "\n",
    "    def __init__(self, *args):\n",
    "        self.components = args"
   ]
  },
  {
   "cell_type": "code",
   "execution_count": 44,
   "id": "940e6ac7-c1d2-485e-9232-52f76ef15b45",
   "metadata": {},
   "outputs": [
    {
     "data": {
      "text/plain": [
       "(3, 4)"
      ]
     },
     "execution_count": 44,
     "metadata": {},
     "output_type": "execute_result"
    }
   ],
   "source": [
    "v1 = Vector(3, 4)\n",
    "v1.components"
   ]
  },
  {
   "cell_type": "code",
   "execution_count": 45,
   "id": "00fa27d3-d86a-46a8-be64-457b15558e69",
   "metadata": {},
   "outputs": [
    {
     "data": {
      "text/plain": [
       "(5, 3, -2)"
      ]
     },
     "execution_count": 45,
     "metadata": {},
     "output_type": "execute_result"
    }
   ],
   "source": [
    "v2 = Vector(5, 3, -2)\n",
    "v2.components"
   ]
  },
  {
   "cell_type": "code",
   "execution_count": 46,
   "id": "22d36911-8c12-4f75-916e-7730d225d3e4",
   "metadata": {},
   "outputs": [],
   "source": [
    "class Vector:\n",
    "\n",
    "    def __init__(self, *components):\n",
    "        self.components = components"
   ]
  },
  {
   "cell_type": "markdown",
   "id": "1cb9eb55-68e7-469f-9eb7-fb99e6d21c51",
   "metadata": {},
   "source": [
    "# Example4"
   ]
  },
  {
   "cell_type": "code",
   "execution_count": 47,
   "id": "ffa88e28-8148-4acf-b7f6-f8d81a403d24",
   "metadata": {},
   "outputs": [],
   "source": [
    "class TechStack:\n",
    "\n",
    "    def __init__(self, **kwargs):\n",
    "        self.techs = kwargs"
   ]
  },
  {
   "cell_type": "code",
   "execution_count": 48,
   "id": "acbc16c8-65b9-40b6-b689-600c87021680",
   "metadata": {},
   "outputs": [],
   "source": [
    "stack = TechStack(python='mid')"
   ]
  },
  {
   "cell_type": "code",
   "execution_count": 49,
   "id": "876263cb-6f69-48f8-abad-406d8314cc51",
   "metadata": {},
   "outputs": [
    {
     "data": {
      "text/plain": [
       "{'python': 'mid'}"
      ]
     },
     "execution_count": 49,
     "metadata": {},
     "output_type": "execute_result"
    }
   ],
   "source": [
    "stack.techs"
   ]
  },
  {
   "cell_type": "code",
   "execution_count": 50,
   "id": "d8c9f982-eb91-406f-aabb-c17508d039f2",
   "metadata": {},
   "outputs": [],
   "source": [
    "stack = TechStack(python='mid', java='senior')"
   ]
  },
  {
   "cell_type": "code",
   "execution_count": 51,
   "id": "9d0c922b-a43e-40e8-ae28-da0807bb4ccd",
   "metadata": {},
   "outputs": [
    {
     "data": {
      "text/plain": [
       "{'python': 'mid', 'java': 'senior'}"
      ]
     },
     "execution_count": 51,
     "metadata": {},
     "output_type": "execute_result"
    }
   ],
   "source": [
    "stack.techs"
   ]
  },
  {
   "cell_type": "code",
   "execution_count": 52,
   "id": "a96f712a-9102-416e-b96e-f92ab3679144",
   "metadata": {},
   "outputs": [
    {
     "data": {
      "text/plain": [
       "{'techs': {'python': 'mid', 'java': 'senior'}}"
      ]
     },
     "execution_count": 52,
     "metadata": {},
     "output_type": "execute_result"
    }
   ],
   "source": [
    "stack.__dict__"
   ]
  },
  {
   "cell_type": "code",
   "execution_count": 53,
   "id": "c8c031ed-0233-4daa-a1e9-1ff328804913",
   "metadata": {},
   "outputs": [],
   "source": [
    "class TechStack:\n",
    "\n",
    "    def __init__(self, **techs):\n",
    "        self.techs = techs"
   ]
  },
  {
   "cell_type": "markdown",
   "id": "23aa0389-3714-4876-9c44-6bfa29329b43",
   "metadata": {},
   "source": [
    "### Task2\n",
    "\n",
    "The implementation of the `TechStack` class is provided. Make changes to the `__init __ ()` method so that the passed named arguments (* keyword arguments *) are set as instance attributes."
   ]
  },
  {
   "cell_type": "code",
   "execution_count": 64,
   "id": "54b15102-56ce-4cd6-a73e-ca47414e6562",
   "metadata": {},
   "outputs": [],
   "source": [
    "class TechStack:\n",
    "\n",
    "    def __init__(self, **techs):\n",
    "        for attrName, atrrValue in techs.items():\n",
    "            print(attrName, atrrValue)"
   ]
  },
  {
   "cell_type": "code",
   "execution_count": 65,
   "id": "1bee64f9-a03f-47ac-a561-72ef9f1aaab7",
   "metadata": {},
   "outputs": [
    {
     "name": "stdout",
     "output_type": "stream",
     "text": [
      "python mid\n"
     ]
    },
    {
     "data": {
      "text/plain": [
       "<__main__.TechStack at 0x136c40589a0>"
      ]
     },
     "execution_count": 65,
     "metadata": {},
     "output_type": "execute_result"
    }
   ],
   "source": [
    "TechStack(python='mid')"
   ]
  },
  {
   "cell_type": "code",
   "execution_count": 66,
   "id": "6143a3ad-b227-47ff-936f-db9ac43c132b",
   "metadata": {},
   "outputs": [],
   "source": [
    "class TechStack:\n",
    "\n",
    "    def __init__(self, **techs):\n",
    "        for attrName, atrrValue in techs.items():\n",
    "            setattr(self, attrName, atrrValue)"
   ]
  },
  {
   "cell_type": "code",
   "execution_count": 67,
   "id": "e551449b-1438-494f-8356-7f6d74b504ac",
   "metadata": {},
   "outputs": [
    {
     "data": {
      "text/plain": [
       "{'python': 'mid'}"
      ]
     },
     "execution_count": 67,
     "metadata": {},
     "output_type": "execute_result"
    }
   ],
   "source": [
    "stack = TechStack(python='mid')\n",
    "stack.__dict__"
   ]
  },
  {
   "cell_type": "code",
   "execution_count": 68,
   "id": "70173612-e71c-4192-b249-29866a7a9a40",
   "metadata": {},
   "outputs": [
    {
     "data": {
      "text/plain": [
       "{'python': 'mid', 'java': 'senior'}"
      ]
     },
     "execution_count": 68,
     "metadata": {},
     "output_type": "execute_result"
    }
   ],
   "source": [
    "stack = TechStack(python='mid', java='senior')\n",
    "stack.__dict__"
   ]
  },
  {
   "cell_type": "code",
   "execution_count": 69,
   "id": "548aee40-9183-4e33-9b13-60234b29eab7",
   "metadata": {},
   "outputs": [
    {
     "data": {
      "text/plain": [
       "'senior'"
      ]
     },
     "execution_count": 69,
     "metadata": {},
     "output_type": "execute_result"
    }
   ],
   "source": [
    "stack.java"
   ]
  },
  {
   "cell_type": "code",
   "execution_count": 70,
   "id": "d8228ee7-f6e0-4fe1-94ee-bb9cfcdc09c4",
   "metadata": {},
   "outputs": [
    {
     "data": {
      "text/plain": [
       "'mid'"
      ]
     },
     "execution_count": 70,
     "metadata": {},
     "output_type": "execute_result"
    }
   ],
   "source": [
    "stack.python"
   ]
  },
  {
   "cell_type": "code",
   "execution_count": 71,
   "id": "da1cc2ee-c69b-45e4-8ec5-1eee6f699777",
   "metadata": {},
   "outputs": [],
   "source": [
    "class TechStack:\n",
    "\n",
    "    def __init__(self, **techs):\n",
    "        for attrName, atrrValue in techs.items():\n",
    "            setattr(self, attrName, atrrValue)\n",
    "\n",
    "    def display_info(self):\n",
    "        print(f'Total number of techs: {len(self.__dict__)}')"
   ]
  },
  {
   "cell_type": "code",
   "execution_count": 72,
   "id": "69cff69f-47c0-4675-be80-870f8d045d5d",
   "metadata": {},
   "outputs": [
    {
     "name": "stdout",
     "output_type": "stream",
     "text": [
      "Total number of techs: 2\n"
     ]
    }
   ],
   "source": [
    "stack = TechStack(python='mid', java='senior')\n",
    "stack.display_info()"
   ]
  },
  {
   "cell_type": "code",
   "execution_count": 73,
   "id": "7bef5245-9fed-4423-824a-f917840e1423",
   "metadata": {},
   "outputs": [
    {
     "name": "stdout",
     "output_type": "stream",
     "text": [
      "Total number of techs: 3\n"
     ]
    }
   ],
   "source": [
    "stack = TechStack(python='mid', java='senior', sql='mid')\n",
    "stack.display_info()"
   ]
  },
  {
   "cell_type": "markdown",
   "id": "b2a31883-0aae-49d7-9164-1db52d587800",
   "metadata": {},
   "source": [
    "### Setting new attribute values ​​- validation"
   ]
  },
  {
   "cell_type": "code",
   "execution_count": 75,
   "id": "247dde0d-183a-4ec5-9a8f-9ddd259567a4",
   "metadata": {},
   "outputs": [
    {
     "data": {
      "text/plain": [
       "('Apple', 'iPhone SE', 2199)"
      ]
     },
     "execution_count": 75,
     "metadata": {},
     "output_type": "execute_result"
    }
   ],
   "source": [
    "class Phone:\n",
    "\n",
    "    def __init__(self, brand, model, price):\n",
    "        self.brand = brand\n",
    "        self.model = model\n",
    "        self.price = price\n",
    "\n",
    "phone1 = Phone('Apple', 'iPhone SE', 2199)\n",
    "phone1.brand, phone1.model, phone1.price"
   ]
  },
  {
   "cell_type": "code",
   "execution_count": 76,
   "id": "f837fa48-d034-4451-b348-cd5f2e0b8719",
   "metadata": {},
   "outputs": [
    {
     "data": {
      "text/plain": [
       "('Apple', 'iPhone SE', False)"
      ]
     },
     "execution_count": 76,
     "metadata": {},
     "output_type": "execute_result"
    }
   ],
   "source": [
    "phone1 = Phone('Apple', 'iPhone SE', False)\n",
    "phone1.brand, phone1.model, phone1.price"
   ]
  },
  {
   "cell_type": "code",
   "execution_count": 77,
   "id": "69b46cfa-24ed-41a3-b531-df24f278ae28",
   "metadata": {},
   "outputs": [
    {
     "data": {
      "text/plain": [
       "('Apple', 'iPhone SE', 2199)"
      ]
     },
     "execution_count": 77,
     "metadata": {},
     "output_type": "execute_result"
    }
   ],
   "source": [
    "phone1 = Phone('Apple', 'iPhone SE', 2199)\n",
    "phone1.brand, phone1.model, phone1.price"
   ]
  },
  {
   "cell_type": "code",
   "execution_count": 78,
   "id": "fcee3bee-963c-4500-bf73-ffed6c032706",
   "metadata": {},
   "outputs": [],
   "source": [
    "phone1.price = '%'"
   ]
  },
  {
   "cell_type": "code",
   "execution_count": 79,
   "id": "704c4316-1430-4de2-ac4c-81fe6bf6e15c",
   "metadata": {},
   "outputs": [
    {
     "data": {
      "text/plain": [
       "('Apple', 'iPhone SE', '%')"
      ]
     },
     "execution_count": 79,
     "metadata": {},
     "output_type": "execute_result"
    }
   ],
   "source": [
    "phone1.brand, phone1.model, phone1.price"
   ]
  },
  {
   "cell_type": "code",
   "execution_count": 80,
   "id": "b7cabc6c-a448-4b51-aea6-67e2f25b0f71",
   "metadata": {},
   "outputs": [
    {
     "data": {
      "text/plain": [
       "('Apple', 'iPhone SE', 2199)"
      ]
     },
     "execution_count": 80,
     "metadata": {},
     "output_type": "execute_result"
    }
   ],
   "source": [
    "class Phone:\n",
    "\n",
    "    def __init__(self, brand, model, price):\n",
    "        self.brand = brand\n",
    "        self.model = model\n",
    "\n",
    "        if isinstance(price, (int, float)):\n",
    "            self.price = price\n",
    "        else:\n",
    "            raise TypeError('The price argument must be of type int or float.')\n",
    "\n",
    "phone1 = Phone('Apple', 'iPhone SE', 2199)\n",
    "phone1.brand, phone1.model, phone1.price"
   ]
  },
  {
   "cell_type": "code",
   "execution_count": 81,
   "id": "d9d2c31d-4315-4b0d-ae92-e3974e9bc068",
   "metadata": {},
   "outputs": [
    {
     "data": {
      "text/plain": [
       "('Apple', 'iPhone SE', 2199.0)"
      ]
     },
     "execution_count": 81,
     "metadata": {},
     "output_type": "execute_result"
    }
   ],
   "source": [
    "phone1 = Phone('Apple', 'iPhone SE', 2199.0)\n",
    "phone1.brand, phone1.model, phone1.price"
   ]
  },
  {
   "cell_type": "code",
   "execution_count": 84,
   "id": "3a4591d4-16d5-42ba-9780-c388f750c662",
   "metadata": {},
   "outputs": [],
   "source": [
    "#phone1 = Phone('Apple', 'iPhone SE', '$')\n",
    "#phone1.brand, phone1.model, phone1.price\n",
    "#TypeError: The price argument must be of type int or float."
   ]
  },
  {
   "cell_type": "code",
   "execution_count": 85,
   "id": "a95d3829-dc71-49b2-9c84-abf710f43b11",
   "metadata": {},
   "outputs": [
    {
     "data": {
      "text/plain": [
       "('Apple', 'iPhone SE', 2199.0)"
      ]
     },
     "execution_count": 85,
     "metadata": {},
     "output_type": "execute_result"
    }
   ],
   "source": [
    "phone1 = Phone('Apple', 'iPhone SE', 2199.0)\n",
    "phone1.brand, phone1.model, phone1.price"
   ]
  },
  {
   "cell_type": "code",
   "execution_count": 86,
   "id": "dcdddaea-5bdb-4c01-bc99-634a1edf5a4b",
   "metadata": {},
   "outputs": [],
   "source": [
    "phone1.price = '---'"
   ]
  },
  {
   "cell_type": "code",
   "execution_count": 87,
   "id": "c93db786-f070-409f-9730-2055ed3072a4",
   "metadata": {},
   "outputs": [
    {
     "data": {
      "text/plain": [
       "('Apple', 'iPhone SE', '---')"
      ]
     },
     "execution_count": 87,
     "metadata": {},
     "output_type": "execute_result"
    }
   ],
   "source": [
    "phone1.brand, phone1.model, phone1.price"
   ]
  },
  {
   "cell_type": "markdown",
   "id": "c9aafe61-ae9f-4c92-88b1-2d5a104d485a",
   "metadata": {},
   "source": [
    "### Task\n",
    "The implementation of the `Phone` class is provided. Add a method called `show_details ()` to print the instance attributes to the console.\n",
    "\n",
    "Example: Method calls:\n",
    "``\n",
    "phone1 = Phone ('Apple', 'iPhone SE', 2199)\n",
    "phone1.show_details ()\n",
    "``\n",
    "returns:\n",
    "``\n",
    "Brand: Apple\n",
    "Model: iPhone SE\n",
    "Price: 2199 PLN\n",
    "``"
   ]
  },
  {
   "cell_type": "code",
   "execution_count": 90,
   "id": "bad7f835-ab74-499a-9c1e-de2a2c71794e",
   "metadata": {},
   "outputs": [],
   "source": [
    "class Phone:\n",
    "\n",
    "    def __init__(self, brand, model, price):\n",
    "        self.brand = brand\n",
    "        self.model = model\n",
    "\n",
    "        if isinstance(price, (int, float)):\n",
    "            self.price = price\n",
    "        else:\n",
    "            raise TypeError('The price argument must be of type int or float.')\n",
    "            \n",
    "    def show_details():\n",
    "        print(f'')\n",
    "        "
   ]
  },
  {
   "cell_type": "code",
   "execution_count": 92,
   "id": "eb0d9d2c-b9c7-48d8-9290-0785136cba49",
   "metadata": {},
   "outputs": [],
   "source": [
    "phone1 = Phone ('Apple', 'iPhone SE', 2199)"
   ]
  },
  {
   "cell_type": "code",
   "execution_count": 93,
   "id": "2e540cf3-e197-413d-9ebf-c09e6a85e523",
   "metadata": {},
   "outputs": [
    {
     "ename": "AttributeError",
     "evalue": "'Phone' object has no attribute 'show_details'",
     "output_type": "error",
     "traceback": [
      "\u001b[1;31m---------------------------------------------------------------------------\u001b[0m",
      "\u001b[1;31mAttributeError\u001b[0m                            Traceback (most recent call last)",
      "\u001b[1;32m~\\AppData\\Local\\Temp/ipykernel_15016/1095402731.py\u001b[0m in \u001b[0;36m<module>\u001b[1;34m\u001b[0m\n\u001b[1;32m----> 1\u001b[1;33m \u001b[0mphone1\u001b[0m\u001b[1;33m.\u001b[0m\u001b[0mshow_details\u001b[0m \u001b[1;33m(\u001b[0m\u001b[1;33m)\u001b[0m\u001b[1;33m\u001b[0m\u001b[1;33m\u001b[0m\u001b[0m\n\u001b[0m",
      "\u001b[1;31mAttributeError\u001b[0m: 'Phone' object has no attribute 'show_details'"
     ]
    }
   ],
   "source": [
    "phone1.show_details ()"
   ]
  },
  {
   "cell_type": "code",
   "execution_count": null,
   "id": "b494f8da-0c8f-4fa9-83a9-d1fe2b719c3b",
   "metadata": {},
   "outputs": [],
   "source": []
  }
 ],
 "metadata": {
  "kernelspec": {
   "display_name": "Python 3 (ipykernel)",
   "language": "python",
   "name": "python3"
  },
  "language_info": {
   "codemirror_mode": {
    "name": "ipython",
    "version": 3
   },
   "file_extension": ".py",
   "mimetype": "text/x-python",
   "name": "python",
   "nbconvert_exporter": "python",
   "pygments_lexer": "ipython3",
   "version": "3.9.7"
  }
 },
 "nbformat": 4,
 "nbformat_minor": 5
}
