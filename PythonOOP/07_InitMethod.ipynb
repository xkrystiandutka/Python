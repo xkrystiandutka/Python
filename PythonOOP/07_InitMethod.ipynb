{
 "cells": [
  {
   "cell_type": "markdown",
   "id": "a9871d91-0e53-4d33-81d8-9ff8992f9d4d",
   "metadata": {},
   "source": [
    "# Method `__init__()`"
   ]
  },
  {
   "cell_type": "code",
   "execution_count": 1,
   "id": "c691765b-2cd1-4c6c-9092-242b719b0dd8",
   "metadata": {},
   "outputs": [
    {
     "name": "stdout",
     "output_type": "stream",
     "text": [
      "Help on class Phone in module __main__:\n",
      "\n",
      "class Phone(builtins.object)\n",
      " |  Phone class\n",
      " |  \n",
      " |  Data descriptors defined here:\n",
      " |  \n",
      " |  __dict__\n",
      " |      dictionary for instance variables (if defined)\n",
      " |  \n",
      " |  __weakref__\n",
      " |      list of weak references to the object (if defined)\n",
      "\n"
     ]
    }
   ],
   "source": [
    "class Phone:\n",
    "    \"\"\" Phone class \"\"\"\n",
    "    \n",
    "help(Phone)"
   ]
  },
  {
   "cell_type": "code",
   "execution_count": null,
   "id": "ffabd01d-3fd7-4ef0-aa65-2c02d3913538",
   "metadata": {},
   "outputs": [],
   "source": []
  }
 ],
 "metadata": {
  "kernelspec": {
   "display_name": "Python 3 (ipykernel)",
   "language": "python",
   "name": "python3"
  },
  "language_info": {
   "codemirror_mode": {
    "name": "ipython",
    "version": 3
   },
   "file_extension": ".py",
   "mimetype": "text/x-python",
   "name": "python",
   "nbconvert_exporter": "python",
   "pygments_lexer": "ipython3",
   "version": "3.9.7"
  }
 },
 "nbformat": 4,
 "nbformat_minor": 5
}
