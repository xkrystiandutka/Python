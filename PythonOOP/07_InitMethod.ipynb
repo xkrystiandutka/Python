{
 "cells": [
  {
   "cell_type": "markdown",
   "id": "a9871d91-0e53-4d33-81d8-9ff8992f9d4d",
   "metadata": {},
   "source": [
    "# Method `__init__()`"
   ]
  },
  {
   "cell_type": "code",
   "execution_count": 1,
   "id": "c691765b-2cd1-4c6c-9092-242b719b0dd8",
   "metadata": {},
   "outputs": [
    {
     "name": "stdout",
     "output_type": "stream",
     "text": [
      "Help on class Phone in module __main__:\n",
      "\n",
      "class Phone(builtins.object)\n",
      " |  Phone class\n",
      " |  \n",
      " |  Data descriptors defined here:\n",
      " |  \n",
      " |  __dict__\n",
      " |      dictionary for instance variables (if defined)\n",
      " |  \n",
      " |  __weakref__\n",
      " |      list of weak references to the object (if defined)\n",
      "\n"
     ]
    }
   ],
   "source": [
    "class Phone:\n",
    "    \"\"\" Phone class \"\"\"\n",
    "    \n",
    "help(Phone)"
   ]
  },
  {
   "cell_type": "code",
   "execution_count": 2,
   "id": "ffabd01d-3fd7-4ef0-aa65-2c02d3913538",
   "metadata": {},
   "outputs": [
    {
     "name": "stdout",
     "output_type": "stream",
     "text": [
      "Help on class object in module builtins:\n",
      "\n",
      "class object\n",
      " |  The base class of the class hierarchy.\n",
      " |  \n",
      " |  When called, it accepts no arguments and returns a new featureless\n",
      " |  instance that has no instance attributes and cannot be given any.\n",
      " |  \n",
      " |  Built-in subclasses:\n",
      " |      ArgNotFound\n",
      " |      async_generator\n",
      " |      BaseException\n",
      " |      builtin_function_or_method\n",
      " |      ... and 116 other subclasses\n",
      " |  \n",
      " |  Methods defined here:\n",
      " |  \n",
      " |  __delattr__(self, name, /)\n",
      " |      Implement delattr(self, name).\n",
      " |  \n",
      " |  __dir__(self, /)\n",
      " |      Default dir() implementation.\n",
      " |  \n",
      " |  __eq__(self, value, /)\n",
      " |      Return self==value.\n",
      " |  \n",
      " |  __format__(self, format_spec, /)\n",
      " |      Default object formatter.\n",
      " |  \n",
      " |  __ge__(self, value, /)\n",
      " |      Return self>=value.\n",
      " |  \n",
      " |  __getattribute__(self, name, /)\n",
      " |      Return getattr(self, name).\n",
      " |  \n",
      " |  __gt__(self, value, /)\n",
      " |      Return self>value.\n",
      " |  \n",
      " |  __hash__(self, /)\n",
      " |      Return hash(self).\n",
      " |  \n",
      " |  __init__(self, /, *args, **kwargs)\n",
      " |      Initialize self.  See help(type(self)) for accurate signature.\n",
      " |  \n",
      " |  __le__(self, value, /)\n",
      " |      Return self<=value.\n",
      " |  \n",
      " |  __lt__(self, value, /)\n",
      " |      Return self<value.\n",
      " |  \n",
      " |  __ne__(self, value, /)\n",
      " |      Return self!=value.\n",
      " |  \n",
      " |  __reduce__(self, /)\n",
      " |      Helper for pickle.\n",
      " |  \n",
      " |  __reduce_ex__(self, protocol, /)\n",
      " |      Helper for pickle.\n",
      " |  \n",
      " |  __repr__(self, /)\n",
      " |      Return repr(self).\n",
      " |  \n",
      " |  __setattr__(self, name, value, /)\n",
      " |      Implement setattr(self, name, value).\n",
      " |  \n",
      " |  __sizeof__(self, /)\n",
      " |      Size of object in memory, in bytes.\n",
      " |  \n",
      " |  __str__(self, /)\n",
      " |      Return str(self).\n",
      " |  \n",
      " |  ----------------------------------------------------------------------\n",
      " |  Class methods defined here:\n",
      " |  \n",
      " |  __init_subclass__(...) from builtins.type\n",
      " |      This method is called when a class is subclassed.\n",
      " |      \n",
      " |      The default implementation does nothing. It may be\n",
      " |      overridden to extend subclasses.\n",
      " |  \n",
      " |  __subclasshook__(...) from builtins.type\n",
      " |      Abstract classes can override this to customize issubclass().\n",
      " |      \n",
      " |      This is invoked early on by abc.ABCMeta.__subclasscheck__().\n",
      " |      It should return True, False or NotImplemented.  If it returns\n",
      " |      NotImplemented, the normal algorithm is used.  Otherwise, it\n",
      " |      overrides the normal algorithm (and the outcome is cached).\n",
      " |  \n",
      " |  ----------------------------------------------------------------------\n",
      " |  Static methods defined here:\n",
      " |  \n",
      " |  __new__(*args, **kwargs) from builtins.type\n",
      " |      Create and return a new object.  See help(type) for accurate signature.\n",
      " |  \n",
      " |  ----------------------------------------------------------------------\n",
      " |  Data and other attributes defined here:\n",
      " |  \n",
      " |  __class__ = <class 'type'>\n",
      " |      type(object_or_name, bases, dict)\n",
      " |      type(object) -> the object's type\n",
      " |      type(name, bases, dict) -> a new type\n",
      "\n"
     ]
    }
   ],
   "source": [
    "help(object)"
   ]
  },
  {
   "cell_type": "code",
   "execution_count": 3,
   "id": "f206777d-a4f5-4121-8d36-8835514b0d43",
   "metadata": {},
   "outputs": [
    {
     "name": "stdout",
     "output_type": "stream",
     "text": [
      "Help on wrapper_descriptor:\n",
      "\n",
      "__init__(self, /, *args, **kwargs)\n",
      "    Initialize self.  See help(type(self)) for accurate signature.\n",
      "\n"
     ]
    }
   ],
   "source": [
    "help(object.__init__)"
   ]
  },
  {
   "cell_type": "code",
   "execution_count": 4,
   "id": "5976afb3-1f83-475a-b9ab-a768010d5231",
   "metadata": {},
   "outputs": [],
   "source": [
    "class Phone:\n",
    "    \"\"\"Phone class.\"\"\"\n",
    "\n",
    "    def __init__(self):\n",
    "        print(f'Inicjalizacja nowego obiektu {self}.')"
   ]
  },
  {
   "cell_type": "code",
   "execution_count": 5,
   "id": "ec5db3c0-de10-4ce1-84b7-ed2b7ea8b2fe",
   "metadata": {},
   "outputs": [
    {
     "name": "stdout",
     "output_type": "stream",
     "text": [
      "Inicjalizacja nowego obiektu <__main__.Phone object at 0x00000136C303C340>.\n"
     ]
    },
    {
     "data": {
      "text/plain": [
       "<__main__.Phone at 0x136c303c340>"
      ]
     },
     "execution_count": 5,
     "metadata": {},
     "output_type": "execute_result"
    }
   ],
   "source": [
    "Phone()"
   ]
  },
  {
   "cell_type": "code",
   "execution_count": 6,
   "id": "a702cc71-79a6-422e-8e11-a92f25b16abf",
   "metadata": {},
   "outputs": [
    {
     "name": "stdout",
     "output_type": "stream",
     "text": [
      "Inicjalizacja nowego obiektu <__main__.Phone object at 0x00000136C4052D90>.\n"
     ]
    }
   ],
   "source": [
    "phone1 = Phone()"
   ]
  },
  {
   "cell_type": "code",
   "execution_count": 7,
   "id": "1bf3e2aa-a8f9-4ee3-9ecb-02287dd03ca9",
   "metadata": {},
   "outputs": [
    {
     "name": "stdout",
     "output_type": "stream",
     "text": [
      "Help on class Phone in module __main__:\n",
      "\n",
      "class Phone(builtins.object)\n",
      " |  Phone class.\n",
      " |  \n",
      " |  Methods defined here:\n",
      " |  \n",
      " |  __init__(self)\n",
      " |      Initialize self.  See help(type(self)) for accurate signature.\n",
      " |  \n",
      " |  ----------------------------------------------------------------------\n",
      " |  Data descriptors defined here:\n",
      " |  \n",
      " |  __dict__\n",
      " |      dictionary for instance variables (if defined)\n",
      " |  \n",
      " |  __weakref__\n",
      " |      list of weak references to the object (if defined)\n",
      "\n"
     ]
    }
   ],
   "source": [
    "help(Phone)"
   ]
  },
  {
   "cell_type": "markdown",
   "id": "179910f3-2c20-4da4-afe0-f77d1ba51c76",
   "metadata": {},
   "source": [
    "### A class call\n",
    "\n",
    "When we call a class, two things happen:\n",
    "* Python does the `__new __ ()` class creating an object of a specific class:\n",
    "``\n",
    "instance = ClassName .__ new __ (ClassName, * args, ** kwargs)\n",
    "``\n",
    "* Python executes the `__init __ ()` method on the instance, initializing the created object:\n",
    "``\n",
    "instance .__ init __ (* args, ** kwargs)\n",
    "``\n"
   ]
  },
  {
   "cell_type": "code",
   "execution_count": 8,
   "id": "ec446a1a-9acc-44d9-9f71-0a564c98b39c",
   "metadata": {},
   "outputs": [
    {
     "name": "stdout",
     "output_type": "stream",
     "text": [
      "Help on built-in function __new__:\n",
      "\n",
      "__new__(*args, **kwargs) method of builtins.type instance\n",
      "    Create and return a new object.  See help(type) for accurate signature.\n",
      "\n"
     ]
    }
   ],
   "source": [
    "help(object.__new__)"
   ]
  },
  {
   "cell_type": "code",
   "execution_count": 9,
   "id": "cb5f0fc7-1c99-4823-9dce-f4cd6f58c6b7",
   "metadata": {},
   "outputs": [
    {
     "name": "stdout",
     "output_type": "stream",
     "text": [
      "Help on wrapper_descriptor:\n",
      "\n",
      "__init__(self, /, *args, **kwargs)\n",
      "    Initialize self.  See help(type(self)) for accurate signature.\n",
      "\n"
     ]
    }
   ],
   "source": [
    "help(object.__init__)"
   ]
  },
  {
   "cell_type": "code",
   "execution_count": 10,
   "id": "b0acceb9-012b-4c85-bcf2-3d4e96463eed",
   "metadata": {},
   "outputs": [],
   "source": [
    "class Phone:\n",
    "    pass\n",
    "\n",
    "phone1 = Phone()"
   ]
  },
  {
   "cell_type": "code",
   "execution_count": 11,
   "id": "bcb43f29-3f4c-4a1f-8538-2ab86fbef5c1",
   "metadata": {},
   "outputs": [
    {
     "data": {
      "text/plain": [
       "<__main__.Phone at 0x136c40524f0>"
      ]
     },
     "execution_count": 11,
     "metadata": {},
     "output_type": "execute_result"
    }
   ],
   "source": [
    "Phone.__new__(Phone)"
   ]
  },
  {
   "cell_type": "code",
   "execution_count": 12,
   "id": "82cd1319-5cf0-4e4b-8daf-a4bb5ad67267",
   "metadata": {},
   "outputs": [],
   "source": [
    "phone2 = Phone.__new__(Phone)"
   ]
  },
  {
   "cell_type": "code",
   "execution_count": 13,
   "id": "ee4814ae-d71a-4e55-9764-25ae080e21ae",
   "metadata": {},
   "outputs": [],
   "source": [
    "phone2.__init__()"
   ]
  },
  {
   "cell_type": "code",
   "execution_count": null,
   "id": "b2ed0993-5c73-4b42-97c3-eb5586b5bc8b",
   "metadata": {},
   "outputs": [],
   "source": []
  }
 ],
 "metadata": {
  "kernelspec": {
   "display_name": "Python 3 (ipykernel)",
   "language": "python",
   "name": "python3"
  },
  "language_info": {
   "codemirror_mode": {
    "name": "ipython",
    "version": 3
   },
   "file_extension": ".py",
   "mimetype": "text/x-python",
   "name": "python",
   "nbconvert_exporter": "python",
   "pygments_lexer": "ipython3",
   "version": "3.9.7"
  }
 },
 "nbformat": 4,
 "nbformat_minor": 5
}
