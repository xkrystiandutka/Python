{
 "cells": [
  {
   "cell_type": "markdown",
   "id": "37381bb4-94b1-4306-8253-ce9dc94ff820",
   "metadata": {},
   "source": [
    "# Static method - decorator @staticmethod"
   ]
  },
  {
   "cell_type": "code",
   "execution_count": 1,
   "id": "5b740cee-0eb8-4d14-83eb-030319b4e712",
   "metadata": {},
   "outputs": [
    {
     "name": "stdout",
     "output_type": "stream",
     "text": [
      "Help on class staticmethod in module builtins:\n",
      "\n",
      "class staticmethod(object)\n",
      " |  staticmethod(function) -> method\n",
      " |  \n",
      " |  Convert a function to be a static method.\n",
      " |  \n",
      " |  A static method does not receive an implicit first argument.\n",
      " |  To declare a static method, use this idiom:\n",
      " |  \n",
      " |       class C:\n",
      " |           @staticmethod\n",
      " |           def f(arg1, arg2, ...):\n",
      " |               ...\n",
      " |  \n",
      " |  It can be called either on the class (e.g. C.f()) or on an instance\n",
      " |  (e.g. C().f()). Both the class and the instance are ignored, and\n",
      " |  neither is passed implicitly as the first argument to the method.\n",
      " |  \n",
      " |  Static methods in Python are similar to those found in Java or C++.\n",
      " |  For a more advanced concept, see the classmethod builtin.\n",
      " |  \n",
      " |  Methods defined here:\n",
      " |  \n",
      " |  __get__(self, instance, owner, /)\n",
      " |      Return an attribute of instance, which is of type owner.\n",
      " |  \n",
      " |  __init__(self, /, *args, **kwargs)\n",
      " |      Initialize self.  See help(type(self)) for accurate signature.\n",
      " |  \n",
      " |  ----------------------------------------------------------------------\n",
      " |  Static methods defined here:\n",
      " |  \n",
      " |  __new__(*args, **kwargs) from builtins.type\n",
      " |      Create and return a new object.  See help(type) for accurate signature.\n",
      " |  \n",
      " |  ----------------------------------------------------------------------\n",
      " |  Data descriptors defined here:\n",
      " |  \n",
      " |  __dict__\n",
      " |  \n",
      " |  __func__\n",
      " |  \n",
      " |  __isabstractmethod__\n",
      "\n"
     ]
    }
   ],
   "source": [
    "help(staticmethod)"
   ]
  },
  {
   "cell_type": "code",
   "execution_count": 2,
   "id": "d127628d-eb63-4307-ad58-28b60cf63e64",
   "metadata": {},
   "outputs": [
    {
     "data": {
      "text/plain": [
       "mappingproxy({'__module__': '__main__',\n",
       "              'get_current_time': <function __main__.Phone.get_current_time()>,\n",
       "              '__dict__': <attribute '__dict__' of 'Phone' objects>,\n",
       "              '__weakref__': <attribute '__weakref__' of 'Phone' objects>,\n",
       "              '__doc__': None})"
      ]
     },
     "execution_count": 2,
     "metadata": {},
     "output_type": "execute_result"
    }
   ],
   "source": [
    "import time\n",
    "\n",
    "\n",
    "class Phone:\n",
    "\n",
    "    def get_current_time():\n",
    "        return time.strftime('%H:%M:%S', time.localtime())\n",
    "\n",
    "Phone.__dict__"
   ]
  },
  {
   "cell_type": "code",
   "execution_count": 3,
   "id": "e009a6c2-fa3e-435c-a30d-95b4258ba60f",
   "metadata": {},
   "outputs": [
    {
     "data": {
      "text/plain": [
       "'12:43:46'"
      ]
     },
     "execution_count": 3,
     "metadata": {},
     "output_type": "execute_result"
    }
   ],
   "source": [
    "Phone.get_current_time()"
   ]
  },
  {
   "cell_type": "code",
   "execution_count": 4,
   "id": "a503a000-b4aa-4204-b2ee-8d4c9b8efe36",
   "metadata": {},
   "outputs": [
    {
     "data": {
      "text/plain": [
       "<bound method Phone.get_current_time of <__main__.Phone object at 0x0000015D0406C5B0>>"
      ]
     },
     "execution_count": 4,
     "metadata": {},
     "output_type": "execute_result"
    }
   ],
   "source": [
    "phone = Phone()\n",
    "phone.get_current_time"
   ]
  },
  {
   "cell_type": "code",
   "execution_count": 6,
   "id": "998509ca-e49b-444d-93b4-590b736f9c2b",
   "metadata": {},
   "outputs": [],
   "source": [
    "#phone.get_current_time()\n",
    "#TypeError: get_current_time() takes 0 positional arguments but 1 was given"
   ]
  },
  {
   "cell_type": "code",
   "execution_count": 8,
   "id": "45a90913-d462-4e22-90e3-226def47ad5d",
   "metadata": {},
   "outputs": [
    {
     "data": {
      "text/plain": [
       "mappingproxy({'__module__': '__main__',\n",
       "              'get_current_time': <staticmethod at 0x15d04067220>,\n",
       "              '__dict__': <attribute '__dict__' of 'Phone' objects>,\n",
       "              '__weakref__': <attribute '__weakref__' of 'Phone' objects>,\n",
       "              '__doc__': None})"
      ]
     },
     "execution_count": 8,
     "metadata": {},
     "output_type": "execute_result"
    }
   ],
   "source": [
    "import time\n",
    "\n",
    "\n",
    "class Phone:\n",
    "\n",
    "    def get_current_time():\n",
    "        return time.strftime('%H:%M:%S', time.localtime())\n",
    "\n",
    "    get_current_time = staticmethod(get_current_time)\n",
    "\n",
    "Phone.__dict__"
   ]
  },
  {
   "cell_type": "code",
   "execution_count": 10,
   "id": "9bf6a9c6-f042-4093-a6b0-b53896312a2f",
   "metadata": {},
   "outputs": [
    {
     "data": {
      "text/plain": [
       "'12:44:25'"
      ]
     },
     "execution_count": 10,
     "metadata": {},
     "output_type": "execute_result"
    }
   ],
   "source": [
    "Phone.get_current_time()"
   ]
  },
  {
   "cell_type": "code",
   "execution_count": 11,
   "id": "def7196c-5355-423b-9f96-5be4fe7e79f3",
   "metadata": {},
   "outputs": [
    {
     "data": {
      "text/plain": [
       "<function __main__.Phone.get_current_time()>"
      ]
     },
     "execution_count": 11,
     "metadata": {},
     "output_type": "execute_result"
    }
   ],
   "source": [
    "phone = Phone()\n",
    "phone.get_current_time"
   ]
  },
  {
   "cell_type": "code",
   "execution_count": 12,
   "id": "04a9370a-18a7-4cbe-8e01-6750d529dd72",
   "metadata": {},
   "outputs": [
    {
     "data": {
      "text/plain": [
       "'12:44:37'"
      ]
     },
     "execution_count": 12,
     "metadata": {},
     "output_type": "execute_result"
    }
   ],
   "source": [
    "phone.get_current_time()"
   ]
  },
  {
   "cell_type": "code",
   "execution_count": 13,
   "id": "2c669ee7-02ed-434d-b655-38c5712a7fd3",
   "metadata": {},
   "outputs": [
    {
     "data": {
      "text/plain": [
       "mappingproxy({'__module__': '__main__',\n",
       "              'get_current_time': <staticmethod at 0x15d0407cb50>,\n",
       "              '__dict__': <attribute '__dict__' of 'Phone' objects>,\n",
       "              '__weakref__': <attribute '__weakref__' of 'Phone' objects>,\n",
       "              '__doc__': None})"
      ]
     },
     "execution_count": 13,
     "metadata": {},
     "output_type": "execute_result"
    }
   ],
   "source": [
    "import time\n",
    "\n",
    "\n",
    "class Phone:\n",
    "\n",
    "    @staticmethod\n",
    "    def get_current_time():\n",
    "        return time.strftime('%H:%M:%S', time.localtime())\n",
    "\n",
    "Phone.__dict__"
   ]
  },
  {
   "cell_type": "code",
   "execution_count": 14,
   "id": "9d667a2d-fa95-4383-97cf-d8f8e4b066cc",
   "metadata": {},
   "outputs": [
    {
     "data": {
      "text/plain": [
       "'12:53:06'"
      ]
     },
     "execution_count": 14,
     "metadata": {},
     "output_type": "execute_result"
    }
   ],
   "source": [
    "Phone.get_current_time()"
   ]
  },
  {
   "cell_type": "code",
   "execution_count": 15,
   "id": "6101fd0d-485e-4ed2-9f3e-cb3178b90f66",
   "metadata": {},
   "outputs": [
    {
     "data": {
      "text/plain": [
       "<function __main__.Phone.get_current_time()>"
      ]
     },
     "execution_count": 15,
     "metadata": {},
     "output_type": "execute_result"
    }
   ],
   "source": [
    "phone = Phone()\n",
    "phone.get_current_time"
   ]
  },
  {
   "cell_type": "code",
   "execution_count": 17,
   "id": "2dc1ce6e-0621-4516-bb9d-94cfad2316b6",
   "metadata": {},
   "outputs": [
    {
     "data": {
      "text/plain": [
       "'12:53:18'"
      ]
     },
     "execution_count": 17,
     "metadata": {},
     "output_type": "execute_result"
    }
   ],
   "source": [
    "phone.get_current_time()"
   ]
  },
  {
   "cell_type": "markdown",
   "id": "db7606ae-9c2f-4229-9830-7acb8b55bf72",
   "metadata": {},
   "source": [
    "## Example"
   ]
  },
  {
   "cell_type": "code",
   "execution_count": 18,
   "id": "af43fdff-7eb6-4a69-b95f-9823cd72c962",
   "metadata": {},
   "outputs": [
    {
     "data": {
      "text/plain": [
       "mappingproxy({'__module__': '__main__',\n",
       "              'instances': [],\n",
       "              '__init__': <function __main__.Phone.__init__(self)>,\n",
       "              'get_current_time': <staticmethod at 0x15d050924c0>,\n",
       "              '__dict__': <attribute '__dict__' of 'Phone' objects>,\n",
       "              '__weakref__': <attribute '__weakref__' of 'Phone' objects>,\n",
       "              '__doc__': None})"
      ]
     },
     "execution_count": 18,
     "metadata": {},
     "output_type": "execute_result"
    }
   ],
   "source": [
    "import time\n",
    "\n",
    "\n",
    "class Phone:\n",
    "\n",
    "    instances = []\n",
    "\n",
    "    def __init__(self):\n",
    "        creation_time = Phone.get_current_time()\n",
    "        Phone.instances.append((creation_time, self))\n",
    "\n",
    "    @staticmethod\n",
    "    def get_current_time():\n",
    "        return time.strftime('%H:%M:%S', time.localtime())\n",
    "\n",
    "Phone.__dict__"
   ]
  },
  {
   "cell_type": "code",
   "execution_count": 19,
   "id": "65ee3b47-b12e-41db-bc0d-6357c1dce552",
   "metadata": {},
   "outputs": [],
   "source": [
    "phone1 = Phone()\n",
    "time.sleep(1)\n",
    "phone2 = Phone()\n",
    "time.sleep(2)\n",
    "phone3 = Phone()"
   ]
  },
  {
   "cell_type": "code",
   "execution_count": 20,
   "id": "e54a0521-3602-4787-bbc4-849e9f42a3f4",
   "metadata": {},
   "outputs": [
    {
     "data": {
      "text/plain": [
       "[('13:02:03', <__main__.Phone at 0x15d05092910>),\n",
       " ('13:02:04', <__main__.Phone at 0x15d040679d0>),\n",
       " ('13:02:06', <__main__.Phone at 0x15d040671c0>)]"
      ]
     },
     "execution_count": 20,
     "metadata": {},
     "output_type": "execute_result"
    }
   ],
   "source": [
    "Phone.instances"
   ]
  },
  {
   "cell_type": "code",
   "execution_count": 21,
   "id": "a9a455c5-be4a-43c6-8cf0-e4c9b5d2c5cf",
   "metadata": {},
   "outputs": [
    {
     "data": {
      "text/plain": [
       "mappingproxy({'__module__': '__main__',\n",
       "              'instances': [],\n",
       "              '__init__': <function __main__.Phone.__init__(self)>,\n",
       "              'get_current_time': <staticmethod at 0x15d0407cc10>,\n",
       "              '__dict__': <attribute '__dict__' of 'Phone' objects>,\n",
       "              '__weakref__': <attribute '__weakref__' of 'Phone' objects>,\n",
       "              '__doc__': None})"
      ]
     },
     "execution_count": 21,
     "metadata": {},
     "output_type": "execute_result"
    }
   ],
   "source": [
    "import time\n",
    "\n",
    "\n",
    "class Phone:\n",
    "\n",
    "    instances = []\n",
    "\n",
    "    def __init__(self):\n",
    "        self.creation_time = Phone.get_current_time()\n",
    "        Phone.instances.append(self)\n",
    "\n",
    "    @staticmethod\n",
    "    def get_current_time():\n",
    "        return time.strftime('%H:%M:%S', time.localtime())\n",
    "\n",
    "Phone.__dict__"
   ]
  },
  {
   "cell_type": "code",
   "execution_count": 22,
   "id": "ea37ef09-3fd8-4d86-9ae5-7034d491ccc1",
   "metadata": {},
   "outputs": [],
   "source": [
    "phone1 = Phone()\n",
    "time.sleep(1)\n",
    "phone2 = Phone()\n",
    "time.sleep(2)\n",
    "phone3 = Phone()"
   ]
  },
  {
   "cell_type": "code",
   "execution_count": 23,
   "id": "fab85966-8a33-489c-a28a-75961f2ad943",
   "metadata": {},
   "outputs": [
    {
     "data": {
      "text/plain": [
       "[<__main__.Phone at 0x15d0406c5e0>,\n",
       " <__main__.Phone at 0x15d04067910>,\n",
       " <__main__.Phone at 0x15d040671f0>]"
      ]
     },
     "execution_count": 23,
     "metadata": {},
     "output_type": "execute_result"
    }
   ],
   "source": [
    "Phone.instances"
   ]
  },
  {
   "cell_type": "code",
   "execution_count": 24,
   "id": "c7874920-c9bf-46e1-a254-d286f1fd87b4",
   "metadata": {},
   "outputs": [
    {
     "name": "stdout",
     "output_type": "stream",
     "text": [
      "13:02:14 <__main__.Phone object at 0x0000015D0406C5E0>\n",
      "13:02:15 <__main__.Phone object at 0x0000015D04067910>\n",
      "13:02:17 <__main__.Phone object at 0x0000015D040671F0>\n"
     ]
    }
   ],
   "source": [
    "for instance in Phone.instances:\n",
    "    print(instance.creation_time, instance)"
   ]
  },
  {
   "cell_type": "markdown",
   "id": "70a5d275-b3b8-48a8-904c-cdefd345f5e3",
   "metadata": {},
   "source": [
    "## Example2"
   ]
  },
  {
   "cell_type": "code",
   "execution_count": 25,
   "id": "1fe06b4e-c1a6-4b48-ad1f-27ced48c7031",
   "metadata": {},
   "outputs": [
    {
     "data": {
      "text/plain": [
       "mappingproxy({'__module__': '__main__',\n",
       "              '__init__': <function __main__.Person.__init__(self, input_str)>,\n",
       "              'name': <property at 0x15d05158220>,\n",
       "              'surname': <property at 0x15d05104e50>,\n",
       "              '__dict__': <attribute '__dict__' of 'Person' objects>,\n",
       "              '__weakref__': <attribute '__weakref__' of 'Person' objects>,\n",
       "              '__doc__': None})"
      ]
     },
     "execution_count": 25,
     "metadata": {},
     "output_type": "execute_result"
    }
   ],
   "source": [
    "class Person:\n",
    "\n",
    "    def __init__(self, input_str):\n",
    "        items = input_str.split(' ')\n",
    "        if len(items) > 1:\n",
    "            self._name = items[0]\n",
    "            self._surname = items[1]\n",
    "        else:\n",
    "            raise ValueError('The object cannot be created.')\n",
    "\n",
    "    @property\n",
    "    def name(self):\n",
    "        return self._name\n",
    "\n",
    "    @property\n",
    "    def surname(self):\n",
    "        return self._surname \n",
    "\n",
    "Person.__dict__"
   ]
  },
  {
   "cell_type": "code",
   "execution_count": 26,
   "id": "f3fe5d59-e01b-4fdf-8fcb-73973ec1f450",
   "metadata": {},
   "outputs": [],
   "source": [
    "person = Person('Mark Twain')"
   ]
  },
  {
   "cell_type": "code",
   "execution_count": 27,
   "id": "9b833ecd-8de9-4f6c-8802-8f83bebcd691",
   "metadata": {},
   "outputs": [
    {
     "data": {
      "text/plain": [
       "{'_name': 'Mark', '_surname': 'Twain'}"
      ]
     },
     "execution_count": 27,
     "metadata": {},
     "output_type": "execute_result"
    }
   ],
   "source": [
    "person.__dict__"
   ]
  },
  {
   "cell_type": "code",
   "execution_count": 28,
   "id": "7a211f5b-f964-4635-a9ee-935c3f07399e",
   "metadata": {},
   "outputs": [
    {
     "data": {
      "text/plain": [
       "('Mark', 'Twain')"
      ]
     },
     "execution_count": 28,
     "metadata": {},
     "output_type": "execute_result"
    }
   ],
   "source": [
    "person.name, person.surname"
   ]
  },
  {
   "cell_type": "code",
   "execution_count": 32,
   "id": "9ff9e384-2dfb-4084-b06d-d9a80a079a7c",
   "metadata": {},
   "outputs": [],
   "source": [
    "#person = Person('Mark')\n",
    "#person = Person('Mark-Twain')\n",
    "#ValueError: The object cannot be created."
   ]
  },
  {
   "cell_type": "code",
   "execution_count": 33,
   "id": "146d206f-2c5c-43eb-9162-47dbd8d22545",
   "metadata": {},
   "outputs": [
    {
     "data": {
      "text/plain": [
       "mappingproxy({'__module__': '__main__',\n",
       "              '__init__': <function __main__.Person.__init__(self, input_str)>,\n",
       "              'name': <property at 0x15d05158400>,\n",
       "              'surname': <property at 0x15d05162810>,\n",
       "              '_is_string_with_space': <staticmethod at 0x15d0515d0a0>,\n",
       "              '__dict__': <attribute '__dict__' of 'Person' objects>,\n",
       "              '__weakref__': <attribute '__weakref__' of 'Person' objects>,\n",
       "              '__doc__': None})"
      ]
     },
     "execution_count": 33,
     "metadata": {},
     "output_type": "execute_result"
    }
   ],
   "source": [
    "class Person:\n",
    "\n",
    "    def __init__(self, input_str):\n",
    "        if Person._is_string_with_space(input_str):\n",
    "            items = input_str.split(' ')\n",
    "            if len(items) == 2:\n",
    "                self._name = items[0]\n",
    "                self._surname = items[1]\n",
    "            else:\n",
    "                raise ValueError('The object cannot be created.')\n",
    "        else:\n",
    "            raise ValueError('Please insert a space between your name and '\n",
    "                'surname.')\n",
    "\n",
    "    @property\n",
    "    def name(self):\n",
    "        return self._name\n",
    "\n",
    "    @property\n",
    "    def surname(self):\n",
    "        return self._surname \n",
    "\n",
    "    @staticmethod\n",
    "    def _is_string_with_space(input_str):\n",
    "        return isinstance(input_str, str) and ' ' in input_str\n",
    "\n",
    "Person.__dict__"
   ]
  },
  {
   "cell_type": "code",
   "execution_count": 34,
   "id": "b0b002a9-7563-44f0-b692-a2917fae9b42",
   "metadata": {},
   "outputs": [],
   "source": [
    "person = Person('Mark Twain')"
   ]
  },
  {
   "cell_type": "code",
   "execution_count": 35,
   "id": "562b1465-d52f-413c-8caa-1d87b361ec7d",
   "metadata": {},
   "outputs": [
    {
     "data": {
      "text/plain": [
       "('Mark', 'Twain')"
      ]
     },
     "execution_count": 35,
     "metadata": {},
     "output_type": "execute_result"
    }
   ],
   "source": [
    "person.name, person.surname"
   ]
  },
  {
   "cell_type": "code",
   "execution_count": 44,
   "id": "6d02df4f-f3a9-408e-8fc8-0d8508f5db01",
   "metadata": {},
   "outputs": [],
   "source": [
    "#person = Person('Mark_Twain')\n",
    "#person = Person(4)\n",
    "#ValueError: Please insert a space between your name and surname."
   ]
  },
  {
   "cell_type": "code",
   "execution_count": 45,
   "id": "d45c33e5-5805-46f6-b4e4-5bddd3657aa8",
   "metadata": {},
   "outputs": [],
   "source": [
    "person = Person('Mark Twain')"
   ]
  },
  {
   "cell_type": "markdown",
   "id": "ff37287e-1d71-4b5c-8c0b-a916a81f5b6c",
   "metadata": {},
   "source": [
    "## task1 \n",
    "### Define a Container class that will have a static method (use the @staticmethod decorator) named get_current_time() that returns the current time in the format '%H:%M:%S', e.g. '09:45:10'."
   ]
  },
  {
   "cell_type": "code",
   "execution_count": 48,
   "id": "1cd7ded9-1bc9-4c98-96d0-238a743346b8",
   "metadata": {},
   "outputs": [],
   "source": [
    "class Container:\n",
    " \n",
    "    @staticmethod\n",
    "    def get_current_time():\n",
    "        return time.strftime('%H:%M:%S', time.localtime())"
   ]
  },
  {
   "cell_type": "code",
   "execution_count": null,
   "id": "05d9e0ef-c4a9-4de7-9391-c7276547e636",
   "metadata": {},
   "outputs": [],
   "source": []
  }
 ],
 "metadata": {
  "kernelspec": {
   "display_name": "Python 3 (ipykernel)",
   "language": "python",
   "name": "python3"
  },
  "language_info": {
   "codemirror_mode": {
    "name": "ipython",
    "version": 3
   },
   "file_extension": ".py",
   "mimetype": "text/x-python",
   "name": "python",
   "nbconvert_exporter": "python",
   "pygments_lexer": "ipython3",
   "version": "3.9.7"
  }
 },
 "nbformat": 4,
 "nbformat_minor": 5
}
