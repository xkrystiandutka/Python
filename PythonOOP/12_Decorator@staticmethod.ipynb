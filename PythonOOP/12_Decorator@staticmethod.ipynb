{
 "cells": [
  {
   "cell_type": "markdown",
   "id": "37381bb4-94b1-4306-8253-ce9dc94ff820",
   "metadata": {},
   "source": [
    "# Static method - decorator @staticmethod"
   ]
  },
  {
   "cell_type": "code",
   "execution_count": 1,
   "id": "5b740cee-0eb8-4d14-83eb-030319b4e712",
   "metadata": {},
   "outputs": [
    {
     "name": "stdout",
     "output_type": "stream",
     "text": [
      "Help on class staticmethod in module builtins:\n",
      "\n",
      "class staticmethod(object)\n",
      " |  staticmethod(function) -> method\n",
      " |  \n",
      " |  Convert a function to be a static method.\n",
      " |  \n",
      " |  A static method does not receive an implicit first argument.\n",
      " |  To declare a static method, use this idiom:\n",
      " |  \n",
      " |       class C:\n",
      " |           @staticmethod\n",
      " |           def f(arg1, arg2, ...):\n",
      " |               ...\n",
      " |  \n",
      " |  It can be called either on the class (e.g. C.f()) or on an instance\n",
      " |  (e.g. C().f()). Both the class and the instance are ignored, and\n",
      " |  neither is passed implicitly as the first argument to the method.\n",
      " |  \n",
      " |  Static methods in Python are similar to those found in Java or C++.\n",
      " |  For a more advanced concept, see the classmethod builtin.\n",
      " |  \n",
      " |  Methods defined here:\n",
      " |  \n",
      " |  __get__(self, instance, owner, /)\n",
      " |      Return an attribute of instance, which is of type owner.\n",
      " |  \n",
      " |  __init__(self, /, *args, **kwargs)\n",
      " |      Initialize self.  See help(type(self)) for accurate signature.\n",
      " |  \n",
      " |  ----------------------------------------------------------------------\n",
      " |  Static methods defined here:\n",
      " |  \n",
      " |  __new__(*args, **kwargs) from builtins.type\n",
      " |      Create and return a new object.  See help(type) for accurate signature.\n",
      " |  \n",
      " |  ----------------------------------------------------------------------\n",
      " |  Data descriptors defined here:\n",
      " |  \n",
      " |  __dict__\n",
      " |  \n",
      " |  __func__\n",
      " |  \n",
      " |  __isabstractmethod__\n",
      "\n"
     ]
    }
   ],
   "source": [
    "help(staticmethod)"
   ]
  },
  {
   "cell_type": "code",
   "execution_count": 2,
   "id": "d127628d-eb63-4307-ad58-28b60cf63e64",
   "metadata": {},
   "outputs": [
    {
     "data": {
      "text/plain": [
       "mappingproxy({'__module__': '__main__',\n",
       "              'get_current_time': <function __main__.Phone.get_current_time()>,\n",
       "              '__dict__': <attribute '__dict__' of 'Phone' objects>,\n",
       "              '__weakref__': <attribute '__weakref__' of 'Phone' objects>,\n",
       "              '__doc__': None})"
      ]
     },
     "execution_count": 2,
     "metadata": {},
     "output_type": "execute_result"
    }
   ],
   "source": [
    "import time\n",
    "\n",
    "\n",
    "class Phone:\n",
    "\n",
    "    def get_current_time():\n",
    "        return time.strftime('%H:%M:%S', time.localtime())\n",
    "\n",
    "Phone.__dict__"
   ]
  },
  {
   "cell_type": "code",
   "execution_count": 3,
   "id": "e009a6c2-fa3e-435c-a30d-95b4258ba60f",
   "metadata": {},
   "outputs": [
    {
     "data": {
      "text/plain": [
       "'12:43:46'"
      ]
     },
     "execution_count": 3,
     "metadata": {},
     "output_type": "execute_result"
    }
   ],
   "source": [
    "Phone.get_current_time()"
   ]
  },
  {
   "cell_type": "code",
   "execution_count": 4,
   "id": "a503a000-b4aa-4204-b2ee-8d4c9b8efe36",
   "metadata": {},
   "outputs": [
    {
     "data": {
      "text/plain": [
       "<bound method Phone.get_current_time of <__main__.Phone object at 0x0000015D0406C5B0>>"
      ]
     },
     "execution_count": 4,
     "metadata": {},
     "output_type": "execute_result"
    }
   ],
   "source": [
    "phone = Phone()\n",
    "phone.get_current_time"
   ]
  },
  {
   "cell_type": "code",
   "execution_count": 6,
   "id": "998509ca-e49b-444d-93b4-590b736f9c2b",
   "metadata": {},
   "outputs": [],
   "source": [
    "#phone.get_current_time()\n",
    "#TypeError: get_current_time() takes 0 positional arguments but 1 was given"
   ]
  },
  {
   "cell_type": "code",
   "execution_count": 8,
   "id": "45a90913-d462-4e22-90e3-226def47ad5d",
   "metadata": {},
   "outputs": [
    {
     "data": {
      "text/plain": [
       "mappingproxy({'__module__': '__main__',\n",
       "              'get_current_time': <staticmethod at 0x15d04067220>,\n",
       "              '__dict__': <attribute '__dict__' of 'Phone' objects>,\n",
       "              '__weakref__': <attribute '__weakref__' of 'Phone' objects>,\n",
       "              '__doc__': None})"
      ]
     },
     "execution_count": 8,
     "metadata": {},
     "output_type": "execute_result"
    }
   ],
   "source": [
    "import time\n",
    "\n",
    "\n",
    "class Phone:\n",
    "\n",
    "    def get_current_time():\n",
    "        return time.strftime('%H:%M:%S', time.localtime())\n",
    "\n",
    "    get_current_time = staticmethod(get_current_time)\n",
    "\n",
    "Phone.__dict__"
   ]
  },
  {
   "cell_type": "code",
   "execution_count": 10,
   "id": "9bf6a9c6-f042-4093-a6b0-b53896312a2f",
   "metadata": {},
   "outputs": [
    {
     "data": {
      "text/plain": [
       "'12:44:25'"
      ]
     },
     "execution_count": 10,
     "metadata": {},
     "output_type": "execute_result"
    }
   ],
   "source": [
    "Phone.get_current_time()"
   ]
  },
  {
   "cell_type": "code",
   "execution_count": 11,
   "id": "def7196c-5355-423b-9f96-5be4fe7e79f3",
   "metadata": {},
   "outputs": [
    {
     "data": {
      "text/plain": [
       "<function __main__.Phone.get_current_time()>"
      ]
     },
     "execution_count": 11,
     "metadata": {},
     "output_type": "execute_result"
    }
   ],
   "source": [
    "phone = Phone()\n",
    "phone.get_current_time"
   ]
  },
  {
   "cell_type": "code",
   "execution_count": 12,
   "id": "04a9370a-18a7-4cbe-8e01-6750d529dd72",
   "metadata": {},
   "outputs": [
    {
     "data": {
      "text/plain": [
       "'12:44:37'"
      ]
     },
     "execution_count": 12,
     "metadata": {},
     "output_type": "execute_result"
    }
   ],
   "source": [
    "phone.get_current_time()"
   ]
  },
  {
   "cell_type": "code",
   "execution_count": 13,
   "id": "2c669ee7-02ed-434d-b655-38c5712a7fd3",
   "metadata": {},
   "outputs": [
    {
     "data": {
      "text/plain": [
       "mappingproxy({'__module__': '__main__',\n",
       "              'get_current_time': <staticmethod at 0x15d0407cb50>,\n",
       "              '__dict__': <attribute '__dict__' of 'Phone' objects>,\n",
       "              '__weakref__': <attribute '__weakref__' of 'Phone' objects>,\n",
       "              '__doc__': None})"
      ]
     },
     "execution_count": 13,
     "metadata": {},
     "output_type": "execute_result"
    }
   ],
   "source": [
    "import time\n",
    "\n",
    "\n",
    "class Phone:\n",
    "\n",
    "    @staticmethod\n",
    "    def get_current_time():\n",
    "        return time.strftime('%H:%M:%S', time.localtime())\n",
    "\n",
    "Phone.__dict__"
   ]
  },
  {
   "cell_type": "code",
   "execution_count": 14,
   "id": "9d667a2d-fa95-4383-97cf-d8f8e4b066cc",
   "metadata": {},
   "outputs": [
    {
     "data": {
      "text/plain": [
       "'12:53:06'"
      ]
     },
     "execution_count": 14,
     "metadata": {},
     "output_type": "execute_result"
    }
   ],
   "source": [
    "Phone.get_current_time()"
   ]
  },
  {
   "cell_type": "code",
   "execution_count": 15,
   "id": "6101fd0d-485e-4ed2-9f3e-cb3178b90f66",
   "metadata": {},
   "outputs": [
    {
     "data": {
      "text/plain": [
       "<function __main__.Phone.get_current_time()>"
      ]
     },
     "execution_count": 15,
     "metadata": {},
     "output_type": "execute_result"
    }
   ],
   "source": [
    "phone = Phone()\n",
    "phone.get_current_time"
   ]
  },
  {
   "cell_type": "code",
   "execution_count": 17,
   "id": "2dc1ce6e-0621-4516-bb9d-94cfad2316b6",
   "metadata": {},
   "outputs": [
    {
     "data": {
      "text/plain": [
       "'12:53:18'"
      ]
     },
     "execution_count": 17,
     "metadata": {},
     "output_type": "execute_result"
    }
   ],
   "source": [
    "phone.get_current_time()"
   ]
  },
  {
   "cell_type": "code",
   "execution_count": null,
   "id": "172e9576-3304-4692-9bda-0c9990dfd2d7",
   "metadata": {},
   "outputs": [],
   "source": []
  }
 ],
 "metadata": {
  "kernelspec": {
   "display_name": "Python 3 (ipykernel)",
   "language": "python",
   "name": "python3"
  },
  "language_info": {
   "codemirror_mode": {
    "name": "ipython",
    "version": 3
   },
   "file_extension": ".py",
   "mimetype": "text/x-python",
   "name": "python",
   "nbconvert_exporter": "python",
   "pygments_lexer": "ipython3",
   "version": "3.9.7"
  }
 },
 "nbformat": 4,
 "nbformat_minor": 5
}
