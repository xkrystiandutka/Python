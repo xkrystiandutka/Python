{
 "cells": [
  {
   "cell_type": "markdown",
   "id": "34242e03-7248-4581-a4c2-b4947a941894",
   "metadata": {},
   "source": [
    "# Visibility Variables"
   ]
  },
  {
   "cell_type": "code",
   "execution_count": 1,
   "id": "e0bae540-aa80-4341-b45b-c824f79ffc39",
   "metadata": {},
   "outputs": [
    {
     "data": {
      "text/plain": [
       "mappingproxy({'__module__': '__main__',\n",
       "              'brand': 'Apple',\n",
       "              '__dict__': <attribute '__dict__' of 'Laptop' objects>,\n",
       "              '__weakref__': <attribute '__weakref__' of 'Laptop' objects>,\n",
       "              '__doc__': None})"
      ]
     },
     "execution_count": 1,
     "metadata": {},
     "output_type": "execute_result"
    }
   ],
   "source": [
    "class Laptop:\n",
    "\n",
    "    brand = 'Apple'\n",
    "\n",
    "Laptop.__dict__"
   ]
  },
  {
   "cell_type": "code",
   "execution_count": 2,
   "id": "dba43a83-c326-4916-8a32-e9918e08b71b",
   "metadata": {},
   "outputs": [
    {
     "data": {
      "text/plain": [
       "'Apple'"
      ]
     },
     "execution_count": 2,
     "metadata": {},
     "output_type": "execute_result"
    }
   ],
   "source": [
    "Laptop.brand"
   ]
  },
  {
   "cell_type": "code",
   "execution_count": 3,
   "id": "1c1ff3fe-779b-4bb4-95ef-15326e6ef6a8",
   "metadata": {},
   "outputs": [
    {
     "data": {
      "text/plain": [
       "mappingproxy({'__module__': '__main__',\n",
       "              'brand': 'Apple',\n",
       "              '_code': '0034',\n",
       "              '__dict__': <attribute '__dict__' of 'Laptop' objects>,\n",
       "              '__weakref__': <attribute '__weakref__' of 'Laptop' objects>,\n",
       "              '__doc__': None})"
      ]
     },
     "execution_count": 3,
     "metadata": {},
     "output_type": "execute_result"
    }
   ],
   "source": [
    "class Laptop:\n",
    "\n",
    "    brand = 'Apple'\n",
    "    _code = '0034'\n",
    "\n",
    "Laptop.__dict__"
   ]
  },
  {
   "cell_type": "code",
   "execution_count": 4,
   "id": "683421d3-5509-43d4-acf6-dae60ee21a95",
   "metadata": {},
   "outputs": [
    {
     "data": {
      "text/plain": [
       "'0034'"
      ]
     },
     "execution_count": 4,
     "metadata": {},
     "output_type": "execute_result"
    }
   ],
   "source": [
    "Laptop._code"
   ]
  },
  {
   "cell_type": "code",
   "execution_count": 5,
   "id": "c9c3a6ef-fea5-4c01-b913-5f6b174d69c5",
   "metadata": {},
   "outputs": [
    {
     "data": {
      "text/plain": [
       "mappingproxy({'__module__': '__main__',\n",
       "              'brand': 'Apple',\n",
       "              '_code': '0034',\n",
       "              '_Laptop__wholesale_price': 2490,\n",
       "              '__dict__': <attribute '__dict__' of 'Laptop' objects>,\n",
       "              '__weakref__': <attribute '__weakref__' of 'Laptop' objects>,\n",
       "              '__doc__': None})"
      ]
     },
     "execution_count": 5,
     "metadata": {},
     "output_type": "execute_result"
    }
   ],
   "source": [
    "class Laptop:\n",
    "\n",
    "    brand = 'Apple'\n",
    "    _code = '0034'\n",
    "    __wholesale_price = 2490\n",
    "\n",
    "Laptop.__dict__"
   ]
  },
  {
   "cell_type": "code",
   "execution_count": 6,
   "id": "36cdce55-f2af-451f-9392-a37edf7a709e",
   "metadata": {},
   "outputs": [
    {
     "data": {
      "text/plain": [
       "2490"
      ]
     },
     "execution_count": 6,
     "metadata": {},
     "output_type": "execute_result"
    }
   ],
   "source": [
    "Laptop._Laptop__wholesale_price"
   ]
  },
  {
   "cell_type": "code",
   "execution_count": 9,
   "id": "1725a512-31d8-4163-8408-fcf8e2c47ca9",
   "metadata": {},
   "outputs": [],
   "source": [
    "#Laptop.__wholesale_price\n",
    "#AttributeError: type object 'Laptop' has no attribute '__wholesale_price'"
   ]
  },
  {
   "cell_type": "markdown",
   "id": "1c87e495-8beb-457d-a6d1-8456949ed9a9",
   "metadata": {},
   "source": [
    "##  Public, protected and private variables - an example"
   ]
  },
  {
   "cell_type": "code",
   "execution_count": 10,
   "id": "1f4085d6-ad67-4016-85f6-c98741ad331b",
   "metadata": {},
   "outputs": [
    {
     "data": {
      "text/plain": [
       "mappingproxy({'__module__': '__main__',\n",
       "              'brand': 'Apple',\n",
       "              '_usdpln': 4.0,\n",
       "              '_Laptop__trade_margin': 0.3,\n",
       "              '__init__': <function __main__.Laptop.__init__(self, net_price)>,\n",
       "              '_convert_price': <function __main__.Laptop._convert_price(price)>,\n",
       "              'display_price_pln': <function __main__.Laptop.display_price_pln(self)>,\n",
       "              '__dict__': <attribute '__dict__' of 'Laptop' objects>,\n",
       "              '__weakref__': <attribute '__weakref__' of 'Laptop' objects>,\n",
       "              '__doc__': None})"
      ]
     },
     "execution_count": 10,
     "metadata": {},
     "output_type": "execute_result"
    }
   ],
   "source": [
    "class Laptop:\n",
    "\n",
    "    brand = 'Apple'\n",
    "    _usdpln = 4.0\n",
    "    __trade_margin = 0.3\n",
    "\n",
    "    def __init__(self, net_price):\n",
    "        self.net_price = net_price\n",
    "\n",
    "    def _convert_price(price):\n",
    "        return price * Laptop._usdpln * (1 + Laptop._Laptop__trade_margin)\n",
    "\n",
    "    def display_price_pln(self):\n",
    "        print(Laptop._convert_price(self.net_price))\n",
    "\n",
    "Laptop.__dict__"
   ]
  },
  {
   "cell_type": "code",
   "execution_count": 11,
   "id": "b0795232-609d-4f1e-81c3-c99278f855b6",
   "metadata": {},
   "outputs": [
    {
     "name": "stdout",
     "output_type": "stream",
     "text": [
      "15600.0\n"
     ]
    }
   ],
   "source": [
    "laptop = Laptop(3000)\n",
    "laptop.display_price_pln()"
   ]
  },
  {
   "cell_type": "code",
   "execution_count": 12,
   "id": "a0b5172f-19e7-484c-900b-76b4238273b7",
   "metadata": {},
   "outputs": [
    {
     "data": {
      "text/plain": [
       "mappingproxy({'__module__': '__main__',\n",
       "              'brand': 'Apple',\n",
       "              '_usdpln': 4.0,\n",
       "              '_Laptop__trade_margin': 0.3,\n",
       "              '__init__': <function __main__.Laptop.__init__(self, net_price)>,\n",
       "              '_convert_price': <function __main__.Laptop._convert_price(price)>,\n",
       "              'display_price_pln': <function __main__.Laptop.display_price_pln(self)>,\n",
       "              '__dict__': <attribute '__dict__' of 'Laptop' objects>,\n",
       "              '__weakref__': <attribute '__weakref__' of 'Laptop' objects>,\n",
       "              '__doc__': None})"
      ]
     },
     "execution_count": 12,
     "metadata": {},
     "output_type": "execute_result"
    }
   ],
   "source": [
    "class Laptop:\n",
    "\n",
    "    brand = 'Apple'\n",
    "    _usdpln = 4.0\n",
    "    __trade_margin = 0.3\n",
    "\n",
    "    def __init__(self, net_price):\n",
    "        self.net_price = net_price\n",
    "\n",
    "    def _convert_price(price):\n",
    "        return price * Laptop._usdpln * (1 + Laptop._Laptop__trade_margin)\n",
    "\n",
    "    def display_price_pln(self):\n",
    "        print(Laptop._convert_price(self.net_price))\n",
    "\n",
    "Laptop.__dict__"
   ]
  },
  {
   "cell_type": "code",
   "execution_count": 13,
   "id": "a0b256af-9396-4946-ade4-c9ee0e97eb9b",
   "metadata": {},
   "outputs": [
    {
     "name": "stdout",
     "output_type": "stream",
     "text": [
      "15600.0\n"
     ]
    }
   ],
   "source": [
    "laptop = Laptop(3000)\n",
    "laptop.display_price_pln()"
   ]
  },
  {
   "cell_type": "code",
   "execution_count": 14,
   "id": "8479c15e-4a29-4103-82cd-486b635e1993",
   "metadata": {},
   "outputs": [
    {
     "data": {
      "text/plain": [
       "mappingproxy({'__module__': '__main__',\n",
       "              'brand': 'Apple',\n",
       "              '_usdpln': 4.0,\n",
       "              '_Laptop__trade_margin': 0.3,\n",
       "              '__init__': <function __main__.Laptop.__init__(self, net_price)>,\n",
       "              '_convert_price': <function __main__.Laptop._convert_price(price)>,\n",
       "              'display_price_pln': <function __main__.Laptop.display_price_pln(self)>,\n",
       "              '__dict__': <attribute '__dict__' of 'Laptop' objects>,\n",
       "              '__weakref__': <attribute '__weakref__' of 'Laptop' objects>,\n",
       "              '__doc__': None})"
      ]
     },
     "execution_count": 14,
     "metadata": {},
     "output_type": "execute_result"
    }
   ],
   "source": [
    "class Laptop:\n",
    "\n",
    "    brand = 'Apple'\n",
    "    _usdpln = 4.0\n",
    "    __trade_margin = 0.3\n",
    "\n",
    "    def __init__(self, net_price):\n",
    "        self.net_price = net_price\n",
    "\n",
    "    def _convert_price(price):\n",
    "        return price * Laptop._usdpln * (1 + Laptop.__trade_margin)\n",
    "\n",
    "    def display_price_pln(self):\n",
    "        print(Laptop._convert_price(self.net_price))\n",
    "\n",
    "Laptop.__dict__"
   ]
  },
  {
   "cell_type": "code",
   "execution_count": 15,
   "id": "7b87b286-35d1-48a8-8508-f140f935cb1e",
   "metadata": {},
   "outputs": [
    {
     "name": "stdout",
     "output_type": "stream",
     "text": [
      "15600.0\n"
     ]
    }
   ],
   "source": [
    "laptop = Laptop(3000)\n",
    "laptop.display_price_pln()"
   ]
  },
  {
   "cell_type": "code",
   "execution_count": 17,
   "id": "14db0f4c-10a3-4700-bb0a-cc098a1a8aae",
   "metadata": {},
   "outputs": [],
   "source": [
    "#Laptop.__trade_margin\n",
    "#AttributeError: type object 'Laptop' has no attribute '__trade_margin'"
   ]
  },
  {
   "cell_type": "code",
   "execution_count": 18,
   "id": "e146c2f6-058a-4293-ab19-74fbb731eff9",
   "metadata": {},
   "outputs": [
    {
     "data": {
      "text/plain": [
       "0.3"
      ]
     },
     "execution_count": 18,
     "metadata": {},
     "output_type": "execute_result"
    }
   ],
   "source": [
    "Laptop._Laptop__trade_margin"
   ]
  },
  {
   "cell_type": "code",
   "execution_count": 19,
   "id": "cd861fd3-63c0-4d7a-a661-683c718adf95",
   "metadata": {},
   "outputs": [
    {
     "data": {
      "text/plain": [
       "mappingproxy({'__module__': '__main__',\n",
       "              'brand': 'Apple',\n",
       "              '_usdpln': 4.0,\n",
       "              '_Laptop__trade_margin': 0.3,\n",
       "              '__init__': <function __main__.Laptop.__init__(self, net_price)>,\n",
       "              '_Laptop__convert_price': <function __main__.Laptop.__convert_price(price)>,\n",
       "              'display_price_pln': <function __main__.Laptop.display_price_pln(self)>,\n",
       "              '__dict__': <attribute '__dict__' of 'Laptop' objects>,\n",
       "              '__weakref__': <attribute '__weakref__' of 'Laptop' objects>,\n",
       "              '__doc__': None})"
      ]
     },
     "execution_count": 19,
     "metadata": {},
     "output_type": "execute_result"
    }
   ],
   "source": [
    "class Laptop:\n",
    "\n",
    "    brand = 'Apple'\n",
    "    _usdpln = 4.0\n",
    "    __trade_margin = 0.3\n",
    "\n",
    "    def __init__(self, net_price):\n",
    "        self.net_price = net_price\n",
    "\n",
    "    def __convert_price(price):\n",
    "        return price * Laptop._usdpln * (1 + Laptop.__trade_margin)\n",
    "\n",
    "    def display_price_pln(self):\n",
    "        print(Laptop.__convert_price(self.net_price))\n",
    "\n",
    "Laptop.__dict__"
   ]
  },
  {
   "cell_type": "code",
   "execution_count": 20,
   "id": "9d685fff-8743-427f-b9a2-cbf0759c4a9a",
   "metadata": {},
   "outputs": [
    {
     "name": "stdout",
     "output_type": "stream",
     "text": [
      "15600.0\n"
     ]
    }
   ],
   "source": [
    "laptop = Laptop(3000)\n",
    "laptop.display_price_pln()"
   ]
  },
  {
   "cell_type": "code",
   "execution_count": 22,
   "id": "af919800-a98d-4f7f-9d3c-1ea7c44373aa",
   "metadata": {},
   "outputs": [],
   "source": [
    "#Laptop.__convert_price(400)\n",
    "#AttributeError: type object 'Laptop' has no attribute '__convert_price'"
   ]
  },
  {
   "cell_type": "code",
   "execution_count": 23,
   "id": "b85abfb0-719e-4169-89bd-ac5aee59363e",
   "metadata": {},
   "outputs": [
    {
     "data": {
      "text/plain": [
       "2080.0"
      ]
     },
     "execution_count": 23,
     "metadata": {},
     "output_type": "execute_result"
    }
   ],
   "source": [
    "Laptop._Laptop__convert_price(400)"
   ]
  },
  {
   "cell_type": "markdown",
   "id": "18c432ef-6ea9-4814-adcb-0d7180fb5fce",
   "metadata": {},
   "source": [
    "## Instance attributes"
   ]
  },
  {
   "cell_type": "code",
   "execution_count": 24,
   "id": "4d77312a-8745-4003-a3a6-8dbf24b22111",
   "metadata": {},
   "outputs": [
    {
     "data": {
      "text/plain": [
       "'Apple'"
      ]
     },
     "execution_count": 24,
     "metadata": {},
     "output_type": "execute_result"
    }
   ],
   "source": [
    "class Laptop:\n",
    "\n",
    "    def __init__(self, brand):\n",
    "        self.brand = brand\n",
    "\n",
    "laptop = Laptop('Apple')\n",
    "laptop.brand"
   ]
  },
  {
   "cell_type": "code",
   "execution_count": 25,
   "id": "7c693d35-0c70-44d8-9644-4ea7b66d5256",
   "metadata": {},
   "outputs": [
    {
     "data": {
      "text/plain": [
       "'0043'"
      ]
     },
     "execution_count": 25,
     "metadata": {},
     "output_type": "execute_result"
    }
   ],
   "source": [
    "class Laptop:\n",
    "\n",
    "    def __init__(self, brand, code):\n",
    "        self.brand = brand\n",
    "        self._code = code\n",
    "\n",
    "laptop = Laptop('Apple', '0043')\n",
    "laptop._code"
   ]
  },
  {
   "cell_type": "code",
   "execution_count": 26,
   "id": "e7a549cd-22e4-4234-8968-94eba53d719b",
   "metadata": {},
   "outputs": [],
   "source": [
    "class Laptop:\n",
    "\n",
    "    def __init__(self, brand, code, wholesale_price):\n",
    "        self.brand = brand\n",
    "        self._code = code\n",
    "        self.__wholesale_price = wholesale_price\n",
    "\n",
    "laptop = Laptop('Apple', '0043', 3000)"
   ]
  },
  {
   "cell_type": "code",
   "execution_count": 28,
   "id": "6dac8165-0c9f-48f2-ae60-b0ce79dbd94c",
   "metadata": {},
   "outputs": [],
   "source": [
    "#laptop.__wholesale_price\n",
    "#AttributeError: 'Laptop' object has no attribute '__wholesale_price'"
   ]
  },
  {
   "cell_type": "code",
   "execution_count": 29,
   "id": "012f9f11-d9b4-4b30-b700-2b8558109fd0",
   "metadata": {},
   "outputs": [
    {
     "data": {
      "text/plain": [
       "3000"
      ]
     },
     "execution_count": 29,
     "metadata": {},
     "output_type": "execute_result"
    }
   ],
   "source": [
    "laptop._Laptop__wholesale_price"
   ]
  },
  {
   "cell_type": "code",
   "execution_count": 30,
   "id": "83f82b48-d7f9-46cc-b955-ffbbd2de2b0d",
   "metadata": {},
   "outputs": [
    {
     "data": {
      "text/plain": [
       "{'brand': 'Apple', '_code': '0043', '_Laptop__wholesale_price': 3000}"
      ]
     },
     "execution_count": 30,
     "metadata": {},
     "output_type": "execute_result"
    }
   ],
   "source": [
    "laptop.__dict__"
   ]
  },
  {
   "cell_type": "code",
   "execution_count": 32,
   "id": "6046524f-3d5f-475f-8c02-a842aae37c08",
   "metadata": {},
   "outputs": [
    {
     "name": "stdout",
     "output_type": "stream",
     "text": [
      "Apple\n",
      "0043\n",
      "3000\n"
     ]
    }
   ],
   "source": [
    "class Laptop:\n",
    "\n",
    "    def __init__(self, brand, code, wholesale_price):\n",
    "        self.brand = brand\n",
    "        self._code = code\n",
    "        self.__wholesale_price = wholesale_price\n",
    "\n",
    "    def info(self):\n",
    "        print(self.brand)\n",
    "        print(self._code)\n",
    "        print(self.__wholesale_price)\n",
    "\n",
    "laptop = Laptop('Apple', '0043', 3000)\n",
    "laptop.info()"
   ]
  },
  {
   "cell_type": "markdown",
   "id": "293a8a09-a3bf-4812-99d5-6df6d870254c",
   "metadata": {},
   "source": [
    "## Example2"
   ]
  },
  {
   "cell_type": "code",
   "execution_count": 33,
   "id": "b1056117-963d-4953-abb7-dc57fe9947c1",
   "metadata": {},
   "outputs": [],
   "source": [
    "class HouseProject:\n",
    "\n",
    "    def __init__(self, area, number_of_floors):\n",
    "        self.area = area\n",
    "        self.number_of_floors = number_of_floors\n",
    "\n",
    "    def info(self):\n",
    "        print(f'Area: {self.area}')\n",
    "        print(f'Number of floors: {self.number_of_floors}')\n",
    "\n",
    "\n",
    "def info_ext(instance):\n",
    "    print(f'Area: {instance.area}')\n",
    "    print(f'Number of floors: {instance.number_of_floors}')    \n",
    "\n",
    "\n",
    "project = HouseProject(100, 1)"
   ]
  },
  {
   "cell_type": "code",
   "execution_count": 34,
   "id": "08bfce27-f337-491a-8390-a56e51f044b0",
   "metadata": {},
   "outputs": [
    {
     "name": "stdout",
     "output_type": "stream",
     "text": [
      "Area: 100\n",
      "Number of floors: 1\n"
     ]
    }
   ],
   "source": [
    "project.info()"
   ]
  },
  {
   "cell_type": "code",
   "execution_count": 35,
   "id": "4ccdcd84-3c9d-4b91-b16e-49cdbbf4985f",
   "metadata": {},
   "outputs": [
    {
     "name": "stdout",
     "output_type": "stream",
     "text": [
      "Area: 100\n",
      "Number of floors: 1\n"
     ]
    }
   ],
   "source": [
    "info_ext(project)"
   ]
  },
  {
   "cell_type": "code",
   "execution_count": 36,
   "id": "4cad7f7f-cab4-4e20-88ef-89acbd50cebd",
   "metadata": {},
   "outputs": [
    {
     "name": "stdout",
     "output_type": "stream",
     "text": [
      "Area: 100\n",
      "Number of floors: 1\n"
     ]
    }
   ],
   "source": [
    "class HouseProject:\n",
    "\n",
    "    def __init__(self, area, number_of_floors):\n",
    "        self._area = area\n",
    "        self._number_of_floors = number_of_floors\n",
    "\n",
    "    def info(self):\n",
    "        print(f'Area: {self._area}')\n",
    "        print(f'Number of floors: {self._number_of_floors}')\n",
    "\n",
    "\n",
    "def info_ext(instance):\n",
    "    print(f'Area: {instance._area}')\n",
    "    print(f'Number of floors: {instance._number_of_floors}')    \n",
    "\n",
    "\n",
    "project = HouseProject(100, 1)\n",
    "project.info()"
   ]
  },
  {
   "cell_type": "code",
   "execution_count": 37,
   "id": "d7735d75-8b75-4a79-9b52-f9551bdf1dd2",
   "metadata": {},
   "outputs": [
    {
     "name": "stdout",
     "output_type": "stream",
     "text": [
      "Area: 100\n",
      "Number of floors: 1\n"
     ]
    }
   ],
   "source": [
    "info_ext(project)"
   ]
  },
  {
   "cell_type": "code",
   "execution_count": 38,
   "id": "60325e54-9998-4108-b4bd-caea84c23178",
   "metadata": {},
   "outputs": [
    {
     "name": "stdout",
     "output_type": "stream",
     "text": [
      "Area: 100\n",
      "Number of floors: 1\n"
     ]
    }
   ],
   "source": [
    "class HouseProject:\n",
    "\n",
    "    def __init__(self, area, number_of_floors):\n",
    "        self.__area = area\n",
    "        self.__number_of_floors = number_of_floors\n",
    "\n",
    "    def info(self):\n",
    "        print(f'Area: {self.__area}')\n",
    "        print(f'Number of floors: {self.__number_of_floors}')\n",
    "\n",
    "\n",
    "def info_ext(instance):\n",
    "    print(f'Area: {instance._HouseProject__area}')\n",
    "    print(f'Number of floors: {instance._HouseProject__number_of_floors}')    \n",
    "\n",
    "\n",
    "project = HouseProject(100, 1)\n",
    "project.info()"
   ]
  },
  {
   "cell_type": "code",
   "execution_count": 39,
   "id": "4e0c3abf-8154-4750-ba26-b76d2e7a5dff",
   "metadata": {},
   "outputs": [
    {
     "name": "stdout",
     "output_type": "stream",
     "text": [
      "Area: 100\n",
      "Number of floors: 1\n"
     ]
    }
   ],
   "source": [
    "info_ext(project)"
   ]
  },
  {
   "cell_type": "markdown",
   "id": "11ab162a-f982-4df4-9b16-755fdb815af2",
   "metadata": {},
   "source": [
    "## task1\n",
    "\n",
    "### Implement a class named Smartphone that sets the following instance attributes when creating an instance:\n",
    "- brand as a bare instance attribute\n",
    "- model as a protected attribute\n",
    "- price as a private attribute\n",
    "\n",
    "### Then create an instance of the Smartphone class named smartphone with the given parameters:\n",
    "- 'Huawei'\n",
    "- 'Mate 20 Pro'\n",
    "- 1999\n",
    "\n",
    "### In the response, print the value of the __dict__ attribute of the smartphone object.\n",
    "- Expected result:\n",
    "- { 'brand': 'Huawei', '_model': 'Mate 20 Pro', '_Smartphone__price': 1999}"
   ]
  },
  {
   "cell_type": "code",
   "execution_count": 41,
   "id": "884c9ff7-0f9c-4f59-bf10-e561f0d05bbc",
   "metadata": {},
   "outputs": [
    {
     "name": "stdout",
     "output_type": "stream",
     "text": [
      "{'brand': 'Huawei', '_model': 'Mate 20 Pro', '_Smartphone__price': 1999}\n"
     ]
    }
   ],
   "source": [
    "class Smartphone:\n",
    " \n",
    "    def __init__(self, brand, model, price):\n",
    "        self.brand = brand\n",
    "        self._model = model\n",
    "        self.__price = price\n",
    " \n",
    " \n",
    "smartphone = Smartphone('Huawei', 'Mate 20 Pro', 1999)\n",
    "print(smartphone.__dict__)"
   ]
  },
  {
   "cell_type": "markdown",
   "id": "d9242cdd-ca11-46f7-b990-b5e9e912bab1",
   "metadata": {},
   "source": [
    "## task2\n",
    "### A class named Smartphone has been implemented that sets the following instance attributes when creating an instance:\n",
    "- brand as a bare instance attribute\n",
    "- model as a protected attribute\n",
    "- price as a private attribute\n",
    "\n",
    "### Then an instance of the Smartphone class named smartphone was created with the given parameters:\n",
    "- 'Huawei'\n",
    "- 'Mate 20 Pro'\n",
    "- 1999\n",
    "\n",
    "#### In the response, print the value for each attribute (on a separate line) of the smartphone instance as shown below.\n",
    "- Expected result:\n",
    "- brand -> Huawei\n",
    "- model -> Mate 20 Pro\n",
    "- price -> 1999"
   ]
  },
  {
   "cell_type": "code",
   "execution_count": 45,
   "id": "8680d0be-a24d-46f2-b412-6d5b7f586bcf",
   "metadata": {},
   "outputs": [
    {
     "name": "stdout",
     "output_type": "stream",
     "text": [
      "brand -> Huawei\n",
      "model -> Mate 20 Pro\n",
      "price -> 1999\n"
     ]
    }
   ],
   "source": [
    "class Smartphone:\n",
    " \n",
    "    def __init__(self, brand, model, price):\n",
    "        self.brand = brand\n",
    "        self._model = model\n",
    "        self.__price = price\n",
    " \n",
    " \n",
    "smartphone = Smartphone('Huawei', 'Mate 20 Pro', 1999)\n",
    "print(f'brand -> {smartphone.brand}')\n",
    "print(f'model -> {smartphone._model}')\n",
    "print(f'price -> {smartphone._Smartphone__price}')"
   ]
  }
 ],
 "metadata": {
  "kernelspec": {
   "display_name": "Python 3 (ipykernel)",
   "language": "python",
   "name": "python3"
  },
  "language_info": {
   "codemirror_mode": {
    "name": "ipython",
    "version": 3
   },
   "file_extension": ".py",
   "mimetype": "text/x-python",
   "name": "python",
   "nbconvert_exporter": "python",
   "pygments_lexer": "ipython3",
   "version": "3.9.7"
  }
 },
 "nbformat": 4,
 "nbformat_minor": 5
}
