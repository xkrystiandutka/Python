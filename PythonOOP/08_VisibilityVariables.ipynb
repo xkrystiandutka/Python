{
 "cells": [
  {
   "cell_type": "markdown",
   "id": "34242e03-7248-4581-a4c2-b4947a941894",
   "metadata": {},
   "source": [
    "# Visibility Variables"
   ]
  },
  {
   "cell_type": "code",
   "execution_count": 1,
   "id": "e0bae540-aa80-4341-b45b-c824f79ffc39",
   "metadata": {},
   "outputs": [
    {
     "data": {
      "text/plain": [
       "mappingproxy({'__module__': '__main__',\n",
       "              'brand': 'Apple',\n",
       "              '__dict__': <attribute '__dict__' of 'Laptop' objects>,\n",
       "              '__weakref__': <attribute '__weakref__' of 'Laptop' objects>,\n",
       "              '__doc__': None})"
      ]
     },
     "execution_count": 1,
     "metadata": {},
     "output_type": "execute_result"
    }
   ],
   "source": [
    "class Laptop:\n",
    "\n",
    "    brand = 'Apple'\n",
    "\n",
    "Laptop.__dict__"
   ]
  },
  {
   "cell_type": "code",
   "execution_count": 2,
   "id": "dba43a83-c326-4916-8a32-e9918e08b71b",
   "metadata": {},
   "outputs": [
    {
     "data": {
      "text/plain": [
       "'Apple'"
      ]
     },
     "execution_count": 2,
     "metadata": {},
     "output_type": "execute_result"
    }
   ],
   "source": [
    "Laptop.brand"
   ]
  },
  {
   "cell_type": "code",
   "execution_count": 3,
   "id": "1c1ff3fe-779b-4bb4-95ef-15326e6ef6a8",
   "metadata": {},
   "outputs": [
    {
     "data": {
      "text/plain": [
       "mappingproxy({'__module__': '__main__',\n",
       "              'brand': 'Apple',\n",
       "              '_code': '0034',\n",
       "              '__dict__': <attribute '__dict__' of 'Laptop' objects>,\n",
       "              '__weakref__': <attribute '__weakref__' of 'Laptop' objects>,\n",
       "              '__doc__': None})"
      ]
     },
     "execution_count": 3,
     "metadata": {},
     "output_type": "execute_result"
    }
   ],
   "source": [
    "class Laptop:\n",
    "\n",
    "    brand = 'Apple'\n",
    "    _code = '0034'\n",
    "\n",
    "Laptop.__dict__"
   ]
  },
  {
   "cell_type": "code",
   "execution_count": 4,
   "id": "683421d3-5509-43d4-acf6-dae60ee21a95",
   "metadata": {},
   "outputs": [
    {
     "data": {
      "text/plain": [
       "'0034'"
      ]
     },
     "execution_count": 4,
     "metadata": {},
     "output_type": "execute_result"
    }
   ],
   "source": [
    "Laptop._code"
   ]
  },
  {
   "cell_type": "code",
   "execution_count": 5,
   "id": "c9c3a6ef-fea5-4c01-b913-5f6b174d69c5",
   "metadata": {},
   "outputs": [
    {
     "data": {
      "text/plain": [
       "mappingproxy({'__module__': '__main__',\n",
       "              'brand': 'Apple',\n",
       "              '_code': '0034',\n",
       "              '_Laptop__wholesale_price': 2490,\n",
       "              '__dict__': <attribute '__dict__' of 'Laptop' objects>,\n",
       "              '__weakref__': <attribute '__weakref__' of 'Laptop' objects>,\n",
       "              '__doc__': None})"
      ]
     },
     "execution_count": 5,
     "metadata": {},
     "output_type": "execute_result"
    }
   ],
   "source": [
    "class Laptop:\n",
    "\n",
    "    brand = 'Apple'\n",
    "    _code = '0034'\n",
    "    __wholesale_price = 2490\n",
    "\n",
    "Laptop.__dict__"
   ]
  },
  {
   "cell_type": "code",
   "execution_count": 6,
   "id": "36cdce55-f2af-451f-9392-a37edf7a709e",
   "metadata": {},
   "outputs": [
    {
     "data": {
      "text/plain": [
       "2490"
      ]
     },
     "execution_count": 6,
     "metadata": {},
     "output_type": "execute_result"
    }
   ],
   "source": [
    "Laptop._Laptop__wholesale_price"
   ]
  },
  {
   "cell_type": "code",
   "execution_count": 9,
   "id": "1725a512-31d8-4163-8408-fcf8e2c47ca9",
   "metadata": {},
   "outputs": [],
   "source": [
    "#Laptop.__wholesale_price\n",
    "#AttributeError: type object 'Laptop' has no attribute '__wholesale_price'"
   ]
  },
  {
   "cell_type": "code",
   "execution_count": null,
   "id": "508a57df-91ca-43d8-a078-70ccb9a0a603",
   "metadata": {},
   "outputs": [],
   "source": []
  }
 ],
 "metadata": {
  "kernelspec": {
   "display_name": "Python 3 (ipykernel)",
   "language": "python",
   "name": "python3"
  },
  "language_info": {
   "codemirror_mode": {
    "name": "ipython",
    "version": 3
   },
   "file_extension": ".py",
   "mimetype": "text/x-python",
   "name": "python",
   "nbconvert_exporter": "python",
   "pygments_lexer": "ipython3",
   "version": "3.9.7"
  }
 },
 "nbformat": 4,
 "nbformat_minor": 5
}
