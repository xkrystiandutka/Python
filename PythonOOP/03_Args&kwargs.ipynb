{
 "cells": [
  {
   "cell_type": "markdown",
   "id": "38bf9108-3401-4b1a-a737-48ef78db6b5e",
   "metadata": {},
   "source": [
    "## *args & **kwargs"
   ]
  },
  {
   "cell_type": "code",
   "execution_count": 2,
   "id": "069da3e9-d810-4cc3-b892-6b40f3416588",
   "metadata": {},
   "outputs": [],
   "source": [
    "def sample(*args):\n",
    "    print(len(args))\n",
    "    print(args)"
   ]
  },
  {
   "cell_type": "code",
   "execution_count": 3,
   "id": "a25804ae-0aee-4b42-b645-fb6289e2cd5d",
   "metadata": {},
   "outputs": [
    {
     "name": "stdout",
     "output_type": "stream",
     "text": [
      "0\n",
      "()\n"
     ]
    }
   ],
   "source": [
    "sample()"
   ]
  },
  {
   "cell_type": "code",
   "execution_count": 4,
   "id": "e7bdec18-624d-41d9-a718-2838d5a0f462",
   "metadata": {},
   "outputs": [
    {
     "name": "stdout",
     "output_type": "stream",
     "text": [
      "1\n",
      "(3,)\n"
     ]
    }
   ],
   "source": [
    "sample(3)"
   ]
  },
  {
   "cell_type": "code",
   "execution_count": 5,
   "id": "12072a37-c02d-4e92-81bb-2f8f536ea833",
   "metadata": {},
   "outputs": [
    {
     "name": "stdout",
     "output_type": "stream",
     "text": [
      "2\n",
      "(3, 'a')\n"
     ]
    }
   ],
   "source": [
    "sample(3, 'a')"
   ]
  },
  {
   "cell_type": "code",
   "execution_count": 6,
   "id": "4b95cc8d-b7a0-4b3b-8df5-e70867c5bfb1",
   "metadata": {},
   "outputs": [
    {
     "name": "stdout",
     "output_type": "stream",
     "text": [
      "3\n",
      "(3, 'a', False)\n"
     ]
    }
   ],
   "source": [
    "sample(3, 'a', False)"
   ]
  },
  {
   "cell_type": "code",
   "execution_count": 7,
   "id": "bef643aa-1c9d-4ced-a302-eee5839a880b",
   "metadata": {},
   "outputs": [],
   "source": [
    "def sample(*components):\n",
    "    print(len(components))\n",
    "    print(components)"
   ]
  },
  {
   "cell_type": "code",
   "execution_count": 8,
   "id": "c5c8e7ee-25a6-46f0-863d-c1b2fe8bb672",
   "metadata": {},
   "outputs": [
    {
     "name": "stdout",
     "output_type": "stream",
     "text": [
      "2\n",
      "('py', 3)\n"
     ]
    }
   ],
   "source": [
    "sample('py', 3)"
   ]
  },
  {
   "cell_type": "code",
   "execution_count": 9,
   "id": "69a128cd-9be9-4978-b1bb-ff9d210de49f",
   "metadata": {},
   "outputs": [
    {
     "data": {
      "text/plain": [
       "'45'"
      ]
     },
     "execution_count": 9,
     "metadata": {},
     "output_type": "execute_result"
    }
   ],
   "source": [
    "def stick(*args):\n",
    "    result = ''\n",
    "    for arg in args:\n",
    "        result += str(arg)\n",
    "    return result\n",
    "\n",
    "stick(4, 5)"
   ]
  },
  {
   "cell_type": "code",
   "execution_count": 10,
   "id": "1cf71ef6-63e0-4a70-bc0f-98c9a4d41e0c",
   "metadata": {},
   "outputs": [
    {
     "data": {
      "text/plain": [
       "'Python 3.9'"
      ]
     },
     "execution_count": 10,
     "metadata": {},
     "output_type": "execute_result"
    }
   ],
   "source": [
    "stick('Python', ' ', '3.9')"
   ]
  },
  {
   "cell_type": "code",
   "execution_count": 12,
   "id": "2988d17b-4531-4caf-bbff-2e1b28256dab",
   "metadata": {},
   "outputs": [],
   "source": [
    "#stick(var1='Python', var2=' 3.9')\n",
    "#TypeError: stick() got an unexpected keyword argument 'var1'"
   ]
  },
  {
   "cell_type": "code",
   "execution_count": 13,
   "id": "e85e75f3-8812-47c0-88de-768f3dcb3b73",
   "metadata": {},
   "outputs": [],
   "source": [
    "def sample(**kwargs):\n",
    "    print(len(kwargs))\n",
    "    print(kwargs)"
   ]
  },
  {
   "cell_type": "code",
   "execution_count": 14,
   "id": "9c9fd183-0d9c-4fc4-b396-ca2e05afe5b3",
   "metadata": {},
   "outputs": [
    {
     "name": "stdout",
     "output_type": "stream",
     "text": [
      "0\n",
      "{}\n"
     ]
    }
   ],
   "source": [
    "sample()"
   ]
  },
  {
   "cell_type": "code",
   "execution_count": 15,
   "id": "9f3ab233-cf14-485a-a7ec-f9e9c0ff9f8f",
   "metadata": {},
   "outputs": [
    {
     "name": "stdout",
     "output_type": "stream",
     "text": [
      "1\n",
      "{'var1': 'Python'}\n"
     ]
    }
   ],
   "source": [
    "sample(var1='Python')"
   ]
  },
  {
   "cell_type": "code",
   "execution_count": 18,
   "id": "2519db73-dc0a-4130-ad45-80e54339a256",
   "metadata": {},
   "outputs": [
    {
     "name": "stdout",
     "output_type": "stream",
     "text": [
      "2\n",
      "{'var1': 'Python', 'var2': '3.9'}\n"
     ]
    }
   ],
   "source": [
    "sample(var1='Python', var2='3.9')"
   ]
  },
  {
   "cell_type": "code",
   "execution_count": 19,
   "id": "b7457e24-f5e5-40b5-8574-e02cab895892",
   "metadata": {},
   "outputs": [],
   "source": [
    "def sample(**components):\n",
    "    print(len(components))\n",
    "    print(components)"
   ]
  },
  {
   "cell_type": "code",
   "execution_count": 20,
   "id": "3bdb30ba-3557-46b6-b5e7-4db590588c74",
   "metadata": {},
   "outputs": [
    {
     "name": "stdout",
     "output_type": "stream",
     "text": [
      "1\n",
      "{'var': 'Python'}\n"
     ]
    }
   ],
   "source": [
    "sample(var='Python')"
   ]
  },
  {
   "cell_type": "code",
   "execution_count": 21,
   "id": "9f9f0f4a-5a45-48bc-9f55-ed7771d4842b",
   "metadata": {},
   "outputs": [],
   "source": [
    "def func(**kwargs):\n",
    "    for item in kwargs.items():\n",
    "        print(item)\n",
    "\n",
    "func()"
   ]
  },
  {
   "cell_type": "code",
   "execution_count": 22,
   "id": "b2b833d5-a188-422f-9c02-c8d0e5acd17b",
   "metadata": {},
   "outputs": [
    {
     "name": "stdout",
     "output_type": "stream",
     "text": [
      "('name', 'John')\n"
     ]
    }
   ],
   "source": [
    "func(name='John')"
   ]
  },
  {
   "cell_type": "code",
   "execution_count": 23,
   "id": "4af339d8-baba-44c2-9562-6f84678db0d7",
   "metadata": {},
   "outputs": [
    {
     "name": "stdout",
     "output_type": "stream",
     "text": [
      "('name', 'John')\n",
      "('age', 29)\n"
     ]
    }
   ],
   "source": [
    "func(name='John', age=29)"
   ]
  },
  {
   "cell_type": "code",
   "execution_count": 24,
   "id": "6f19d470-dadd-49ca-abb0-5c7a95388919",
   "metadata": {},
   "outputs": [],
   "source": [
    "def hello(**kwargs):\n",
    "    if 'name' in kwargs:\n",
    "        print(f\"Hello {kwargs['name']}!\")\n",
    "    else:\n",
    "        print('Hello!')"
   ]
  },
  {
   "cell_type": "code",
   "execution_count": 25,
   "id": "6eb2a49b-cb49-4a01-bf44-ab0331e19b4f",
   "metadata": {},
   "outputs": [
    {
     "name": "stdout",
     "output_type": "stream",
     "text": [
      "Hello!\n"
     ]
    }
   ],
   "source": [
    "hello()"
   ]
  },
  {
   "cell_type": "code",
   "execution_count": 26,
   "id": "a11e9691-45c4-4225-afdf-9fe06e98b422",
   "metadata": {},
   "outputs": [
    {
     "name": "stdout",
     "output_type": "stream",
     "text": [
      "Hello!\n"
     ]
    }
   ],
   "source": [
    "hello(var1='John')"
   ]
  },
  {
   "cell_type": "code",
   "execution_count": 27,
   "id": "2e92c20a-052d-40c6-bcfd-87d57585176a",
   "metadata": {},
   "outputs": [
    {
     "name": "stdout",
     "output_type": "stream",
     "text": [
      "Hello John!\n"
     ]
    }
   ],
   "source": [
    "hello(name='John')"
   ]
  },
  {
   "cell_type": "code",
   "execution_count": 28,
   "id": "41d0dc69-a0d1-4693-a778-a5752346bb91",
   "metadata": {},
   "outputs": [],
   "source": [
    "def sum_int(**kwargs):\n",
    "    if kwargs:\n",
    "        result = 0\n",
    "        for kwarg in kwargs.values():\n",
    "            if isinstance(kwarg, int):\n",
    "                result += kwarg\n",
    "        return result\n",
    "    return None"
   ]
  },
  {
   "cell_type": "code",
   "execution_count": 29,
   "id": "3f328dad-b3c6-42cf-bd78-4bd9fe792997",
   "metadata": {},
   "outputs": [],
   "source": [
    "sum_int()"
   ]
  },
  {
   "cell_type": "code",
   "execution_count": 30,
   "id": "d3b141ae-085e-4303-8298-039d7b3b0111",
   "metadata": {},
   "outputs": [
    {
     "data": {
      "text/plain": [
       "0"
      ]
     },
     "execution_count": 30,
     "metadata": {},
     "output_type": "execute_result"
    }
   ],
   "source": [
    "sum_int(name='John')"
   ]
  },
  {
   "cell_type": "code",
   "execution_count": 31,
   "id": "ef2e3a7d-4489-4bab-8819-076aee50d346",
   "metadata": {},
   "outputs": [
    {
     "data": {
      "text/plain": [
       "77"
      ]
     },
     "execution_count": 31,
     "metadata": {},
     "output_type": "execute_result"
    }
   ],
   "source": [
    "sum_int(name='John', game1=43, game2=34, ratio=0.5)"
   ]
  },
  {
   "cell_type": "code",
   "execution_count": 32,
   "id": "ef20aae2-3dff-4160-972a-a161993e1149",
   "metadata": {},
   "outputs": [],
   "source": [
    "def sample(*args, **kwargs):\n",
    "    print(args)\n",
    "    print(kwargs)"
   ]
  },
  {
   "cell_type": "code",
   "execution_count": 33,
   "id": "722a7d2a-b39c-4186-ab24-f9a97c499414",
   "metadata": {},
   "outputs": [
    {
     "name": "stdout",
     "output_type": "stream",
     "text": [
      "()\n",
      "{}\n"
     ]
    }
   ],
   "source": [
    "sample()"
   ]
  },
  {
   "cell_type": "code",
   "execution_count": 34,
   "id": "239679f8-14f3-4ef2-b138-4b3902729369",
   "metadata": {},
   "outputs": [
    {
     "name": "stdout",
     "output_type": "stream",
     "text": [
      "(3, 4, 6)\n",
      "{}\n"
     ]
    }
   ],
   "source": [
    "sample(3, 4, 6)"
   ]
  },
  {
   "cell_type": "code",
   "execution_count": 35,
   "id": "6eda74c8-2a33-405a-8da4-ba4cf653fda9",
   "metadata": {},
   "outputs": [
    {
     "name": "stdout",
     "output_type": "stream",
     "text": [
      "(3, 4, 6)\n",
      "{'var1': 'py', 'var2': 'txt'}\n"
     ]
    }
   ],
   "source": [
    "sample(3, 4, 6, var1='py', var2='txt')"
   ]
  },
  {
   "cell_type": "code",
   "execution_count": 36,
   "id": "f435275f-6f90-49ea-9ad0-421c084a2e8a",
   "metadata": {},
   "outputs": [],
   "source": [
    "stocks = {'appl': 'Apple', 'tsla': 'Tesla'}"
   ]
  },
  {
   "cell_type": "code",
   "execution_count": 37,
   "id": "d2b3b1ef-4cbc-4845-9253-218fdd210241",
   "metadata": {},
   "outputs": [
    {
     "name": "stdout",
     "output_type": "stream",
     "text": [
      "()\n",
      "{'appl': 'Apple', 'tsla': 'Tesla'}\n"
     ]
    }
   ],
   "source": [
    "sample(appl='Apple', tsla='Tesla')"
   ]
  },
  {
   "cell_type": "code",
   "execution_count": 38,
   "id": "51728128-170a-43f4-a338-bbd25a95c3c1",
   "metadata": {},
   "outputs": [
    {
     "name": "stdout",
     "output_type": "stream",
     "text": [
      "()\n",
      "{'appl': 'Apple', 'tsla': 'Tesla'}\n"
     ]
    }
   ],
   "source": [
    "sample(**stocks)"
   ]
  },
  {
   "cell_type": "code",
   "execution_count": 39,
   "id": "ccd0b89b-503c-41c6-aabe-9a0cdb6ab9d3",
   "metadata": {},
   "outputs": [
    {
     "name": "stdout",
     "output_type": "stream",
     "text": [
      "(10, 40, 30)\n",
      "{}\n"
     ]
    }
   ],
   "source": [
    "numbers = (10, 40, 30)\n",
    "sample(10, 40, 30)"
   ]
  },
  {
   "cell_type": "code",
   "execution_count": 40,
   "id": "dffb66e7-ac93-4000-bd63-b0bab6f0aeee",
   "metadata": {},
   "outputs": [
    {
     "name": "stdout",
     "output_type": "stream",
     "text": [
      "(10, 40, 30)\n",
      "{}\n"
     ]
    }
   ],
   "source": [
    "sample(*numbers)"
   ]
  },
  {
   "cell_type": "code",
   "execution_count": null,
   "id": "ea2e97da-a39c-4cfa-8721-9f630f4e45a0",
   "metadata": {},
   "outputs": [],
   "source": []
  }
 ],
 "metadata": {
  "kernelspec": {
   "display_name": "Python 3 (ipykernel)",
   "language": "python",
   "name": "python3"
  },
  "language_info": {
   "codemirror_mode": {
    "name": "ipython",
    "version": 3
   },
   "file_extension": ".py",
   "mimetype": "text/x-python",
   "name": "python",
   "nbconvert_exporter": "python",
   "pygments_lexer": "ipython3",
   "version": "3.9.7"
  }
 },
 "nbformat": 4,
 "nbformat_minor": 5
}
